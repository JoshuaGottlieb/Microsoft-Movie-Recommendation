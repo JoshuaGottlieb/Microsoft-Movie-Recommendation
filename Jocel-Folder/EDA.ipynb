{
 "cells": [
  {
   "cell_type": "code",
   "execution_count": 52,
   "id": "d10da088",
   "metadata": {},
   "outputs": [],
   "source": [
    "import pandas as pd\n",
    "import numpy as np\n",
    "import seaborn as sns\n",
    "import matplotlib.pyplot as plt\n",
    "import plotly.express as px"
   ]
  },
  {
   "cell_type": "code",
   "execution_count": 53,
   "id": "f5b9cb79",
   "metadata": {
    "scrolled": false
   },
   "outputs": [
    {
     "data": {
      "text/html": [
       "<div>\n",
       "<style scoped>\n",
       "    .dataframe tbody tr th:only-of-type {\n",
       "        vertical-align: middle;\n",
       "    }\n",
       "\n",
       "    .dataframe tbody tr th {\n",
       "        vertical-align: top;\n",
       "    }\n",
       "\n",
       "    .dataframe thead th {\n",
       "        text-align: right;\n",
       "    }\n",
       "</style>\n",
       "<table border=\"1\" class=\"dataframe\">\n",
       "  <thead>\n",
       "    <tr style=\"text-align: right;\">\n",
       "      <th></th>\n",
       "      <th>title</th>\n",
       "      <th>ROI</th>\n",
       "      <th>profit</th>\n",
       "      <th>prod_budget</th>\n",
       "      <th>dom_gross</th>\n",
       "      <th>world_gross</th>\n",
       "      <th>genres</th>\n",
       "      <th>director</th>\n",
       "      <th>writer</th>\n",
       "      <th>runtime_min</th>\n",
       "      <th>release_date</th>\n",
       "    </tr>\n",
       "  </thead>\n",
       "  <tbody>\n",
       "    <tr>\n",
       "      <th>0</th>\n",
       "      <td>10 000 b c</td>\n",
       "      <td>156.253027</td>\n",
       "      <td>164065678</td>\n",
       "      <td>105000000</td>\n",
       "      <td>94784201</td>\n",
       "      <td>269065678</td>\n",
       "      <td>[None]</td>\n",
       "      <td>[None]</td>\n",
       "      <td>[None]</td>\n",
       "      <td>NaN</td>\n",
       "      <td>2008-03-07</td>\n",
       "    </tr>\n",
       "    <tr>\n",
       "      <th>1</th>\n",
       "      <td>10 cloverfield lane</td>\n",
       "      <td>2065.728440</td>\n",
       "      <td>103286422</td>\n",
       "      <td>5000000</td>\n",
       "      <td>72082999</td>\n",
       "      <td>108286422</td>\n",
       "      <td>[Sci-Fi, Mystery, Drama, Horror, Thriller]</td>\n",
       "      <td>[Dan Trachtenberg]</td>\n",
       "      <td>[Matthew Stuecken, Josh Campbell, Damien Chaze...</td>\n",
       "      <td>103.0</td>\n",
       "      <td>2016-03-11</td>\n",
       "    </tr>\n",
       "    <tr>\n",
       "      <th>2</th>\n",
       "      <td>10 days in a madhouse</td>\n",
       "      <td>-99.878200</td>\n",
       "      <td>-11985384</td>\n",
       "      <td>12000000</td>\n",
       "      <td>14616</td>\n",
       "      <td>14616</td>\n",
       "      <td>[Drama, None]</td>\n",
       "      <td>[Timothy Hines]</td>\n",
       "      <td>[Timothy Hines]</td>\n",
       "      <td>111.0</td>\n",
       "      <td>2015-11-11</td>\n",
       "    </tr>\n",
       "    <tr>\n",
       "      <th>3</th>\n",
       "      <td>10 things i hate about you</td>\n",
       "      <td>364.722692</td>\n",
       "      <td>47413950</td>\n",
       "      <td>13000000</td>\n",
       "      <td>38177966</td>\n",
       "      <td>60413950</td>\n",
       "      <td>[None]</td>\n",
       "      <td>[None]</td>\n",
       "      <td>[None]</td>\n",
       "      <td>NaN</td>\n",
       "      <td>1999-03-31</td>\n",
       "    </tr>\n",
       "    <tr>\n",
       "      <th>4</th>\n",
       "      <td>102 dalmatians</td>\n",
       "      <td>-21.245225</td>\n",
       "      <td>-18058441</td>\n",
       "      <td>85000000</td>\n",
       "      <td>66941559</td>\n",
       "      <td>66941559</td>\n",
       "      <td>[None]</td>\n",
       "      <td>[None]</td>\n",
       "      <td>[None]</td>\n",
       "      <td>NaN</td>\n",
       "      <td>2000-11-22</td>\n",
       "    </tr>\n",
       "    <tr>\n",
       "      <th>...</th>\n",
       "      <td>...</td>\n",
       "      <td>...</td>\n",
       "      <td>...</td>\n",
       "      <td>...</td>\n",
       "      <td>...</td>\n",
       "      <td>...</td>\n",
       "      <td>...</td>\n",
       "      <td>...</td>\n",
       "      <td>...</td>\n",
       "      <td>...</td>\n",
       "      <td>...</td>\n",
       "    </tr>\n",
       "    <tr>\n",
       "      <th>5693</th>\n",
       "      <td>zootopia</td>\n",
       "      <td>579.619744</td>\n",
       "      <td>869429616</td>\n",
       "      <td>150000000</td>\n",
       "      <td>341268248</td>\n",
       "      <td>1019429616</td>\n",
       "      <td>[Adventure, Family, Comedy, Animation]</td>\n",
       "      <td>[Rich Moore, Jared Bush, Byron Howard]</td>\n",
       "      <td>[Jared Bush, Jennifer Lee, Jim Reardon, Kellie...</td>\n",
       "      <td>108.0</td>\n",
       "      <td>2016-03-04</td>\n",
       "    </tr>\n",
       "    <tr>\n",
       "      <th>5694</th>\n",
       "      <td>zulu</td>\n",
       "      <td>-88.473575</td>\n",
       "      <td>-14155772</td>\n",
       "      <td>16000000</td>\n",
       "      <td>0</td>\n",
       "      <td>1844228</td>\n",
       "      <td>[Thriller, Drama, Crime, None]</td>\n",
       "      <td>[Jérôme Salle]</td>\n",
       "      <td>[Jérôme Salle, Julien Rappeneau, Caryl Ferey]</td>\n",
       "      <td>110.0</td>\n",
       "      <td>2013-12-31</td>\n",
       "    </tr>\n",
       "    <tr>\n",
       "      <th>5695</th>\n",
       "      <td>zwartboek</td>\n",
       "      <td>23.810700</td>\n",
       "      <td>5238354</td>\n",
       "      <td>22000000</td>\n",
       "      <td>4398532</td>\n",
       "      <td>27238354</td>\n",
       "      <td>[None]</td>\n",
       "      <td>[None]</td>\n",
       "      <td>[None]</td>\n",
       "      <td>NaN</td>\n",
       "      <td>2007-04-06</td>\n",
       "    </tr>\n",
       "    <tr>\n",
       "      <th>5696</th>\n",
       "      <td>ã l intã rieur</td>\n",
       "      <td>-70.135600</td>\n",
       "      <td>-2104068</td>\n",
       "      <td>3000000</td>\n",
       "      <td>0</td>\n",
       "      <td>895932</td>\n",
       "      <td>[None]</td>\n",
       "      <td>[None]</td>\n",
       "      <td>[None]</td>\n",
       "      <td>NaN</td>\n",
       "      <td>2008-04-15</td>\n",
       "    </tr>\n",
       "    <tr>\n",
       "      <th>5697</th>\n",
       "      <td>é æ ä è cj7</td>\n",
       "      <td>136.503855</td>\n",
       "      <td>27300771</td>\n",
       "      <td>20000000</td>\n",
       "      <td>206678</td>\n",
       "      <td>47300771</td>\n",
       "      <td>[None]</td>\n",
       "      <td>[None]</td>\n",
       "      <td>[None]</td>\n",
       "      <td>NaN</td>\n",
       "      <td>2008-03-07</td>\n",
       "    </tr>\n",
       "  </tbody>\n",
       "</table>\n",
       "<p>5698 rows × 11 columns</p>\n",
       "</div>"
      ],
      "text/plain": [
       "                           title          ROI     profit  prod_budget  \\\n",
       "0                     10 000 b c   156.253027  164065678    105000000   \n",
       "1            10 cloverfield lane  2065.728440  103286422      5000000   \n",
       "2          10 days in a madhouse   -99.878200  -11985384     12000000   \n",
       "3     10 things i hate about you   364.722692   47413950     13000000   \n",
       "4                 102 dalmatians   -21.245225  -18058441     85000000   \n",
       "...                          ...          ...        ...          ...   \n",
       "5693                    zootopia   579.619744  869429616    150000000   \n",
       "5694                        zulu   -88.473575  -14155772     16000000   \n",
       "5695                   zwartboek    23.810700    5238354     22000000   \n",
       "5696              ã l intã rieur   -70.135600   -2104068      3000000   \n",
       "5697                 é æ ä è cj7   136.503855   27300771     20000000   \n",
       "\n",
       "      dom_gross  world_gross                                      genres  \\\n",
       "0      94784201    269065678                                      [None]   \n",
       "1      72082999    108286422  [Sci-Fi, Mystery, Drama, Horror, Thriller]   \n",
       "2         14616        14616                               [Drama, None]   \n",
       "3      38177966     60413950                                      [None]   \n",
       "4      66941559     66941559                                      [None]   \n",
       "...         ...          ...                                         ...   \n",
       "5693  341268248   1019429616      [Adventure, Family, Comedy, Animation]   \n",
       "5694          0      1844228              [Thriller, Drama, Crime, None]   \n",
       "5695    4398532     27238354                                      [None]   \n",
       "5696          0       895932                                      [None]   \n",
       "5697     206678     47300771                                      [None]   \n",
       "\n",
       "                                    director  \\\n",
       "0                                     [None]   \n",
       "1                         [Dan Trachtenberg]   \n",
       "2                            [Timothy Hines]   \n",
       "3                                     [None]   \n",
       "4                                     [None]   \n",
       "...                                      ...   \n",
       "5693  [Rich Moore, Jared Bush, Byron Howard]   \n",
       "5694                          [Jérôme Salle]   \n",
       "5695                                  [None]   \n",
       "5696                                  [None]   \n",
       "5697                                  [None]   \n",
       "\n",
       "                                                 writer  runtime_min  \\\n",
       "0                                                [None]          NaN   \n",
       "1     [Matthew Stuecken, Josh Campbell, Damien Chaze...        103.0   \n",
       "2                                       [Timothy Hines]        111.0   \n",
       "3                                                [None]          NaN   \n",
       "4                                                [None]          NaN   \n",
       "...                                                 ...          ...   \n",
       "5693  [Jared Bush, Jennifer Lee, Jim Reardon, Kellie...        108.0   \n",
       "5694      [Jérôme Salle, Julien Rappeneau, Caryl Ferey]        110.0   \n",
       "5695                                             [None]          NaN   \n",
       "5696                                             [None]          NaN   \n",
       "5697                                             [None]          NaN   \n",
       "\n",
       "     release_date  \n",
       "0      2008-03-07  \n",
       "1      2016-03-11  \n",
       "2      2015-11-11  \n",
       "3      1999-03-31  \n",
       "4      2000-11-22  \n",
       "...           ...  \n",
       "5693   2016-03-04  \n",
       "5694   2013-12-31  \n",
       "5695   2007-04-06  \n",
       "5696   2008-04-15  \n",
       "5697   2008-03-07  \n",
       "\n",
       "[5698 rows x 11 columns]"
      ]
     },
     "execution_count": 53,
     "metadata": {},
     "output_type": "execute_result"
    }
   ],
   "source": [
    "df = pd.read_parquet('../zippedData/merged_data.parquet')\n",
    "df[\"release_date\"] = df[\"release_date\"].apply(pd.to_datetime)\n",
    "df"
   ]
  },
  {
   "cell_type": "code",
   "execution_count": 54,
   "id": "c7e5ad01",
   "metadata": {},
   "outputs": [
    {
     "data": {
      "text/html": [
       "<div>\n",
       "<style scoped>\n",
       "    .dataframe tbody tr th:only-of-type {\n",
       "        vertical-align: middle;\n",
       "    }\n",
       "\n",
       "    .dataframe tbody tr th {\n",
       "        vertical-align: top;\n",
       "    }\n",
       "\n",
       "    .dataframe thead th {\n",
       "        text-align: right;\n",
       "    }\n",
       "</style>\n",
       "<table border=\"1\" class=\"dataframe\">\n",
       "  <thead>\n",
       "    <tr style=\"text-align: right;\">\n",
       "      <th></th>\n",
       "      <th>title</th>\n",
       "      <th>ROI</th>\n",
       "      <th>profit</th>\n",
       "      <th>prod_budget</th>\n",
       "      <th>dom_gross</th>\n",
       "      <th>world_gross</th>\n",
       "      <th>genres</th>\n",
       "      <th>director</th>\n",
       "      <th>writer</th>\n",
       "      <th>runtime_min</th>\n",
       "      <th>release_date</th>\n",
       "    </tr>\n",
       "  </thead>\n",
       "  <tbody>\n",
       "    <tr>\n",
       "      <th>0</th>\n",
       "      <td>10 000 b c</td>\n",
       "      <td>156.253027</td>\n",
       "      <td>164065678</td>\n",
       "      <td>105000000</td>\n",
       "      <td>94784201</td>\n",
       "      <td>269065678</td>\n",
       "      <td>None</td>\n",
       "      <td>[None]</td>\n",
       "      <td>[None]</td>\n",
       "      <td>NaN</td>\n",
       "      <td>2008-03-07</td>\n",
       "    </tr>\n",
       "    <tr>\n",
       "      <th>1</th>\n",
       "      <td>10 cloverfield lane</td>\n",
       "      <td>2065.728440</td>\n",
       "      <td>103286422</td>\n",
       "      <td>5000000</td>\n",
       "      <td>72082999</td>\n",
       "      <td>108286422</td>\n",
       "      <td>Sci-Fi</td>\n",
       "      <td>[Dan Trachtenberg]</td>\n",
       "      <td>[Matthew Stuecken, Josh Campbell, Damien Chaze...</td>\n",
       "      <td>103.0</td>\n",
       "      <td>2016-03-11</td>\n",
       "    </tr>\n",
       "    <tr>\n",
       "      <th>1</th>\n",
       "      <td>10 cloverfield lane</td>\n",
       "      <td>2065.728440</td>\n",
       "      <td>103286422</td>\n",
       "      <td>5000000</td>\n",
       "      <td>72082999</td>\n",
       "      <td>108286422</td>\n",
       "      <td>Mystery</td>\n",
       "      <td>[Dan Trachtenberg]</td>\n",
       "      <td>[Matthew Stuecken, Josh Campbell, Damien Chaze...</td>\n",
       "      <td>103.0</td>\n",
       "      <td>2016-03-11</td>\n",
       "    </tr>\n",
       "    <tr>\n",
       "      <th>1</th>\n",
       "      <td>10 cloverfield lane</td>\n",
       "      <td>2065.728440</td>\n",
       "      <td>103286422</td>\n",
       "      <td>5000000</td>\n",
       "      <td>72082999</td>\n",
       "      <td>108286422</td>\n",
       "      <td>Drama</td>\n",
       "      <td>[Dan Trachtenberg]</td>\n",
       "      <td>[Matthew Stuecken, Josh Campbell, Damien Chaze...</td>\n",
       "      <td>103.0</td>\n",
       "      <td>2016-03-11</td>\n",
       "    </tr>\n",
       "    <tr>\n",
       "      <th>1</th>\n",
       "      <td>10 cloverfield lane</td>\n",
       "      <td>2065.728440</td>\n",
       "      <td>103286422</td>\n",
       "      <td>5000000</td>\n",
       "      <td>72082999</td>\n",
       "      <td>108286422</td>\n",
       "      <td>Horror</td>\n",
       "      <td>[Dan Trachtenberg]</td>\n",
       "      <td>[Matthew Stuecken, Josh Campbell, Damien Chaze...</td>\n",
       "      <td>103.0</td>\n",
       "      <td>2016-03-11</td>\n",
       "    </tr>\n",
       "    <tr>\n",
       "      <th>...</th>\n",
       "      <td>...</td>\n",
       "      <td>...</td>\n",
       "      <td>...</td>\n",
       "      <td>...</td>\n",
       "      <td>...</td>\n",
       "      <td>...</td>\n",
       "      <td>...</td>\n",
       "      <td>...</td>\n",
       "      <td>...</td>\n",
       "      <td>...</td>\n",
       "      <td>...</td>\n",
       "    </tr>\n",
       "    <tr>\n",
       "      <th>5694</th>\n",
       "      <td>zulu</td>\n",
       "      <td>-88.473575</td>\n",
       "      <td>-14155772</td>\n",
       "      <td>16000000</td>\n",
       "      <td>0</td>\n",
       "      <td>1844228</td>\n",
       "      <td>Crime</td>\n",
       "      <td>[Jérôme Salle]</td>\n",
       "      <td>[Jérôme Salle, Julien Rappeneau, Caryl Ferey]</td>\n",
       "      <td>110.0</td>\n",
       "      <td>2013-12-31</td>\n",
       "    </tr>\n",
       "    <tr>\n",
       "      <th>5694</th>\n",
       "      <td>zulu</td>\n",
       "      <td>-88.473575</td>\n",
       "      <td>-14155772</td>\n",
       "      <td>16000000</td>\n",
       "      <td>0</td>\n",
       "      <td>1844228</td>\n",
       "      <td>None</td>\n",
       "      <td>[Jérôme Salle]</td>\n",
       "      <td>[Jérôme Salle, Julien Rappeneau, Caryl Ferey]</td>\n",
       "      <td>110.0</td>\n",
       "      <td>2013-12-31</td>\n",
       "    </tr>\n",
       "    <tr>\n",
       "      <th>5695</th>\n",
       "      <td>zwartboek</td>\n",
       "      <td>23.810700</td>\n",
       "      <td>5238354</td>\n",
       "      <td>22000000</td>\n",
       "      <td>4398532</td>\n",
       "      <td>27238354</td>\n",
       "      <td>None</td>\n",
       "      <td>[None]</td>\n",
       "      <td>[None]</td>\n",
       "      <td>NaN</td>\n",
       "      <td>2007-04-06</td>\n",
       "    </tr>\n",
       "    <tr>\n",
       "      <th>5696</th>\n",
       "      <td>ã l intã rieur</td>\n",
       "      <td>-70.135600</td>\n",
       "      <td>-2104068</td>\n",
       "      <td>3000000</td>\n",
       "      <td>0</td>\n",
       "      <td>895932</td>\n",
       "      <td>None</td>\n",
       "      <td>[None]</td>\n",
       "      <td>[None]</td>\n",
       "      <td>NaN</td>\n",
       "      <td>2008-04-15</td>\n",
       "    </tr>\n",
       "    <tr>\n",
       "      <th>5697</th>\n",
       "      <td>é æ ä è cj7</td>\n",
       "      <td>136.503855</td>\n",
       "      <td>27300771</td>\n",
       "      <td>20000000</td>\n",
       "      <td>206678</td>\n",
       "      <td>47300771</td>\n",
       "      <td>None</td>\n",
       "      <td>[None]</td>\n",
       "      <td>[None]</td>\n",
       "      <td>NaN</td>\n",
       "      <td>2008-03-07</td>\n",
       "    </tr>\n",
       "  </tbody>\n",
       "</table>\n",
       "<p>9558 rows × 11 columns</p>\n",
       "</div>"
      ],
      "text/plain": [
       "                    title          ROI     profit  prod_budget  dom_gross  \\\n",
       "0              10 000 b c   156.253027  164065678    105000000   94784201   \n",
       "1     10 cloverfield lane  2065.728440  103286422      5000000   72082999   \n",
       "1     10 cloverfield lane  2065.728440  103286422      5000000   72082999   \n",
       "1     10 cloverfield lane  2065.728440  103286422      5000000   72082999   \n",
       "1     10 cloverfield lane  2065.728440  103286422      5000000   72082999   \n",
       "...                   ...          ...        ...          ...        ...   \n",
       "5694                 zulu   -88.473575  -14155772     16000000          0   \n",
       "5694                 zulu   -88.473575  -14155772     16000000          0   \n",
       "5695            zwartboek    23.810700    5238354     22000000    4398532   \n",
       "5696       ã l intã rieur   -70.135600   -2104068      3000000          0   \n",
       "5697          é æ ä è cj7   136.503855   27300771     20000000     206678   \n",
       "\n",
       "      world_gross   genres            director  \\\n",
       "0       269065678     None              [None]   \n",
       "1       108286422   Sci-Fi  [Dan Trachtenberg]   \n",
       "1       108286422  Mystery  [Dan Trachtenberg]   \n",
       "1       108286422    Drama  [Dan Trachtenberg]   \n",
       "1       108286422   Horror  [Dan Trachtenberg]   \n",
       "...           ...      ...                 ...   \n",
       "5694      1844228    Crime      [Jérôme Salle]   \n",
       "5694      1844228     None      [Jérôme Salle]   \n",
       "5695     27238354     None              [None]   \n",
       "5696       895932     None              [None]   \n",
       "5697     47300771     None              [None]   \n",
       "\n",
       "                                                 writer  runtime_min  \\\n",
       "0                                                [None]          NaN   \n",
       "1     [Matthew Stuecken, Josh Campbell, Damien Chaze...        103.0   \n",
       "1     [Matthew Stuecken, Josh Campbell, Damien Chaze...        103.0   \n",
       "1     [Matthew Stuecken, Josh Campbell, Damien Chaze...        103.0   \n",
       "1     [Matthew Stuecken, Josh Campbell, Damien Chaze...        103.0   \n",
       "...                                                 ...          ...   \n",
       "5694      [Jérôme Salle, Julien Rappeneau, Caryl Ferey]        110.0   \n",
       "5694      [Jérôme Salle, Julien Rappeneau, Caryl Ferey]        110.0   \n",
       "5695                                             [None]          NaN   \n",
       "5696                                             [None]          NaN   \n",
       "5697                                             [None]          NaN   \n",
       "\n",
       "     release_date  \n",
       "0      2008-03-07  \n",
       "1      2016-03-11  \n",
       "1      2016-03-11  \n",
       "1      2016-03-11  \n",
       "1      2016-03-11  \n",
       "...           ...  \n",
       "5694   2013-12-31  \n",
       "5694   2013-12-31  \n",
       "5695   2007-04-06  \n",
       "5696   2008-04-15  \n",
       "5697   2008-03-07  \n",
       "\n",
       "[9558 rows x 11 columns]"
      ]
     },
     "execution_count": 54,
     "metadata": {},
     "output_type": "execute_result"
    }
   ],
   "source": [
    "test = df.explode('genres')\n",
    "test\n",
    "# movie_info_df[\"genres\"] = movie_info_df[\"genres\"].str.split(pat = \"|\")\n",
    "# movie_info_df = movie_info_df.explode(\"genres\")\n",
    "# movie_info_df\n",
    "\n",
    "#test[\"ROI\"].median()"
   ]
  },
  {
   "cell_type": "code",
   "execution_count": 55,
   "id": "609dfc34",
   "metadata": {
    "scrolled": false
   },
   "outputs": [
    {
     "data": {
      "text/html": [
       "<div>\n",
       "<style scoped>\n",
       "    .dataframe tbody tr th:only-of-type {\n",
       "        vertical-align: middle;\n",
       "    }\n",
       "\n",
       "    .dataframe tbody tr th {\n",
       "        vertical-align: top;\n",
       "    }\n",
       "\n",
       "    .dataframe thead th {\n",
       "        text-align: right;\n",
       "    }\n",
       "</style>\n",
       "<table border=\"1\" class=\"dataframe\">\n",
       "  <thead>\n",
       "    <tr style=\"text-align: right;\">\n",
       "      <th></th>\n",
       "      <th>genres</th>\n",
       "      <th>ROI</th>\n",
       "      <th>profit</th>\n",
       "      <th>prod_budget</th>\n",
       "      <th>dom_gross</th>\n",
       "      <th>world_gross</th>\n",
       "      <th>runtime_min</th>\n",
       "    </tr>\n",
       "  </thead>\n",
       "  <tbody>\n",
       "    <tr>\n",
       "      <th>0</th>\n",
       "      <td>Animation</td>\n",
       "      <td>187.687655</td>\n",
       "      <td>161900902.0</td>\n",
       "      <td>80000000.0</td>\n",
       "      <td>103412758.0</td>\n",
       "      <td>274392649.0</td>\n",
       "      <td>95.0</td>\n",
       "    </tr>\n",
       "    <tr>\n",
       "      <th>1</th>\n",
       "      <td>Mystery</td>\n",
       "      <td>172.828467</td>\n",
       "      <td>33359310.0</td>\n",
       "      <td>15000000.0</td>\n",
       "      <td>25514517.0</td>\n",
       "      <td>44567606.0</td>\n",
       "      <td>103.5</td>\n",
       "    </tr>\n",
       "    <tr>\n",
       "      <th>2</th>\n",
       "      <td>Sci-Fi</td>\n",
       "      <td>146.732013</td>\n",
       "      <td>86856088.0</td>\n",
       "      <td>61000000.0</td>\n",
       "      <td>59874525.0</td>\n",
       "      <td>155564919.0</td>\n",
       "      <td>112.0</td>\n",
       "    </tr>\n",
       "    <tr>\n",
       "      <th>3</th>\n",
       "      <td>Adventure</td>\n",
       "      <td>145.261623</td>\n",
       "      <td>115109838.5</td>\n",
       "      <td>90000000.0</td>\n",
       "      <td>71564221.5</td>\n",
       "      <td>210600210.5</td>\n",
       "      <td>107.0</td>\n",
       "    </tr>\n",
       "    <tr>\n",
       "      <th>4</th>\n",
       "      <td>Family</td>\n",
       "      <td>138.674683</td>\n",
       "      <td>73029117.5</td>\n",
       "      <td>60000000.0</td>\n",
       "      <td>66070876.0</td>\n",
       "      <td>136559299.5</td>\n",
       "      <td>99.0</td>\n",
       "    </tr>\n",
       "    <tr>\n",
       "      <th>5</th>\n",
       "      <td>Horror</td>\n",
       "      <td>135.800588</td>\n",
       "      <td>20768449.0</td>\n",
       "      <td>7500000.0</td>\n",
       "      <td>18494006.0</td>\n",
       "      <td>38359310.0</td>\n",
       "      <td>94.0</td>\n",
       "    </tr>\n",
       "    <tr>\n",
       "      <th>6</th>\n",
       "      <td>Fantasy</td>\n",
       "      <td>133.311758</td>\n",
       "      <td>77598620.5</td>\n",
       "      <td>80000000.0</td>\n",
       "      <td>55689394.0</td>\n",
       "      <td>147080165.5</td>\n",
       "      <td>106.5</td>\n",
       "    </tr>\n",
       "    <tr>\n",
       "      <th>7</th>\n",
       "      <td>Comedy</td>\n",
       "      <td>130.756255</td>\n",
       "      <td>29119358.0</td>\n",
       "      <td>25000000.0</td>\n",
       "      <td>34296320.0</td>\n",
       "      <td>59596747.0</td>\n",
       "      <td>101.0</td>\n",
       "    </tr>\n",
       "    <tr>\n",
       "      <th>8</th>\n",
       "      <td>Romance</td>\n",
       "      <td>123.940929</td>\n",
       "      <td>16881360.0</td>\n",
       "      <td>18000000.0</td>\n",
       "      <td>22494190.5</td>\n",
       "      <td>41781112.5</td>\n",
       "      <td>105.0</td>\n",
       "    </tr>\n",
       "    <tr>\n",
       "      <th>9</th>\n",
       "      <td>Action</td>\n",
       "      <td>116.566082</td>\n",
       "      <td>53099364.0</td>\n",
       "      <td>50000000.0</td>\n",
       "      <td>44923017.5</td>\n",
       "      <td>115419805.5</td>\n",
       "      <td>110.0</td>\n",
       "    </tr>\n",
       "    <tr>\n",
       "      <th>10</th>\n",
       "      <td>Musical</td>\n",
       "      <td>101.432801</td>\n",
       "      <td>9169626.5</td>\n",
       "      <td>15000000.0</td>\n",
       "      <td>16530209.0</td>\n",
       "      <td>31929176.5</td>\n",
       "      <td>106.0</td>\n",
       "    </tr>\n",
       "    <tr>\n",
       "      <th>11</th>\n",
       "      <td>Biography</td>\n",
       "      <td>90.366885</td>\n",
       "      <td>17317872.0</td>\n",
       "      <td>20000000.0</td>\n",
       "      <td>20157300.0</td>\n",
       "      <td>35579007.0</td>\n",
       "      <td>119.0</td>\n",
       "    </tr>\n",
       "    <tr>\n",
       "      <th>12</th>\n",
       "      <td>Thriller</td>\n",
       "      <td>89.414631</td>\n",
       "      <td>22651864.0</td>\n",
       "      <td>20000000.0</td>\n",
       "      <td>22467450.0</td>\n",
       "      <td>46844357.0</td>\n",
       "      <td>105.0</td>\n",
       "    </tr>\n",
       "    <tr>\n",
       "      <th>13</th>\n",
       "      <td>Drama</td>\n",
       "      <td>72.610250</td>\n",
       "      <td>10326292.0</td>\n",
       "      <td>15850000.0</td>\n",
       "      <td>14726565.5</td>\n",
       "      <td>26973345.0</td>\n",
       "      <td>109.0</td>\n",
       "    </tr>\n",
       "    <tr>\n",
       "      <th>14</th>\n",
       "      <td>Sport</td>\n",
       "      <td>65.625417</td>\n",
       "      <td>14678412.0</td>\n",
       "      <td>19000000.0</td>\n",
       "      <td>28812359.0</td>\n",
       "      <td>34678412.0</td>\n",
       "      <td>117.5</td>\n",
       "    </tr>\n",
       "    <tr>\n",
       "      <th>15</th>\n",
       "      <td>Crime</td>\n",
       "      <td>62.227750</td>\n",
       "      <td>12608019.0</td>\n",
       "      <td>26000000.0</td>\n",
       "      <td>21148651.0</td>\n",
       "      <td>38718031.0</td>\n",
       "      <td>107.0</td>\n",
       "    </tr>\n",
       "    <tr>\n",
       "      <th>16</th>\n",
       "      <td>None</td>\n",
       "      <td>52.643691</td>\n",
       "      <td>5238354.0</td>\n",
       "      <td>15000000.0</td>\n",
       "      <td>13854000.0</td>\n",
       "      <td>22119269.0</td>\n",
       "      <td>102.0</td>\n",
       "    </tr>\n",
       "    <tr>\n",
       "      <th>17</th>\n",
       "      <td>Documentary</td>\n",
       "      <td>46.246129</td>\n",
       "      <td>884276.0</td>\n",
       "      <td>1300000.0</td>\n",
       "      <td>433588.0</td>\n",
       "      <td>1131261.0</td>\n",
       "      <td>89.0</td>\n",
       "    </tr>\n",
       "    <tr>\n",
       "      <th>18</th>\n",
       "      <td>History</td>\n",
       "      <td>35.586291</td>\n",
       "      <td>7644196.0</td>\n",
       "      <td>25000000.0</td>\n",
       "      <td>15861566.0</td>\n",
       "      <td>35579007.0</td>\n",
       "      <td>121.5</td>\n",
       "    </tr>\n",
       "    <tr>\n",
       "      <th>19</th>\n",
       "      <td>War</td>\n",
       "      <td>12.515718</td>\n",
       "      <td>888305.0</td>\n",
       "      <td>21000000.0</td>\n",
       "      <td>9479390.0</td>\n",
       "      <td>23237252.0</td>\n",
       "      <td>120.0</td>\n",
       "    </tr>\n",
       "    <tr>\n",
       "      <th>20</th>\n",
       "      <td>Western</td>\n",
       "      <td>-57.026596</td>\n",
       "      <td>-1882229.0</td>\n",
       "      <td>36500000.0</td>\n",
       "      <td>5787911.5</td>\n",
       "      <td>9768510.5</td>\n",
       "      <td>110.0</td>\n",
       "    </tr>\n",
       "  </tbody>\n",
       "</table>\n",
       "</div>"
      ],
      "text/plain": [
       "         genres         ROI       profit  prod_budget    dom_gross  \\\n",
       "0     Animation  187.687655  161900902.0   80000000.0  103412758.0   \n",
       "1       Mystery  172.828467   33359310.0   15000000.0   25514517.0   \n",
       "2        Sci-Fi  146.732013   86856088.0   61000000.0   59874525.0   \n",
       "3     Adventure  145.261623  115109838.5   90000000.0   71564221.5   \n",
       "4        Family  138.674683   73029117.5   60000000.0   66070876.0   \n",
       "5        Horror  135.800588   20768449.0    7500000.0   18494006.0   \n",
       "6       Fantasy  133.311758   77598620.5   80000000.0   55689394.0   \n",
       "7        Comedy  130.756255   29119358.0   25000000.0   34296320.0   \n",
       "8       Romance  123.940929   16881360.0   18000000.0   22494190.5   \n",
       "9        Action  116.566082   53099364.0   50000000.0   44923017.5   \n",
       "10      Musical  101.432801    9169626.5   15000000.0   16530209.0   \n",
       "11    Biography   90.366885   17317872.0   20000000.0   20157300.0   \n",
       "12     Thriller   89.414631   22651864.0   20000000.0   22467450.0   \n",
       "13        Drama   72.610250   10326292.0   15850000.0   14726565.5   \n",
       "14        Sport   65.625417   14678412.0   19000000.0   28812359.0   \n",
       "15        Crime   62.227750   12608019.0   26000000.0   21148651.0   \n",
       "16         None   52.643691    5238354.0   15000000.0   13854000.0   \n",
       "17  Documentary   46.246129     884276.0    1300000.0     433588.0   \n",
       "18      History   35.586291    7644196.0   25000000.0   15861566.0   \n",
       "19          War   12.515718     888305.0   21000000.0    9479390.0   \n",
       "20      Western  -57.026596   -1882229.0   36500000.0    5787911.5   \n",
       "\n",
       "    world_gross  runtime_min  \n",
       "0   274392649.0         95.0  \n",
       "1    44567606.0        103.5  \n",
       "2   155564919.0        112.0  \n",
       "3   210600210.5        107.0  \n",
       "4   136559299.5         99.0  \n",
       "5    38359310.0         94.0  \n",
       "6   147080165.5        106.5  \n",
       "7    59596747.0        101.0  \n",
       "8    41781112.5        105.0  \n",
       "9   115419805.5        110.0  \n",
       "10   31929176.5        106.0  \n",
       "11   35579007.0        119.0  \n",
       "12   46844357.0        105.0  \n",
       "13   26973345.0        109.0  \n",
       "14   34678412.0        117.5  \n",
       "15   38718031.0        107.0  \n",
       "16   22119269.0        102.0  \n",
       "17    1131261.0         89.0  \n",
       "18   35579007.0        121.5  \n",
       "19   23237252.0        120.0  \n",
       "20    9768510.5        110.0  "
      ]
     },
     "execution_count": 55,
     "metadata": {},
     "output_type": "execute_result"
    }
   ],
   "source": [
    "grouped_median_by_genre = test.groupby([\"genres\"]).median().sort_values(\"ROI\", ascending = False).reset_index()\n",
    "grouped_median_by_genre"
   ]
  },
  {
   "cell_type": "code",
   "execution_count": 69,
   "id": "679dbfe1",
   "metadata": {},
   "outputs": [
    {
     "data": {
      "image/png": "[encoded data removed]",
      "text/plain": [
       "<Figure size 1000x800 with 1 Axes>"
      ]
     },
     "metadata": {},
     "output_type": "display_data"
    }
   ],
   "source": [
    "fig = plt.figure(figsize = (10, 8))\n",
    "ax = sns.barplot(x = grouped_median_by_genre[\"genres\"], y = grouped_median_by_genre[\"ROI\"], estimator = np.median)\n",
    "ax.set_xticklabels(ax.get_xticklabels(), rotation=40, ha=\"right\")\n",
    "plt.tight_layout()\n",
    "plt.show();"
   ]
  },
  {
   "cell_type": "code",
   "execution_count": 64,
   "id": "cffcd6bb",
   "metadata": {},
   "outputs": [
    {
     "data": {
      "text/html": [
       "<div>\n",
       "<style scoped>\n",
       "    .dataframe tbody tr th:only-of-type {\n",
       "        vertical-align: middle;\n",
       "    }\n",
       "\n",
       "    .dataframe tbody tr th {\n",
       "        vertical-align: top;\n",
       "    }\n",
       "\n",
       "    .dataframe thead th {\n",
       "        text-align: right;\n",
       "    }\n",
       "</style>\n",
       "<table border=\"1\" class=\"dataframe\">\n",
       "  <thead>\n",
       "    <tr style=\"text-align: right;\">\n",
       "      <th></th>\n",
       "      <th>title</th>\n",
       "      <th>ROI</th>\n",
       "      <th>profit</th>\n",
       "      <th>prod_budget</th>\n",
       "      <th>dom_gross</th>\n",
       "      <th>world_gross</th>\n",
       "      <th>genres</th>\n",
       "      <th>director</th>\n",
       "      <th>writer</th>\n",
       "      <th>runtime_min</th>\n",
       "      <th>release_date</th>\n",
       "    </tr>\n",
       "  </thead>\n",
       "  <tbody>\n",
       "    <tr>\n",
       "      <th>0</th>\n",
       "      <td>10 000 b c</td>\n",
       "      <td>156.253027</td>\n",
       "      <td>164065678</td>\n",
       "      <td>105000000</td>\n",
       "      <td>94784201</td>\n",
       "      <td>269065678</td>\n",
       "      <td>[None]</td>\n",
       "      <td>None</td>\n",
       "      <td>[None]</td>\n",
       "      <td>NaN</td>\n",
       "      <td>2008-03-07</td>\n",
       "    </tr>\n",
       "    <tr>\n",
       "      <th>1</th>\n",
       "      <td>10 cloverfield lane</td>\n",
       "      <td>2065.728440</td>\n",
       "      <td>103286422</td>\n",
       "      <td>5000000</td>\n",
       "      <td>72082999</td>\n",
       "      <td>108286422</td>\n",
       "      <td>[Sci-Fi, Mystery, Drama, Horror, Thriller]</td>\n",
       "      <td>Dan Trachtenberg</td>\n",
       "      <td>[Matthew Stuecken, Josh Campbell, Damien Chaze...</td>\n",
       "      <td>103.0</td>\n",
       "      <td>2016-03-11</td>\n",
       "    </tr>\n",
       "    <tr>\n",
       "      <th>2</th>\n",
       "      <td>10 days in a madhouse</td>\n",
       "      <td>-99.878200</td>\n",
       "      <td>-11985384</td>\n",
       "      <td>12000000</td>\n",
       "      <td>14616</td>\n",
       "      <td>14616</td>\n",
       "      <td>[Drama, None]</td>\n",
       "      <td>Timothy Hines</td>\n",
       "      <td>[Timothy Hines]</td>\n",
       "      <td>111.0</td>\n",
       "      <td>2015-11-11</td>\n",
       "    </tr>\n",
       "    <tr>\n",
       "      <th>3</th>\n",
       "      <td>10 things i hate about you</td>\n",
       "      <td>364.722692</td>\n",
       "      <td>47413950</td>\n",
       "      <td>13000000</td>\n",
       "      <td>38177966</td>\n",
       "      <td>60413950</td>\n",
       "      <td>[None]</td>\n",
       "      <td>None</td>\n",
       "      <td>[None]</td>\n",
       "      <td>NaN</td>\n",
       "      <td>1999-03-31</td>\n",
       "    </tr>\n",
       "    <tr>\n",
       "      <th>4</th>\n",
       "      <td>102 dalmatians</td>\n",
       "      <td>-21.245225</td>\n",
       "      <td>-18058441</td>\n",
       "      <td>85000000</td>\n",
       "      <td>66941559</td>\n",
       "      <td>66941559</td>\n",
       "      <td>[None]</td>\n",
       "      <td>None</td>\n",
       "      <td>[None]</td>\n",
       "      <td>NaN</td>\n",
       "      <td>2000-11-22</td>\n",
       "    </tr>\n",
       "    <tr>\n",
       "      <th>...</th>\n",
       "      <td>...</td>\n",
       "      <td>...</td>\n",
       "      <td>...</td>\n",
       "      <td>...</td>\n",
       "      <td>...</td>\n",
       "      <td>...</td>\n",
       "      <td>...</td>\n",
       "      <td>...</td>\n",
       "      <td>...</td>\n",
       "      <td>...</td>\n",
       "      <td>...</td>\n",
       "    </tr>\n",
       "    <tr>\n",
       "      <th>5693</th>\n",
       "      <td>zootopia</td>\n",
       "      <td>579.619744</td>\n",
       "      <td>869429616</td>\n",
       "      <td>150000000</td>\n",
       "      <td>341268248</td>\n",
       "      <td>1019429616</td>\n",
       "      <td>[Adventure, Family, Comedy, Animation]</td>\n",
       "      <td>Byron Howard</td>\n",
       "      <td>[Jared Bush, Jennifer Lee, Jim Reardon, Kellie...</td>\n",
       "      <td>108.0</td>\n",
       "      <td>2016-03-04</td>\n",
       "    </tr>\n",
       "    <tr>\n",
       "      <th>5694</th>\n",
       "      <td>zulu</td>\n",
       "      <td>-88.473575</td>\n",
       "      <td>-14155772</td>\n",
       "      <td>16000000</td>\n",
       "      <td>0</td>\n",
       "      <td>1844228</td>\n",
       "      <td>[Thriller, Drama, Crime, None]</td>\n",
       "      <td>Jérôme Salle</td>\n",
       "      <td>[Jérôme Salle, Julien Rappeneau, Caryl Ferey]</td>\n",
       "      <td>110.0</td>\n",
       "      <td>2013-12-31</td>\n",
       "    </tr>\n",
       "    <tr>\n",
       "      <th>5695</th>\n",
       "      <td>zwartboek</td>\n",
       "      <td>23.810700</td>\n",
       "      <td>5238354</td>\n",
       "      <td>22000000</td>\n",
       "      <td>4398532</td>\n",
       "      <td>27238354</td>\n",
       "      <td>[None]</td>\n",
       "      <td>None</td>\n",
       "      <td>[None]</td>\n",
       "      <td>NaN</td>\n",
       "      <td>2007-04-06</td>\n",
       "    </tr>\n",
       "    <tr>\n",
       "      <th>5696</th>\n",
       "      <td>ã l intã rieur</td>\n",
       "      <td>-70.135600</td>\n",
       "      <td>-2104068</td>\n",
       "      <td>3000000</td>\n",
       "      <td>0</td>\n",
       "      <td>895932</td>\n",
       "      <td>[None]</td>\n",
       "      <td>None</td>\n",
       "      <td>[None]</td>\n",
       "      <td>NaN</td>\n",
       "      <td>2008-04-15</td>\n",
       "    </tr>\n",
       "    <tr>\n",
       "      <th>5697</th>\n",
       "      <td>é æ ä è cj7</td>\n",
       "      <td>136.503855</td>\n",
       "      <td>27300771</td>\n",
       "      <td>20000000</td>\n",
       "      <td>206678</td>\n",
       "      <td>47300771</td>\n",
       "      <td>[None]</td>\n",
       "      <td>None</td>\n",
       "      <td>[None]</td>\n",
       "      <td>NaN</td>\n",
       "      <td>2008-03-07</td>\n",
       "    </tr>\n",
       "  </tbody>\n",
       "</table>\n",
       "<p>5948 rows × 11 columns</p>\n",
       "</div>"
      ],
      "text/plain": [
       "                           title          ROI     profit  prod_budget  \\\n",
       "0                     10 000 b c   156.253027  164065678    105000000   \n",
       "1            10 cloverfield lane  2065.728440  103286422      5000000   \n",
       "2          10 days in a madhouse   -99.878200  -11985384     12000000   \n",
       "3     10 things i hate about you   364.722692   47413950     13000000   \n",
       "4                 102 dalmatians   -21.245225  -18058441     85000000   \n",
       "...                          ...          ...        ...          ...   \n",
       "5693                    zootopia   579.619744  869429616    150000000   \n",
       "5694                        zulu   -88.473575  -14155772     16000000   \n",
       "5695                   zwartboek    23.810700    5238354     22000000   \n",
       "5696              ã l intã rieur   -70.135600   -2104068      3000000   \n",
       "5697                 é æ ä è cj7   136.503855   27300771     20000000   \n",
       "\n",
       "      dom_gross  world_gross                                      genres  \\\n",
       "0      94784201    269065678                                      [None]   \n",
       "1      72082999    108286422  [Sci-Fi, Mystery, Drama, Horror, Thriller]   \n",
       "2         14616        14616                               [Drama, None]   \n",
       "3      38177966     60413950                                      [None]   \n",
       "4      66941559     66941559                                      [None]   \n",
       "...         ...          ...                                         ...   \n",
       "5693  341268248   1019429616      [Adventure, Family, Comedy, Animation]   \n",
       "5694          0      1844228              [Thriller, Drama, Crime, None]   \n",
       "5695    4398532     27238354                                      [None]   \n",
       "5696          0       895932                                      [None]   \n",
       "5697     206678     47300771                                      [None]   \n",
       "\n",
       "              director                                             writer  \\\n",
       "0                 None                                             [None]   \n",
       "1     Dan Trachtenberg  [Matthew Stuecken, Josh Campbell, Damien Chaze...   \n",
       "2        Timothy Hines                                    [Timothy Hines]   \n",
       "3                 None                                             [None]   \n",
       "4                 None                                             [None]   \n",
       "...                ...                                                ...   \n",
       "5693      Byron Howard  [Jared Bush, Jennifer Lee, Jim Reardon, Kellie...   \n",
       "5694      Jérôme Salle      [Jérôme Salle, Julien Rappeneau, Caryl Ferey]   \n",
       "5695              None                                             [None]   \n",
       "5696              None                                             [None]   \n",
       "5697              None                                             [None]   \n",
       "\n",
       "      runtime_min release_date  \n",
       "0             NaN   2008-03-07  \n",
       "1           103.0   2016-03-11  \n",
       "2           111.0   2015-11-11  \n",
       "3             NaN   1999-03-31  \n",
       "4             NaN   2000-11-22  \n",
       "...           ...          ...  \n",
       "5693        108.0   2016-03-04  \n",
       "5694        110.0   2013-12-31  \n",
       "5695          NaN   2007-04-06  \n",
       "5696          NaN   2008-04-15  \n",
       "5697          NaN   2008-03-07  \n",
       "\n",
       "[5948 rows x 11 columns]"
      ]
     },
     "execution_count": 64,
     "metadata": {},
     "output_type": "execute_result"
    }
   ],
   "source": [
    "test1 = df.explode(\"director\")\n",
    "test1"
   ]
  },
  {
   "cell_type": "code",
   "execution_count": 65,
   "id": "1413769f",
   "metadata": {},
   "outputs": [
    {
     "data": {
      "text/html": [
       "<div>\n",
       "<style scoped>\n",
       "    .dataframe tbody tr th:only-of-type {\n",
       "        vertical-align: middle;\n",
       "    }\n",
       "\n",
       "    .dataframe tbody tr th {\n",
       "        vertical-align: top;\n",
       "    }\n",
       "\n",
       "    .dataframe thead th {\n",
       "        text-align: right;\n",
       "    }\n",
       "</style>\n",
       "<table border=\"1\" class=\"dataframe\">\n",
       "  <thead>\n",
       "    <tr style=\"text-align: right;\">\n",
       "      <th></th>\n",
       "      <th>director</th>\n",
       "      <th>ROI</th>\n",
       "      <th>profit</th>\n",
       "      <th>prod_budget</th>\n",
       "      <th>dom_gross</th>\n",
       "      <th>world_gross</th>\n",
       "      <th>runtime_min</th>\n",
       "    </tr>\n",
       "  </thead>\n",
       "  <tbody>\n",
       "    <tr>\n",
       "      <th>0</th>\n",
       "      <td>Chris Lofing</td>\n",
       "      <td>41556.474000</td>\n",
       "      <td>41556474.0</td>\n",
       "      <td>100000.0</td>\n",
       "      <td>22764410.0</td>\n",
       "      <td>41656474.0</td>\n",
       "      <td>81.0</td>\n",
       "    </tr>\n",
       "    <tr>\n",
       "      <th>1</th>\n",
       "      <td>Travis Cluff</td>\n",
       "      <td>41556.474000</td>\n",
       "      <td>41556474.0</td>\n",
       "      <td>100000.0</td>\n",
       "      <td>22764410.0</td>\n",
       "      <td>41656474.0</td>\n",
       "      <td>81.0</td>\n",
       "    </tr>\n",
       "    <tr>\n",
       "      <th>2</th>\n",
       "      <td>Tod Williams</td>\n",
       "      <td>5817.067733</td>\n",
       "      <td>174512032.0</td>\n",
       "      <td>3000000.0</td>\n",
       "      <td>84752907.0</td>\n",
       "      <td>177512032.0</td>\n",
       "      <td>91.0</td>\n",
       "    </tr>\n",
       "    <tr>\n",
       "      <th>3</th>\n",
       "      <td>William Brent Bell</td>\n",
       "      <td>5329.079260</td>\n",
       "      <td>79490221.0</td>\n",
       "      <td>5500000.0</td>\n",
       "      <td>44541250.5</td>\n",
       "      <td>84990221.0</td>\n",
       "      <td>90.0</td>\n",
       "    </tr>\n",
       "    <tr>\n",
       "      <th>4</th>\n",
       "      <td>Bradley Parker</td>\n",
       "      <td>4141.172100</td>\n",
       "      <td>41411721.0</td>\n",
       "      <td>1000000.0</td>\n",
       "      <td>18119640.0</td>\n",
       "      <td>42411721.0</td>\n",
       "      <td>86.0</td>\n",
       "    </tr>\n",
       "    <tr>\n",
       "      <th>5</th>\n",
       "      <td>Jordan Peele</td>\n",
       "      <td>3089.205285</td>\n",
       "      <td>242289130.5</td>\n",
       "      <td>12500000.0</td>\n",
       "      <td>175523797.5</td>\n",
       "      <td>254789130.5</td>\n",
       "      <td>110.0</td>\n",
       "    </tr>\n",
       "    <tr>\n",
       "      <th>6</th>\n",
       "      <td>Nitesh Tiwari</td>\n",
       "      <td>3001.627558</td>\n",
       "      <td>285154618.0</td>\n",
       "      <td>9500000.0</td>\n",
       "      <td>12391761.0</td>\n",
       "      <td>294654618.0</td>\n",
       "      <td>161.0</td>\n",
       "    </tr>\n",
       "    <tr>\n",
       "      <th>7</th>\n",
       "      <td>Henry Joost</td>\n",
       "      <td>2756.359840</td>\n",
       "      <td>137817992.0</td>\n",
       "      <td>5000000.0</td>\n",
       "      <td>53900335.0</td>\n",
       "      <td>142817992.0</td>\n",
       "      <td>88.0</td>\n",
       "    </tr>\n",
       "    <tr>\n",
       "      <th>8</th>\n",
       "      <td>Ariel Schulman</td>\n",
       "      <td>2756.359840</td>\n",
       "      <td>137817992.0</td>\n",
       "      <td>5000000.0</td>\n",
       "      <td>53900335.0</td>\n",
       "      <td>142817992.0</td>\n",
       "      <td>88.0</td>\n",
       "    </tr>\n",
       "    <tr>\n",
       "      <th>9</th>\n",
       "      <td>Josh Boone</td>\n",
       "      <td>2459.723617</td>\n",
       "      <td>295166834.0</td>\n",
       "      <td>12000000.0</td>\n",
       "      <td>124872350.0</td>\n",
       "      <td>307166834.0</td>\n",
       "      <td>126.0</td>\n",
       "    </tr>\n",
       "    <tr>\n",
       "      <th>10</th>\n",
       "      <td>Barry Jenkins</td>\n",
       "      <td>2157.596929</td>\n",
       "      <td>35802339.5</td>\n",
       "      <td>6750000.0</td>\n",
       "      <td>21385352.0</td>\n",
       "      <td>42552339.5</td>\n",
       "      <td>115.0</td>\n",
       "    </tr>\n",
       "    <tr>\n",
       "      <th>11</th>\n",
       "      <td>Dan Trachtenberg</td>\n",
       "      <td>2065.728440</td>\n",
       "      <td>103286422.0</td>\n",
       "      <td>5000000.0</td>\n",
       "      <td>72082999.0</td>\n",
       "      <td>108286422.0</td>\n",
       "      <td>103.0</td>\n",
       "    </tr>\n",
       "    <tr>\n",
       "      <th>12</th>\n",
       "      <td>Alex Kendrick</td>\n",
       "      <td>2012.567750</td>\n",
       "      <td>52080561.5</td>\n",
       "      <td>2500000.0</td>\n",
       "      <td>51156169.0</td>\n",
       "      <td>54580561.5</td>\n",
       "      <td>124.5</td>\n",
       "    </tr>\n",
       "    <tr>\n",
       "      <th>13</th>\n",
       "      <td>John R. Leonetti</td>\n",
       "      <td>1973.690886</td>\n",
       "      <td>130920132.5</td>\n",
       "      <td>9250000.0</td>\n",
       "      <td>49287659.0</td>\n",
       "      <td>140170132.5</td>\n",
       "      <td>94.5</td>\n",
       "    </tr>\n",
       "    <tr>\n",
       "      <th>14</th>\n",
       "      <td>Stiles White</td>\n",
       "      <td>1966.012640</td>\n",
       "      <td>98300632.0</td>\n",
       "      <td>5000000.0</td>\n",
       "      <td>50856010.0</td>\n",
       "      <td>103300632.0</td>\n",
       "      <td>89.0</td>\n",
       "    </tr>\n",
       "    <tr>\n",
       "      <th>15</th>\n",
       "      <td>David F. Sandberg</td>\n",
       "      <td>1935.899100</td>\n",
       "      <td>277899733.0</td>\n",
       "      <td>15000000.0</td>\n",
       "      <td>102092201.0</td>\n",
       "      <td>305384865.0</td>\n",
       "      <td>109.0</td>\n",
       "    </tr>\n",
       "    <tr>\n",
       "      <th>16</th>\n",
       "      <td>John Krasinski</td>\n",
       "      <td>1867.778200</td>\n",
       "      <td>317522294.0</td>\n",
       "      <td>17000000.0</td>\n",
       "      <td>188024361.0</td>\n",
       "      <td>334522294.0</td>\n",
       "      <td>90.0</td>\n",
       "    </tr>\n",
       "    <tr>\n",
       "      <th>17</th>\n",
       "      <td>Daniel Stamm</td>\n",
       "      <td>1849.647178</td>\n",
       "      <td>32206726.0</td>\n",
       "      <td>2900000.0</td>\n",
       "      <td>20521742.0</td>\n",
       "      <td>35106726.0</td>\n",
       "      <td>90.0</td>\n",
       "    </tr>\n",
       "    <tr>\n",
       "      <th>18</th>\n",
       "      <td>Adam Robitel</td>\n",
       "      <td>1578.855880</td>\n",
       "      <td>157885588.0</td>\n",
       "      <td>10000000.0</td>\n",
       "      <td>67745330.0</td>\n",
       "      <td>167885588.0</td>\n",
       "      <td>103.0</td>\n",
       "    </tr>\n",
       "    <tr>\n",
       "      <th>19</th>\n",
       "      <td>Stephen Susco</td>\n",
       "      <td>1543.458800</td>\n",
       "      <td>15434588.0</td>\n",
       "      <td>1000000.0</td>\n",
       "      <td>8866745.0</td>\n",
       "      <td>16434588.0</td>\n",
       "      <td>92.0</td>\n",
       "    </tr>\n",
       "    <tr>\n",
       "      <th>20</th>\n",
       "      <td>Drake Doremus</td>\n",
       "      <td>1391.360000</td>\n",
       "      <td>3478400.0</td>\n",
       "      <td>250000.0</td>\n",
       "      <td>3395391.0</td>\n",
       "      <td>3728400.0</td>\n",
       "      <td>86.0</td>\n",
       "    </tr>\n",
       "    <tr>\n",
       "      <th>21</th>\n",
       "      <td>Andy Muschietti</td>\n",
       "      <td>1390.020414</td>\n",
       "      <td>397776767.5</td>\n",
       "      <td>25000000.0</td>\n",
       "      <td>199554964.0</td>\n",
       "      <td>422776767.5</td>\n",
       "      <td>117.5</td>\n",
       "    </tr>\n",
       "    <tr>\n",
       "      <th>22</th>\n",
       "      <td>Kyle Balda</td>\n",
       "      <td>1373.829428</td>\n",
       "      <td>1023031961.5</td>\n",
       "      <td>74500000.0</td>\n",
       "      <td>300335035.0</td>\n",
       "      <td>1097531961.5</td>\n",
       "      <td>90.0</td>\n",
       "    </tr>\n",
       "    <tr>\n",
       "      <th>23</th>\n",
       "      <td>Jeff Wadlow</td>\n",
       "      <td>1371.694038</td>\n",
       "      <td>63378626.5</td>\n",
       "      <td>15750000.0</td>\n",
       "      <td>35103500.0</td>\n",
       "      <td>79128626.5</td>\n",
       "      <td>101.5</td>\n",
       "    </tr>\n",
       "    <tr>\n",
       "      <th>24</th>\n",
       "      <td>Sam Taylor-Johnson</td>\n",
       "      <td>1327.495252</td>\n",
       "      <td>530998101.0</td>\n",
       "      <td>40000000.0</td>\n",
       "      <td>166167230.0</td>\n",
       "      <td>570998101.0</td>\n",
       "      <td>125.0</td>\n",
       "    </tr>\n",
       "  </tbody>\n",
       "</table>\n",
       "</div>"
      ],
      "text/plain": [
       "              director           ROI        profit  prod_budget    dom_gross  \\\n",
       "0         Chris Lofing  41556.474000    41556474.0     100000.0   22764410.0   \n",
       "1         Travis Cluff  41556.474000    41556474.0     100000.0   22764410.0   \n",
       "2         Tod Williams   5817.067733   174512032.0    3000000.0   84752907.0   \n",
       "3   William Brent Bell   5329.079260    79490221.0    5500000.0   44541250.5   \n",
       "4       Bradley Parker   4141.172100    41411721.0    1000000.0   18119640.0   \n",
       "5         Jordan Peele   3089.205285   242289130.5   12500000.0  175523797.5   \n",
       "6        Nitesh Tiwari   3001.627558   285154618.0    9500000.0   12391761.0   \n",
       "7          Henry Joost   2756.359840   137817992.0    5000000.0   53900335.0   \n",
       "8       Ariel Schulman   2756.359840   137817992.0    5000000.0   53900335.0   \n",
       "9           Josh Boone   2459.723617   295166834.0   12000000.0  124872350.0   \n",
       "10       Barry Jenkins   2157.596929    35802339.5    6750000.0   21385352.0   \n",
       "11    Dan Trachtenberg   2065.728440   103286422.0    5000000.0   72082999.0   \n",
       "12       Alex Kendrick   2012.567750    52080561.5    2500000.0   51156169.0   \n",
       "13    John R. Leonetti   1973.690886   130920132.5    9250000.0   49287659.0   \n",
       "14        Stiles White   1966.012640    98300632.0    5000000.0   50856010.0   \n",
       "15   David F. Sandberg   1935.899100   277899733.0   15000000.0  102092201.0   \n",
       "16      John Krasinski   1867.778200   317522294.0   17000000.0  188024361.0   \n",
       "17        Daniel Stamm   1849.647178    32206726.0    2900000.0   20521742.0   \n",
       "18        Adam Robitel   1578.855880   157885588.0   10000000.0   67745330.0   \n",
       "19       Stephen Susco   1543.458800    15434588.0    1000000.0    8866745.0   \n",
       "20       Drake Doremus   1391.360000     3478400.0     250000.0    3395391.0   \n",
       "21     Andy Muschietti   1390.020414   397776767.5   25000000.0  199554964.0   \n",
       "22          Kyle Balda   1373.829428  1023031961.5   74500000.0  300335035.0   \n",
       "23         Jeff Wadlow   1371.694038    63378626.5   15750000.0   35103500.0   \n",
       "24  Sam Taylor-Johnson   1327.495252   530998101.0   40000000.0  166167230.0   \n",
       "\n",
       "     world_gross  runtime_min  \n",
       "0     41656474.0         81.0  \n",
       "1     41656474.0         81.0  \n",
       "2    177512032.0         91.0  \n",
       "3     84990221.0         90.0  \n",
       "4     42411721.0         86.0  \n",
       "5    254789130.5        110.0  \n",
       "6    294654618.0        161.0  \n",
       "7    142817992.0         88.0  \n",
       "8    142817992.0         88.0  \n",
       "9    307166834.0        126.0  \n",
       "10    42552339.5        115.0  \n",
       "11   108286422.0        103.0  \n",
       "12    54580561.5        124.5  \n",
       "13   140170132.5         94.5  \n",
       "14   103300632.0         89.0  \n",
       "15   305384865.0        109.0  \n",
       "16   334522294.0         90.0  \n",
       "17    35106726.0         90.0  \n",
       "18   167885588.0        103.0  \n",
       "19    16434588.0         92.0  \n",
       "20     3728400.0         86.0  \n",
       "21   422776767.5        117.5  \n",
       "22  1097531961.5         90.0  \n",
       "23    79128626.5        101.5  \n",
       "24   570998101.0        125.0  "
      ]
     },
     "execution_count": 65,
     "metadata": {},
     "output_type": "execute_result"
    }
   ],
   "source": [
    "grouped_median_by_director = test1.groupby([\"director\"]).median().sort_values(\"ROI\", ascending = False).reset_index().head(25)\n",
    "grouped_median_by_director"
   ]
  },
  {
   "cell_type": "code",
   "execution_count": 67,
   "id": "8117f3b5",
   "metadata": {},
   "outputs": [
    {
     "data": {
      "image/png": "[encoded data removed]",
      "text/plain": [
       "<Figure size 1000x800 with 1 Axes>"
      ]
     },
     "metadata": {},
     "output_type": "display_data"
    }
   ],
   "source": [
    "fig = plt.figure(figsize = (10, 8))\n",
    "ax = sns.barplot(x = grouped_median_by_director[\"director\"], y = grouped_median_by_director[\"ROI\"], estimator = np.median)\n",
    "ax.set_xticklabels(ax.get_xticklabels(), rotation=40, ha=\"right\")\n",
    "plt.tight_layout()\n",
    "plt.show();"
   ]
  },
  {
   "cell_type": "code",
   "execution_count": 9,
   "id": "368b5cca",
   "metadata": {},
   "outputs": [
    {
     "data": {
      "text/html": [
       "<div>\n",
       "<style scoped>\n",
       "    .dataframe tbody tr th:only-of-type {\n",
       "        vertical-align: middle;\n",
       "    }\n",
       "\n",
       "    .dataframe tbody tr th {\n",
       "        vertical-align: top;\n",
       "    }\n",
       "\n",
       "    .dataframe thead th {\n",
       "        text-align: right;\n",
       "    }\n",
       "</style>\n",
       "<table border=\"1\" class=\"dataframe\">\n",
       "  <thead>\n",
       "    <tr style=\"text-align: right;\">\n",
       "      <th></th>\n",
       "      <th>title</th>\n",
       "      <th>ROI</th>\n",
       "      <th>profit</th>\n",
       "      <th>prod_budget</th>\n",
       "      <th>dom_gross</th>\n",
       "      <th>world_gross</th>\n",
       "      <th>genres</th>\n",
       "      <th>director</th>\n",
       "      <th>writer</th>\n",
       "      <th>runtime_min</th>\n",
       "      <th>release_date</th>\n",
       "    </tr>\n",
       "  </thead>\n",
       "  <tbody>\n",
       "    <tr>\n",
       "      <th>0</th>\n",
       "      <td>10 000 b c</td>\n",
       "      <td>156.253027</td>\n",
       "      <td>164065678</td>\n",
       "      <td>105000000</td>\n",
       "      <td>94784201</td>\n",
       "      <td>269065678</td>\n",
       "      <td>[None]</td>\n",
       "      <td>[None]</td>\n",
       "      <td>None</td>\n",
       "      <td>NaN</td>\n",
       "      <td>2008-03-07</td>\n",
       "    </tr>\n",
       "    <tr>\n",
       "      <th>1</th>\n",
       "      <td>10 cloverfield lane</td>\n",
       "      <td>2065.728440</td>\n",
       "      <td>103286422</td>\n",
       "      <td>5000000</td>\n",
       "      <td>72082999</td>\n",
       "      <td>108286422</td>\n",
       "      <td>[Sci-Fi, Mystery, Drama, Horror, Thriller]</td>\n",
       "      <td>[Dan Trachtenberg]</td>\n",
       "      <td>Matthew Stuecken</td>\n",
       "      <td>103.0</td>\n",
       "      <td>2016-03-11</td>\n",
       "    </tr>\n",
       "    <tr>\n",
       "      <th>1</th>\n",
       "      <td>10 cloverfield lane</td>\n",
       "      <td>2065.728440</td>\n",
       "      <td>103286422</td>\n",
       "      <td>5000000</td>\n",
       "      <td>72082999</td>\n",
       "      <td>108286422</td>\n",
       "      <td>[Sci-Fi, Mystery, Drama, Horror, Thriller]</td>\n",
       "      <td>[Dan Trachtenberg]</td>\n",
       "      <td>Josh Campbell</td>\n",
       "      <td>103.0</td>\n",
       "      <td>2016-03-11</td>\n",
       "    </tr>\n",
       "    <tr>\n",
       "      <th>1</th>\n",
       "      <td>10 cloverfield lane</td>\n",
       "      <td>2065.728440</td>\n",
       "      <td>103286422</td>\n",
       "      <td>5000000</td>\n",
       "      <td>72082999</td>\n",
       "      <td>108286422</td>\n",
       "      <td>[Sci-Fi, Mystery, Drama, Horror, Thriller]</td>\n",
       "      <td>[Dan Trachtenberg]</td>\n",
       "      <td>Damien Chazelle</td>\n",
       "      <td>103.0</td>\n",
       "      <td>2016-03-11</td>\n",
       "    </tr>\n",
       "    <tr>\n",
       "      <th>2</th>\n",
       "      <td>10 days in a madhouse</td>\n",
       "      <td>-99.878200</td>\n",
       "      <td>-11985384</td>\n",
       "      <td>12000000</td>\n",
       "      <td>14616</td>\n",
       "      <td>14616</td>\n",
       "      <td>[Drama, None]</td>\n",
       "      <td>[Timothy Hines]</td>\n",
       "      <td>Timothy Hines</td>\n",
       "      <td>111.0</td>\n",
       "      <td>2015-11-11</td>\n",
       "    </tr>\n",
       "    <tr>\n",
       "      <th>...</th>\n",
       "      <td>...</td>\n",
       "      <td>...</td>\n",
       "      <td>...</td>\n",
       "      <td>...</td>\n",
       "      <td>...</td>\n",
       "      <td>...</td>\n",
       "      <td>...</td>\n",
       "      <td>...</td>\n",
       "      <td>...</td>\n",
       "      <td>...</td>\n",
       "      <td>...</td>\n",
       "    </tr>\n",
       "    <tr>\n",
       "      <th>5694</th>\n",
       "      <td>zulu</td>\n",
       "      <td>-88.473575</td>\n",
       "      <td>-14155772</td>\n",
       "      <td>16000000</td>\n",
       "      <td>0</td>\n",
       "      <td>1844228</td>\n",
       "      <td>[Thriller, Drama, Crime, None]</td>\n",
       "      <td>[Jérôme Salle]</td>\n",
       "      <td>Julien Rappeneau</td>\n",
       "      <td>110.0</td>\n",
       "      <td>2013-12-31</td>\n",
       "    </tr>\n",
       "    <tr>\n",
       "      <th>5694</th>\n",
       "      <td>zulu</td>\n",
       "      <td>-88.473575</td>\n",
       "      <td>-14155772</td>\n",
       "      <td>16000000</td>\n",
       "      <td>0</td>\n",
       "      <td>1844228</td>\n",
       "      <td>[Thriller, Drama, Crime, None]</td>\n",
       "      <td>[Jérôme Salle]</td>\n",
       "      <td>Caryl Ferey</td>\n",
       "      <td>110.0</td>\n",
       "      <td>2013-12-31</td>\n",
       "    </tr>\n",
       "    <tr>\n",
       "      <th>5695</th>\n",
       "      <td>zwartboek</td>\n",
       "      <td>23.810700</td>\n",
       "      <td>5238354</td>\n",
       "      <td>22000000</td>\n",
       "      <td>4398532</td>\n",
       "      <td>27238354</td>\n",
       "      <td>[None]</td>\n",
       "      <td>[None]</td>\n",
       "      <td>None</td>\n",
       "      <td>NaN</td>\n",
       "      <td>2007-04-06</td>\n",
       "    </tr>\n",
       "    <tr>\n",
       "      <th>5696</th>\n",
       "      <td>ã l intã rieur</td>\n",
       "      <td>-70.135600</td>\n",
       "      <td>-2104068</td>\n",
       "      <td>3000000</td>\n",
       "      <td>0</td>\n",
       "      <td>895932</td>\n",
       "      <td>[None]</td>\n",
       "      <td>[None]</td>\n",
       "      <td>None</td>\n",
       "      <td>NaN</td>\n",
       "      <td>2008-04-15</td>\n",
       "    </tr>\n",
       "    <tr>\n",
       "      <th>5697</th>\n",
       "      <td>é æ ä è cj7</td>\n",
       "      <td>136.503855</td>\n",
       "      <td>27300771</td>\n",
       "      <td>20000000</td>\n",
       "      <td>206678</td>\n",
       "      <td>47300771</td>\n",
       "      <td>[None]</td>\n",
       "      <td>[None]</td>\n",
       "      <td>None</td>\n",
       "      <td>NaN</td>\n",
       "      <td>2008-03-07</td>\n",
       "    </tr>\n",
       "  </tbody>\n",
       "</table>\n",
       "<p>8230 rows × 11 columns</p>\n",
       "</div>"
      ],
      "text/plain": [
       "                      title          ROI     profit  prod_budget  dom_gross  \\\n",
       "0                10 000 b c   156.253027  164065678    105000000   94784201   \n",
       "1       10 cloverfield lane  2065.728440  103286422      5000000   72082999   \n",
       "1       10 cloverfield lane  2065.728440  103286422      5000000   72082999   \n",
       "1       10 cloverfield lane  2065.728440  103286422      5000000   72082999   \n",
       "2     10 days in a madhouse   -99.878200  -11985384     12000000      14616   \n",
       "...                     ...          ...        ...          ...        ...   \n",
       "5694                   zulu   -88.473575  -14155772     16000000          0   \n",
       "5694                   zulu   -88.473575  -14155772     16000000          0   \n",
       "5695              zwartboek    23.810700    5238354     22000000    4398532   \n",
       "5696         ã l intã rieur   -70.135600   -2104068      3000000          0   \n",
       "5697            é æ ä è cj7   136.503855   27300771     20000000     206678   \n",
       "\n",
       "      world_gross                                      genres  \\\n",
       "0       269065678                                      [None]   \n",
       "1       108286422  [Sci-Fi, Mystery, Drama, Horror, Thriller]   \n",
       "1       108286422  [Sci-Fi, Mystery, Drama, Horror, Thriller]   \n",
       "1       108286422  [Sci-Fi, Mystery, Drama, Horror, Thriller]   \n",
       "2           14616                               [Drama, None]   \n",
       "...           ...                                         ...   \n",
       "5694      1844228              [Thriller, Drama, Crime, None]   \n",
       "5694      1844228              [Thriller, Drama, Crime, None]   \n",
       "5695     27238354                                      [None]   \n",
       "5696       895932                                      [None]   \n",
       "5697     47300771                                      [None]   \n",
       "\n",
       "                director            writer  runtime_min release_date  \n",
       "0                 [None]              None          NaN   2008-03-07  \n",
       "1     [Dan Trachtenberg]  Matthew Stuecken        103.0   2016-03-11  \n",
       "1     [Dan Trachtenberg]     Josh Campbell        103.0   2016-03-11  \n",
       "1     [Dan Trachtenberg]   Damien Chazelle        103.0   2016-03-11  \n",
       "2        [Timothy Hines]     Timothy Hines        111.0   2015-11-11  \n",
       "...                  ...               ...          ...          ...  \n",
       "5694      [Jérôme Salle]  Julien Rappeneau        110.0   2013-12-31  \n",
       "5694      [Jérôme Salle]       Caryl Ferey        110.0   2013-12-31  \n",
       "5695              [None]              None          NaN   2007-04-06  \n",
       "5696              [None]              None          NaN   2008-04-15  \n",
       "5697              [None]              None          NaN   2008-03-07  \n",
       "\n",
       "[8230 rows x 11 columns]"
      ]
     },
     "execution_count": 9,
     "metadata": {},
     "output_type": "execute_result"
    }
   ],
   "source": [
    "test2 = df.explode(\"writer\")\n",
    "test2"
   ]
  },
  {
   "cell_type": "code",
   "execution_count": 10,
   "id": "e6e7e61e",
   "metadata": {},
   "outputs": [
    {
     "data": {
      "text/html": [
       "<div>\n",
       "<style scoped>\n",
       "    .dataframe tbody tr th:only-of-type {\n",
       "        vertical-align: middle;\n",
       "    }\n",
       "\n",
       "    .dataframe tbody tr th {\n",
       "        vertical-align: top;\n",
       "    }\n",
       "\n",
       "    .dataframe thead th {\n",
       "        text-align: right;\n",
       "    }\n",
       "</style>\n",
       "<table border=\"1\" class=\"dataframe\">\n",
       "  <thead>\n",
       "    <tr style=\"text-align: right;\">\n",
       "      <th></th>\n",
       "      <th>writer</th>\n",
       "      <th>ROI</th>\n",
       "      <th>profit</th>\n",
       "      <th>prod_budget</th>\n",
       "      <th>dom_gross</th>\n",
       "      <th>world_gross</th>\n",
       "      <th>runtime_min</th>\n",
       "    </tr>\n",
       "  </thead>\n",
       "  <tbody>\n",
       "    <tr>\n",
       "      <th>0</th>\n",
       "      <td>Chris Lofing</td>\n",
       "      <td>41556.474000</td>\n",
       "      <td>41556474.0</td>\n",
       "      <td>100000.0</td>\n",
       "      <td>22764410.0</td>\n",
       "      <td>41656474.0</td>\n",
       "      <td>81.0</td>\n",
       "    </tr>\n",
       "    <tr>\n",
       "      <th>1</th>\n",
       "      <td>Travis Cluff</td>\n",
       "      <td>41556.474000</td>\n",
       "      <td>41556474.0</td>\n",
       "      <td>100000.0</td>\n",
       "      <td>22764410.0</td>\n",
       "      <td>41656474.0</td>\n",
       "      <td>81.0</td>\n",
       "    </tr>\n",
       "    <tr>\n",
       "      <th>2</th>\n",
       "      <td>Matthew Peterman</td>\n",
       "      <td>10075.949000</td>\n",
       "      <td>100759490.0</td>\n",
       "      <td>1000000.0</td>\n",
       "      <td>53262945.0</td>\n",
       "      <td>101759490.0</td>\n",
       "      <td>83.0</td>\n",
       "    </tr>\n",
       "    <tr>\n",
       "      <th>3</th>\n",
       "      <td>William Brent Bell</td>\n",
       "      <td>10075.949000</td>\n",
       "      <td>100759490.0</td>\n",
       "      <td>1000000.0</td>\n",
       "      <td>53262945.0</td>\n",
       "      <td>101759490.0</td>\n",
       "      <td>83.0</td>\n",
       "    </tr>\n",
       "    <tr>\n",
       "      <th>4</th>\n",
       "      <td>Michael R. Perry</td>\n",
       "      <td>5817.067733</td>\n",
       "      <td>174512032.0</td>\n",
       "      <td>3000000.0</td>\n",
       "      <td>84752907.0</td>\n",
       "      <td>177512032.0</td>\n",
       "      <td>91.0</td>\n",
       "    </tr>\n",
       "    <tr>\n",
       "      <th>5</th>\n",
       "      <td>Tom Pabst</td>\n",
       "      <td>5817.067733</td>\n",
       "      <td>174512032.0</td>\n",
       "      <td>3000000.0</td>\n",
       "      <td>84752907.0</td>\n",
       "      <td>177512032.0</td>\n",
       "      <td>91.0</td>\n",
       "    </tr>\n",
       "    <tr>\n",
       "      <th>6</th>\n",
       "      <td>Tarell Alvin McCraney</td>\n",
       "      <td>4249.700800</td>\n",
       "      <td>63745512.0</td>\n",
       "      <td>1500000.0</td>\n",
       "      <td>27854931.0</td>\n",
       "      <td>65245512.0</td>\n",
       "      <td>111.0</td>\n",
       "    </tr>\n",
       "    <tr>\n",
       "      <th>7</th>\n",
       "      <td>Shane Van Dyke</td>\n",
       "      <td>4141.172100</td>\n",
       "      <td>41411721.0</td>\n",
       "      <td>1000000.0</td>\n",
       "      <td>18119640.0</td>\n",
       "      <td>42411721.0</td>\n",
       "      <td>86.0</td>\n",
       "    </tr>\n",
       "    <tr>\n",
       "      <th>8</th>\n",
       "      <td>Carey Van Dyke</td>\n",
       "      <td>4141.172100</td>\n",
       "      <td>41411721.0</td>\n",
       "      <td>1000000.0</td>\n",
       "      <td>18119640.0</td>\n",
       "      <td>42411721.0</td>\n",
       "      <td>86.0</td>\n",
       "    </tr>\n",
       "    <tr>\n",
       "      <th>9</th>\n",
       "      <td>Piyush Gupta</td>\n",
       "      <td>3001.627558</td>\n",
       "      <td>285154618.0</td>\n",
       "      <td>9500000.0</td>\n",
       "      <td>12391761.0</td>\n",
       "      <td>294654618.0</td>\n",
       "      <td>161.0</td>\n",
       "    </tr>\n",
       "    <tr>\n",
       "      <th>10</th>\n",
       "      <td>Nitesh Tiwari</td>\n",
       "      <td>3001.627558</td>\n",
       "      <td>285154618.0</td>\n",
       "      <td>9500000.0</td>\n",
       "      <td>12391761.0</td>\n",
       "      <td>294654618.0</td>\n",
       "      <td>161.0</td>\n",
       "    </tr>\n",
       "    <tr>\n",
       "      <th>11</th>\n",
       "      <td>Nikhil Mehrotra</td>\n",
       "      <td>3001.627558</td>\n",
       "      <td>285154618.0</td>\n",
       "      <td>9500000.0</td>\n",
       "      <td>12391761.0</td>\n",
       "      <td>294654618.0</td>\n",
       "      <td>161.0</td>\n",
       "    </tr>\n",
       "    <tr>\n",
       "      <th>12</th>\n",
       "      <td>Shreyas Jain</td>\n",
       "      <td>3001.627558</td>\n",
       "      <td>285154618.0</td>\n",
       "      <td>9500000.0</td>\n",
       "      <td>12391761.0</td>\n",
       "      <td>294654618.0</td>\n",
       "      <td>161.0</td>\n",
       "    </tr>\n",
       "    <tr>\n",
       "      <th>13</th>\n",
       "      <td>Rajshri Sudhakar</td>\n",
       "      <td>3001.627558</td>\n",
       "      <td>285154618.0</td>\n",
       "      <td>9500000.0</td>\n",
       "      <td>12391761.0</td>\n",
       "      <td>294654618.0</td>\n",
       "      <td>161.0</td>\n",
       "    </tr>\n",
       "    <tr>\n",
       "      <th>14</th>\n",
       "      <td>David F. Sandberg</td>\n",
       "      <td>2876.130200</td>\n",
       "      <td>143806510.0</td>\n",
       "      <td>5000000.0</td>\n",
       "      <td>67268835.0</td>\n",
       "      <td>148806510.0</td>\n",
       "      <td>81.0</td>\n",
       "    </tr>\n",
       "    <tr>\n",
       "      <th>15</th>\n",
       "      <td>Chad Feehan</td>\n",
       "      <td>2756.359840</td>\n",
       "      <td>137817992.0</td>\n",
       "      <td>5000000.0</td>\n",
       "      <td>53900335.0</td>\n",
       "      <td>142817992.0</td>\n",
       "      <td>88.0</td>\n",
       "    </tr>\n",
       "    <tr>\n",
       "      <th>16</th>\n",
       "      <td>Oren Peli</td>\n",
       "      <td>2756.359840</td>\n",
       "      <td>85904854.0</td>\n",
       "      <td>5000000.0</td>\n",
       "      <td>32462372.0</td>\n",
       "      <td>90904854.0</td>\n",
       "      <td>88.0</td>\n",
       "    </tr>\n",
       "    <tr>\n",
       "      <th>17</th>\n",
       "      <td>Jillian Jacobs</td>\n",
       "      <td>2617.924114</td>\n",
       "      <td>91627344.0</td>\n",
       "      <td>3500000.0</td>\n",
       "      <td>41411015.0</td>\n",
       "      <td>95127344.0</td>\n",
       "      <td>100.0</td>\n",
       "    </tr>\n",
       "    <tr>\n",
       "      <th>18</th>\n",
       "      <td>Michael Reisz</td>\n",
       "      <td>2617.924114</td>\n",
       "      <td>91627344.0</td>\n",
       "      <td>3500000.0</td>\n",
       "      <td>41411015.0</td>\n",
       "      <td>95127344.0</td>\n",
       "      <td>100.0</td>\n",
       "    </tr>\n",
       "    <tr>\n",
       "      <th>19</th>\n",
       "      <td>Andres Heinz</td>\n",
       "      <td>2448.205462</td>\n",
       "      <td>318266710.0</td>\n",
       "      <td>13000000.0</td>\n",
       "      <td>106954678.0</td>\n",
       "      <td>331266710.0</td>\n",
       "      <td>108.0</td>\n",
       "    </tr>\n",
       "    <tr>\n",
       "      <th>20</th>\n",
       "      <td>Christopher Landon</td>\n",
       "      <td>2237.228460</td>\n",
       "      <td>111861423.0</td>\n",
       "      <td>5000000.0</td>\n",
       "      <td>43181353.5</td>\n",
       "      <td>116861423.0</td>\n",
       "      <td>89.5</td>\n",
       "    </tr>\n",
       "    <tr>\n",
       "      <th>21</th>\n",
       "      <td>Barry Jenkins</td>\n",
       "      <td>2157.596929</td>\n",
       "      <td>35802339.5</td>\n",
       "      <td>6750000.0</td>\n",
       "      <td>21385352.0</td>\n",
       "      <td>42552339.5</td>\n",
       "      <td>115.0</td>\n",
       "    </tr>\n",
       "    <tr>\n",
       "      <th>22</th>\n",
       "      <td>Josh Campbell</td>\n",
       "      <td>2065.728440</td>\n",
       "      <td>103286422.0</td>\n",
       "      <td>5000000.0</td>\n",
       "      <td>72082999.0</td>\n",
       "      <td>108286422.0</td>\n",
       "      <td>103.0</td>\n",
       "    </tr>\n",
       "    <tr>\n",
       "      <th>23</th>\n",
       "      <td>Matthew Stuecken</td>\n",
       "      <td>2065.728440</td>\n",
       "      <td>103286422.0</td>\n",
       "      <td>5000000.0</td>\n",
       "      <td>72082999.0</td>\n",
       "      <td>108286422.0</td>\n",
       "      <td>103.0</td>\n",
       "    </tr>\n",
       "    <tr>\n",
       "      <th>24</th>\n",
       "      <td>Stephen Kendrick</td>\n",
       "      <td>2012.567750</td>\n",
       "      <td>52080561.5</td>\n",
       "      <td>2500000.0</td>\n",
       "      <td>51156169.0</td>\n",
       "      <td>54580561.5</td>\n",
       "      <td>124.5</td>\n",
       "    </tr>\n",
       "  </tbody>\n",
       "</table>\n",
       "</div>"
      ],
      "text/plain": [
       "                   writer           ROI       profit  prod_budget  \\\n",
       "0            Chris Lofing  41556.474000   41556474.0     100000.0   \n",
       "1            Travis Cluff  41556.474000   41556474.0     100000.0   \n",
       "2        Matthew Peterman  10075.949000  100759490.0    1000000.0   \n",
       "3      William Brent Bell  10075.949000  100759490.0    1000000.0   \n",
       "4        Michael R. Perry   5817.067733  174512032.0    3000000.0   \n",
       "5               Tom Pabst   5817.067733  174512032.0    3000000.0   \n",
       "6   Tarell Alvin McCraney   4249.700800   63745512.0    1500000.0   \n",
       "7          Shane Van Dyke   4141.172100   41411721.0    1000000.0   \n",
       "8          Carey Van Dyke   4141.172100   41411721.0    1000000.0   \n",
       "9            Piyush Gupta   3001.627558  285154618.0    9500000.0   \n",
       "10          Nitesh Tiwari   3001.627558  285154618.0    9500000.0   \n",
       "11        Nikhil Mehrotra   3001.627558  285154618.0    9500000.0   \n",
       "12           Shreyas Jain   3001.627558  285154618.0    9500000.0   \n",
       "13       Rajshri Sudhakar   3001.627558  285154618.0    9500000.0   \n",
       "14      David F. Sandberg   2876.130200  143806510.0    5000000.0   \n",
       "15            Chad Feehan   2756.359840  137817992.0    5000000.0   \n",
       "16              Oren Peli   2756.359840   85904854.0    5000000.0   \n",
       "17         Jillian Jacobs   2617.924114   91627344.0    3500000.0   \n",
       "18          Michael Reisz   2617.924114   91627344.0    3500000.0   \n",
       "19           Andres Heinz   2448.205462  318266710.0   13000000.0   \n",
       "20     Christopher Landon   2237.228460  111861423.0    5000000.0   \n",
       "21          Barry Jenkins   2157.596929   35802339.5    6750000.0   \n",
       "22          Josh Campbell   2065.728440  103286422.0    5000000.0   \n",
       "23       Matthew Stuecken   2065.728440  103286422.0    5000000.0   \n",
       "24       Stephen Kendrick   2012.567750   52080561.5    2500000.0   \n",
       "\n",
       "      dom_gross  world_gross  runtime_min  \n",
       "0    22764410.0   41656474.0         81.0  \n",
       "1    22764410.0   41656474.0         81.0  \n",
       "2    53262945.0  101759490.0         83.0  \n",
       "3    53262945.0  101759490.0         83.0  \n",
       "4    84752907.0  177512032.0         91.0  \n",
       "5    84752907.0  177512032.0         91.0  \n",
       "6    27854931.0   65245512.0        111.0  \n",
       "7    18119640.0   42411721.0         86.0  \n",
       "8    18119640.0   42411721.0         86.0  \n",
       "9    12391761.0  294654618.0        161.0  \n",
       "10   12391761.0  294654618.0        161.0  \n",
       "11   12391761.0  294654618.0        161.0  \n",
       "12   12391761.0  294654618.0        161.0  \n",
       "13   12391761.0  294654618.0        161.0  \n",
       "14   67268835.0  148806510.0         81.0  \n",
       "15   53900335.0  142817992.0         88.0  \n",
       "16   32462372.0   90904854.0         88.0  \n",
       "17   41411015.0   95127344.0        100.0  \n",
       "18   41411015.0   95127344.0        100.0  \n",
       "19  106954678.0  331266710.0        108.0  \n",
       "20   43181353.5  116861423.0         89.5  \n",
       "21   21385352.0   42552339.5        115.0  \n",
       "22   72082999.0  108286422.0        103.0  \n",
       "23   72082999.0  108286422.0        103.0  \n",
       "24   51156169.0   54580561.5        124.5  "
      ]
     },
     "execution_count": 10,
     "metadata": {},
     "output_type": "execute_result"
    }
   ],
   "source": [
    "grouped_median_by_writer = test2.groupby([\"writer\"]).median().sort_values(\"ROI\", ascending = False).reset_index().head(25)\n",
    "grouped_median_by_writer"
   ]
  },
  {
   "cell_type": "code",
   "execution_count": 70,
   "id": "f61c7b23",
   "metadata": {},
   "outputs": [
    {
     "data": {
      "image/png": "[encoded data removed]",
      "text/plain": [
       "<Figure size 1000x800 with 1 Axes>"
      ]
     },
     "metadata": {},
     "output_type": "display_data"
    }
   ],
   "source": [
    "fig = plt.figure(figsize = (10, 8))\n",
    "ax = sns.barplot(x = grouped_median_by_writer[\"writer\"], y = grouped_median_by_writer[\"ROI\"], estimator = np.median)\n",
    "ax.set_xticklabels(ax.get_xticklabels(), rotation=40, ha=\"right\")\n",
    "plt.tight_layout()\n",
    "plt.show();"
   ]
  },
  {
   "cell_type": "code",
   "execution_count": 12,
   "id": "57b5b2e5",
   "metadata": {},
   "outputs": [
    {
     "data": {
      "text/html": [
       "<div>\n",
       "<style scoped>\n",
       "    .dataframe tbody tr th:only-of-type {\n",
       "        vertical-align: middle;\n",
       "    }\n",
       "\n",
       "    .dataframe tbody tr th {\n",
       "        vertical-align: top;\n",
       "    }\n",
       "\n",
       "    .dataframe thead th {\n",
       "        text-align: right;\n",
       "    }\n",
       "</style>\n",
       "<table border=\"1\" class=\"dataframe\">\n",
       "  <thead>\n",
       "    <tr style=\"text-align: right;\">\n",
       "      <th></th>\n",
       "      <th>title</th>\n",
       "      <th>ROI</th>\n",
       "      <th>profit</th>\n",
       "      <th>prod_budget</th>\n",
       "      <th>dom_gross</th>\n",
       "      <th>world_gross</th>\n",
       "      <th>genres</th>\n",
       "      <th>director</th>\n",
       "      <th>writer</th>\n",
       "      <th>runtime_min</th>\n",
       "      <th>release_date</th>\n",
       "    </tr>\n",
       "  </thead>\n",
       "  <tbody>\n",
       "    <tr>\n",
       "      <th>1</th>\n",
       "      <td>10 cloverfield lane</td>\n",
       "      <td>2065.728440</td>\n",
       "      <td>103286422</td>\n",
       "      <td>5000000</td>\n",
       "      <td>72082999</td>\n",
       "      <td>108286422</td>\n",
       "      <td>[Sci-Fi, Mystery, Drama, Horror, Thriller]</td>\n",
       "      <td>[Dan Trachtenberg]</td>\n",
       "      <td>[Matthew Stuecken, Josh Campbell, Damien Chaze...</td>\n",
       "      <td>103.0</td>\n",
       "      <td>2016-03-11</td>\n",
       "    </tr>\n",
       "    <tr>\n",
       "      <th>2</th>\n",
       "      <td>10 days in a madhouse</td>\n",
       "      <td>-99.878200</td>\n",
       "      <td>-11985384</td>\n",
       "      <td>12000000</td>\n",
       "      <td>14616</td>\n",
       "      <td>14616</td>\n",
       "      <td>[Drama, None]</td>\n",
       "      <td>[Timothy Hines]</td>\n",
       "      <td>[Timothy Hines]</td>\n",
       "      <td>111.0</td>\n",
       "      <td>2015-11-11</td>\n",
       "    </tr>\n",
       "    <tr>\n",
       "      <th>10</th>\n",
       "      <td>12 strong</td>\n",
       "      <td>103.195366</td>\n",
       "      <td>36118378</td>\n",
       "      <td>35000000</td>\n",
       "      <td>45819713</td>\n",
       "      <td>71118378</td>\n",
       "      <td>[War, History, Action, Drama]</td>\n",
       "      <td>[Nicolai Fuglsig]</td>\n",
       "      <td>[Ted Tally, Peter Craig, Doug Stanton]</td>\n",
       "      <td>130.0</td>\n",
       "      <td>2018-01-19</td>\n",
       "    </tr>\n",
       "    <tr>\n",
       "      <th>11</th>\n",
       "      <td>12 years a slave</td>\n",
       "      <td>805.126715</td>\n",
       "      <td>161025343</td>\n",
       "      <td>20000000</td>\n",
       "      <td>56671993</td>\n",
       "      <td>181025343</td>\n",
       "      <td>[Drama, History, None, Biography]</td>\n",
       "      <td>[Steve McQueen]</td>\n",
       "      <td>[John Ridley, Solomon Northup]</td>\n",
       "      <td>134.0</td>\n",
       "      <td>2013-10-18</td>\n",
       "    </tr>\n",
       "    <tr>\n",
       "      <th>14</th>\n",
       "      <td>13 hours the secret soldiers of benghazi</td>\n",
       "      <td>38.822740</td>\n",
       "      <td>19411370</td>\n",
       "      <td>50000000</td>\n",
       "      <td>52853219</td>\n",
       "      <td>69411370</td>\n",
       "      <td>[War, History, Action, None, Drama, Thriller]</td>\n",
       "      <td>[None]</td>\n",
       "      <td>[None]</td>\n",
       "      <td>NaN</td>\n",
       "      <td>2016-01-15</td>\n",
       "    </tr>\n",
       "    <tr>\n",
       "      <th>...</th>\n",
       "      <td>...</td>\n",
       "      <td>...</td>\n",
       "      <td>...</td>\n",
       "      <td>...</td>\n",
       "      <td>...</td>\n",
       "      <td>...</td>\n",
       "      <td>...</td>\n",
       "      <td>...</td>\n",
       "      <td>...</td>\n",
       "      <td>...</td>\n",
       "      <td>...</td>\n",
       "    </tr>\n",
       "    <tr>\n",
       "      <th>5684</th>\n",
       "      <td>zipper</td>\n",
       "      <td>-100.000000</td>\n",
       "      <td>-4500000</td>\n",
       "      <td>4500000</td>\n",
       "      <td>0</td>\n",
       "      <td>0</td>\n",
       "      <td>[Thriller, Drama]</td>\n",
       "      <td>[Mora Stephens]</td>\n",
       "      <td>[Joel Viertel, Mora Stephens]</td>\n",
       "      <td>112.0</td>\n",
       "      <td>2015-08-28</td>\n",
       "    </tr>\n",
       "    <tr>\n",
       "      <th>5686</th>\n",
       "      <td>zombie hunter</td>\n",
       "      <td>-100.000000</td>\n",
       "      <td>-1000000</td>\n",
       "      <td>1000000</td>\n",
       "      <td>0</td>\n",
       "      <td>0</td>\n",
       "      <td>[Action, None, Comedy, Horror]</td>\n",
       "      <td>[K. King]</td>\n",
       "      <td>[Kurt Knight, K. King]</td>\n",
       "      <td>93.0</td>\n",
       "      <td>2013-10-08</td>\n",
       "    </tr>\n",
       "    <tr>\n",
       "      <th>5691</th>\n",
       "      <td>zoolander 2</td>\n",
       "      <td>10.697386</td>\n",
       "      <td>5348693</td>\n",
       "      <td>50000000</td>\n",
       "      <td>28848693</td>\n",
       "      <td>55348693</td>\n",
       "      <td>[Comedy]</td>\n",
       "      <td>[Ben Stiller]</td>\n",
       "      <td>[Justin Theroux, John Hamburg, Ben Stiller, Ni...</td>\n",
       "      <td>101.0</td>\n",
       "      <td>2016-02-12</td>\n",
       "    </tr>\n",
       "    <tr>\n",
       "      <th>5693</th>\n",
       "      <td>zootopia</td>\n",
       "      <td>579.619744</td>\n",
       "      <td>869429616</td>\n",
       "      <td>150000000</td>\n",
       "      <td>341268248</td>\n",
       "      <td>1019429616</td>\n",
       "      <td>[Adventure, Family, Comedy, Animation]</td>\n",
       "      <td>[Rich Moore, Jared Bush, Byron Howard]</td>\n",
       "      <td>[Jared Bush, Jennifer Lee, Jim Reardon, Kellie...</td>\n",
       "      <td>108.0</td>\n",
       "      <td>2016-03-04</td>\n",
       "    </tr>\n",
       "    <tr>\n",
       "      <th>5694</th>\n",
       "      <td>zulu</td>\n",
       "      <td>-88.473575</td>\n",
       "      <td>-14155772</td>\n",
       "      <td>16000000</td>\n",
       "      <td>0</td>\n",
       "      <td>1844228</td>\n",
       "      <td>[Thriller, Drama, Crime, None]</td>\n",
       "      <td>[Jérôme Salle]</td>\n",
       "      <td>[Jérôme Salle, Julien Rappeneau, Caryl Ferey]</td>\n",
       "      <td>110.0</td>\n",
       "      <td>2013-12-31</td>\n",
       "    </tr>\n",
       "  </tbody>\n",
       "</table>\n",
       "<p>1450 rows × 11 columns</p>\n",
       "</div>"
      ],
      "text/plain": [
       "                                         title          ROI     profit  \\\n",
       "1                          10 cloverfield lane  2065.728440  103286422   \n",
       "2                        10 days in a madhouse   -99.878200  -11985384   \n",
       "10                                   12 strong   103.195366   36118378   \n",
       "11                            12 years a slave   805.126715  161025343   \n",
       "14    13 hours the secret soldiers of benghazi    38.822740   19411370   \n",
       "...                                        ...          ...        ...   \n",
       "5684                                    zipper  -100.000000   -4500000   \n",
       "5686                             zombie hunter  -100.000000   -1000000   \n",
       "5691                               zoolander 2    10.697386    5348693   \n",
       "5693                                  zootopia   579.619744  869429616   \n",
       "5694                                      zulu   -88.473575  -14155772   \n",
       "\n",
       "      prod_budget  dom_gross  world_gross  \\\n",
       "1         5000000   72082999    108286422   \n",
       "2        12000000      14616        14616   \n",
       "10       35000000   45819713     71118378   \n",
       "11       20000000   56671993    181025343   \n",
       "14       50000000   52853219     69411370   \n",
       "...           ...        ...          ...   \n",
       "5684      4500000          0            0   \n",
       "5686      1000000          0            0   \n",
       "5691     50000000   28848693     55348693   \n",
       "5693    150000000  341268248   1019429616   \n",
       "5694     16000000          0      1844228   \n",
       "\n",
       "                                             genres  \\\n",
       "1        [Sci-Fi, Mystery, Drama, Horror, Thriller]   \n",
       "2                                     [Drama, None]   \n",
       "10                    [War, History, Action, Drama]   \n",
       "11                [Drama, History, None, Biography]   \n",
       "14    [War, History, Action, None, Drama, Thriller]   \n",
       "...                                             ...   \n",
       "5684                              [Thriller, Drama]   \n",
       "5686                 [Action, None, Comedy, Horror]   \n",
       "5691                                       [Comedy]   \n",
       "5693         [Adventure, Family, Comedy, Animation]   \n",
       "5694                 [Thriller, Drama, Crime, None]   \n",
       "\n",
       "                                    director  \\\n",
       "1                         [Dan Trachtenberg]   \n",
       "2                            [Timothy Hines]   \n",
       "10                         [Nicolai Fuglsig]   \n",
       "11                           [Steve McQueen]   \n",
       "14                                    [None]   \n",
       "...                                      ...   \n",
       "5684                         [Mora Stephens]   \n",
       "5686                               [K. King]   \n",
       "5691                           [Ben Stiller]   \n",
       "5693  [Rich Moore, Jared Bush, Byron Howard]   \n",
       "5694                          [Jérôme Salle]   \n",
       "\n",
       "                                                 writer  runtime_min  \\\n",
       "1     [Matthew Stuecken, Josh Campbell, Damien Chaze...        103.0   \n",
       "2                                       [Timothy Hines]        111.0   \n",
       "10               [Ted Tally, Peter Craig, Doug Stanton]        130.0   \n",
       "11                       [John Ridley, Solomon Northup]        134.0   \n",
       "14                                               [None]          NaN   \n",
       "...                                                 ...          ...   \n",
       "5684                      [Joel Viertel, Mora Stephens]        112.0   \n",
       "5686                             [Kurt Knight, K. King]         93.0   \n",
       "5691  [Justin Theroux, John Hamburg, Ben Stiller, Ni...        101.0   \n",
       "5693  [Jared Bush, Jennifer Lee, Jim Reardon, Kellie...        108.0   \n",
       "5694      [Jérôme Salle, Julien Rappeneau, Caryl Ferey]        110.0   \n",
       "\n",
       "     release_date  \n",
       "1      2016-03-11  \n",
       "2      2015-11-11  \n",
       "10     2018-01-19  \n",
       "11     2013-10-18  \n",
       "14     2016-01-15  \n",
       "...           ...  \n",
       "5684   2015-08-28  \n",
       "5686   2013-10-08  \n",
       "5691   2016-02-12  \n",
       "5693   2016-03-04  \n",
       "5694   2013-12-31  \n",
       "\n",
       "[1450 rows x 11 columns]"
      ]
     },
     "execution_count": 12,
     "metadata": {},
     "output_type": "execute_result"
    }
   ],
   "source": [
    "filtered_df_by_date = df.loc[df[\"release_date\"] >= \"2012-11-14\"]\n",
    "filtered_df_by_date"
   ]
  },
  {
   "cell_type": "code",
   "execution_count": 13,
   "id": "161bc1f8",
   "metadata": {},
   "outputs": [
    {
     "data": {
      "text/html": [
       "<div>\n",
       "<style scoped>\n",
       "    .dataframe tbody tr th:only-of-type {\n",
       "        vertical-align: middle;\n",
       "    }\n",
       "\n",
       "    .dataframe tbody tr th {\n",
       "        vertical-align: top;\n",
       "    }\n",
       "\n",
       "    .dataframe thead th {\n",
       "        text-align: right;\n",
       "    }\n",
       "</style>\n",
       "<table border=\"1\" class=\"dataframe\">\n",
       "  <thead>\n",
       "    <tr style=\"text-align: right;\">\n",
       "      <th></th>\n",
       "      <th>title</th>\n",
       "      <th>ROI</th>\n",
       "      <th>profit</th>\n",
       "      <th>prod_budget</th>\n",
       "      <th>dom_gross</th>\n",
       "      <th>world_gross</th>\n",
       "      <th>genres</th>\n",
       "      <th>director</th>\n",
       "      <th>writer</th>\n",
       "      <th>runtime_min</th>\n",
       "      <th>release_date</th>\n",
       "    </tr>\n",
       "  </thead>\n",
       "  <tbody>\n",
       "    <tr>\n",
       "      <th>1</th>\n",
       "      <td>10 cloverfield lane</td>\n",
       "      <td>2065.728440</td>\n",
       "      <td>103286422</td>\n",
       "      <td>5000000</td>\n",
       "      <td>72082999</td>\n",
       "      <td>108286422</td>\n",
       "      <td>Sci-Fi</td>\n",
       "      <td>[Dan Trachtenberg]</td>\n",
       "      <td>[Matthew Stuecken, Josh Campbell, Damien Chaze...</td>\n",
       "      <td>103.0</td>\n",
       "      <td>2016-03-11</td>\n",
       "    </tr>\n",
       "    <tr>\n",
       "      <th>1</th>\n",
       "      <td>10 cloverfield lane</td>\n",
       "      <td>2065.728440</td>\n",
       "      <td>103286422</td>\n",
       "      <td>5000000</td>\n",
       "      <td>72082999</td>\n",
       "      <td>108286422</td>\n",
       "      <td>Mystery</td>\n",
       "      <td>[Dan Trachtenberg]</td>\n",
       "      <td>[Matthew Stuecken, Josh Campbell, Damien Chaze...</td>\n",
       "      <td>103.0</td>\n",
       "      <td>2016-03-11</td>\n",
       "    </tr>\n",
       "    <tr>\n",
       "      <th>1</th>\n",
       "      <td>10 cloverfield lane</td>\n",
       "      <td>2065.728440</td>\n",
       "      <td>103286422</td>\n",
       "      <td>5000000</td>\n",
       "      <td>72082999</td>\n",
       "      <td>108286422</td>\n",
       "      <td>Drama</td>\n",
       "      <td>[Dan Trachtenberg]</td>\n",
       "      <td>[Matthew Stuecken, Josh Campbell, Damien Chaze...</td>\n",
       "      <td>103.0</td>\n",
       "      <td>2016-03-11</td>\n",
       "    </tr>\n",
       "    <tr>\n",
       "      <th>1</th>\n",
       "      <td>10 cloverfield lane</td>\n",
       "      <td>2065.728440</td>\n",
       "      <td>103286422</td>\n",
       "      <td>5000000</td>\n",
       "      <td>72082999</td>\n",
       "      <td>108286422</td>\n",
       "      <td>Horror</td>\n",
       "      <td>[Dan Trachtenberg]</td>\n",
       "      <td>[Matthew Stuecken, Josh Campbell, Damien Chaze...</td>\n",
       "      <td>103.0</td>\n",
       "      <td>2016-03-11</td>\n",
       "    </tr>\n",
       "    <tr>\n",
       "      <th>1</th>\n",
       "      <td>10 cloverfield lane</td>\n",
       "      <td>2065.728440</td>\n",
       "      <td>103286422</td>\n",
       "      <td>5000000</td>\n",
       "      <td>72082999</td>\n",
       "      <td>108286422</td>\n",
       "      <td>Thriller</td>\n",
       "      <td>[Dan Trachtenberg]</td>\n",
       "      <td>[Matthew Stuecken, Josh Campbell, Damien Chaze...</td>\n",
       "      <td>103.0</td>\n",
       "      <td>2016-03-11</td>\n",
       "    </tr>\n",
       "    <tr>\n",
       "      <th>...</th>\n",
       "      <td>...</td>\n",
       "      <td>...</td>\n",
       "      <td>...</td>\n",
       "      <td>...</td>\n",
       "      <td>...</td>\n",
       "      <td>...</td>\n",
       "      <td>...</td>\n",
       "      <td>...</td>\n",
       "      <td>...</td>\n",
       "      <td>...</td>\n",
       "      <td>...</td>\n",
       "    </tr>\n",
       "    <tr>\n",
       "      <th>5693</th>\n",
       "      <td>zootopia</td>\n",
       "      <td>579.619744</td>\n",
       "      <td>869429616</td>\n",
       "      <td>150000000</td>\n",
       "      <td>341268248</td>\n",
       "      <td>1019429616</td>\n",
       "      <td>Animation</td>\n",
       "      <td>[Rich Moore, Jared Bush, Byron Howard]</td>\n",
       "      <td>[Jared Bush, Jennifer Lee, Jim Reardon, Kellie...</td>\n",
       "      <td>108.0</td>\n",
       "      <td>2016-03-04</td>\n",
       "    </tr>\n",
       "    <tr>\n",
       "      <th>5694</th>\n",
       "      <td>zulu</td>\n",
       "      <td>-88.473575</td>\n",
       "      <td>-14155772</td>\n",
       "      <td>16000000</td>\n",
       "      <td>0</td>\n",
       "      <td>1844228</td>\n",
       "      <td>Thriller</td>\n",
       "      <td>[Jérôme Salle]</td>\n",
       "      <td>[Jérôme Salle, Julien Rappeneau, Caryl Ferey]</td>\n",
       "      <td>110.0</td>\n",
       "      <td>2013-12-31</td>\n",
       "    </tr>\n",
       "    <tr>\n",
       "      <th>5694</th>\n",
       "      <td>zulu</td>\n",
       "      <td>-88.473575</td>\n",
       "      <td>-14155772</td>\n",
       "      <td>16000000</td>\n",
       "      <td>0</td>\n",
       "      <td>1844228</td>\n",
       "      <td>Drama</td>\n",
       "      <td>[Jérôme Salle]</td>\n",
       "      <td>[Jérôme Salle, Julien Rappeneau, Caryl Ferey]</td>\n",
       "      <td>110.0</td>\n",
       "      <td>2013-12-31</td>\n",
       "    </tr>\n",
       "    <tr>\n",
       "      <th>5694</th>\n",
       "      <td>zulu</td>\n",
       "      <td>-88.473575</td>\n",
       "      <td>-14155772</td>\n",
       "      <td>16000000</td>\n",
       "      <td>0</td>\n",
       "      <td>1844228</td>\n",
       "      <td>Crime</td>\n",
       "      <td>[Jérôme Salle]</td>\n",
       "      <td>[Jérôme Salle, Julien Rappeneau, Caryl Ferey]</td>\n",
       "      <td>110.0</td>\n",
       "      <td>2013-12-31</td>\n",
       "    </tr>\n",
       "    <tr>\n",
       "      <th>5694</th>\n",
       "      <td>zulu</td>\n",
       "      <td>-88.473575</td>\n",
       "      <td>-14155772</td>\n",
       "      <td>16000000</td>\n",
       "      <td>0</td>\n",
       "      <td>1844228</td>\n",
       "      <td>None</td>\n",
       "      <td>[Jérôme Salle]</td>\n",
       "      <td>[Jérôme Salle, Julien Rappeneau, Caryl Ferey]</td>\n",
       "      <td>110.0</td>\n",
       "      <td>2013-12-31</td>\n",
       "    </tr>\n",
       "  </tbody>\n",
       "</table>\n",
       "<p>3972 rows × 11 columns</p>\n",
       "</div>"
      ],
      "text/plain": [
       "                    title          ROI     profit  prod_budget  dom_gross  \\\n",
       "1     10 cloverfield lane  2065.728440  103286422      5000000   72082999   \n",
       "1     10 cloverfield lane  2065.728440  103286422      5000000   72082999   \n",
       "1     10 cloverfield lane  2065.728440  103286422      5000000   72082999   \n",
       "1     10 cloverfield lane  2065.728440  103286422      5000000   72082999   \n",
       "1     10 cloverfield lane  2065.728440  103286422      5000000   72082999   \n",
       "...                   ...          ...        ...          ...        ...   \n",
       "5693             zootopia   579.619744  869429616    150000000  341268248   \n",
       "5694                 zulu   -88.473575  -14155772     16000000          0   \n",
       "5694                 zulu   -88.473575  -14155772     16000000          0   \n",
       "5694                 zulu   -88.473575  -14155772     16000000          0   \n",
       "5694                 zulu   -88.473575  -14155772     16000000          0   \n",
       "\n",
       "      world_gross     genres                                director  \\\n",
       "1       108286422     Sci-Fi                      [Dan Trachtenberg]   \n",
       "1       108286422    Mystery                      [Dan Trachtenberg]   \n",
       "1       108286422      Drama                      [Dan Trachtenberg]   \n",
       "1       108286422     Horror                      [Dan Trachtenberg]   \n",
       "1       108286422   Thriller                      [Dan Trachtenberg]   \n",
       "...           ...        ...                                     ...   \n",
       "5693   1019429616  Animation  [Rich Moore, Jared Bush, Byron Howard]   \n",
       "5694      1844228   Thriller                          [Jérôme Salle]   \n",
       "5694      1844228      Drama                          [Jérôme Salle]   \n",
       "5694      1844228      Crime                          [Jérôme Salle]   \n",
       "5694      1844228       None                          [Jérôme Salle]   \n",
       "\n",
       "                                                 writer  runtime_min  \\\n",
       "1     [Matthew Stuecken, Josh Campbell, Damien Chaze...        103.0   \n",
       "1     [Matthew Stuecken, Josh Campbell, Damien Chaze...        103.0   \n",
       "1     [Matthew Stuecken, Josh Campbell, Damien Chaze...        103.0   \n",
       "1     [Matthew Stuecken, Josh Campbell, Damien Chaze...        103.0   \n",
       "1     [Matthew Stuecken, Josh Campbell, Damien Chaze...        103.0   \n",
       "...                                                 ...          ...   \n",
       "5693  [Jared Bush, Jennifer Lee, Jim Reardon, Kellie...        108.0   \n",
       "5694      [Jérôme Salle, Julien Rappeneau, Caryl Ferey]        110.0   \n",
       "5694      [Jérôme Salle, Julien Rappeneau, Caryl Ferey]        110.0   \n",
       "5694      [Jérôme Salle, Julien Rappeneau, Caryl Ferey]        110.0   \n",
       "5694      [Jérôme Salle, Julien Rappeneau, Caryl Ferey]        110.0   \n",
       "\n",
       "     release_date  \n",
       "1      2016-03-11  \n",
       "1      2016-03-11  \n",
       "1      2016-03-11  \n",
       "1      2016-03-11  \n",
       "1      2016-03-11  \n",
       "...           ...  \n",
       "5693   2016-03-04  \n",
       "5694   2013-12-31  \n",
       "5694   2013-12-31  \n",
       "5694   2013-12-31  \n",
       "5694   2013-12-31  \n",
       "\n",
       "[3972 rows x 11 columns]"
      ]
     },
     "execution_count": 13,
     "metadata": {},
     "output_type": "execute_result"
    }
   ],
   "source": [
    "test_filtered_date = filtered_df_by_date.explode(\"genres\")\n",
    "test_filtered_date"
   ]
  },
  {
   "cell_type": "code",
   "execution_count": 19,
   "id": "8effe08c",
   "metadata": {},
   "outputs": [
    {
     "data": {
      "text/html": [
       "<div>\n",
       "<style scoped>\n",
       "    .dataframe tbody tr th:only-of-type {\n",
       "        vertical-align: middle;\n",
       "    }\n",
       "\n",
       "    .dataframe tbody tr th {\n",
       "        vertical-align: top;\n",
       "    }\n",
       "\n",
       "    .dataframe thead th {\n",
       "        text-align: right;\n",
       "    }\n",
       "</style>\n",
       "<table border=\"1\" class=\"dataframe\">\n",
       "  <thead>\n",
       "    <tr style=\"text-align: right;\">\n",
       "      <th></th>\n",
       "      <th>genres</th>\n",
       "      <th>ROI</th>\n",
       "      <th>profit</th>\n",
       "      <th>prod_budget</th>\n",
       "      <th>dom_gross</th>\n",
       "      <th>world_gross</th>\n",
       "      <th>runtime_min</th>\n",
       "    </tr>\n",
       "  </thead>\n",
       "  <tbody>\n",
       "    <tr>\n",
       "      <th>0</th>\n",
       "      <td>Mystery</td>\n",
       "      <td>193.188727</td>\n",
       "      <td>30749230.0</td>\n",
       "      <td>10000000.0</td>\n",
       "      <td>25138705.0</td>\n",
       "      <td>42785387.0</td>\n",
       "      <td>105.0</td>\n",
       "    </tr>\n",
       "    <tr>\n",
       "      <th>1</th>\n",
       "      <td>Animation</td>\n",
       "      <td>187.454112</td>\n",
       "      <td>151494094.0</td>\n",
       "      <td>75000000.0</td>\n",
       "      <td>85988250.0</td>\n",
       "      <td>256443025.5</td>\n",
       "      <td>95.0</td>\n",
       "    </tr>\n",
       "    <tr>\n",
       "      <th>2</th>\n",
       "      <td>Horror</td>\n",
       "      <td>173.720304</td>\n",
       "      <td>18586857.5</td>\n",
       "      <td>6250000.0</td>\n",
       "      <td>17374077.0</td>\n",
       "      <td>30946408.0</td>\n",
       "      <td>94.0</td>\n",
       "    </tr>\n",
       "    <tr>\n",
       "      <th>3</th>\n",
       "      <td>Fantasy</td>\n",
       "      <td>167.114096</td>\n",
       "      <td>96861183.0</td>\n",
       "      <td>90000000.0</td>\n",
       "      <td>58250803.0</td>\n",
       "      <td>197504758.0</td>\n",
       "      <td>109.5</td>\n",
       "    </tr>\n",
       "    <tr>\n",
       "      <th>4</th>\n",
       "      <td>Comedy</td>\n",
       "      <td>164.101535</td>\n",
       "      <td>35401336.5</td>\n",
       "      <td>25000000.0</td>\n",
       "      <td>35340716.5</td>\n",
       "      <td>62657119.0</td>\n",
       "      <td>102.0</td>\n",
       "    </tr>\n",
       "    <tr>\n",
       "      <th>5</th>\n",
       "      <td>Family</td>\n",
       "      <td>163.067059</td>\n",
       "      <td>88747086.5</td>\n",
       "      <td>62500000.0</td>\n",
       "      <td>71885436.0</td>\n",
       "      <td>164599611.5</td>\n",
       "      <td>98.5</td>\n",
       "    </tr>\n",
       "    <tr>\n",
       "      <th>6</th>\n",
       "      <td>Adventure</td>\n",
       "      <td>161.933473</td>\n",
       "      <td>128314513.0</td>\n",
       "      <td>95000000.0</td>\n",
       "      <td>72679278.0</td>\n",
       "      <td>216562312.0</td>\n",
       "      <td>109.0</td>\n",
       "    </tr>\n",
       "    <tr>\n",
       "      <th>7</th>\n",
       "      <td>Sci-Fi</td>\n",
       "      <td>145.898193</td>\n",
       "      <td>108514727.0</td>\n",
       "      <td>97000000.0</td>\n",
       "      <td>61737191.0</td>\n",
       "      <td>203127894.0</td>\n",
       "      <td>114.0</td>\n",
       "    </tr>\n",
       "    <tr>\n",
       "      <th>8</th>\n",
       "      <td>Romance</td>\n",
       "      <td>133.868173</td>\n",
       "      <td>16881360.0</td>\n",
       "      <td>15000000.0</td>\n",
       "      <td>23303641.5</td>\n",
       "      <td>41748034.5</td>\n",
       "      <td>106.0</td>\n",
       "    </tr>\n",
       "    <tr>\n",
       "      <th>9</th>\n",
       "      <td>Action</td>\n",
       "      <td>119.568527</td>\n",
       "      <td>54834520.0</td>\n",
       "      <td>58000000.0</td>\n",
       "      <td>45052363.5</td>\n",
       "      <td>122670512.5</td>\n",
       "      <td>113.0</td>\n",
       "    </tr>\n",
       "    <tr>\n",
       "      <th>10</th>\n",
       "      <td>Musical</td>\n",
       "      <td>96.733221</td>\n",
       "      <td>8195324.5</td>\n",
       "      <td>12500000.0</td>\n",
       "      <td>11004496.0</td>\n",
       "      <td>24075030.5</td>\n",
       "      <td>106.0</td>\n",
       "    </tr>\n",
       "    <tr>\n",
       "      <th>11</th>\n",
       "      <td>Biography</td>\n",
       "      <td>90.366885</td>\n",
       "      <td>18745772.0</td>\n",
       "      <td>20000000.0</td>\n",
       "      <td>23083334.0</td>\n",
       "      <td>39049922.0</td>\n",
       "      <td>120.0</td>\n",
       "    </tr>\n",
       "    <tr>\n",
       "      <th>12</th>\n",
       "      <td>Thriller</td>\n",
       "      <td>87.204027</td>\n",
       "      <td>20438145.5</td>\n",
       "      <td>18000000.0</td>\n",
       "      <td>20657099.0</td>\n",
       "      <td>40700547.0</td>\n",
       "      <td>105.0</td>\n",
       "    </tr>\n",
       "    <tr>\n",
       "      <th>13</th>\n",
       "      <td>Sport</td>\n",
       "      <td>74.518150</td>\n",
       "      <td>15363790.0</td>\n",
       "      <td>18000000.0</td>\n",
       "      <td>28842237.0</td>\n",
       "      <td>39217912.0</td>\n",
       "      <td>123.0</td>\n",
       "    </tr>\n",
       "    <tr>\n",
       "      <th>14</th>\n",
       "      <td>Drama</td>\n",
       "      <td>65.886095</td>\n",
       "      <td>10959900.0</td>\n",
       "      <td>15700000.0</td>\n",
       "      <td>15179303.0</td>\n",
       "      <td>29204379.0</td>\n",
       "      <td>111.0</td>\n",
       "    </tr>\n",
       "    <tr>\n",
       "      <th>15</th>\n",
       "      <td>Crime</td>\n",
       "      <td>52.635417</td>\n",
       "      <td>13543388.0</td>\n",
       "      <td>26000000.0</td>\n",
       "      <td>20591853.0</td>\n",
       "      <td>38771262.0</td>\n",
       "      <td>109.0</td>\n",
       "    </tr>\n",
       "    <tr>\n",
       "      <th>16</th>\n",
       "      <td>History</td>\n",
       "      <td>34.210396</td>\n",
       "      <td>10143181.5</td>\n",
       "      <td>25000000.0</td>\n",
       "      <td>17117578.5</td>\n",
       "      <td>37330944.5</td>\n",
       "      <td>121.0</td>\n",
       "    </tr>\n",
       "    <tr>\n",
       "      <th>17</th>\n",
       "      <td>War</td>\n",
       "      <td>12.515718</td>\n",
       "      <td>888305.0</td>\n",
       "      <td>25000000.0</td>\n",
       "      <td>18704596.0</td>\n",
       "      <td>25350747.0</td>\n",
       "      <td>119.5</td>\n",
       "    </tr>\n",
       "    <tr>\n",
       "      <th>18</th>\n",
       "      <td>Documentary</td>\n",
       "      <td>-22.357042</td>\n",
       "      <td>525341.0</td>\n",
       "      <td>1000000.0</td>\n",
       "      <td>46166.5</td>\n",
       "      <td>1440529.5</td>\n",
       "      <td>82.0</td>\n",
       "    </tr>\n",
       "    <tr>\n",
       "      <th>19</th>\n",
       "      <td>Western</td>\n",
       "      <td>-48.640181</td>\n",
       "      <td>-1524154.0</td>\n",
       "      <td>38000000.0</td>\n",
       "      <td>3143056.0</td>\n",
       "      <td>13143056.0</td>\n",
       "      <td>120.5</td>\n",
       "    </tr>\n",
       "    <tr>\n",
       "      <th>20</th>\n",
       "      <td>None</td>\n",
       "      <td>-64.271600</td>\n",
       "      <td>-300000.0</td>\n",
       "      <td>7500000.0</td>\n",
       "      <td>57231.5</td>\n",
       "      <td>2114913.0</td>\n",
       "      <td>102.0</td>\n",
       "    </tr>\n",
       "  </tbody>\n",
       "</table>\n",
       "</div>"
      ],
      "text/plain": [
       "         genres         ROI       profit  prod_budget   dom_gross  \\\n",
       "0       Mystery  193.188727   30749230.0   10000000.0  25138705.0   \n",
       "1     Animation  187.454112  151494094.0   75000000.0  85988250.0   \n",
       "2        Horror  173.720304   18586857.5    6250000.0  17374077.0   \n",
       "3       Fantasy  167.114096   96861183.0   90000000.0  58250803.0   \n",
       "4        Comedy  164.101535   35401336.5   25000000.0  35340716.5   \n",
       "5        Family  163.067059   88747086.5   62500000.0  71885436.0   \n",
       "6     Adventure  161.933473  128314513.0   95000000.0  72679278.0   \n",
       "7        Sci-Fi  145.898193  108514727.0   97000000.0  61737191.0   \n",
       "8       Romance  133.868173   16881360.0   15000000.0  23303641.5   \n",
       "9        Action  119.568527   54834520.0   58000000.0  45052363.5   \n",
       "10      Musical   96.733221    8195324.5   12500000.0  11004496.0   \n",
       "11    Biography   90.366885   18745772.0   20000000.0  23083334.0   \n",
       "12     Thriller   87.204027   20438145.5   18000000.0  20657099.0   \n",
       "13        Sport   74.518150   15363790.0   18000000.0  28842237.0   \n",
       "14        Drama   65.886095   10959900.0   15700000.0  15179303.0   \n",
       "15        Crime   52.635417   13543388.0   26000000.0  20591853.0   \n",
       "16      History   34.210396   10143181.5   25000000.0  17117578.5   \n",
       "17          War   12.515718     888305.0   25000000.0  18704596.0   \n",
       "18  Documentary  -22.357042     525341.0    1000000.0     46166.5   \n",
       "19      Western  -48.640181   -1524154.0   38000000.0   3143056.0   \n",
       "20         None  -64.271600    -300000.0    7500000.0     57231.5   \n",
       "\n",
       "    world_gross  runtime_min  \n",
       "0    42785387.0        105.0  \n",
       "1   256443025.5         95.0  \n",
       "2    30946408.0         94.0  \n",
       "3   197504758.0        109.5  \n",
       "4    62657119.0        102.0  \n",
       "5   164599611.5         98.5  \n",
       "6   216562312.0        109.0  \n",
       "7   203127894.0        114.0  \n",
       "8    41748034.5        106.0  \n",
       "9   122670512.5        113.0  \n",
       "10   24075030.5        106.0  \n",
       "11   39049922.0        120.0  \n",
       "12   40700547.0        105.0  \n",
       "13   39217912.0        123.0  \n",
       "14   29204379.0        111.0  \n",
       "15   38771262.0        109.0  \n",
       "16   37330944.5        121.0  \n",
       "17   25350747.0        119.5  \n",
       "18    1440529.5         82.0  \n",
       "19   13143056.0        120.5  \n",
       "20    2114913.0        102.0  "
      ]
     },
     "execution_count": 19,
     "metadata": {},
     "output_type": "execute_result"
    }
   ],
   "source": [
    "grouped_by_genre_filtered = test_filtered_date.groupby([\"genres\"]).median().sort_values(\"ROI\", ascending = False).reset_index()\n",
    "grouped_by_genre_filtered"
   ]
  },
  {
   "cell_type": "code",
   "execution_count": 25,
   "id": "8fa3ae29",
   "metadata": {},
   "outputs": [
    {
     "data": {
      "application/vnd.plotly.v1+json": {
       "config": {
        "plotlyServerURL": "https://plot.ly"
       },
       "data": [
        {
         "alignmentgroup": "True",
         "hovertemplate": "genres=%{x}<br>ROI=%{y}<extra></extra>",
         "legendgroup": "",
         "marker": {
          "color": "pink",
          "pattern": {
           "shape": ""
          }
         },
         "name": "",
         "offsetgroup": "",
         "orientation": "v",
         "showlegend": false,
         "textposition": "auto",
         "type": "bar",
         "x": [
          "Mystery",
          "Animation",
          "Horror",
          "Fantasy",
          "Comedy",
          "Family",
          "Adventure",
          "Sci-Fi",
          "Romance",
          "Action",
          "Musical",
          "Biography",
          "Thriller",
          "Sport",
          "Drama",
          "Crime",
          "History",
          "War",
          "Documentary",
          "Western",
          "None"
         ],
         "xaxis": "x",
         "y": [
          193.18872666666667,
          187.45411218531467,
          173.72030399014778,
          167.11409625,
          164.10153491666668,
          163.0670591666667,
          161.93347285714285,
          145.89819278350515,
          133.86817333333335,
          119.56852666666666,
          96.73322087912088,
          90.366885,
          87.20402666666666,
          74.51815,
          65.88609523809524,
          52.635417241379315,
          34.210395625000004,
          12.515717924528303,
          -22.357042307692307,
          -48.64018125,
          -64.27159999999999
         ],
         "yaxis": "y"
        }
       ],
       "layout": {
        "barmode": "relative",
        "legend": {
         "tracegroupgap": 0
        },
        "margin": {
         "t": 60
        },
        "template": {
         "data": {
          "bar": [
           {
            "error_x": {
             "color": "#2a3f5f"
            },
            "error_y": {
             "color": "#2a3f5f"
            },
            "marker": {
             "line": {
              "color": "#E5ECF6",
              "width": 0.5
             },
             "pattern": {
              "fillmode": "overlay",
              "size": 10,
              "solidity": 0.2
             }
            },
            "type": "bar"
           }
          ],
          "barpolar": [
           {
            "marker": {
             "line": {
              "color": "#E5ECF6",
              "width": 0.5
             },
             "pattern": {
              "fillmode": "overlay",
              "size": 10,
              "solidity": 0.2
             }
            },
            "type": "barpolar"
           }
          ],
          "carpet": [
           {
            "aaxis": {
             "endlinecolor": "#2a3f5f",
             "gridcolor": "white",
             "linecolor": "white",
             "minorgridcolor": "white",
             "startlinecolor": "#2a3f5f"
            },
            "baxis": {
             "endlinecolor": "#2a3f5f",
             "gridcolor": "white",
             "linecolor": "white",
             "minorgridcolor": "white",
             "startlinecolor": "#2a3f5f"
            },
            "type": "carpet"
           }
          ],
          "choropleth": [
           {
            "colorbar": {
             "outlinewidth": 0,
             "ticks": ""
            },
            "type": "choropleth"
           }
          ],
          "contour": [
           {
            "colorbar": {
             "outlinewidth": 0,
             "ticks": ""
            },
            "colorscale": [
             [
              0,
              "#0d0887"
             ],
             [
              0.1111111111111111,
              "#46039f"
             ],
             [
              0.2222222222222222,
              "#7201a8"
             ],
             [
              0.3333333333333333,
              "#9c179e"
             ],
             [
              0.4444444444444444,
              "#bd3786"
             ],
             [
              0.5555555555555556,
              "#d8576b"
             ],
             [
              0.6666666666666666,
              "#ed7953"
             ],
             [
              0.7777777777777778,
              "#fb9f3a"
             ],
             [
              0.8888888888888888,
              "#fdca26"
             ],
             [
              1,
              "#f0f921"
             ]
            ],
            "type": "contour"
           }
          ],
          "contourcarpet": [
           {
            "colorbar": {
             "outlinewidth": 0,
             "ticks": ""
            },
            "type": "contourcarpet"
           }
          ],
          "heatmap": [
           {
            "colorbar": {
             "outlinewidth": 0,
             "ticks": ""
            },
            "colorscale": [
             [
              0,
              "#0d0887"
             ],
             [
              0.1111111111111111,
              "#46039f"
             ],
             [
              0.2222222222222222,
              "#7201a8"
             ],
             [
              0.3333333333333333,
              "#9c179e"
             ],
             [
              0.4444444444444444,
              "#bd3786"
             ],
             [
              0.5555555555555556,
              "#d8576b"
             ],
             [
              0.6666666666666666,
              "#ed7953"
             ],
             [
              0.7777777777777778,
              "#fb9f3a"
             ],
             [
              0.8888888888888888,
              "#fdca26"
             ],
             [
              1,
              "#f0f921"
             ]
            ],
            "type": "heatmap"
           }
          ],
          "heatmapgl": [
           {
            "colorbar": {
             "outlinewidth": 0,
             "ticks": ""
            },
            "colorscale": [
             [
              0,
              "#0d0887"
             ],
             [
              0.1111111111111111,
              "#46039f"
             ],
             [
              0.2222222222222222,
              "#7201a8"
             ],
             [
              0.3333333333333333,
              "#9c179e"
             ],
             [
              0.4444444444444444,
              "#bd3786"
             ],
             [
              0.5555555555555556,
              "#d8576b"
             ],
             [
              0.6666666666666666,
              "#ed7953"
             ],
             [
              0.7777777777777778,
              "#fb9f3a"
             ],
             [
              0.8888888888888888,
              "#fdca26"
             ],
             [
              1,
              "#f0f921"
             ]
            ],
            "type": "heatmapgl"
           }
          ],
          "histogram": [
           {
            "marker": {
             "pattern": {
              "fillmode": "overlay",
              "size": 10,
              "solidity": 0.2
             }
            },
            "type": "histogram"
           }
          ],
          "histogram2d": [
           {
            "colorbar": {
             "outlinewidth": 0,
             "ticks": ""
            },
            "colorscale": [
             [
              0,
              "#0d0887"
             ],
             [
              0.1111111111111111,
              "#46039f"
             ],
             [
              0.2222222222222222,
              "#7201a8"
             ],
             [
              0.3333333333333333,
              "#9c179e"
             ],
             [
              0.4444444444444444,
              "#bd3786"
             ],
             [
              0.5555555555555556,
              "#d8576b"
             ],
             [
              0.6666666666666666,
              "#ed7953"
             ],
             [
              0.7777777777777778,
              "#fb9f3a"
             ],
             [
              0.8888888888888888,
              "#fdca26"
             ],
             [
              1,
              "#f0f921"
             ]
            ],
            "type": "histogram2d"
           }
          ],
          "histogram2dcontour": [
           {
            "colorbar": {
             "outlinewidth": 0,
             "ticks": ""
            },
            "colorscale": [
             [
              0,
              "#0d0887"
             ],
             [
              0.1111111111111111,
              "#46039f"
             ],
             [
              0.2222222222222222,
              "#7201a8"
             ],
             [
              0.3333333333333333,
              "#9c179e"
             ],
             [
              0.4444444444444444,
              "#bd3786"
             ],
             [
              0.5555555555555556,
              "#d8576b"
             ],
             [
              0.6666666666666666,
              "#ed7953"
             ],
             [
              0.7777777777777778,
              "#fb9f3a"
             ],
             [
              0.8888888888888888,
              "#fdca26"
             ],
             [
              1,
              "#f0f921"
             ]
            ],
            "type": "histogram2dcontour"
           }
          ],
          "mesh3d": [
           {
            "colorbar": {
             "outlinewidth": 0,
             "ticks": ""
            },
            "type": "mesh3d"
           }
          ],
          "parcoords": [
           {
            "line": {
             "colorbar": {
              "outlinewidth": 0,
              "ticks": ""
             }
            },
            "type": "parcoords"
           }
          ],
          "pie": [
           {
            "automargin": true,
            "type": "pie"
           }
          ],
          "scatter": [
           {
            "fillpattern": {
             "fillmode": "overlay",
             "size": 10,
             "solidity": 0.2
            },
            "type": "scatter"
           }
          ],
          "scatter3d": [
           {
            "line": {
             "colorbar": {
              "outlinewidth": 0,
              "ticks": ""
             }
            },
            "marker": {
             "colorbar": {
              "outlinewidth": 0,
              "ticks": ""
             }
            },
            "type": "scatter3d"
           }
          ],
          "scattercarpet": [
           {
            "marker": {
             "colorbar": {
              "outlinewidth": 0,
              "ticks": ""
             }
            },
            "type": "scattercarpet"
           }
          ],
          "scattergeo": [
           {
            "marker": {
             "colorbar": {
              "outlinewidth": 0,
              "ticks": ""
             }
            },
            "type": "scattergeo"
           }
          ],
          "scattergl": [
           {
            "marker": {
             "colorbar": {
              "outlinewidth": 0,
              "ticks": ""
             }
            },
            "type": "scattergl"
           }
          ],
          "scattermapbox": [
           {
            "marker": {
             "colorbar": {
              "outlinewidth": 0,
              "ticks": ""
             }
            },
            "type": "scattermapbox"
           }
          ],
          "scatterpolar": [
           {
            "marker": {
             "colorbar": {
              "outlinewidth": 0,
              "ticks": ""
             }
            },
            "type": "scatterpolar"
           }
          ],
          "scatterpolargl": [
           {
            "marker": {
             "colorbar": {
              "outlinewidth": 0,
              "ticks": ""
             }
            },
            "type": "scatterpolargl"
           }
          ],
          "scatterternary": [
           {
            "marker": {
             "colorbar": {
              "outlinewidth": 0,
              "ticks": ""
             }
            },
            "type": "scatterternary"
           }
          ],
          "surface": [
           {
            "colorbar": {
             "outlinewidth": 0,
             "ticks": ""
            },
            "colorscale": [
             [
              0,
              "#0d0887"
             ],
             [
              0.1111111111111111,
              "#46039f"
             ],
             [
              0.2222222222222222,
              "#7201a8"
             ],
             [
              0.3333333333333333,
              "#9c179e"
             ],
             [
              0.4444444444444444,
              "#bd3786"
             ],
             [
              0.5555555555555556,
              "#d8576b"
             ],
             [
              0.6666666666666666,
              "#ed7953"
             ],
             [
              0.7777777777777778,
              "#fb9f3a"
             ],
             [
              0.8888888888888888,
              "#fdca26"
             ],
             [
              1,
              "#f0f921"
             ]
            ],
            "type": "surface"
           }
          ],
          "table": [
           {
            "cells": {
             "fill": {
              "color": "#EBF0F8"
             },
             "line": {
              "color": "white"
             }
            },
            "header": {
             "fill": {
              "color": "#C8D4E3"
             },
             "line": {
              "color": "white"
             }
            },
            "type": "table"
           }
          ]
         },
         "layout": {
          "annotationdefaults": {
           "arrowcolor": "#2a3f5f",
           "arrowhead": 0,
           "arrowwidth": 1
          },
          "autotypenumbers": "strict",
          "coloraxis": {
           "colorbar": {
            "outlinewidth": 0,
            "ticks": ""
           }
          },
          "colorscale": {
           "diverging": [
            [
             0,
             "#8e0152"
            ],
            [
             0.1,
             "#c51b7d"
            ],
            [
             0.2,
             "#de77ae"
            ],
            [
             0.3,
             "#f1b6da"
            ],
            [
             0.4,
             "#fde0ef"
            ],
            [
             0.5,
             "#f7f7f7"
            ],
            [
             0.6,
             "#e6f5d0"
            ],
            [
             0.7,
             "#b8e186"
            ],
            [
             0.8,
             "#7fbc41"
            ],
            [
             0.9,
             "#4d9221"
            ],
            [
             1,
             "#276419"
            ]
           ],
           "sequential": [
            [
             0,
             "#0d0887"
            ],
            [
             0.1111111111111111,
             "#46039f"
            ],
            [
             0.2222222222222222,
             "#7201a8"
            ],
            [
             0.3333333333333333,
             "#9c179e"
            ],
            [
             0.4444444444444444,
             "#bd3786"
            ],
            [
             0.5555555555555556,
             "#d8576b"
            ],
            [
             0.6666666666666666,
             "#ed7953"
            ],
            [
             0.7777777777777778,
             "#fb9f3a"
            ],
            [
             0.8888888888888888,
             "#fdca26"
            ],
            [
             1,
             "#f0f921"
            ]
           ],
           "sequentialminus": [
            [
             0,
             "#0d0887"
            ],
            [
             0.1111111111111111,
             "#46039f"
            ],
            [
             0.2222222222222222,
             "#7201a8"
            ],
            [
             0.3333333333333333,
             "#9c179e"
            ],
            [
             0.4444444444444444,
             "#bd3786"
            ],
            [
             0.5555555555555556,
             "#d8576b"
            ],
            [
             0.6666666666666666,
             "#ed7953"
            ],
            [
             0.7777777777777778,
             "#fb9f3a"
            ],
            [
             0.8888888888888888,
             "#fdca26"
            ],
            [
             1,
             "#f0f921"
            ]
           ]
          },
          "colorway": [
           "#636efa",
           "#EF553B",
           "#00cc96",
           "#ab63fa",
           "#FFA15A",
           "#19d3f3",
           "#FF6692",
           "#B6E880",
           "#FF97FF",
           "#FECB52"
          ],
          "font": {
           "color": "#2a3f5f"
          },
          "geo": {
           "bgcolor": "white",
           "lakecolor": "white",
           "landcolor": "#E5ECF6",
           "showlakes": true,
           "showland": true,
           "subunitcolor": "white"
          },
          "hoverlabel": {
           "align": "left"
          },
          "hovermode": "closest",
          "mapbox": {
           "style": "light"
          },
          "paper_bgcolor": "white",
          "plot_bgcolor": "#E5ECF6",
          "polar": {
           "angularaxis": {
            "gridcolor": "white",
            "linecolor": "white",
            "ticks": ""
           },
           "bgcolor": "#E5ECF6",
           "radialaxis": {
            "gridcolor": "white",
            "linecolor": "white",
            "ticks": ""
           }
          },
          "scene": {
           "xaxis": {
            "backgroundcolor": "#E5ECF6",
            "gridcolor": "white",
            "gridwidth": 2,
            "linecolor": "white",
            "showbackground": true,
            "ticks": "",
            "zerolinecolor": "white"
           },
           "yaxis": {
            "backgroundcolor": "#E5ECF6",
            "gridcolor": "white",
            "gridwidth": 2,
            "linecolor": "white",
            "showbackground": true,
            "ticks": "",
            "zerolinecolor": "white"
           },
           "zaxis": {
            "backgroundcolor": "#E5ECF6",
            "gridcolor": "white",
            "gridwidth": 2,
            "linecolor": "white",
            "showbackground": true,
            "ticks": "",
            "zerolinecolor": "white"
           }
          },
          "shapedefaults": {
           "line": {
            "color": "#2a3f5f"
           }
          },
          "ternary": {
           "aaxis": {
            "gridcolor": "white",
            "linecolor": "white",
            "ticks": ""
           },
           "baxis": {
            "gridcolor": "white",
            "linecolor": "white",
            "ticks": ""
           },
           "bgcolor": "#E5ECF6",
           "caxis": {
            "gridcolor": "white",
            "linecolor": "white",
            "ticks": ""
           }
          },
          "title": {
           "x": 0.05
          },
          "xaxis": {
           "automargin": true,
           "gridcolor": "white",
           "linecolor": "white",
           "ticks": "",
           "title": {
            "standoff": 15
           },
           "zerolinecolor": "white",
           "zerolinewidth": 2
          },
          "yaxis": {
           "automargin": true,
           "gridcolor": "white",
           "linecolor": "white",
           "ticks": "",
           "title": {
            "standoff": 15
           },
           "zerolinecolor": "white",
           "zerolinewidth": 2
          }
         }
        },
        "xaxis": {
         "anchor": "y",
         "domain": [
          0,
          1
         ],
         "title": {
          "text": "genres"
         }
        },
        "yaxis": {
         "anchor": "x",
         "domain": [
          0,
          1
         ],
         "title": {
          "text": "ROI"
         }
        }
       }
      },
      "text/html": [
       "<div>                            <div id=\"b505765e-5a62-4d79-823a-b3a3a84f78cc\" class=\"plotly-graph-div\" style=\"height:525px; width:100%;\"></div>            <script type=\"text/javascript\">                require([\"plotly\"], function(Plotly) {                    window.PLOTLYENV=window.PLOTLYENV || {};                                    if (document.getElementById(\"b505765e-5a62-4d79-823a-b3a3a84f78cc\")) {                    Plotly.newPlot(                        \"b505765e-5a62-4d79-823a-b3a3a84f78cc\",                        [{\"alignmentgroup\":\"True\",\"hovertemplate\":\"genres=%{x}<br>ROI=%{y}<extra></extra>\",\"legendgroup\":\"\",\"marker\":{\"color\":\"pink\",\"pattern\":{\"shape\":\"\"}},\"name\":\"\",\"offsetgroup\":\"\",\"orientation\":\"v\",\"showlegend\":false,\"textposition\":\"auto\",\"x\":[\"Mystery\",\"Animation\",\"Horror\",\"Fantasy\",\"Comedy\",\"Family\",\"Adventure\",\"Sci-Fi\",\"Romance\",\"Action\",\"Musical\",\"Biography\",\"Thriller\",\"Sport\",\"Drama\",\"Crime\",\"History\",\"War\",\"Documentary\",\"Western\",\"None\"],\"xaxis\":\"x\",\"y\":[193.18872666666667,187.45411218531467,173.72030399014778,167.11409625,164.10153491666668,163.0670591666667,161.93347285714285,145.89819278350515,133.86817333333335,119.56852666666666,96.73322087912088,90.366885,87.20402666666666,74.51815,65.88609523809524,52.635417241379315,34.210395625000004,12.515717924528303,-22.357042307692307,-48.64018125,-64.27159999999999],\"yaxis\":\"y\",\"type\":\"bar\"}],                        {\"template\":{\"data\":{\"histogram2dcontour\":[{\"type\":\"histogram2dcontour\",\"colorbar\":{\"outlinewidth\":0,\"ticks\":\"\"},\"colorscale\":[[0.0,\"#0d0887\"],[0.1111111111111111,\"#46039f\"],[0.2222222222222222,\"#7201a8\"],[0.3333333333333333,\"#9c179e\"],[0.4444444444444444,\"#bd3786\"],[0.5555555555555556,\"#d8576b\"],[0.6666666666666666,\"#ed7953\"],[0.7777777777777778,\"#fb9f3a\"],[0.8888888888888888,\"#fdca26\"],[1.0,\"#f0f921\"]]}],\"choropleth\":[{\"type\":\"choropleth\",\"colorbar\":{\"outlinewidth\":0,\"ticks\":\"\"}}],\"histogram2d\":[{\"type\":\"histogram2d\",\"colorbar\":{\"outlinewidth\":0,\"ticks\":\"\"},\"colorscale\":[[0.0,\"#0d0887\"],[0.1111111111111111,\"#46039f\"],[0.2222222222222222,\"#7201a8\"],[0.3333333333333333,\"#9c179e\"],[0.4444444444444444,\"#bd3786\"],[0.5555555555555556,\"#d8576b\"],[0.6666666666666666,\"#ed7953\"],[0.7777777777777778,\"#fb9f3a\"],[0.8888888888888888,\"#fdca26\"],[1.0,\"#f0f921\"]]}],\"heatmap\":[{\"type\":\"heatmap\",\"colorbar\":{\"outlinewidth\":0,\"ticks\":\"\"},\"colorscale\":[[0.0,\"#0d0887\"],[0.1111111111111111,\"#46039f\"],[0.2222222222222222,\"#7201a8\"],[0.3333333333333333,\"#9c179e\"],[0.4444444444444444,\"#bd3786\"],[0.5555555555555556,\"#d8576b\"],[0.6666666666666666,\"#ed7953\"],[0.7777777777777778,\"#fb9f3a\"],[0.8888888888888888,\"#fdca26\"],[1.0,\"#f0f921\"]]}],\"heatmapgl\":[{\"type\":\"heatmapgl\",\"colorbar\":{\"outlinewidth\":0,\"ticks\":\"\"},\"colorscale\":[[0.0,\"#0d0887\"],[0.1111111111111111,\"#46039f\"],[0.2222222222222222,\"#7201a8\"],[0.3333333333333333,\"#9c179e\"],[0.4444444444444444,\"#bd3786\"],[0.5555555555555556,\"#d8576b\"],[0.6666666666666666,\"#ed7953\"],[0.7777777777777778,\"#fb9f3a\"],[0.8888888888888888,\"#fdca26\"],[1.0,\"#f0f921\"]]}],\"contourcarpet\":[{\"type\":\"contourcarpet\",\"colorbar\":{\"outlinewidth\":0,\"ticks\":\"\"}}],\"contour\":[{\"type\":\"contour\",\"colorbar\":{\"outlinewidth\":0,\"ticks\":\"\"},\"colorscale\":[[0.0,\"#0d0887\"],[0.1111111111111111,\"#46039f\"],[0.2222222222222222,\"#7201a8\"],[0.3333333333333333,\"#9c179e\"],[0.4444444444444444,\"#bd3786\"],[0.5555555555555556,\"#d8576b\"],[0.6666666666666666,\"#ed7953\"],[0.7777777777777778,\"#fb9f3a\"],[0.8888888888888888,\"#fdca26\"],[1.0,\"#f0f921\"]]}],\"surface\":[{\"type\":\"surface\",\"colorbar\":{\"outlinewidth\":0,\"ticks\":\"\"},\"colorscale\":[[0.0,\"#0d0887\"],[0.1111111111111111,\"#46039f\"],[0.2222222222222222,\"#7201a8\"],[0.3333333333333333,\"#9c179e\"],[0.4444444444444444,\"#bd3786\"],[0.5555555555555556,\"#d8576b\"],[0.6666666666666666,\"#ed7953\"],[0.7777777777777778,\"#fb9f3a\"],[0.8888888888888888,\"#fdca26\"],[1.0,\"#f0f921\"]]}],\"mesh3d\":[{\"type\":\"mesh3d\",\"colorbar\":{\"outlinewidth\":0,\"ticks\":\"\"}}],\"scatter\":[{\"fillpattern\":{\"fillmode\":\"overlay\",\"size\":10,\"solidity\":0.2},\"type\":\"scatter\"}],\"parcoords\":[{\"type\":\"parcoords\",\"line\":{\"colorbar\":{\"outlinewidth\":0,\"ticks\":\"\"}}}],\"scatterpolargl\":[{\"type\":\"scatterpolargl\",\"marker\":{\"colorbar\":{\"outlinewidth\":0,\"ticks\":\"\"}}}],\"bar\":[{\"error_x\":{\"color\":\"#2a3f5f\"},\"error_y\":{\"color\":\"#2a3f5f\"},\"marker\":{\"line\":{\"color\":\"#E5ECF6\",\"width\":0.5},\"pattern\":{\"fillmode\":\"overlay\",\"size\":10,\"solidity\":0.2}},\"type\":\"bar\"}],\"scattergeo\":[{\"type\":\"scattergeo\",\"marker\":{\"colorbar\":{\"outlinewidth\":0,\"ticks\":\"\"}}}],\"scatterpolar\":[{\"type\":\"scatterpolar\",\"marker\":{\"colorbar\":{\"outlinewidth\":0,\"ticks\":\"\"}}}],\"histogram\":[{\"marker\":{\"pattern\":{\"fillmode\":\"overlay\",\"size\":10,\"solidity\":0.2}},\"type\":\"histogram\"}],\"scattergl\":[{\"type\":\"scattergl\",\"marker\":{\"colorbar\":{\"outlinewidth\":0,\"ticks\":\"\"}}}],\"scatter3d\":[{\"type\":\"scatter3d\",\"line\":{\"colorbar\":{\"outlinewidth\":0,\"ticks\":\"\"}},\"marker\":{\"colorbar\":{\"outlinewidth\":0,\"ticks\":\"\"}}}],\"scattermapbox\":[{\"type\":\"scattermapbox\",\"marker\":{\"colorbar\":{\"outlinewidth\":0,\"ticks\":\"\"}}}],\"scatterternary\":[{\"type\":\"scatterternary\",\"marker\":{\"colorbar\":{\"outlinewidth\":0,\"ticks\":\"\"}}}],\"scattercarpet\":[{\"type\":\"scattercarpet\",\"marker\":{\"colorbar\":{\"outlinewidth\":0,\"ticks\":\"\"}}}],\"carpet\":[{\"aaxis\":{\"endlinecolor\":\"#2a3f5f\",\"gridcolor\":\"white\",\"linecolor\":\"white\",\"minorgridcolor\":\"white\",\"startlinecolor\":\"#2a3f5f\"},\"baxis\":{\"endlinecolor\":\"#2a3f5f\",\"gridcolor\":\"white\",\"linecolor\":\"white\",\"minorgridcolor\":\"white\",\"startlinecolor\":\"#2a3f5f\"},\"type\":\"carpet\"}],\"table\":[{\"cells\":{\"fill\":{\"color\":\"#EBF0F8\"},\"line\":{\"color\":\"white\"}},\"header\":{\"fill\":{\"color\":\"#C8D4E3\"},\"line\":{\"color\":\"white\"}},\"type\":\"table\"}],\"barpolar\":[{\"marker\":{\"line\":{\"color\":\"#E5ECF6\",\"width\":0.5},\"pattern\":{\"fillmode\":\"overlay\",\"size\":10,\"solidity\":0.2}},\"type\":\"barpolar\"}],\"pie\":[{\"automargin\":true,\"type\":\"pie\"}]},\"layout\":{\"autotypenumbers\":\"strict\",\"colorway\":[\"#636efa\",\"#EF553B\",\"#00cc96\",\"#ab63fa\",\"#FFA15A\",\"#19d3f3\",\"#FF6692\",\"#B6E880\",\"#FF97FF\",\"#FECB52\"],\"font\":{\"color\":\"#2a3f5f\"},\"hovermode\":\"closest\",\"hoverlabel\":{\"align\":\"left\"},\"paper_bgcolor\":\"white\",\"plot_bgcolor\":\"#E5ECF6\",\"polar\":{\"bgcolor\":\"#E5ECF6\",\"angularaxis\":{\"gridcolor\":\"white\",\"linecolor\":\"white\",\"ticks\":\"\"},\"radialaxis\":{\"gridcolor\":\"white\",\"linecolor\":\"white\",\"ticks\":\"\"}},\"ternary\":{\"bgcolor\":\"#E5ECF6\",\"aaxis\":{\"gridcolor\":\"white\",\"linecolor\":\"white\",\"ticks\":\"\"},\"baxis\":{\"gridcolor\":\"white\",\"linecolor\":\"white\",\"ticks\":\"\"},\"caxis\":{\"gridcolor\":\"white\",\"linecolor\":\"white\",\"ticks\":\"\"}},\"coloraxis\":{\"colorbar\":{\"outlinewidth\":0,\"ticks\":\"\"}},\"colorscale\":{\"sequential\":[[0.0,\"#0d0887\"],[0.1111111111111111,\"#46039f\"],[0.2222222222222222,\"#7201a8\"],[0.3333333333333333,\"#9c179e\"],[0.4444444444444444,\"#bd3786\"],[0.5555555555555556,\"#d8576b\"],[0.6666666666666666,\"#ed7953\"],[0.7777777777777778,\"#fb9f3a\"],[0.8888888888888888,\"#fdca26\"],[1.0,\"#f0f921\"]],\"sequentialminus\":[[0.0,\"#0d0887\"],[0.1111111111111111,\"#46039f\"],[0.2222222222222222,\"#7201a8\"],[0.3333333333333333,\"#9c179e\"],[0.4444444444444444,\"#bd3786\"],[0.5555555555555556,\"#d8576b\"],[0.6666666666666666,\"#ed7953\"],[0.7777777777777778,\"#fb9f3a\"],[0.8888888888888888,\"#fdca26\"],[1.0,\"#f0f921\"]],\"diverging\":[[0,\"#8e0152\"],[0.1,\"#c51b7d\"],[0.2,\"#de77ae\"],[0.3,\"#f1b6da\"],[0.4,\"#fde0ef\"],[0.5,\"#f7f7f7\"],[0.6,\"#e6f5d0\"],[0.7,\"#b8e186\"],[0.8,\"#7fbc41\"],[0.9,\"#4d9221\"],[1,\"#276419\"]]},\"xaxis\":{\"gridcolor\":\"white\",\"linecolor\":\"white\",\"ticks\":\"\",\"title\":{\"standoff\":15},\"zerolinecolor\":\"white\",\"automargin\":true,\"zerolinewidth\":2},\"yaxis\":{\"gridcolor\":\"white\",\"linecolor\":\"white\",\"ticks\":\"\",\"title\":{\"standoff\":15},\"zerolinecolor\":\"white\",\"automargin\":true,\"zerolinewidth\":2},\"scene\":{\"xaxis\":{\"backgroundcolor\":\"#E5ECF6\",\"gridcolor\":\"white\",\"linecolor\":\"white\",\"showbackground\":true,\"ticks\":\"\",\"zerolinecolor\":\"white\",\"gridwidth\":2},\"yaxis\":{\"backgroundcolor\":\"#E5ECF6\",\"gridcolor\":\"white\",\"linecolor\":\"white\",\"showbackground\":true,\"ticks\":\"\",\"zerolinecolor\":\"white\",\"gridwidth\":2},\"zaxis\":{\"backgroundcolor\":\"#E5ECF6\",\"gridcolor\":\"white\",\"linecolor\":\"white\",\"showbackground\":true,\"ticks\":\"\",\"zerolinecolor\":\"white\",\"gridwidth\":2}},\"shapedefaults\":{\"line\":{\"color\":\"#2a3f5f\"}},\"annotationdefaults\":{\"arrowcolor\":\"#2a3f5f\",\"arrowhead\":0,\"arrowwidth\":1},\"geo\":{\"bgcolor\":\"white\",\"landcolor\":\"#E5ECF6\",\"subunitcolor\":\"white\",\"showland\":true,\"showlakes\":true,\"lakecolor\":\"white\"},\"title\":{\"x\":0.05},\"mapbox\":{\"style\":\"light\"}}},\"xaxis\":{\"anchor\":\"y\",\"domain\":[0.0,1.0],\"title\":{\"text\":\"genres\"}},\"yaxis\":{\"anchor\":\"x\",\"domain\":[0.0,1.0],\"title\":{\"text\":\"ROI\"}},\"legend\":{\"tracegroupgap\":0},\"margin\":{\"t\":60},\"barmode\":\"relative\"},                        {\"responsive\": true}                    ).then(function(){\n",
       "                            \n",
       "var gd = document.getElementById('b505765e-5a62-4d79-823a-b3a3a84f78cc');\n",
       "var x = new MutationObserver(function (mutations, observer) {{\n",
       "        var display = window.getComputedStyle(gd).display;\n",
       "        if (!display || display === 'none') {{\n",
       "            console.log([gd, 'removed!']);\n",
       "            Plotly.purge(gd);\n",
       "            observer.disconnect();\n",
       "        }}\n",
       "}});\n",
       "\n",
       "// Listen for the removal of the full notebook cells\n",
       "var notebookContainer = gd.closest('#notebook-container');\n",
       "if (notebookContainer) {{\n",
       "    x.observe(notebookContainer, {childList: true});\n",
       "}}\n",
       "\n",
       "// Listen for the clearing of the current output cell\n",
       "var outputEl = gd.closest('.output');\n",
       "if (outputEl) {{\n",
       "    x.observe(outputEl, {childList: true});\n",
       "}}\n",
       "\n",
       "                        })                };                });            </script>        </div>"
      ]
     },
     "metadata": {},
     "output_type": "display_data"
    }
   ],
   "source": [
    "fig = px.bar(grouped_by_genre_filtered, x = \"genres\", y = \"ROI\", color_discrete_sequence = [\"pink\"])\n",
    "fig.show();"
   ]
  },
  {
   "cell_type": "code",
   "execution_count": 21,
   "id": "41880a56",
   "metadata": {},
   "outputs": [
    {
     "data": {
      "text/html": [
       "<div>\n",
       "<style scoped>\n",
       "    .dataframe tbody tr th:only-of-type {\n",
       "        vertical-align: middle;\n",
       "    }\n",
       "\n",
       "    .dataframe tbody tr th {\n",
       "        vertical-align: top;\n",
       "    }\n",
       "\n",
       "    .dataframe thead th {\n",
       "        text-align: right;\n",
       "    }\n",
       "</style>\n",
       "<table border=\"1\" class=\"dataframe\">\n",
       "  <thead>\n",
       "    <tr style=\"text-align: right;\">\n",
       "      <th></th>\n",
       "      <th>title</th>\n",
       "      <th>ROI</th>\n",
       "      <th>profit</th>\n",
       "      <th>prod_budget</th>\n",
       "      <th>dom_gross</th>\n",
       "      <th>world_gross</th>\n",
       "      <th>genres</th>\n",
       "      <th>director</th>\n",
       "      <th>writer</th>\n",
       "      <th>runtime_min</th>\n",
       "      <th>release_date</th>\n",
       "    </tr>\n",
       "  </thead>\n",
       "  <tbody>\n",
       "    <tr>\n",
       "      <th>1</th>\n",
       "      <td>10 cloverfield lane</td>\n",
       "      <td>2065.728440</td>\n",
       "      <td>103286422</td>\n",
       "      <td>5000000</td>\n",
       "      <td>72082999</td>\n",
       "      <td>108286422</td>\n",
       "      <td>[Sci-Fi, Mystery, Drama, Horror, Thriller]</td>\n",
       "      <td>Dan Trachtenberg</td>\n",
       "      <td>[Matthew Stuecken, Josh Campbell, Damien Chaze...</td>\n",
       "      <td>103.0</td>\n",
       "      <td>2016-03-11</td>\n",
       "    </tr>\n",
       "    <tr>\n",
       "      <th>2</th>\n",
       "      <td>10 days in a madhouse</td>\n",
       "      <td>-99.878200</td>\n",
       "      <td>-11985384</td>\n",
       "      <td>12000000</td>\n",
       "      <td>14616</td>\n",
       "      <td>14616</td>\n",
       "      <td>[Drama, None]</td>\n",
       "      <td>Timothy Hines</td>\n",
       "      <td>[Timothy Hines]</td>\n",
       "      <td>111.0</td>\n",
       "      <td>2015-11-11</td>\n",
       "    </tr>\n",
       "    <tr>\n",
       "      <th>10</th>\n",
       "      <td>12 strong</td>\n",
       "      <td>103.195366</td>\n",
       "      <td>36118378</td>\n",
       "      <td>35000000</td>\n",
       "      <td>45819713</td>\n",
       "      <td>71118378</td>\n",
       "      <td>[War, History, Action, Drama]</td>\n",
       "      <td>Nicolai Fuglsig</td>\n",
       "      <td>[Ted Tally, Peter Craig, Doug Stanton]</td>\n",
       "      <td>130.0</td>\n",
       "      <td>2018-01-19</td>\n",
       "    </tr>\n",
       "    <tr>\n",
       "      <th>11</th>\n",
       "      <td>12 years a slave</td>\n",
       "      <td>805.126715</td>\n",
       "      <td>161025343</td>\n",
       "      <td>20000000</td>\n",
       "      <td>56671993</td>\n",
       "      <td>181025343</td>\n",
       "      <td>[Drama, History, None, Biography]</td>\n",
       "      <td>Steve McQueen</td>\n",
       "      <td>[John Ridley, Solomon Northup]</td>\n",
       "      <td>134.0</td>\n",
       "      <td>2013-10-18</td>\n",
       "    </tr>\n",
       "    <tr>\n",
       "      <th>14</th>\n",
       "      <td>13 hours the secret soldiers of benghazi</td>\n",
       "      <td>38.822740</td>\n",
       "      <td>19411370</td>\n",
       "      <td>50000000</td>\n",
       "      <td>52853219</td>\n",
       "      <td>69411370</td>\n",
       "      <td>[War, History, Action, None, Drama, Thriller]</td>\n",
       "      <td>None</td>\n",
       "      <td>[None]</td>\n",
       "      <td>NaN</td>\n",
       "      <td>2016-01-15</td>\n",
       "    </tr>\n",
       "    <tr>\n",
       "      <th>...</th>\n",
       "      <td>...</td>\n",
       "      <td>...</td>\n",
       "      <td>...</td>\n",
       "      <td>...</td>\n",
       "      <td>...</td>\n",
       "      <td>...</td>\n",
       "      <td>...</td>\n",
       "      <td>...</td>\n",
       "      <td>...</td>\n",
       "      <td>...</td>\n",
       "      <td>...</td>\n",
       "    </tr>\n",
       "    <tr>\n",
       "      <th>5691</th>\n",
       "      <td>zoolander 2</td>\n",
       "      <td>10.697386</td>\n",
       "      <td>5348693</td>\n",
       "      <td>50000000</td>\n",
       "      <td>28848693</td>\n",
       "      <td>55348693</td>\n",
       "      <td>[Comedy]</td>\n",
       "      <td>Ben Stiller</td>\n",
       "      <td>[Justin Theroux, John Hamburg, Ben Stiller, Ni...</td>\n",
       "      <td>101.0</td>\n",
       "      <td>2016-02-12</td>\n",
       "    </tr>\n",
       "    <tr>\n",
       "      <th>5693</th>\n",
       "      <td>zootopia</td>\n",
       "      <td>579.619744</td>\n",
       "      <td>869429616</td>\n",
       "      <td>150000000</td>\n",
       "      <td>341268248</td>\n",
       "      <td>1019429616</td>\n",
       "      <td>[Adventure, Family, Comedy, Animation]</td>\n",
       "      <td>Rich Moore</td>\n",
       "      <td>[Jared Bush, Jennifer Lee, Jim Reardon, Kellie...</td>\n",
       "      <td>108.0</td>\n",
       "      <td>2016-03-04</td>\n",
       "    </tr>\n",
       "    <tr>\n",
       "      <th>5693</th>\n",
       "      <td>zootopia</td>\n",
       "      <td>579.619744</td>\n",
       "      <td>869429616</td>\n",
       "      <td>150000000</td>\n",
       "      <td>341268248</td>\n",
       "      <td>1019429616</td>\n",
       "      <td>[Adventure, Family, Comedy, Animation]</td>\n",
       "      <td>Jared Bush</td>\n",
       "      <td>[Jared Bush, Jennifer Lee, Jim Reardon, Kellie...</td>\n",
       "      <td>108.0</td>\n",
       "      <td>2016-03-04</td>\n",
       "    </tr>\n",
       "    <tr>\n",
       "      <th>5693</th>\n",
       "      <td>zootopia</td>\n",
       "      <td>579.619744</td>\n",
       "      <td>869429616</td>\n",
       "      <td>150000000</td>\n",
       "      <td>341268248</td>\n",
       "      <td>1019429616</td>\n",
       "      <td>[Adventure, Family, Comedy, Animation]</td>\n",
       "      <td>Byron Howard</td>\n",
       "      <td>[Jared Bush, Jennifer Lee, Jim Reardon, Kellie...</td>\n",
       "      <td>108.0</td>\n",
       "      <td>2016-03-04</td>\n",
       "    </tr>\n",
       "    <tr>\n",
       "      <th>5694</th>\n",
       "      <td>zulu</td>\n",
       "      <td>-88.473575</td>\n",
       "      <td>-14155772</td>\n",
       "      <td>16000000</td>\n",
       "      <td>0</td>\n",
       "      <td>1844228</td>\n",
       "      <td>[Thriller, Drama, Crime, None]</td>\n",
       "      <td>Jérôme Salle</td>\n",
       "      <td>[Jérôme Salle, Julien Rappeneau, Caryl Ferey]</td>\n",
       "      <td>110.0</td>\n",
       "      <td>2013-12-31</td>\n",
       "    </tr>\n",
       "  </tbody>\n",
       "</table>\n",
       "<p>1598 rows × 11 columns</p>\n",
       "</div>"
      ],
      "text/plain": [
       "                                         title          ROI     profit  \\\n",
       "1                          10 cloverfield lane  2065.728440  103286422   \n",
       "2                        10 days in a madhouse   -99.878200  -11985384   \n",
       "10                                   12 strong   103.195366   36118378   \n",
       "11                            12 years a slave   805.126715  161025343   \n",
       "14    13 hours the secret soldiers of benghazi    38.822740   19411370   \n",
       "...                                        ...          ...        ...   \n",
       "5691                               zoolander 2    10.697386    5348693   \n",
       "5693                                  zootopia   579.619744  869429616   \n",
       "5693                                  zootopia   579.619744  869429616   \n",
       "5693                                  zootopia   579.619744  869429616   \n",
       "5694                                      zulu   -88.473575  -14155772   \n",
       "\n",
       "      prod_budget  dom_gross  world_gross  \\\n",
       "1         5000000   72082999    108286422   \n",
       "2        12000000      14616        14616   \n",
       "10       35000000   45819713     71118378   \n",
       "11       20000000   56671993    181025343   \n",
       "14       50000000   52853219     69411370   \n",
       "...           ...        ...          ...   \n",
       "5691     50000000   28848693     55348693   \n",
       "5693    150000000  341268248   1019429616   \n",
       "5693    150000000  341268248   1019429616   \n",
       "5693    150000000  341268248   1019429616   \n",
       "5694     16000000          0      1844228   \n",
       "\n",
       "                                             genres          director  \\\n",
       "1        [Sci-Fi, Mystery, Drama, Horror, Thriller]  Dan Trachtenberg   \n",
       "2                                     [Drama, None]     Timothy Hines   \n",
       "10                    [War, History, Action, Drama]   Nicolai Fuglsig   \n",
       "11                [Drama, History, None, Biography]     Steve McQueen   \n",
       "14    [War, History, Action, None, Drama, Thriller]              None   \n",
       "...                                             ...               ...   \n",
       "5691                                       [Comedy]       Ben Stiller   \n",
       "5693         [Adventure, Family, Comedy, Animation]        Rich Moore   \n",
       "5693         [Adventure, Family, Comedy, Animation]        Jared Bush   \n",
       "5693         [Adventure, Family, Comedy, Animation]      Byron Howard   \n",
       "5694                 [Thriller, Drama, Crime, None]      Jérôme Salle   \n",
       "\n",
       "                                                 writer  runtime_min  \\\n",
       "1     [Matthew Stuecken, Josh Campbell, Damien Chaze...        103.0   \n",
       "2                                       [Timothy Hines]        111.0   \n",
       "10               [Ted Tally, Peter Craig, Doug Stanton]        130.0   \n",
       "11                       [John Ridley, Solomon Northup]        134.0   \n",
       "14                                               [None]          NaN   \n",
       "...                                                 ...          ...   \n",
       "5691  [Justin Theroux, John Hamburg, Ben Stiller, Ni...        101.0   \n",
       "5693  [Jared Bush, Jennifer Lee, Jim Reardon, Kellie...        108.0   \n",
       "5693  [Jared Bush, Jennifer Lee, Jim Reardon, Kellie...        108.0   \n",
       "5693  [Jared Bush, Jennifer Lee, Jim Reardon, Kellie...        108.0   \n",
       "5694      [Jérôme Salle, Julien Rappeneau, Caryl Ferey]        110.0   \n",
       "\n",
       "     release_date  \n",
       "1      2016-03-11  \n",
       "2      2015-11-11  \n",
       "10     2018-01-19  \n",
       "11     2013-10-18  \n",
       "14     2016-01-15  \n",
       "...           ...  \n",
       "5691   2016-02-12  \n",
       "5693   2016-03-04  \n",
       "5693   2016-03-04  \n",
       "5693   2016-03-04  \n",
       "5694   2013-12-31  \n",
       "\n",
       "[1598 rows x 11 columns]"
      ]
     },
     "execution_count": 21,
     "metadata": {},
     "output_type": "execute_result"
    }
   ],
   "source": [
    "test1_filtered_date = filtered_df_by_date.explode(\"director\")\n",
    "test1_filtered_date"
   ]
  },
  {
   "cell_type": "code",
   "execution_count": 23,
   "id": "a847ce55",
   "metadata": {},
   "outputs": [
    {
     "data": {
      "text/html": [
       "<div>\n",
       "<style scoped>\n",
       "    .dataframe tbody tr th:only-of-type {\n",
       "        vertical-align: middle;\n",
       "    }\n",
       "\n",
       "    .dataframe tbody tr th {\n",
       "        vertical-align: top;\n",
       "    }\n",
       "\n",
       "    .dataframe thead th {\n",
       "        text-align: right;\n",
       "    }\n",
       "</style>\n",
       "<table border=\"1\" class=\"dataframe\">\n",
       "  <thead>\n",
       "    <tr style=\"text-align: right;\">\n",
       "      <th></th>\n",
       "      <th>director</th>\n",
       "      <th>ROI</th>\n",
       "      <th>profit</th>\n",
       "      <th>prod_budget</th>\n",
       "      <th>dom_gross</th>\n",
       "      <th>world_gross</th>\n",
       "      <th>runtime_min</th>\n",
       "    </tr>\n",
       "  </thead>\n",
       "  <tbody>\n",
       "    <tr>\n",
       "      <th>0</th>\n",
       "      <td>Chris Lofing</td>\n",
       "      <td>41556.474000</td>\n",
       "      <td>41556474.0</td>\n",
       "      <td>100000.0</td>\n",
       "      <td>22764410.0</td>\n",
       "      <td>41656474.0</td>\n",
       "      <td>81.0</td>\n",
       "    </tr>\n",
       "    <tr>\n",
       "      <th>1</th>\n",
       "      <td>Travis Cluff</td>\n",
       "      <td>41556.474000</td>\n",
       "      <td>41556474.0</td>\n",
       "      <td>100000.0</td>\n",
       "      <td>22764410.0</td>\n",
       "      <td>41656474.0</td>\n",
       "      <td>81.0</td>\n",
       "    </tr>\n",
       "    <tr>\n",
       "      <th>2</th>\n",
       "      <td>Jordan Peele</td>\n",
       "      <td>3089.205285</td>\n",
       "      <td>242289130.5</td>\n",
       "      <td>12500000.0</td>\n",
       "      <td>175523797.5</td>\n",
       "      <td>254789130.5</td>\n",
       "      <td>110.0</td>\n",
       "    </tr>\n",
       "    <tr>\n",
       "      <th>3</th>\n",
       "      <td>Nitesh Tiwari</td>\n",
       "      <td>3001.627558</td>\n",
       "      <td>285154618.0</td>\n",
       "      <td>9500000.0</td>\n",
       "      <td>12391761.0</td>\n",
       "      <td>294654618.0</td>\n",
       "      <td>161.0</td>\n",
       "    </tr>\n",
       "    <tr>\n",
       "      <th>4</th>\n",
       "      <td>Josh Boone</td>\n",
       "      <td>2459.723617</td>\n",
       "      <td>295166834.0</td>\n",
       "      <td>12000000.0</td>\n",
       "      <td>124872350.0</td>\n",
       "      <td>307166834.0</td>\n",
       "      <td>126.0</td>\n",
       "    </tr>\n",
       "    <tr>\n",
       "      <th>5</th>\n",
       "      <td>Alex Kendrick</td>\n",
       "      <td>2365.841300</td>\n",
       "      <td>70975239.0</td>\n",
       "      <td>3000000.0</td>\n",
       "      <td>67790117.0</td>\n",
       "      <td>73975239.0</td>\n",
       "      <td>120.0</td>\n",
       "    </tr>\n",
       "    <tr>\n",
       "      <th>6</th>\n",
       "      <td>Barry Jenkins</td>\n",
       "      <td>2157.596929</td>\n",
       "      <td>35802339.5</td>\n",
       "      <td>6750000.0</td>\n",
       "      <td>21385352.0</td>\n",
       "      <td>42552339.5</td>\n",
       "      <td>115.0</td>\n",
       "    </tr>\n",
       "    <tr>\n",
       "      <th>7</th>\n",
       "      <td>Dan Trachtenberg</td>\n",
       "      <td>2065.728440</td>\n",
       "      <td>103286422.0</td>\n",
       "      <td>5000000.0</td>\n",
       "      <td>72082999.0</td>\n",
       "      <td>108286422.0</td>\n",
       "      <td>103.0</td>\n",
       "    </tr>\n",
       "    <tr>\n",
       "      <th>8</th>\n",
       "      <td>John R. Leonetti</td>\n",
       "      <td>1973.690886</td>\n",
       "      <td>130920132.5</td>\n",
       "      <td>9250000.0</td>\n",
       "      <td>49287659.0</td>\n",
       "      <td>140170132.5</td>\n",
       "      <td>94.5</td>\n",
       "    </tr>\n",
       "    <tr>\n",
       "      <th>9</th>\n",
       "      <td>Stiles White</td>\n",
       "      <td>1966.012640</td>\n",
       "      <td>98300632.0</td>\n",
       "      <td>5000000.0</td>\n",
       "      <td>50856010.0</td>\n",
       "      <td>103300632.0</td>\n",
       "      <td>89.0</td>\n",
       "    </tr>\n",
       "    <tr>\n",
       "      <th>10</th>\n",
       "      <td>David F. Sandberg</td>\n",
       "      <td>1935.899100</td>\n",
       "      <td>277899733.0</td>\n",
       "      <td>15000000.0</td>\n",
       "      <td>102092201.0</td>\n",
       "      <td>305384865.0</td>\n",
       "      <td>109.0</td>\n",
       "    </tr>\n",
       "    <tr>\n",
       "      <th>11</th>\n",
       "      <td>John Krasinski</td>\n",
       "      <td>1867.778200</td>\n",
       "      <td>317522294.0</td>\n",
       "      <td>17000000.0</td>\n",
       "      <td>188024361.0</td>\n",
       "      <td>334522294.0</td>\n",
       "      <td>90.0</td>\n",
       "    </tr>\n",
       "    <tr>\n",
       "      <th>12</th>\n",
       "      <td>Marcus Nispel</td>\n",
       "      <td>1859.168000</td>\n",
       "      <td>464792.0</td>\n",
       "      <td>25000.0</td>\n",
       "      <td>0.0</td>\n",
       "      <td>489792.0</td>\n",
       "      <td>91.0</td>\n",
       "    </tr>\n",
       "    <tr>\n",
       "      <th>13</th>\n",
       "      <td>Adam Robitel</td>\n",
       "      <td>1578.855880</td>\n",
       "      <td>157885588.0</td>\n",
       "      <td>10000000.0</td>\n",
       "      <td>67745330.0</td>\n",
       "      <td>167885588.0</td>\n",
       "      <td>103.0</td>\n",
       "    </tr>\n",
       "    <tr>\n",
       "      <th>14</th>\n",
       "      <td>Stephen Susco</td>\n",
       "      <td>1543.458800</td>\n",
       "      <td>15434588.0</td>\n",
       "      <td>1000000.0</td>\n",
       "      <td>8866745.0</td>\n",
       "      <td>16434588.0</td>\n",
       "      <td>92.0</td>\n",
       "    </tr>\n",
       "    <tr>\n",
       "      <th>15</th>\n",
       "      <td>Stephen Chbosky</td>\n",
       "      <td>1423.023560</td>\n",
       "      <td>284604712.0</td>\n",
       "      <td>20000000.0</td>\n",
       "      <td>132422809.0</td>\n",
       "      <td>304604712.0</td>\n",
       "      <td>113.0</td>\n",
       "    </tr>\n",
       "    <tr>\n",
       "      <th>16</th>\n",
       "      <td>Andy Muschietti</td>\n",
       "      <td>1390.020414</td>\n",
       "      <td>397776767.5</td>\n",
       "      <td>25000000.0</td>\n",
       "      <td>199554964.0</td>\n",
       "      <td>422776767.5</td>\n",
       "      <td>117.5</td>\n",
       "    </tr>\n",
       "    <tr>\n",
       "      <th>17</th>\n",
       "      <td>Kyle Balda</td>\n",
       "      <td>1373.829428</td>\n",
       "      <td>1023031961.5</td>\n",
       "      <td>74500000.0</td>\n",
       "      <td>300335035.0</td>\n",
       "      <td>1097531961.5</td>\n",
       "      <td>90.0</td>\n",
       "    </tr>\n",
       "    <tr>\n",
       "      <th>18</th>\n",
       "      <td>Jeff Wadlow</td>\n",
       "      <td>1371.694038</td>\n",
       "      <td>63378626.5</td>\n",
       "      <td>15750000.0</td>\n",
       "      <td>35103500.0</td>\n",
       "      <td>79128626.5</td>\n",
       "      <td>101.5</td>\n",
       "    </tr>\n",
       "    <tr>\n",
       "      <th>19</th>\n",
       "      <td>Sam Taylor-Johnson</td>\n",
       "      <td>1327.495252</td>\n",
       "      <td>530998101.0</td>\n",
       "      <td>40000000.0</td>\n",
       "      <td>166167230.0</td>\n",
       "      <td>570998101.0</td>\n",
       "      <td>125.0</td>\n",
       "    </tr>\n",
       "    <tr>\n",
       "      <th>20</th>\n",
       "      <td>David Lowery</td>\n",
       "      <td>1295.641090</td>\n",
       "      <td>-627604.5</td>\n",
       "      <td>2550000.0</td>\n",
       "      <td>993204.5</td>\n",
       "      <td>1922395.5</td>\n",
       "      <td>94.0</td>\n",
       "    </tr>\n",
       "    <tr>\n",
       "      <th>21</th>\n",
       "      <td>Tim Miller</td>\n",
       "      <td>1281.078609</td>\n",
       "      <td>743025593.0</td>\n",
       "      <td>58000000.0</td>\n",
       "      <td>363070709.0</td>\n",
       "      <td>801025593.0</td>\n",
       "      <td>108.0</td>\n",
       "    </tr>\n",
       "    <tr>\n",
       "      <th>22</th>\n",
       "      <td>Eric Guillon</td>\n",
       "      <td>1279.637000</td>\n",
       "      <td>959727750.0</td>\n",
       "      <td>75000000.0</td>\n",
       "      <td>264624300.0</td>\n",
       "      <td>1034727750.0</td>\n",
       "      <td>89.0</td>\n",
       "    </tr>\n",
       "    <tr>\n",
       "      <th>23</th>\n",
       "      <td>Pierre Coffin</td>\n",
       "      <td>1279.637000</td>\n",
       "      <td>959727750.0</td>\n",
       "      <td>75000000.0</td>\n",
       "      <td>336045770.0</td>\n",
       "      <td>1034727750.0</td>\n",
       "      <td>91.0</td>\n",
       "    </tr>\n",
       "    <tr>\n",
       "      <th>24</th>\n",
       "      <td>Martin McDonagh</td>\n",
       "      <td>1234.932625</td>\n",
       "      <td>148191915.0</td>\n",
       "      <td>12000000.0</td>\n",
       "      <td>54513740.0</td>\n",
       "      <td>160191915.0</td>\n",
       "      <td>115.0</td>\n",
       "    </tr>\n",
       "  </tbody>\n",
       "</table>\n",
       "</div>"
      ],
      "text/plain": [
       "              director           ROI        profit  prod_budget    dom_gross  \\\n",
       "0         Chris Lofing  41556.474000    41556474.0     100000.0   22764410.0   \n",
       "1         Travis Cluff  41556.474000    41556474.0     100000.0   22764410.0   \n",
       "2         Jordan Peele   3089.205285   242289130.5   12500000.0  175523797.5   \n",
       "3        Nitesh Tiwari   3001.627558   285154618.0    9500000.0   12391761.0   \n",
       "4           Josh Boone   2459.723617   295166834.0   12000000.0  124872350.0   \n",
       "5        Alex Kendrick   2365.841300    70975239.0    3000000.0   67790117.0   \n",
       "6        Barry Jenkins   2157.596929    35802339.5    6750000.0   21385352.0   \n",
       "7     Dan Trachtenberg   2065.728440   103286422.0    5000000.0   72082999.0   \n",
       "8     John R. Leonetti   1973.690886   130920132.5    9250000.0   49287659.0   \n",
       "9         Stiles White   1966.012640    98300632.0    5000000.0   50856010.0   \n",
       "10   David F. Sandberg   1935.899100   277899733.0   15000000.0  102092201.0   \n",
       "11      John Krasinski   1867.778200   317522294.0   17000000.0  188024361.0   \n",
       "12       Marcus Nispel   1859.168000      464792.0      25000.0          0.0   \n",
       "13        Adam Robitel   1578.855880   157885588.0   10000000.0   67745330.0   \n",
       "14       Stephen Susco   1543.458800    15434588.0    1000000.0    8866745.0   \n",
       "15     Stephen Chbosky   1423.023560   284604712.0   20000000.0  132422809.0   \n",
       "16     Andy Muschietti   1390.020414   397776767.5   25000000.0  199554964.0   \n",
       "17          Kyle Balda   1373.829428  1023031961.5   74500000.0  300335035.0   \n",
       "18         Jeff Wadlow   1371.694038    63378626.5   15750000.0   35103500.0   \n",
       "19  Sam Taylor-Johnson   1327.495252   530998101.0   40000000.0  166167230.0   \n",
       "20        David Lowery   1295.641090     -627604.5    2550000.0     993204.5   \n",
       "21          Tim Miller   1281.078609   743025593.0   58000000.0  363070709.0   \n",
       "22        Eric Guillon   1279.637000   959727750.0   75000000.0  264624300.0   \n",
       "23       Pierre Coffin   1279.637000   959727750.0   75000000.0  336045770.0   \n",
       "24     Martin McDonagh   1234.932625   148191915.0   12000000.0   54513740.0   \n",
       "\n",
       "     world_gross  runtime_min  \n",
       "0     41656474.0         81.0  \n",
       "1     41656474.0         81.0  \n",
       "2    254789130.5        110.0  \n",
       "3    294654618.0        161.0  \n",
       "4    307166834.0        126.0  \n",
       "5     73975239.0        120.0  \n",
       "6     42552339.5        115.0  \n",
       "7    108286422.0        103.0  \n",
       "8    140170132.5         94.5  \n",
       "9    103300632.0         89.0  \n",
       "10   305384865.0        109.0  \n",
       "11   334522294.0         90.0  \n",
       "12      489792.0         91.0  \n",
       "13   167885588.0        103.0  \n",
       "14    16434588.0         92.0  \n",
       "15   304604712.0        113.0  \n",
       "16   422776767.5        117.5  \n",
       "17  1097531961.5         90.0  \n",
       "18    79128626.5        101.5  \n",
       "19   570998101.0        125.0  \n",
       "20     1922395.5         94.0  \n",
       "21   801025593.0        108.0  \n",
       "22  1034727750.0         89.0  \n",
       "23  1034727750.0         91.0  \n",
       "24   160191915.0        115.0  "
      ]
     },
     "execution_count": 23,
     "metadata": {},
     "output_type": "execute_result"
    }
   ],
   "source": [
    "grouped_by_director_filtered = test1_filtered_date.groupby([\"director\"]).median().sort_values(\"ROI\", ascending = False).reset_index().head(25)\n",
    "grouped_by_director_filtered"
   ]
  },
  {
   "cell_type": "code",
   "execution_count": 24,
   "id": "8bbe3da8",
   "metadata": {},
   "outputs": [
    {
     "data": {
      "application/vnd.plotly.v1+json": {
       "config": {
        "plotlyServerURL": "https://plot.ly"
       },
       "data": [
        {
         "alignmentgroup": "True",
         "hovertemplate": "director=%{x}<br>ROI=%{y}<extra></extra>",
         "legendgroup": "",
         "marker": {
          "color": "pink",
          "pattern": {
           "shape": ""
          }
         },
         "name": "",
         "offsetgroup": "",
         "orientation": "v",
         "showlegend": false,
         "textposition": "auto",
         "type": "bar",
         "x": [
          "Chris Lofing",
          "Travis Cluff",
          "Jordan Peele",
          "Nitesh Tiwari",
          "Josh Boone",
          "Alex Kendrick",
          "Barry Jenkins",
          "Dan Trachtenberg",
          "John R. Leonetti",
          "Stiles White",
          "David F. Sandberg",
          "John Krasinski",
          "Marcus Nispel",
          "Adam Robitel",
          "Stephen Susco",
          "Stephen Chbosky",
          "Andy Muschietti",
          "Kyle Balda",
          "Jeff Wadlow",
          "Sam Taylor-Johnson",
          "David Lowery",
          "Tim Miller",
          "Eric Guillon",
          "Pierre Coffin",
          "Martin McDonagh"
         ],
         "xaxis": "x",
         "y": [
          41556.473999999995,
          41556.473999999995,
          3089.205285,
          3001.627557894737,
          2459.7236166666667,
          2365.8413,
          2157.596929166667,
          2065.7284400000003,
          1973.6908862179484,
          1966.01264,
          1935.8990999999999,
          1867.7782,
          1859.1680000000001,
          1578.85588,
          1543.4587999999999,
          1423.02356,
          1390.0204138095237,
          1373.8294277027026,
          1371.6940375000001,
          1327.4952524999999,
          1295.64109,
          1281.0786086206897,
          1279.637,
          1279.637,
          1234.9326250000001
         ],
         "yaxis": "y"
        }
       ],
       "layout": {
        "barmode": "relative",
        "legend": {
         "tracegroupgap": 0
        },
        "margin": {
         "t": 60
        },
        "template": {
         "data": {
          "bar": [
           {
            "error_x": {
             "color": "#2a3f5f"
            },
            "error_y": {
             "color": "#2a3f5f"
            },
            "marker": {
             "line": {
              "color": "#E5ECF6",
              "width": 0.5
             },
             "pattern": {
              "fillmode": "overlay",
              "size": 10,
              "solidity": 0.2
             }
            },
            "type": "bar"
           }
          ],
          "barpolar": [
           {
            "marker": {
             "line": {
              "color": "#E5ECF6",
              "width": 0.5
             },
             "pattern": {
              "fillmode": "overlay",
              "size": 10,
              "solidity": 0.2
             }
            },
            "type": "barpolar"
           }
          ],
          "carpet": [
           {
            "aaxis": {
             "endlinecolor": "#2a3f5f",
             "gridcolor": "white",
             "linecolor": "white",
             "minorgridcolor": "white",
             "startlinecolor": "#2a3f5f"
            },
            "baxis": {
             "endlinecolor": "#2a3f5f",
             "gridcolor": "white",
             "linecolor": "white",
             "minorgridcolor": "white",
             "startlinecolor": "#2a3f5f"
            },
            "type": "carpet"
           }
          ],
          "choropleth": [
           {
            "colorbar": {
             "outlinewidth": 0,
             "ticks": ""
            },
            "type": "choropleth"
           }
          ],
          "contour": [
           {
            "colorbar": {
             "outlinewidth": 0,
             "ticks": ""
            },
            "colorscale": [
             [
              0,
              "#0d0887"
             ],
             [
              0.1111111111111111,
              "#46039f"
             ],
             [
              0.2222222222222222,
              "#7201a8"
             ],
             [
              0.3333333333333333,
              "#9c179e"
             ],
             [
              0.4444444444444444,
              "#bd3786"
             ],
             [
              0.5555555555555556,
              "#d8576b"
             ],
             [
              0.6666666666666666,
              "#ed7953"
             ],
             [
              0.7777777777777778,
              "#fb9f3a"
             ],
             [
              0.8888888888888888,
              "#fdca26"
             ],
             [
              1,
              "#f0f921"
             ]
            ],
            "type": "contour"
           }
          ],
          "contourcarpet": [
           {
            "colorbar": {
             "outlinewidth": 0,
             "ticks": ""
            },
            "type": "contourcarpet"
           }
          ],
          "heatmap": [
           {
            "colorbar": {
             "outlinewidth": 0,
             "ticks": ""
            },
            "colorscale": [
             [
              0,
              "#0d0887"
             ],
             [
              0.1111111111111111,
              "#46039f"
             ],
             [
              0.2222222222222222,
              "#7201a8"
             ],
             [
              0.3333333333333333,
              "#9c179e"
             ],
             [
              0.4444444444444444,
              "#bd3786"
             ],
             [
              0.5555555555555556,
              "#d8576b"
             ],
             [
              0.6666666666666666,
              "#ed7953"
             ],
             [
              0.7777777777777778,
              "#fb9f3a"
             ],
             [
              0.8888888888888888,
              "#fdca26"
             ],
             [
              1,
              "#f0f921"
             ]
            ],
            "type": "heatmap"
           }
          ],
          "heatmapgl": [
           {
            "colorbar": {
             "outlinewidth": 0,
             "ticks": ""
            },
            "colorscale": [
             [
              0,
              "#0d0887"
             ],
             [
              0.1111111111111111,
              "#46039f"
             ],
             [
              0.2222222222222222,
              "#7201a8"
             ],
             [
              0.3333333333333333,
              "#9c179e"
             ],
             [
              0.4444444444444444,
              "#bd3786"
             ],
             [
              0.5555555555555556,
              "#d8576b"
             ],
             [
              0.6666666666666666,
              "#ed7953"
             ],
             [
              0.7777777777777778,
              "#fb9f3a"
             ],
             [
              0.8888888888888888,
              "#fdca26"
             ],
             [
              1,
              "#f0f921"
             ]
            ],
            "type": "heatmapgl"
           }
          ],
          "histogram": [
           {
            "marker": {
             "pattern": {
              "fillmode": "overlay",
              "size": 10,
              "solidity": 0.2
             }
            },
            "type": "histogram"
           }
          ],
          "histogram2d": [
           {
            "colorbar": {
             "outlinewidth": 0,
             "ticks": ""
            },
            "colorscale": [
             [
              0,
              "#0d0887"
             ],
             [
              0.1111111111111111,
              "#46039f"
             ],
             [
              0.2222222222222222,
              "#7201a8"
             ],
             [
              0.3333333333333333,
              "#9c179e"
             ],
             [
              0.4444444444444444,
              "#bd3786"
             ],
             [
              0.5555555555555556,
              "#d8576b"
             ],
             [
              0.6666666666666666,
              "#ed7953"
             ],
             [
              0.7777777777777778,
              "#fb9f3a"
             ],
             [
              0.8888888888888888,
              "#fdca26"
             ],
             [
              1,
              "#f0f921"
             ]
            ],
            "type": "histogram2d"
           }
          ],
          "histogram2dcontour": [
           {
            "colorbar": {
             "outlinewidth": 0,
             "ticks": ""
            },
            "colorscale": [
             [
              0,
              "#0d0887"
             ],
             [
              0.1111111111111111,
              "#46039f"
             ],
             [
              0.2222222222222222,
              "#7201a8"
             ],
             [
              0.3333333333333333,
              "#9c179e"
             ],
             [
              0.4444444444444444,
              "#bd3786"
             ],
             [
              0.5555555555555556,
              "#d8576b"
             ],
             [
              0.6666666666666666,
              "#ed7953"
             ],
             [
              0.7777777777777778,
              "#fb9f3a"
             ],
             [
              0.8888888888888888,
              "#fdca26"
             ],
             [
              1,
              "#f0f921"
             ]
            ],
            "type": "histogram2dcontour"
           }
          ],
          "mesh3d": [
           {
            "colorbar": {
             "outlinewidth": 0,
             "ticks": ""
            },
            "type": "mesh3d"
           }
          ],
          "parcoords": [
           {
            "line": {
             "colorbar": {
              "outlinewidth": 0,
              "ticks": ""
             }
            },
            "type": "parcoords"
           }
          ],
          "pie": [
           {
            "automargin": true,
            "type": "pie"
           }
          ],
          "scatter": [
           {
            "fillpattern": {
             "fillmode": "overlay",
             "size": 10,
             "solidity": 0.2
            },
            "type": "scatter"
           }
          ],
          "scatter3d": [
           {
            "line": {
             "colorbar": {
              "outlinewidth": 0,
              "ticks": ""
             }
            },
            "marker": {
             "colorbar": {
              "outlinewidth": 0,
              "ticks": ""
             }
            },
            "type": "scatter3d"
           }
          ],
          "scattercarpet": [
           {
            "marker": {
             "colorbar": {
              "outlinewidth": 0,
              "ticks": ""
             }
            },
            "type": "scattercarpet"
           }
          ],
          "scattergeo": [
           {
            "marker": {
             "colorbar": {
              "outlinewidth": 0,
              "ticks": ""
             }
            },
            "type": "scattergeo"
           }
          ],
          "scattergl": [
           {
            "marker": {
             "colorbar": {
              "outlinewidth": 0,
              "ticks": ""
             }
            },
            "type": "scattergl"
           }
          ],
          "scattermapbox": [
           {
            "marker": {
             "colorbar": {
              "outlinewidth": 0,
              "ticks": ""
             }
            },
            "type": "scattermapbox"
           }
          ],
          "scatterpolar": [
           {
            "marker": {
             "colorbar": {
              "outlinewidth": 0,
              "ticks": ""
             }
            },
            "type": "scatterpolar"
           }
          ],
          "scatterpolargl": [
           {
            "marker": {
             "colorbar": {
              "outlinewidth": 0,
              "ticks": ""
             }
            },
            "type": "scatterpolargl"
           }
          ],
          "scatterternary": [
           {
            "marker": {
             "colorbar": {
              "outlinewidth": 0,
              "ticks": ""
             }
            },
            "type": "scatterternary"
           }
          ],
          "surface": [
           {
            "colorbar": {
             "outlinewidth": 0,
             "ticks": ""
            },
            "colorscale": [
             [
              0,
              "#0d0887"
             ],
             [
              0.1111111111111111,
              "#46039f"
             ],
             [
              0.2222222222222222,
              "#7201a8"
             ],
             [
              0.3333333333333333,
              "#9c179e"
             ],
             [
              0.4444444444444444,
              "#bd3786"
             ],
             [
              0.5555555555555556,
              "#d8576b"
             ],
             [
              0.6666666666666666,
              "#ed7953"
             ],
             [
              0.7777777777777778,
              "#fb9f3a"
             ],
             [
              0.8888888888888888,
              "#fdca26"
             ],
             [
              1,
              "#f0f921"
             ]
            ],
            "type": "surface"
           }
          ],
          "table": [
           {
            "cells": {
             "fill": {
              "color": "#EBF0F8"
             },
             "line": {
              "color": "white"
             }
            },
            "header": {
             "fill": {
              "color": "#C8D4E3"
             },
             "line": {
              "color": "white"
             }
            },
            "type": "table"
           }
          ]
         },
         "layout": {
          "annotationdefaults": {
           "arrowcolor": "#2a3f5f",
           "arrowhead": 0,
           "arrowwidth": 1
          },
          "autotypenumbers": "strict",
          "coloraxis": {
           "colorbar": {
            "outlinewidth": 0,
            "ticks": ""
           }
          },
          "colorscale": {
           "diverging": [
            [
             0,
             "#8e0152"
            ],
            [
             0.1,
             "#c51b7d"
            ],
            [
             0.2,
             "#de77ae"
            ],
            [
             0.3,
             "#f1b6da"
            ],
            [
             0.4,
             "#fde0ef"
            ],
            [
             0.5,
             "#f7f7f7"
            ],
            [
             0.6,
             "#e6f5d0"
            ],
            [
             0.7,
             "#b8e186"
            ],
            [
             0.8,
             "#7fbc41"
            ],
            [
             0.9,
             "#4d9221"
            ],
            [
             1,
             "#276419"
            ]
           ],
           "sequential": [
            [
             0,
             "#0d0887"
            ],
            [
             0.1111111111111111,
             "#46039f"
            ],
            [
             0.2222222222222222,
             "#7201a8"
            ],
            [
             0.3333333333333333,
             "#9c179e"
            ],
            [
             0.4444444444444444,
             "#bd3786"
            ],
            [
             0.5555555555555556,
             "#d8576b"
            ],
            [
             0.6666666666666666,
             "#ed7953"
            ],
            [
             0.7777777777777778,
             "#fb9f3a"
            ],
            [
             0.8888888888888888,
             "#fdca26"
            ],
            [
             1,
             "#f0f921"
            ]
           ],
           "sequentialminus": [
            [
             0,
             "#0d0887"
            ],
            [
             0.1111111111111111,
             "#46039f"
            ],
            [
             0.2222222222222222,
             "#7201a8"
            ],
            [
             0.3333333333333333,
             "#9c179e"
            ],
            [
             0.4444444444444444,
             "#bd3786"
            ],
            [
             0.5555555555555556,
             "#d8576b"
            ],
            [
             0.6666666666666666,
             "#ed7953"
            ],
            [
             0.7777777777777778,
             "#fb9f3a"
            ],
            [
             0.8888888888888888,
             "#fdca26"
            ],
            [
             1,
             "#f0f921"
            ]
           ]
          },
          "colorway": [
           "#636efa",
           "#EF553B",
           "#00cc96",
           "#ab63fa",
           "#FFA15A",
           "#19d3f3",
           "#FF6692",
           "#B6E880",
           "#FF97FF",
           "#FECB52"
          ],
          "font": {
           "color": "#2a3f5f"
          },
          "geo": {
           "bgcolor": "white",
           "lakecolor": "white",
           "landcolor": "#E5ECF6",
           "showlakes": true,
           "showland": true,
           "subunitcolor": "white"
          },
          "hoverlabel": {
           "align": "left"
          },
          "hovermode": "closest",
          "mapbox": {
           "style": "light"
          },
          "paper_bgcolor": "white",
          "plot_bgcolor": "#E5ECF6",
          "polar": {
           "angularaxis": {
            "gridcolor": "white",
            "linecolor": "white",
            "ticks": ""
           },
           "bgcolor": "#E5ECF6",
           "radialaxis": {
            "gridcolor": "white",
            "linecolor": "white",
            "ticks": ""
           }
          },
          "scene": {
           "xaxis": {
            "backgroundcolor": "#E5ECF6",
            "gridcolor": "white",
            "gridwidth": 2,
            "linecolor": "white",
            "showbackground": true,
            "ticks": "",
            "zerolinecolor": "white"
           },
           "yaxis": {
            "backgroundcolor": "#E5ECF6",
            "gridcolor": "white",
            "gridwidth": 2,
            "linecolor": "white",
            "showbackground": true,
            "ticks": "",
            "zerolinecolor": "white"
           },
           "zaxis": {
            "backgroundcolor": "#E5ECF6",
            "gridcolor": "white",
            "gridwidth": 2,
            "linecolor": "white",
            "showbackground": true,
            "ticks": "",
            "zerolinecolor": "white"
           }
          },
          "shapedefaults": {
           "line": {
            "color": "#2a3f5f"
           }
          },
          "ternary": {
           "aaxis": {
            "gridcolor": "white",
            "linecolor": "white",
            "ticks": ""
           },
           "baxis": {
            "gridcolor": "white",
            "linecolor": "white",
            "ticks": ""
           },
           "bgcolor": "#E5ECF6",
           "caxis": {
            "gridcolor": "white",
            "linecolor": "white",
            "ticks": ""
           }
          },
          "title": {
           "x": 0.05
          },
          "xaxis": {
           "automargin": true,
           "gridcolor": "white",
           "linecolor": "white",
           "ticks": "",
           "title": {
            "standoff": 15
           },
           "zerolinecolor": "white",
           "zerolinewidth": 2
          },
          "yaxis": {
           "automargin": true,
           "gridcolor": "white",
           "linecolor": "white",
           "ticks": "",
           "title": {
            "standoff": 15
           },
           "zerolinecolor": "white",
           "zerolinewidth": 2
          }
         }
        },
        "xaxis": {
         "anchor": "y",
         "domain": [
          0,
          1
         ],
         "title": {
          "text": "director"
         }
        },
        "yaxis": {
         "anchor": "x",
         "domain": [
          0,
          1
         ],
         "title": {
          "text": "ROI"
         }
        }
       }
      },
      "text/html": [
       "<div>                            <div id=\"8bb1c160-91a7-431f-a7cb-ff7146086b5f\" class=\"plotly-graph-div\" style=\"height:525px; width:100%;\"></div>            <script type=\"text/javascript\">                require([\"plotly\"], function(Plotly) {                    window.PLOTLYENV=window.PLOTLYENV || {};                                    if (document.getElementById(\"8bb1c160-91a7-431f-a7cb-ff7146086b5f\")) {                    Plotly.newPlot(                        \"8bb1c160-91a7-431f-a7cb-ff7146086b5f\",                        [{\"alignmentgroup\":\"True\",\"hovertemplate\":\"director=%{x}<br>ROI=%{y}<extra></extra>\",\"legendgroup\":\"\",\"marker\":{\"color\":\"pink\",\"pattern\":{\"shape\":\"\"}},\"name\":\"\",\"offsetgroup\":\"\",\"orientation\":\"v\",\"showlegend\":false,\"textposition\":\"auto\",\"x\":[\"Chris Lofing\",\"Travis Cluff\",\"Jordan Peele\",\"Nitesh Tiwari\",\"Josh Boone\",\"Alex Kendrick\",\"Barry Jenkins\",\"Dan Trachtenberg\",\"John R. Leonetti\",\"Stiles White\",\"David F. Sandberg\",\"John Krasinski\",\"Marcus Nispel\",\"Adam Robitel\",\"Stephen Susco\",\"Stephen Chbosky\",\"Andy Muschietti\",\"Kyle Balda\",\"Jeff Wadlow\",\"Sam Taylor-Johnson\",\"David Lowery\",\"Tim Miller\",\"Eric Guillon\",\"Pierre Coffin\",\"Martin McDonagh\"],\"xaxis\":\"x\",\"y\":[41556.473999999995,41556.473999999995,3089.205285,3001.627557894737,2459.7236166666667,2365.8413,2157.596929166667,2065.7284400000003,1973.6908862179484,1966.01264,1935.8990999999999,1867.7782,1859.1680000000001,1578.85588,1543.4587999999999,1423.02356,1390.0204138095237,1373.8294277027026,1371.6940375000001,1327.4952524999999,1295.64109,1281.0786086206897,1279.637,1279.637,1234.9326250000001],\"yaxis\":\"y\",\"type\":\"bar\"}],                        {\"template\":{\"data\":{\"histogram2dcontour\":[{\"type\":\"histogram2dcontour\",\"colorbar\":{\"outlinewidth\":0,\"ticks\":\"\"},\"colorscale\":[[0.0,\"#0d0887\"],[0.1111111111111111,\"#46039f\"],[0.2222222222222222,\"#7201a8\"],[0.3333333333333333,\"#9c179e\"],[0.4444444444444444,\"#bd3786\"],[0.5555555555555556,\"#d8576b\"],[0.6666666666666666,\"#ed7953\"],[0.7777777777777778,\"#fb9f3a\"],[0.8888888888888888,\"#fdca26\"],[1.0,\"#f0f921\"]]}],\"choropleth\":[{\"type\":\"choropleth\",\"colorbar\":{\"outlinewidth\":0,\"ticks\":\"\"}}],\"histogram2d\":[{\"type\":\"histogram2d\",\"colorbar\":{\"outlinewidth\":0,\"ticks\":\"\"},\"colorscale\":[[0.0,\"#0d0887\"],[0.1111111111111111,\"#46039f\"],[0.2222222222222222,\"#7201a8\"],[0.3333333333333333,\"#9c179e\"],[0.4444444444444444,\"#bd3786\"],[0.5555555555555556,\"#d8576b\"],[0.6666666666666666,\"#ed7953\"],[0.7777777777777778,\"#fb9f3a\"],[0.8888888888888888,\"#fdca26\"],[1.0,\"#f0f921\"]]}],\"heatmap\":[{\"type\":\"heatmap\",\"colorbar\":{\"outlinewidth\":0,\"ticks\":\"\"},\"colorscale\":[[0.0,\"#0d0887\"],[0.1111111111111111,\"#46039f\"],[0.2222222222222222,\"#7201a8\"],[0.3333333333333333,\"#9c179e\"],[0.4444444444444444,\"#bd3786\"],[0.5555555555555556,\"#d8576b\"],[0.6666666666666666,\"#ed7953\"],[0.7777777777777778,\"#fb9f3a\"],[0.8888888888888888,\"#fdca26\"],[1.0,\"#f0f921\"]]}],\"heatmapgl\":[{\"type\":\"heatmapgl\",\"colorbar\":{\"outlinewidth\":0,\"ticks\":\"\"},\"colorscale\":[[0.0,\"#0d0887\"],[0.1111111111111111,\"#46039f\"],[0.2222222222222222,\"#7201a8\"],[0.3333333333333333,\"#9c179e\"],[0.4444444444444444,\"#bd3786\"],[0.5555555555555556,\"#d8576b\"],[0.6666666666666666,\"#ed7953\"],[0.7777777777777778,\"#fb9f3a\"],[0.8888888888888888,\"#fdca26\"],[1.0,\"#f0f921\"]]}],\"contourcarpet\":[{\"type\":\"contourcarpet\",\"colorbar\":{\"outlinewidth\":0,\"ticks\":\"\"}}],\"contour\":[{\"type\":\"contour\",\"colorbar\":{\"outlinewidth\":0,\"ticks\":\"\"},\"colorscale\":[[0.0,\"#0d0887\"],[0.1111111111111111,\"#46039f\"],[0.2222222222222222,\"#7201a8\"],[0.3333333333333333,\"#9c179e\"],[0.4444444444444444,\"#bd3786\"],[0.5555555555555556,\"#d8576b\"],[0.6666666666666666,\"#ed7953\"],[0.7777777777777778,\"#fb9f3a\"],[0.8888888888888888,\"#fdca26\"],[1.0,\"#f0f921\"]]}],\"surface\":[{\"type\":\"surface\",\"colorbar\":{\"outlinewidth\":0,\"ticks\":\"\"},\"colorscale\":[[0.0,\"#0d0887\"],[0.1111111111111111,\"#46039f\"],[0.2222222222222222,\"#7201a8\"],[0.3333333333333333,\"#9c179e\"],[0.4444444444444444,\"#bd3786\"],[0.5555555555555556,\"#d8576b\"],[0.6666666666666666,\"#ed7953\"],[0.7777777777777778,\"#fb9f3a\"],[0.8888888888888888,\"#fdca26\"],[1.0,\"#f0f921\"]]}],\"mesh3d\":[{\"type\":\"mesh3d\",\"colorbar\":{\"outlinewidth\":0,\"ticks\":\"\"}}],\"scatter\":[{\"fillpattern\":{\"fillmode\":\"overlay\",\"size\":10,\"solidity\":0.2},\"type\":\"scatter\"}],\"parcoords\":[{\"type\":\"parcoords\",\"line\":{\"colorbar\":{\"outlinewidth\":0,\"ticks\":\"\"}}}],\"scatterpolargl\":[{\"type\":\"scatterpolargl\",\"marker\":{\"colorbar\":{\"outlinewidth\":0,\"ticks\":\"\"}}}],\"bar\":[{\"error_x\":{\"color\":\"#2a3f5f\"},\"error_y\":{\"color\":\"#2a3f5f\"},\"marker\":{\"line\":{\"color\":\"#E5ECF6\",\"width\":0.5},\"pattern\":{\"fillmode\":\"overlay\",\"size\":10,\"solidity\":0.2}},\"type\":\"bar\"}],\"scattergeo\":[{\"type\":\"scattergeo\",\"marker\":{\"colorbar\":{\"outlinewidth\":0,\"ticks\":\"\"}}}],\"scatterpolar\":[{\"type\":\"scatterpolar\",\"marker\":{\"colorbar\":{\"outlinewidth\":0,\"ticks\":\"\"}}}],\"histogram\":[{\"marker\":{\"pattern\":{\"fillmode\":\"overlay\",\"size\":10,\"solidity\":0.2}},\"type\":\"histogram\"}],\"scattergl\":[{\"type\":\"scattergl\",\"marker\":{\"colorbar\":{\"outlinewidth\":0,\"ticks\":\"\"}}}],\"scatter3d\":[{\"type\":\"scatter3d\",\"line\":{\"colorbar\":{\"outlinewidth\":0,\"ticks\":\"\"}},\"marker\":{\"colorbar\":{\"outlinewidth\":0,\"ticks\":\"\"}}}],\"scattermapbox\":[{\"type\":\"scattermapbox\",\"marker\":{\"colorbar\":{\"outlinewidth\":0,\"ticks\":\"\"}}}],\"scatterternary\":[{\"type\":\"scatterternary\",\"marker\":{\"colorbar\":{\"outlinewidth\":0,\"ticks\":\"\"}}}],\"scattercarpet\":[{\"type\":\"scattercarpet\",\"marker\":{\"colorbar\":{\"outlinewidth\":0,\"ticks\":\"\"}}}],\"carpet\":[{\"aaxis\":{\"endlinecolor\":\"#2a3f5f\",\"gridcolor\":\"white\",\"linecolor\":\"white\",\"minorgridcolor\":\"white\",\"startlinecolor\":\"#2a3f5f\"},\"baxis\":{\"endlinecolor\":\"#2a3f5f\",\"gridcolor\":\"white\",\"linecolor\":\"white\",\"minorgridcolor\":\"white\",\"startlinecolor\":\"#2a3f5f\"},\"type\":\"carpet\"}],\"table\":[{\"cells\":{\"fill\":{\"color\":\"#EBF0F8\"},\"line\":{\"color\":\"white\"}},\"header\":{\"fill\":{\"color\":\"#C8D4E3\"},\"line\":{\"color\":\"white\"}},\"type\":\"table\"}],\"barpolar\":[{\"marker\":{\"line\":{\"color\":\"#E5ECF6\",\"width\":0.5},\"pattern\":{\"fillmode\":\"overlay\",\"size\":10,\"solidity\":0.2}},\"type\":\"barpolar\"}],\"pie\":[{\"automargin\":true,\"type\":\"pie\"}]},\"layout\":{\"autotypenumbers\":\"strict\",\"colorway\":[\"#636efa\",\"#EF553B\",\"#00cc96\",\"#ab63fa\",\"#FFA15A\",\"#19d3f3\",\"#FF6692\",\"#B6E880\",\"#FF97FF\",\"#FECB52\"],\"font\":{\"color\":\"#2a3f5f\"},\"hovermode\":\"closest\",\"hoverlabel\":{\"align\":\"left\"},\"paper_bgcolor\":\"white\",\"plot_bgcolor\":\"#E5ECF6\",\"polar\":{\"bgcolor\":\"#E5ECF6\",\"angularaxis\":{\"gridcolor\":\"white\",\"linecolor\":\"white\",\"ticks\":\"\"},\"radialaxis\":{\"gridcolor\":\"white\",\"linecolor\":\"white\",\"ticks\":\"\"}},\"ternary\":{\"bgcolor\":\"#E5ECF6\",\"aaxis\":{\"gridcolor\":\"white\",\"linecolor\":\"white\",\"ticks\":\"\"},\"baxis\":{\"gridcolor\":\"white\",\"linecolor\":\"white\",\"ticks\":\"\"},\"caxis\":{\"gridcolor\":\"white\",\"linecolor\":\"white\",\"ticks\":\"\"}},\"coloraxis\":{\"colorbar\":{\"outlinewidth\":0,\"ticks\":\"\"}},\"colorscale\":{\"sequential\":[[0.0,\"#0d0887\"],[0.1111111111111111,\"#46039f\"],[0.2222222222222222,\"#7201a8\"],[0.3333333333333333,\"#9c179e\"],[0.4444444444444444,\"#bd3786\"],[0.5555555555555556,\"#d8576b\"],[0.6666666666666666,\"#ed7953\"],[0.7777777777777778,\"#fb9f3a\"],[0.8888888888888888,\"#fdca26\"],[1.0,\"#f0f921\"]],\"sequentialminus\":[[0.0,\"#0d0887\"],[0.1111111111111111,\"#46039f\"],[0.2222222222222222,\"#7201a8\"],[0.3333333333333333,\"#9c179e\"],[0.4444444444444444,\"#bd3786\"],[0.5555555555555556,\"#d8576b\"],[0.6666666666666666,\"#ed7953\"],[0.7777777777777778,\"#fb9f3a\"],[0.8888888888888888,\"#fdca26\"],[1.0,\"#f0f921\"]],\"diverging\":[[0,\"#8e0152\"],[0.1,\"#c51b7d\"],[0.2,\"#de77ae\"],[0.3,\"#f1b6da\"],[0.4,\"#fde0ef\"],[0.5,\"#f7f7f7\"],[0.6,\"#e6f5d0\"],[0.7,\"#b8e186\"],[0.8,\"#7fbc41\"],[0.9,\"#4d9221\"],[1,\"#276419\"]]},\"xaxis\":{\"gridcolor\":\"white\",\"linecolor\":\"white\",\"ticks\":\"\",\"title\":{\"standoff\":15},\"zerolinecolor\":\"white\",\"automargin\":true,\"zerolinewidth\":2},\"yaxis\":{\"gridcolor\":\"white\",\"linecolor\":\"white\",\"ticks\":\"\",\"title\":{\"standoff\":15},\"zerolinecolor\":\"white\",\"automargin\":true,\"zerolinewidth\":2},\"scene\":{\"xaxis\":{\"backgroundcolor\":\"#E5ECF6\",\"gridcolor\":\"white\",\"linecolor\":\"white\",\"showbackground\":true,\"ticks\":\"\",\"zerolinecolor\":\"white\",\"gridwidth\":2},\"yaxis\":{\"backgroundcolor\":\"#E5ECF6\",\"gridcolor\":\"white\",\"linecolor\":\"white\",\"showbackground\":true,\"ticks\":\"\",\"zerolinecolor\":\"white\",\"gridwidth\":2},\"zaxis\":{\"backgroundcolor\":\"#E5ECF6\",\"gridcolor\":\"white\",\"linecolor\":\"white\",\"showbackground\":true,\"ticks\":\"\",\"zerolinecolor\":\"white\",\"gridwidth\":2}},\"shapedefaults\":{\"line\":{\"color\":\"#2a3f5f\"}},\"annotationdefaults\":{\"arrowcolor\":\"#2a3f5f\",\"arrowhead\":0,\"arrowwidth\":1},\"geo\":{\"bgcolor\":\"white\",\"landcolor\":\"#E5ECF6\",\"subunitcolor\":\"white\",\"showland\":true,\"showlakes\":true,\"lakecolor\":\"white\"},\"title\":{\"x\":0.05},\"mapbox\":{\"style\":\"light\"}}},\"xaxis\":{\"anchor\":\"y\",\"domain\":[0.0,1.0],\"title\":{\"text\":\"director\"}},\"yaxis\":{\"anchor\":\"x\",\"domain\":[0.0,1.0],\"title\":{\"text\":\"ROI\"}},\"legend\":{\"tracegroupgap\":0},\"margin\":{\"t\":60},\"barmode\":\"relative\"},                        {\"responsive\": true}                    ).then(function(){\n",
       "                            \n",
       "var gd = document.getElementById('8bb1c160-91a7-431f-a7cb-ff7146086b5f');\n",
       "var x = new MutationObserver(function (mutations, observer) {{\n",
       "        var display = window.getComputedStyle(gd).display;\n",
       "        if (!display || display === 'none') {{\n",
       "            console.log([gd, 'removed!']);\n",
       "            Plotly.purge(gd);\n",
       "            observer.disconnect();\n",
       "        }}\n",
       "}});\n",
       "\n",
       "// Listen for the removal of the full notebook cells\n",
       "var notebookContainer = gd.closest('#notebook-container');\n",
       "if (notebookContainer) {{\n",
       "    x.observe(notebookContainer, {childList: true});\n",
       "}}\n",
       "\n",
       "// Listen for the clearing of the current output cell\n",
       "var outputEl = gd.closest('.output');\n",
       "if (outputEl) {{\n",
       "    x.observe(outputEl, {childList: true});\n",
       "}}\n",
       "\n",
       "                        })                };                });            </script>        </div>"
      ]
     },
     "metadata": {},
     "output_type": "display_data"
    }
   ],
   "source": [
    "fig = px.bar(grouped_by_director_filtered, x = \"director\", y = \"ROI\", color_discrete_sequence = [\"pink\"])\n",
    "fig.show();"
   ]
  },
  {
   "cell_type": "code",
   "execution_count": 26,
   "id": "06ee92fb",
   "metadata": {},
   "outputs": [
    {
     "data": {
      "text/html": [
       "<div>\n",
       "<style scoped>\n",
       "    .dataframe tbody tr th:only-of-type {\n",
       "        vertical-align: middle;\n",
       "    }\n",
       "\n",
       "    .dataframe tbody tr th {\n",
       "        vertical-align: top;\n",
       "    }\n",
       "\n",
       "    .dataframe thead th {\n",
       "        text-align: right;\n",
       "    }\n",
       "</style>\n",
       "<table border=\"1\" class=\"dataframe\">\n",
       "  <thead>\n",
       "    <tr style=\"text-align: right;\">\n",
       "      <th></th>\n",
       "      <th>title</th>\n",
       "      <th>ROI</th>\n",
       "      <th>profit</th>\n",
       "      <th>prod_budget</th>\n",
       "      <th>dom_gross</th>\n",
       "      <th>world_gross</th>\n",
       "      <th>genres</th>\n",
       "      <th>director</th>\n",
       "      <th>writer</th>\n",
       "      <th>runtime_min</th>\n",
       "      <th>release_date</th>\n",
       "    </tr>\n",
       "  </thead>\n",
       "  <tbody>\n",
       "    <tr>\n",
       "      <th>1</th>\n",
       "      <td>10 cloverfield lane</td>\n",
       "      <td>2065.728440</td>\n",
       "      <td>103286422</td>\n",
       "      <td>5000000</td>\n",
       "      <td>72082999</td>\n",
       "      <td>108286422</td>\n",
       "      <td>[Sci-Fi, Mystery, Drama, Horror, Thriller]</td>\n",
       "      <td>[Dan Trachtenberg]</td>\n",
       "      <td>Matthew Stuecken</td>\n",
       "      <td>103.0</td>\n",
       "      <td>2016-03-11</td>\n",
       "    </tr>\n",
       "    <tr>\n",
       "      <th>1</th>\n",
       "      <td>10 cloverfield lane</td>\n",
       "      <td>2065.728440</td>\n",
       "      <td>103286422</td>\n",
       "      <td>5000000</td>\n",
       "      <td>72082999</td>\n",
       "      <td>108286422</td>\n",
       "      <td>[Sci-Fi, Mystery, Drama, Horror, Thriller]</td>\n",
       "      <td>[Dan Trachtenberg]</td>\n",
       "      <td>Josh Campbell</td>\n",
       "      <td>103.0</td>\n",
       "      <td>2016-03-11</td>\n",
       "    </tr>\n",
       "    <tr>\n",
       "      <th>1</th>\n",
       "      <td>10 cloverfield lane</td>\n",
       "      <td>2065.728440</td>\n",
       "      <td>103286422</td>\n",
       "      <td>5000000</td>\n",
       "      <td>72082999</td>\n",
       "      <td>108286422</td>\n",
       "      <td>[Sci-Fi, Mystery, Drama, Horror, Thriller]</td>\n",
       "      <td>[Dan Trachtenberg]</td>\n",
       "      <td>Damien Chazelle</td>\n",
       "      <td>103.0</td>\n",
       "      <td>2016-03-11</td>\n",
       "    </tr>\n",
       "    <tr>\n",
       "      <th>2</th>\n",
       "      <td>10 days in a madhouse</td>\n",
       "      <td>-99.878200</td>\n",
       "      <td>-11985384</td>\n",
       "      <td>12000000</td>\n",
       "      <td>14616</td>\n",
       "      <td>14616</td>\n",
       "      <td>[Drama, None]</td>\n",
       "      <td>[Timothy Hines]</td>\n",
       "      <td>Timothy Hines</td>\n",
       "      <td>111.0</td>\n",
       "      <td>2015-11-11</td>\n",
       "    </tr>\n",
       "    <tr>\n",
       "      <th>10</th>\n",
       "      <td>12 strong</td>\n",
       "      <td>103.195366</td>\n",
       "      <td>36118378</td>\n",
       "      <td>35000000</td>\n",
       "      <td>45819713</td>\n",
       "      <td>71118378</td>\n",
       "      <td>[War, History, Action, Drama]</td>\n",
       "      <td>[Nicolai Fuglsig]</td>\n",
       "      <td>Ted Tally</td>\n",
       "      <td>130.0</td>\n",
       "      <td>2018-01-19</td>\n",
       "    </tr>\n",
       "    <tr>\n",
       "      <th>...</th>\n",
       "      <td>...</td>\n",
       "      <td>...</td>\n",
       "      <td>...</td>\n",
       "      <td>...</td>\n",
       "      <td>...</td>\n",
       "      <td>...</td>\n",
       "      <td>...</td>\n",
       "      <td>...</td>\n",
       "      <td>...</td>\n",
       "      <td>...</td>\n",
       "      <td>...</td>\n",
       "    </tr>\n",
       "    <tr>\n",
       "      <th>5693</th>\n",
       "      <td>zootopia</td>\n",
       "      <td>579.619744</td>\n",
       "      <td>869429616</td>\n",
       "      <td>150000000</td>\n",
       "      <td>341268248</td>\n",
       "      <td>1019429616</td>\n",
       "      <td>[Adventure, Family, Comedy, Animation]</td>\n",
       "      <td>[Rich Moore, Jared Bush, Byron Howard]</td>\n",
       "      <td>Byron Howard</td>\n",
       "      <td>108.0</td>\n",
       "      <td>2016-03-04</td>\n",
       "    </tr>\n",
       "    <tr>\n",
       "      <th>5693</th>\n",
       "      <td>zootopia</td>\n",
       "      <td>579.619744</td>\n",
       "      <td>869429616</td>\n",
       "      <td>150000000</td>\n",
       "      <td>341268248</td>\n",
       "      <td>1019429616</td>\n",
       "      <td>[Adventure, Family, Comedy, Animation]</td>\n",
       "      <td>[Rich Moore, Jared Bush, Byron Howard]</td>\n",
       "      <td>Rich Moore</td>\n",
       "      <td>108.0</td>\n",
       "      <td>2016-03-04</td>\n",
       "    </tr>\n",
       "    <tr>\n",
       "      <th>5694</th>\n",
       "      <td>zulu</td>\n",
       "      <td>-88.473575</td>\n",
       "      <td>-14155772</td>\n",
       "      <td>16000000</td>\n",
       "      <td>0</td>\n",
       "      <td>1844228</td>\n",
       "      <td>[Thriller, Drama, Crime, None]</td>\n",
       "      <td>[Jérôme Salle]</td>\n",
       "      <td>Jérôme Salle</td>\n",
       "      <td>110.0</td>\n",
       "      <td>2013-12-31</td>\n",
       "    </tr>\n",
       "    <tr>\n",
       "      <th>5694</th>\n",
       "      <td>zulu</td>\n",
       "      <td>-88.473575</td>\n",
       "      <td>-14155772</td>\n",
       "      <td>16000000</td>\n",
       "      <td>0</td>\n",
       "      <td>1844228</td>\n",
       "      <td>[Thriller, Drama, Crime, None]</td>\n",
       "      <td>[Jérôme Salle]</td>\n",
       "      <td>Julien Rappeneau</td>\n",
       "      <td>110.0</td>\n",
       "      <td>2013-12-31</td>\n",
       "    </tr>\n",
       "    <tr>\n",
       "      <th>5694</th>\n",
       "      <td>zulu</td>\n",
       "      <td>-88.473575</td>\n",
       "      <td>-14155772</td>\n",
       "      <td>16000000</td>\n",
       "      <td>0</td>\n",
       "      <td>1844228</td>\n",
       "      <td>[Thriller, Drama, Crime, None]</td>\n",
       "      <td>[Jérôme Salle]</td>\n",
       "      <td>Caryl Ferey</td>\n",
       "      <td>110.0</td>\n",
       "      <td>2013-12-31</td>\n",
       "    </tr>\n",
       "  </tbody>\n",
       "</table>\n",
       "<p>3188 rows × 11 columns</p>\n",
       "</div>"
      ],
      "text/plain": [
       "                      title          ROI     profit  prod_budget  dom_gross  \\\n",
       "1       10 cloverfield lane  2065.728440  103286422      5000000   72082999   \n",
       "1       10 cloverfield lane  2065.728440  103286422      5000000   72082999   \n",
       "1       10 cloverfield lane  2065.728440  103286422      5000000   72082999   \n",
       "2     10 days in a madhouse   -99.878200  -11985384     12000000      14616   \n",
       "10                12 strong   103.195366   36118378     35000000   45819713   \n",
       "...                     ...          ...        ...          ...        ...   \n",
       "5693               zootopia   579.619744  869429616    150000000  341268248   \n",
       "5693               zootopia   579.619744  869429616    150000000  341268248   \n",
       "5694                   zulu   -88.473575  -14155772     16000000          0   \n",
       "5694                   zulu   -88.473575  -14155772     16000000          0   \n",
       "5694                   zulu   -88.473575  -14155772     16000000          0   \n",
       "\n",
       "      world_gross                                      genres  \\\n",
       "1       108286422  [Sci-Fi, Mystery, Drama, Horror, Thriller]   \n",
       "1       108286422  [Sci-Fi, Mystery, Drama, Horror, Thriller]   \n",
       "1       108286422  [Sci-Fi, Mystery, Drama, Horror, Thriller]   \n",
       "2           14616                               [Drama, None]   \n",
       "10       71118378               [War, History, Action, Drama]   \n",
       "...           ...                                         ...   \n",
       "5693   1019429616      [Adventure, Family, Comedy, Animation]   \n",
       "5693   1019429616      [Adventure, Family, Comedy, Animation]   \n",
       "5694      1844228              [Thriller, Drama, Crime, None]   \n",
       "5694      1844228              [Thriller, Drama, Crime, None]   \n",
       "5694      1844228              [Thriller, Drama, Crime, None]   \n",
       "\n",
       "                                    director            writer  runtime_min  \\\n",
       "1                         [Dan Trachtenberg]  Matthew Stuecken        103.0   \n",
       "1                         [Dan Trachtenberg]     Josh Campbell        103.0   \n",
       "1                         [Dan Trachtenberg]   Damien Chazelle        103.0   \n",
       "2                            [Timothy Hines]     Timothy Hines        111.0   \n",
       "10                         [Nicolai Fuglsig]         Ted Tally        130.0   \n",
       "...                                      ...               ...          ...   \n",
       "5693  [Rich Moore, Jared Bush, Byron Howard]      Byron Howard        108.0   \n",
       "5693  [Rich Moore, Jared Bush, Byron Howard]        Rich Moore        108.0   \n",
       "5694                          [Jérôme Salle]      Jérôme Salle        110.0   \n",
       "5694                          [Jérôme Salle]  Julien Rappeneau        110.0   \n",
       "5694                          [Jérôme Salle]       Caryl Ferey        110.0   \n",
       "\n",
       "     release_date  \n",
       "1      2016-03-11  \n",
       "1      2016-03-11  \n",
       "1      2016-03-11  \n",
       "2      2015-11-11  \n",
       "10     2018-01-19  \n",
       "...           ...  \n",
       "5693   2016-03-04  \n",
       "5693   2016-03-04  \n",
       "5694   2013-12-31  \n",
       "5694   2013-12-31  \n",
       "5694   2013-12-31  \n",
       "\n",
       "[3188 rows x 11 columns]"
      ]
     },
     "execution_count": 26,
     "metadata": {},
     "output_type": "execute_result"
    }
   ],
   "source": [
    "test2_filtered_date = filtered_df_by_date.explode(\"writer\")\n",
    "test2_filtered_date"
   ]
  },
  {
   "cell_type": "code",
   "execution_count": null,
   "id": "bcb2efc8",
   "metadata": {},
   "outputs": [],
   "source": []
  }
 ],
 "metadata": {
  "kernelspec": {
   "display_name": "Python 3 (ipykernel)",
   "language": "python",
   "name": "python3"
  },
  "language_info": {
   "codemirror_mode": {
    "name": "ipython",
    "version": 3
   },
   "file_extension": ".py",
   "mimetype": "text/x-python",
   "name": "python",
   "nbconvert_exporter": "python",
   "pygments_lexer": "ipython3",
   "version": "3.9.13"
  }
 },
 "nbformat": 4,
 "nbformat_minor": 5
}
