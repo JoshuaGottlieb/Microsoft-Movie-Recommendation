{
 "cells": [
  {
   "cell_type": "code",
   "execution_count": 1,
   "id": "804abee1",
   "metadata": {},
   "outputs": [],
   "source": [
    "import pandas as pd\n",
    "import numpy as np\n",
    "import matplotlib.pyplot as plt\n",
    "import seaborn as sns\n",
    "import plotly.express as pe"
   ]
  },
  {
   "cell_type": "code",
   "execution_count": 2,
   "id": "8c7cb79d",
   "metadata": {},
   "outputs": [],
   "source": [
    "df = pd.read_parquet('../zippedData/merged_data.parquet')"
   ]
  },
  {
   "cell_type": "code",
   "execution_count": 3,
   "id": "29d094e1",
   "metadata": {},
   "outputs": [],
   "source": [
    "df.release_date = pd.to_datetime(df.release_date)"
   ]
  },
  {
   "cell_type": "code",
   "execution_count": 4,
   "id": "e4e7d46e",
   "metadata": {},
   "outputs": [],
   "source": [
    "df['year'] = df['release_date'].dt.year"
   ]
  },
  {
   "cell_type": "code",
   "execution_count": 5,
   "id": "f8d125a6",
   "metadata": {},
   "outputs": [],
   "source": [
    "genre = df.loc[df['year']>= 2012]"
   ]
  },
  {
   "cell_type": "code",
   "execution_count": 6,
   "id": "3680376e",
   "metadata": {},
   "outputs": [],
   "source": [
    "genre_all = df.explode('genres')"
   ]
  },
  {
   "cell_type": "code",
   "execution_count": 7,
   "id": "2903ea7d",
   "metadata": {},
   "outputs": [],
   "source": [
    "genre = genre.explode('genres')"
   ]
  },
  {
   "cell_type": "code",
   "execution_count": 8,
   "id": "49748b6c",
   "metadata": {},
   "outputs": [
    {
     "data": {
      "text/html": [
       "<div>\n",
       "<style scoped>\n",
       "    .dataframe tbody tr th:only-of-type {\n",
       "        vertical-align: middle;\n",
       "    }\n",
       "\n",
       "    .dataframe tbody tr th {\n",
       "        vertical-align: top;\n",
       "    }\n",
       "\n",
       "    .dataframe thead th {\n",
       "        text-align: right;\n",
       "    }\n",
       "</style>\n",
       "<table border=\"1\" class=\"dataframe\">\n",
       "  <thead>\n",
       "    <tr style=\"text-align: right;\">\n",
       "      <th></th>\n",
       "      <th>ROI</th>\n",
       "      <th>profit</th>\n",
       "      <th>prod_budget</th>\n",
       "      <th>dom_gross</th>\n",
       "      <th>world_gross</th>\n",
       "      <th>runtime_min</th>\n",
       "      <th>year</th>\n",
       "    </tr>\n",
       "    <tr>\n",
       "      <th>genres</th>\n",
       "      <th></th>\n",
       "      <th></th>\n",
       "      <th></th>\n",
       "      <th></th>\n",
       "      <th></th>\n",
       "      <th></th>\n",
       "      <th></th>\n",
       "    </tr>\n",
       "  </thead>\n",
       "  <tbody>\n",
       "    <tr>\n",
       "      <th>Animation</th>\n",
       "      <td>198.256071</td>\n",
       "      <td>155707267.0</td>\n",
       "      <td>75000000.0</td>\n",
       "      <td>91879935.5</td>\n",
       "      <td>266300435.5</td>\n",
       "      <td>93.5</td>\n",
       "      <td>2015.0</td>\n",
       "    </tr>\n",
       "    <tr>\n",
       "      <th>Mystery</th>\n",
       "      <td>177.061834</td>\n",
       "      <td>29065832.0</td>\n",
       "      <td>10000000.0</td>\n",
       "      <td>25137335.0</td>\n",
       "      <td>42658231.5</td>\n",
       "      <td>105.0</td>\n",
       "      <td>2015.0</td>\n",
       "    </tr>\n",
       "    <tr>\n",
       "      <th>Horror</th>\n",
       "      <td>166.547080</td>\n",
       "      <td>19966854.0</td>\n",
       "      <td>7000000.0</td>\n",
       "      <td>17530219.0</td>\n",
       "      <td>31187727.0</td>\n",
       "      <td>94.5</td>\n",
       "      <td>2015.0</td>\n",
       "    </tr>\n",
       "    <tr>\n",
       "      <th>Fantasy</th>\n",
       "      <td>164.645551</td>\n",
       "      <td>92459523.5</td>\n",
       "      <td>85000000.0</td>\n",
       "      <td>59062664.0</td>\n",
       "      <td>191825988.5</td>\n",
       "      <td>107.0</td>\n",
       "      <td>2015.0</td>\n",
       "    </tr>\n",
       "    <tr>\n",
       "      <th>Family</th>\n",
       "      <td>162.794441</td>\n",
       "      <td>88577874.0</td>\n",
       "      <td>60000000.0</td>\n",
       "      <td>71017784.0</td>\n",
       "      <td>158905324.0</td>\n",
       "      <td>98.0</td>\n",
       "      <td>2015.0</td>\n",
       "    </tr>\n",
       "    <tr>\n",
       "      <th>Adventure</th>\n",
       "      <td>161.933473</td>\n",
       "      <td>124806430.0</td>\n",
       "      <td>95000000.0</td>\n",
       "      <td>72688614.0</td>\n",
       "      <td>219519367.0</td>\n",
       "      <td>108.0</td>\n",
       "      <td>2015.0</td>\n",
       "    </tr>\n",
       "    <tr>\n",
       "      <th>Comedy</th>\n",
       "      <td>152.617788</td>\n",
       "      <td>31623819.0</td>\n",
       "      <td>25000000.0</td>\n",
       "      <td>34366783.0</td>\n",
       "      <td>61623819.0</td>\n",
       "      <td>102.0</td>\n",
       "      <td>2015.0</td>\n",
       "    </tr>\n",
       "    <tr>\n",
       "      <th>Sci-Fi</th>\n",
       "      <td>145.944250</td>\n",
       "      <td>105900574.5</td>\n",
       "      <td>89000000.0</td>\n",
       "      <td>63156183.0</td>\n",
       "      <td>204877706.0</td>\n",
       "      <td>113.5</td>\n",
       "      <td>2015.0</td>\n",
       "    </tr>\n",
       "    <tr>\n",
       "      <th>Romance</th>\n",
       "      <td>131.566711</td>\n",
       "      <td>15492694.5</td>\n",
       "      <td>15850000.0</td>\n",
       "      <td>20604665.0</td>\n",
       "      <td>39198146.0</td>\n",
       "      <td>105.0</td>\n",
       "      <td>2014.0</td>\n",
       "    </tr>\n",
       "    <tr>\n",
       "      <th>Action</th>\n",
       "      <td>120.174700</td>\n",
       "      <td>56249176.0</td>\n",
       "      <td>58000000.0</td>\n",
       "      <td>45852178.0</td>\n",
       "      <td>124827316.0</td>\n",
       "      <td>113.0</td>\n",
       "      <td>2015.0</td>\n",
       "    </tr>\n",
       "    <tr>\n",
       "      <th>Musical</th>\n",
       "      <td>118.769570</td>\n",
       "      <td>9057044.5</td>\n",
       "      <td>13750000.0</td>\n",
       "      <td>13933468.0</td>\n",
       "      <td>29585388.0</td>\n",
       "      <td>106.5</td>\n",
       "      <td>2014.5</td>\n",
       "    </tr>\n",
       "    <tr>\n",
       "      <th>Thriller</th>\n",
       "      <td>101.708933</td>\n",
       "      <td>22651864.0</td>\n",
       "      <td>18000000.0</td>\n",
       "      <td>21218403.0</td>\n",
       "      <td>43226146.0</td>\n",
       "      <td>105.0</td>\n",
       "      <td>2015.0</td>\n",
       "    </tr>\n",
       "    <tr>\n",
       "      <th>Biography</th>\n",
       "      <td>93.104617</td>\n",
       "      <td>18717667.0</td>\n",
       "      <td>20000000.0</td>\n",
       "      <td>22958583.0</td>\n",
       "      <td>38073377.0</td>\n",
       "      <td>120.0</td>\n",
       "      <td>2016.0</td>\n",
       "    </tr>\n",
       "    <tr>\n",
       "      <th>Drama</th>\n",
       "      <td>68.449583</td>\n",
       "      <td>10531500.0</td>\n",
       "      <td>15000000.0</td>\n",
       "      <td>15323921.0</td>\n",
       "      <td>29204379.0</td>\n",
       "      <td>110.0</td>\n",
       "      <td>2015.0</td>\n",
       "    </tr>\n",
       "    <tr>\n",
       "      <th>Sport</th>\n",
       "      <td>56.871648</td>\n",
       "      <td>15138912.0</td>\n",
       "      <td>20000000.0</td>\n",
       "      <td>28842237.0</td>\n",
       "      <td>39217912.0</td>\n",
       "      <td>118.0</td>\n",
       "      <td>2015.0</td>\n",
       "    </tr>\n",
       "    <tr>\n",
       "      <th>Crime</th>\n",
       "      <td>54.872124</td>\n",
       "      <td>12608019.0</td>\n",
       "      <td>26000000.0</td>\n",
       "      <td>20537137.0</td>\n",
       "      <td>38771262.0</td>\n",
       "      <td>109.0</td>\n",
       "      <td>2015.0</td>\n",
       "    </tr>\n",
       "    <tr>\n",
       "      <th>History</th>\n",
       "      <td>34.210396</td>\n",
       "      <td>10143181.5</td>\n",
       "      <td>25000000.0</td>\n",
       "      <td>17117578.5</td>\n",
       "      <td>37330944.5</td>\n",
       "      <td>122.0</td>\n",
       "      <td>2016.0</td>\n",
       "    </tr>\n",
       "    <tr>\n",
       "      <th>War</th>\n",
       "      <td>12.515718</td>\n",
       "      <td>888305.0</td>\n",
       "      <td>22500000.0</td>\n",
       "      <td>18704596.0</td>\n",
       "      <td>25350747.0</td>\n",
       "      <td>119.5</td>\n",
       "      <td>2016.0</td>\n",
       "    </tr>\n",
       "    <tr>\n",
       "      <th>Documentary</th>\n",
       "      <td>-2.018450</td>\n",
       "      <td>421325.0</td>\n",
       "      <td>956500.0</td>\n",
       "      <td>103193.0</td>\n",
       "      <td>711860.0</td>\n",
       "      <td>86.0</td>\n",
       "      <td>2014.0</td>\n",
       "    </tr>\n",
       "    <tr>\n",
       "      <th>Western</th>\n",
       "      <td>-27.046979</td>\n",
       "      <td>-1262077.0</td>\n",
       "      <td>31500000.0</td>\n",
       "      <td>4526269.5</td>\n",
       "      <td>10795004.0</td>\n",
       "      <td>119.0</td>\n",
       "      <td>2015.0</td>\n",
       "    </tr>\n",
       "    <tr>\n",
       "      <th>None</th>\n",
       "      <td>-54.029667</td>\n",
       "      <td>-250000.0</td>\n",
       "      <td>7500000.0</td>\n",
       "      <td>129479.0</td>\n",
       "      <td>3090593.0</td>\n",
       "      <td>101.0</td>\n",
       "      <td>2015.0</td>\n",
       "    </tr>\n",
       "  </tbody>\n",
       "</table>\n",
       "</div>"
      ],
      "text/plain": [
       "                    ROI       profit  prod_budget   dom_gross  world_gross  \\\n",
       "genres                                                                       \n",
       "Animation    198.256071  155707267.0   75000000.0  91879935.5  266300435.5   \n",
       "Mystery      177.061834   29065832.0   10000000.0  25137335.0   42658231.5   \n",
       "Horror       166.547080   19966854.0    7000000.0  17530219.0   31187727.0   \n",
       "Fantasy      164.645551   92459523.5   85000000.0  59062664.0  191825988.5   \n",
       "Family       162.794441   88577874.0   60000000.0  71017784.0  158905324.0   \n",
       "Adventure    161.933473  124806430.0   95000000.0  72688614.0  219519367.0   \n",
       "Comedy       152.617788   31623819.0   25000000.0  34366783.0   61623819.0   \n",
       "Sci-Fi       145.944250  105900574.5   89000000.0  63156183.0  204877706.0   \n",
       "Romance      131.566711   15492694.5   15850000.0  20604665.0   39198146.0   \n",
       "Action       120.174700   56249176.0   58000000.0  45852178.0  124827316.0   \n",
       "Musical      118.769570    9057044.5   13750000.0  13933468.0   29585388.0   \n",
       "Thriller     101.708933   22651864.0   18000000.0  21218403.0   43226146.0   \n",
       "Biography     93.104617   18717667.0   20000000.0  22958583.0   38073377.0   \n",
       "Drama         68.449583   10531500.0   15000000.0  15323921.0   29204379.0   \n",
       "Sport         56.871648   15138912.0   20000000.0  28842237.0   39217912.0   \n",
       "Crime         54.872124   12608019.0   26000000.0  20537137.0   38771262.0   \n",
       "History       34.210396   10143181.5   25000000.0  17117578.5   37330944.5   \n",
       "War           12.515718     888305.0   22500000.0  18704596.0   25350747.0   \n",
       "Documentary   -2.018450     421325.0     956500.0    103193.0     711860.0   \n",
       "Western      -27.046979   -1262077.0   31500000.0   4526269.5   10795004.0   \n",
       "None         -54.029667    -250000.0    7500000.0    129479.0    3090593.0   \n",
       "\n",
       "             runtime_min    year  \n",
       "genres                            \n",
       "Animation           93.5  2015.0  \n",
       "Mystery            105.0  2015.0  \n",
       "Horror              94.5  2015.0  \n",
       "Fantasy            107.0  2015.0  \n",
       "Family              98.0  2015.0  \n",
       "Adventure          108.0  2015.0  \n",
       "Comedy             102.0  2015.0  \n",
       "Sci-Fi             113.5  2015.0  \n",
       "Romance            105.0  2014.0  \n",
       "Action             113.0  2015.0  \n",
       "Musical            106.5  2014.5  \n",
       "Thriller           105.0  2015.0  \n",
       "Biography          120.0  2016.0  \n",
       "Drama              110.0  2015.0  \n",
       "Sport              118.0  2015.0  \n",
       "Crime              109.0  2015.0  \n",
       "History            122.0  2016.0  \n",
       "War                119.5  2016.0  \n",
       "Documentary         86.0  2014.0  \n",
       "Western            119.0  2015.0  \n",
       "None               101.0  2015.0  "
      ]
     },
     "execution_count": 8,
     "metadata": {},
     "output_type": "execute_result"
    }
   ],
   "source": [
    "genre.groupby('genres').median().sort_values('ROI', ascending = False)"
   ]
  },
  {
   "cell_type": "code",
   "execution_count": 9,
   "id": "7efc1edd",
   "metadata": {},
   "outputs": [
    {
     "data": {
      "text/html": [
       "<div>\n",
       "<style scoped>\n",
       "    .dataframe tbody tr th:only-of-type {\n",
       "        vertical-align: middle;\n",
       "    }\n",
       "\n",
       "    .dataframe tbody tr th {\n",
       "        vertical-align: top;\n",
       "    }\n",
       "\n",
       "    .dataframe thead th {\n",
       "        text-align: right;\n",
       "    }\n",
       "</style>\n",
       "<table border=\"1\" class=\"dataframe\">\n",
       "  <thead>\n",
       "    <tr style=\"text-align: right;\">\n",
       "      <th></th>\n",
       "      <th>title</th>\n",
       "      <th>ROI</th>\n",
       "      <th>profit</th>\n",
       "      <th>prod_budget</th>\n",
       "      <th>dom_gross</th>\n",
       "      <th>world_gross</th>\n",
       "      <th>genres</th>\n",
       "      <th>director</th>\n",
       "      <th>writer</th>\n",
       "      <th>runtime_min</th>\n",
       "      <th>release_date</th>\n",
       "      <th>year</th>\n",
       "    </tr>\n",
       "  </thead>\n",
       "  <tbody>\n",
       "    <tr>\n",
       "      <th>1</th>\n",
       "      <td>10 cloverfield lane</td>\n",
       "      <td>2065.728440</td>\n",
       "      <td>103286422</td>\n",
       "      <td>5000000</td>\n",
       "      <td>72082999</td>\n",
       "      <td>108286422</td>\n",
       "      <td>Thriller</td>\n",
       "      <td>[Dan Trachtenberg]</td>\n",
       "      <td>[Matthew Stuecken, Josh Campbell, Damien Chaze...</td>\n",
       "      <td>103.0</td>\n",
       "      <td>2016-03-11</td>\n",
       "      <td>2016</td>\n",
       "    </tr>\n",
       "    <tr>\n",
       "      <th>1</th>\n",
       "      <td>10 cloverfield lane</td>\n",
       "      <td>2065.728440</td>\n",
       "      <td>103286422</td>\n",
       "      <td>5000000</td>\n",
       "      <td>72082999</td>\n",
       "      <td>108286422</td>\n",
       "      <td>Mystery</td>\n",
       "      <td>[Dan Trachtenberg]</td>\n",
       "      <td>[Matthew Stuecken, Josh Campbell, Damien Chaze...</td>\n",
       "      <td>103.0</td>\n",
       "      <td>2016-03-11</td>\n",
       "      <td>2016</td>\n",
       "    </tr>\n",
       "    <tr>\n",
       "      <th>1</th>\n",
       "      <td>10 cloverfield lane</td>\n",
       "      <td>2065.728440</td>\n",
       "      <td>103286422</td>\n",
       "      <td>5000000</td>\n",
       "      <td>72082999</td>\n",
       "      <td>108286422</td>\n",
       "      <td>Horror</td>\n",
       "      <td>[Dan Trachtenberg]</td>\n",
       "      <td>[Matthew Stuecken, Josh Campbell, Damien Chaze...</td>\n",
       "      <td>103.0</td>\n",
       "      <td>2016-03-11</td>\n",
       "      <td>2016</td>\n",
       "    </tr>\n",
       "    <tr>\n",
       "      <th>1</th>\n",
       "      <td>10 cloverfield lane</td>\n",
       "      <td>2065.728440</td>\n",
       "      <td>103286422</td>\n",
       "      <td>5000000</td>\n",
       "      <td>72082999</td>\n",
       "      <td>108286422</td>\n",
       "      <td>Sci-Fi</td>\n",
       "      <td>[Dan Trachtenberg]</td>\n",
       "      <td>[Matthew Stuecken, Josh Campbell, Damien Chaze...</td>\n",
       "      <td>103.0</td>\n",
       "      <td>2016-03-11</td>\n",
       "      <td>2016</td>\n",
       "    </tr>\n",
       "    <tr>\n",
       "      <th>12</th>\n",
       "      <td>127 hours</td>\n",
       "      <td>234.539839</td>\n",
       "      <td>42217171</td>\n",
       "      <td>18000000</td>\n",
       "      <td>18335230</td>\n",
       "      <td>60217171</td>\n",
       "      <td>Adventure</td>\n",
       "      <td>[Danny Boyle]</td>\n",
       "      <td>[Danny Boyle, Simon Beaufoy, Aron Ralston]</td>\n",
       "      <td>94.0</td>\n",
       "      <td>2010-11-05</td>\n",
       "      <td>2010</td>\n",
       "    </tr>\n",
       "    <tr>\n",
       "      <th>...</th>\n",
       "      <td>...</td>\n",
       "      <td>...</td>\n",
       "      <td>...</td>\n",
       "      <td>...</td>\n",
       "      <td>...</td>\n",
       "      <td>...</td>\n",
       "      <td>...</td>\n",
       "      <td>...</td>\n",
       "      <td>...</td>\n",
       "      <td>...</td>\n",
       "      <td>...</td>\n",
       "      <td>...</td>\n",
       "    </tr>\n",
       "    <tr>\n",
       "      <th>5689</th>\n",
       "      <td>zookeeper</td>\n",
       "      <td>113.506906</td>\n",
       "      <td>90805525</td>\n",
       "      <td>80000000</td>\n",
       "      <td>80360866</td>\n",
       "      <td>170805525</td>\n",
       "      <td>Romance</td>\n",
       "      <td>[Frank Coraci]</td>\n",
       "      <td>[Kevin James, Jay Scherick, Nick Bakay, Rock R...</td>\n",
       "      <td>102.0</td>\n",
       "      <td>2011-07-08</td>\n",
       "      <td>2011</td>\n",
       "    </tr>\n",
       "    <tr>\n",
       "      <th>5689</th>\n",
       "      <td>zookeeper</td>\n",
       "      <td>113.506906</td>\n",
       "      <td>90805525</td>\n",
       "      <td>80000000</td>\n",
       "      <td>80360866</td>\n",
       "      <td>170805525</td>\n",
       "      <td>Family</td>\n",
       "      <td>[Frank Coraci]</td>\n",
       "      <td>[Kevin James, Jay Scherick, Nick Bakay, Rock R...</td>\n",
       "      <td>102.0</td>\n",
       "      <td>2011-07-08</td>\n",
       "      <td>2011</td>\n",
       "    </tr>\n",
       "    <tr>\n",
       "      <th>5693</th>\n",
       "      <td>zootopia</td>\n",
       "      <td>579.619744</td>\n",
       "      <td>869429616</td>\n",
       "      <td>150000000</td>\n",
       "      <td>341268248</td>\n",
       "      <td>1019429616</td>\n",
       "      <td>Adventure</td>\n",
       "      <td>[Rich Moore, Jared Bush, Byron Howard]</td>\n",
       "      <td>[Josie Trinidad, Jared Bush, Jennifer Lee, Byr...</td>\n",
       "      <td>108.0</td>\n",
       "      <td>2016-03-04</td>\n",
       "      <td>2016</td>\n",
       "    </tr>\n",
       "    <tr>\n",
       "      <th>5693</th>\n",
       "      <td>zootopia</td>\n",
       "      <td>579.619744</td>\n",
       "      <td>869429616</td>\n",
       "      <td>150000000</td>\n",
       "      <td>341268248</td>\n",
       "      <td>1019429616</td>\n",
       "      <td>Family</td>\n",
       "      <td>[Rich Moore, Jared Bush, Byron Howard]</td>\n",
       "      <td>[Josie Trinidad, Jared Bush, Jennifer Lee, Byr...</td>\n",
       "      <td>108.0</td>\n",
       "      <td>2016-03-04</td>\n",
       "      <td>2016</td>\n",
       "    </tr>\n",
       "    <tr>\n",
       "      <th>5694</th>\n",
       "      <td>zulu</td>\n",
       "      <td>-88.473575</td>\n",
       "      <td>-14155772</td>\n",
       "      <td>16000000</td>\n",
       "      <td>0</td>\n",
       "      <td>1844228</td>\n",
       "      <td>Thriller</td>\n",
       "      <td>[Jérôme Salle]</td>\n",
       "      <td>[Caryl Ferey, Jérôme Salle, Julien Rappeneau]</td>\n",
       "      <td>110.0</td>\n",
       "      <td>2013-12-31</td>\n",
       "      <td>2013</td>\n",
       "    </tr>\n",
       "  </tbody>\n",
       "</table>\n",
       "<p>2127 rows × 12 columns</p>\n",
       "</div>"
      ],
      "text/plain": [
       "                    title          ROI     profit  prod_budget  dom_gross  \\\n",
       "1     10 cloverfield lane  2065.728440  103286422      5000000   72082999   \n",
       "1     10 cloverfield lane  2065.728440  103286422      5000000   72082999   \n",
       "1     10 cloverfield lane  2065.728440  103286422      5000000   72082999   \n",
       "1     10 cloverfield lane  2065.728440  103286422      5000000   72082999   \n",
       "12              127 hours   234.539839   42217171     18000000   18335230   \n",
       "...                   ...          ...        ...          ...        ...   \n",
       "5689            zookeeper   113.506906   90805525     80000000   80360866   \n",
       "5689            zookeeper   113.506906   90805525     80000000   80360866   \n",
       "5693             zootopia   579.619744  869429616    150000000  341268248   \n",
       "5693             zootopia   579.619744  869429616    150000000  341268248   \n",
       "5694                 zulu   -88.473575  -14155772     16000000          0   \n",
       "\n",
       "      world_gross     genres                                director  \\\n",
       "1       108286422   Thriller                      [Dan Trachtenberg]   \n",
       "1       108286422    Mystery                      [Dan Trachtenberg]   \n",
       "1       108286422     Horror                      [Dan Trachtenberg]   \n",
       "1       108286422     Sci-Fi                      [Dan Trachtenberg]   \n",
       "12       60217171  Adventure                           [Danny Boyle]   \n",
       "...           ...        ...                                     ...   \n",
       "5689    170805525    Romance                          [Frank Coraci]   \n",
       "5689    170805525     Family                          [Frank Coraci]   \n",
       "5693   1019429616  Adventure  [Rich Moore, Jared Bush, Byron Howard]   \n",
       "5693   1019429616     Family  [Rich Moore, Jared Bush, Byron Howard]   \n",
       "5694      1844228   Thriller                          [Jérôme Salle]   \n",
       "\n",
       "                                                 writer  runtime_min  \\\n",
       "1     [Matthew Stuecken, Josh Campbell, Damien Chaze...        103.0   \n",
       "1     [Matthew Stuecken, Josh Campbell, Damien Chaze...        103.0   \n",
       "1     [Matthew Stuecken, Josh Campbell, Damien Chaze...        103.0   \n",
       "1     [Matthew Stuecken, Josh Campbell, Damien Chaze...        103.0   \n",
       "12           [Danny Boyle, Simon Beaufoy, Aron Ralston]         94.0   \n",
       "...                                                 ...          ...   \n",
       "5689  [Kevin James, Jay Scherick, Nick Bakay, Rock R...        102.0   \n",
       "5689  [Kevin James, Jay Scherick, Nick Bakay, Rock R...        102.0   \n",
       "5693  [Josie Trinidad, Jared Bush, Jennifer Lee, Byr...        108.0   \n",
       "5693  [Josie Trinidad, Jared Bush, Jennifer Lee, Byr...        108.0   \n",
       "5694      [Caryl Ferey, Jérôme Salle, Julien Rappeneau]        110.0   \n",
       "\n",
       "     release_date  year  \n",
       "1      2016-03-11  2016  \n",
       "1      2016-03-11  2016  \n",
       "1      2016-03-11  2016  \n",
       "1      2016-03-11  2016  \n",
       "12     2010-11-05  2010  \n",
       "...           ...   ...  \n",
       "5689   2011-07-08  2011  \n",
       "5689   2011-07-08  2011  \n",
       "5693   2016-03-04  2016  \n",
       "5693   2016-03-04  2016  \n",
       "5694   2013-12-31  2013  \n",
       "\n",
       "[2127 rows x 12 columns]"
      ]
     },
     "execution_count": 9,
     "metadata": {},
     "output_type": "execute_result"
    }
   ],
   "source": [
    "new_genre = genre_all[genre_all.genres.isin(['Sci-Fi', 'Mystery', 'Horror', 'Thriller', 'Adventure', 'Family','Romance', 'Fantasy'])]\n",
    "new_genre"
   ]
  },
  {
   "cell_type": "code",
   "execution_count": 10,
   "id": "4dcab819",
   "metadata": {},
   "outputs": [
    {
     "data": {
      "text/html": [
       "<div>\n",
       "<style scoped>\n",
       "    .dataframe tbody tr th:only-of-type {\n",
       "        vertical-align: middle;\n",
       "    }\n",
       "\n",
       "    .dataframe tbody tr th {\n",
       "        vertical-align: top;\n",
       "    }\n",
       "\n",
       "    .dataframe thead th {\n",
       "        text-align: right;\n",
       "    }\n",
       "</style>\n",
       "<table border=\"1\" class=\"dataframe\">\n",
       "  <thead>\n",
       "    <tr style=\"text-align: right;\">\n",
       "      <th></th>\n",
       "      <th>year</th>\n",
       "      <th>genres</th>\n",
       "      <th>ROI</th>\n",
       "      <th>profit</th>\n",
       "      <th>prod_budget</th>\n",
       "      <th>dom_gross</th>\n",
       "      <th>world_gross</th>\n",
       "      <th>runtime_min</th>\n",
       "    </tr>\n",
       "  </thead>\n",
       "  <tbody>\n",
       "    <tr>\n",
       "      <th>0</th>\n",
       "      <td>1977</td>\n",
       "      <td>Sci-Fi</td>\n",
       "      <td>1604.002395</td>\n",
       "      <td>320800479.0</td>\n",
       "      <td>20000000.0</td>\n",
       "      <td>169100479.0</td>\n",
       "      <td>340800479.0</td>\n",
       "      <td>NaN</td>\n",
       "    </tr>\n",
       "    <tr>\n",
       "      <th>1</th>\n",
       "      <td>1982</td>\n",
       "      <td>Adventure</td>\n",
       "      <td>58.344565</td>\n",
       "      <td>9918576.0</td>\n",
       "      <td>17000000.0</td>\n",
       "      <td>26918576.0</td>\n",
       "      <td>26918576.0</td>\n",
       "      <td>NaN</td>\n",
       "    </tr>\n",
       "    <tr>\n",
       "      <th>2</th>\n",
       "      <td>1982</td>\n",
       "      <td>Sci-Fi</td>\n",
       "      <td>58.344565</td>\n",
       "      <td>9918576.0</td>\n",
       "      <td>17000000.0</td>\n",
       "      <td>26918576.0</td>\n",
       "      <td>26918576.0</td>\n",
       "      <td>NaN</td>\n",
       "    </tr>\n",
       "    <tr>\n",
       "      <th>3</th>\n",
       "      <td>1985</td>\n",
       "      <td>Thriller</td>\n",
       "      <td>82.058467</td>\n",
       "      <td>1230877.0</td>\n",
       "      <td>1500000.0</td>\n",
       "      <td>1690913.0</td>\n",
       "      <td>2730877.0</td>\n",
       "      <td>NaN</td>\n",
       "    </tr>\n",
       "    <tr>\n",
       "      <th>4</th>\n",
       "      <td>1986</td>\n",
       "      <td>Adventure</td>\n",
       "      <td>1811.805122</td>\n",
       "      <td>158954871.5</td>\n",
       "      <td>16900000.0</td>\n",
       "      <td>95152809.0</td>\n",
       "      <td>175854871.5</td>\n",
       "      <td>132.0</td>\n",
       "    </tr>\n",
       "    <tr>\n",
       "      <th>...</th>\n",
       "      <td>...</td>\n",
       "      <td>...</td>\n",
       "      <td>...</td>\n",
       "      <td>...</td>\n",
       "      <td>...</td>\n",
       "      <td>...</td>\n",
       "      <td>...</td>\n",
       "      <td>...</td>\n",
       "    </tr>\n",
       "    <tr>\n",
       "      <th>136</th>\n",
       "      <td>2019</td>\n",
       "      <td>Horror</td>\n",
       "      <td>350.073387</td>\n",
       "      <td>28005871.0</td>\n",
       "      <td>8000000.0</td>\n",
       "      <td>28051045.0</td>\n",
       "      <td>36005871.0</td>\n",
       "      <td>100.5</td>\n",
       "    </tr>\n",
       "    <tr>\n",
       "      <th>137</th>\n",
       "      <td>2019</td>\n",
       "      <td>Mystery</td>\n",
       "      <td>385.753708</td>\n",
       "      <td>41592683.0</td>\n",
       "      <td>20500000.0</td>\n",
       "      <td>31573474.5</td>\n",
       "      <td>50092683.0</td>\n",
       "      <td>107.5</td>\n",
       "    </tr>\n",
       "    <tr>\n",
       "      <th>138</th>\n",
       "      <td>2019</td>\n",
       "      <td>Romance</td>\n",
       "      <td>129.418546</td>\n",
       "      <td>26811467.0</td>\n",
       "      <td>14500000.0</td>\n",
       "      <td>37966040.5</td>\n",
       "      <td>56811467.0</td>\n",
       "      <td>116.5</td>\n",
       "    </tr>\n",
       "    <tr>\n",
       "      <th>139</th>\n",
       "      <td>2019</td>\n",
       "      <td>Sci-Fi</td>\n",
       "      <td>299.849971</td>\n",
       "      <td>114247755.0</td>\n",
       "      <td>25000000.0</td>\n",
       "      <td>42762350.0</td>\n",
       "      <td>149762350.0</td>\n",
       "      <td>117.5</td>\n",
       "    </tr>\n",
       "    <tr>\n",
       "      <th>140</th>\n",
       "      <td>2019</td>\n",
       "      <td>Thriller</td>\n",
       "      <td>325.631281</td>\n",
       "      <td>26545168.5</td>\n",
       "      <td>20000000.0</td>\n",
       "      <td>25452915.5</td>\n",
       "      <td>32045168.5</td>\n",
       "      <td>109.0</td>\n",
       "    </tr>\n",
       "  </tbody>\n",
       "</table>\n",
       "<p>141 rows × 8 columns</p>\n",
       "</div>"
      ],
      "text/plain": [
       "     year     genres          ROI       profit  prod_budget    dom_gross  \\\n",
       "0    1977     Sci-Fi  1604.002395  320800479.0   20000000.0  169100479.0   \n",
       "1    1982  Adventure    58.344565    9918576.0   17000000.0   26918576.0   \n",
       "2    1982     Sci-Fi    58.344565    9918576.0   17000000.0   26918576.0   \n",
       "3    1985   Thriller    82.058467    1230877.0    1500000.0    1690913.0   \n",
       "4    1986  Adventure  1811.805122  158954871.5   16900000.0   95152809.0   \n",
       "..    ...        ...          ...          ...          ...          ...   \n",
       "136  2019     Horror   350.073387   28005871.0    8000000.0   28051045.0   \n",
       "137  2019    Mystery   385.753708   41592683.0   20500000.0   31573474.5   \n",
       "138  2019    Romance   129.418546   26811467.0   14500000.0   37966040.5   \n",
       "139  2019     Sci-Fi   299.849971  114247755.0   25000000.0   42762350.0   \n",
       "140  2019   Thriller   325.631281   26545168.5   20000000.0   25452915.5   \n",
       "\n",
       "     world_gross  runtime_min  \n",
       "0    340800479.0          NaN  \n",
       "1     26918576.0          NaN  \n",
       "2     26918576.0          NaN  \n",
       "3      2730877.0          NaN  \n",
       "4    175854871.5        132.0  \n",
       "..           ...          ...  \n",
       "136   36005871.0        100.5  \n",
       "137   50092683.0        107.5  \n",
       "138   56811467.0        116.5  \n",
       "139  149762350.0        117.5  \n",
       "140   32045168.5        109.0  \n",
       "\n",
       "[141 rows x 8 columns]"
      ]
     },
     "execution_count": 10,
     "metadata": {},
     "output_type": "execute_result"
    }
   ],
   "source": [
    "new_genre.groupby(['year','genres']).median().reset_index()"
   ]
  },
  {
   "cell_type": "code",
   "execution_count": 11,
   "id": "1462a5c7",
   "metadata": {},
   "outputs": [],
   "source": [
    "graph_new_genre = new_genre.groupby(['year','genres']).median()\n",
    "graph_new_genre.reset_index(inplace = True)"
   ]
  },
  {
   "cell_type": "code",
   "execution_count": 12,
   "id": "e96be10c",
   "metadata": {},
   "outputs": [],
   "source": [
    "ROI_by_year = genre_all.groupby('year').ROI.median()"
   ]
  },
  {
   "cell_type": "code",
   "execution_count": 107,
   "id": "586d1f47",
   "metadata": {},
   "outputs": [
    {
     "data": {
      "text/plain": [
       "year\n",
       "1916    -100.000000\n",
       "1920    2900.000000\n",
       "1925    4505.180534\n",
       "1927    -100.000000\n",
       "1929    1049.868074\n",
       "           ...     \n",
       "2016     110.710179\n",
       "2017     145.898193\n",
       "2018     147.341730\n",
       "2019      76.045259\n",
       "2020    -100.000000\n",
       "Name: ROI, Length: 95, dtype: float64"
      ]
     },
     "execution_count": 107,
     "metadata": {},
     "output_type": "execute_result"
    }
   ],
   "source": [
    "ROI_by_year"
   ]
  },
  {
   "cell_type": "code",
   "execution_count": 44,
   "id": "e3bb9a1c",
   "metadata": {},
   "outputs": [
    {
     "data": {
      "application/vnd.plotly.v1+json": {
       "config": {
        "plotlyServerURL": "https://plot.ly"
       },
       "data": [
        {
         "hovertemplate": "year=%{x}<br>y=%{y}<extra></extra>",
         "legendgroup": "",
         "line": {
          "color": "#636efa",
          "dash": "solid"
         },
         "marker": {
          "symbol": "circle"
         },
         "mode": "lines",
         "name": "",
         "orientation": "v",
         "showlegend": false,
         "type": "scatter",
         "x": [
          1916,
          1920,
          1925,
          1927,
          1929,
          1930,
          1931,
          1933,
          1934,
          1935,
          1936,
          1937,
          1938,
          1939,
          1940,
          1941,
          1942,
          1943,
          1944,
          1945,
          1946,
          1947,
          1948,
          1949,
          1950,
          1951,
          1952,
          1953,
          1954,
          1955,
          1956,
          1957,
          1958,
          1959,
          1960,
          1961,
          1962,
          1963,
          1964,
          1965,
          1966,
          1967,
          1968,
          1969,
          1970,
          1971,
          1972,
          1973,
          1974,
          1975,
          1976,
          1977,
          1978,
          1979,
          1980,
          1981,
          1982,
          1983,
          1984,
          1985,
          1986,
          1987,
          1988,
          1989,
          1990,
          1991,
          1992,
          1993,
          1994,
          1995,
          1996,
          1997,
          1998,
          1999,
          2000,
          2001,
          2002,
          2003,
          2004,
          2005,
          2006,
          2007,
          2008,
          2009,
          2010,
          2011,
          2012,
          2013,
          2014,
          2015,
          2016,
          2017,
          2018,
          2019,
          2020
         ],
         "xaxis": "x",
         "y": [
          -100,
          2900,
          4505.180533751963,
          -100,
          1049.8680738786281,
          -100,
          61.29032258064516,
          659.7949886104784,
          669.2307692307693,
          425.7799671592775,
          -86.68353333333333,
          12327.78803763441,
          121.65450121654501,
          1135.3430320489738,
          366.0225155279503,
          -100,
          31135.431235431235,
          507.2168138634371,
          -6.6480956569901934,
          366.66666666666663,
          239.3224528301887,
          290,
          90.14594594594595,
          458.75,
          112.27000213596689,
          361.3526570048309,
          800,
          1184.3254542424243,
          463.99999999999994,
          191.66666666666666,
          108.73379999999999,
          120.34806,
          485.67746666666665,
          265.7142857142857,
          421.875,
          233.33333333333334,
          150,
          249.6570125,
          412.81544444444444,
          467.8767032915361,
          186.6359780952381,
          616.6666666666667,
          274.02877,
          54.196945,
          38.39816666666667,
          794.4444444444445,
          635.7013676470589,
          1514.332510714286,
          897.8571428571428,
          653.7291700000001,
          431.70890789473685,
          1040.285669642857,
          265.586,
          214.9396975,
          142.2634530263158,
          205.92890000000003,
          238.68289893292683,
          150.81451499999997,
          45.97438888888889,
          135.7626888888889,
          26.89346375,
          152.51929824561404,
          225.19554655172414,
          219.5242066666667,
          135.80058846153847,
          156.05344000000002,
          212.0296285714286,
          101.3029,
          138.361876,
          189.7949,
          64.66085083333334,
          67.69940666666668,
          64.68724,
          4.270875714285714,
          64.32545454545455,
          47.333892,
          67.06653857142857,
          52.267508571428564,
          74.83354235294118,
          43.89935,
          59.041861818181815,
          35.399671255411256,
          55.253947499999995,
          50.82721111111111,
          64.70693150684932,
          94.02664444444444,
          103.51338866666666,
          102.95524,
          85.06981764705883,
          13.60286,
          110.71017861538462,
          145.89819278350515,
          147.34172987012988,
          76.0452594117647,
          -100
         ],
         "yaxis": "y"
        }
       ],
       "layout": {
        "legend": {
         "tracegroupgap": 0
        },
        "margin": {
         "t": 60
        },
        "template": {
         "data": {
          "bar": [
           {
            "error_x": {
             "color": "#2a3f5f"
            },
            "error_y": {
             "color": "#2a3f5f"
            },
            "marker": {
             "line": {
              "color": "#E5ECF6",
              "width": 0.5
             },
             "pattern": {
              "fillmode": "overlay",
              "size": 10,
              "solidity": 0.2
             }
            },
            "type": "bar"
           }
          ],
          "barpolar": [
           {
            "marker": {
             "line": {
              "color": "#E5ECF6",
              "width": 0.5
             },
             "pattern": {
              "fillmode": "overlay",
              "size": 10,
              "solidity": 0.2
             }
            },
            "type": "barpolar"
           }
          ],
          "carpet": [
           {
            "aaxis": {
             "endlinecolor": "#2a3f5f",
             "gridcolor": "white",
             "linecolor": "white",
             "minorgridcolor": "white",
             "startlinecolor": "#2a3f5f"
            },
            "baxis": {
             "endlinecolor": "#2a3f5f",
             "gridcolor": "white",
             "linecolor": "white",
             "minorgridcolor": "white",
             "startlinecolor": "#2a3f5f"
            },
            "type": "carpet"
           }
          ],
          "choropleth": [
           {
            "colorbar": {
             "outlinewidth": 0,
             "ticks": ""
            },
            "type": "choropleth"
           }
          ],
          "contour": [
           {
            "colorbar": {
             "outlinewidth": 0,
             "ticks": ""
            },
            "colorscale": [
             [
              0,
              "#0d0887"
             ],
             [
              0.1111111111111111,
              "#46039f"
             ],
             [
              0.2222222222222222,
              "#7201a8"
             ],
             [
              0.3333333333333333,
              "#9c179e"
             ],
             [
              0.4444444444444444,
              "#bd3786"
             ],
             [
              0.5555555555555556,
              "#d8576b"
             ],
             [
              0.6666666666666666,
              "#ed7953"
             ],
             [
              0.7777777777777778,
              "#fb9f3a"
             ],
             [
              0.8888888888888888,
              "#fdca26"
             ],
             [
              1,
              "#f0f921"
             ]
            ],
            "type": "contour"
           }
          ],
          "contourcarpet": [
           {
            "colorbar": {
             "outlinewidth": 0,
             "ticks": ""
            },
            "type": "contourcarpet"
           }
          ],
          "heatmap": [
           {
            "colorbar": {
             "outlinewidth": 0,
             "ticks": ""
            },
            "colorscale": [
             [
              0,
              "#0d0887"
             ],
             [
              0.1111111111111111,
              "#46039f"
             ],
             [
              0.2222222222222222,
              "#7201a8"
             ],
             [
              0.3333333333333333,
              "#9c179e"
             ],
             [
              0.4444444444444444,
              "#bd3786"
             ],
             [
              0.5555555555555556,
              "#d8576b"
             ],
             [
              0.6666666666666666,
              "#ed7953"
             ],
             [
              0.7777777777777778,
              "#fb9f3a"
             ],
             [
              0.8888888888888888,
              "#fdca26"
             ],
             [
              1,
              "#f0f921"
             ]
            ],
            "type": "heatmap"
           }
          ],
          "heatmapgl": [
           {
            "colorbar": {
             "outlinewidth": 0,
             "ticks": ""
            },
            "colorscale": [
             [
              0,
              "#0d0887"
             ],
             [
              0.1111111111111111,
              "#46039f"
             ],
             [
              0.2222222222222222,
              "#7201a8"
             ],
             [
              0.3333333333333333,
              "#9c179e"
             ],
             [
              0.4444444444444444,
              "#bd3786"
             ],
             [
              0.5555555555555556,
              "#d8576b"
             ],
             [
              0.6666666666666666,
              "#ed7953"
             ],
             [
              0.7777777777777778,
              "#fb9f3a"
             ],
             [
              0.8888888888888888,
              "#fdca26"
             ],
             [
              1,
              "#f0f921"
             ]
            ],
            "type": "heatmapgl"
           }
          ],
          "histogram": [
           {
            "marker": {
             "pattern": {
              "fillmode": "overlay",
              "size": 10,
              "solidity": 0.2
             }
            },
            "type": "histogram"
           }
          ],
          "histogram2d": [
           {
            "colorbar": {
             "outlinewidth": 0,
             "ticks": ""
            },
            "colorscale": [
             [
              0,
              "#0d0887"
             ],
             [
              0.1111111111111111,
              "#46039f"
             ],
             [
              0.2222222222222222,
              "#7201a8"
             ],
             [
              0.3333333333333333,
              "#9c179e"
             ],
             [
              0.4444444444444444,
              "#bd3786"
             ],
             [
              0.5555555555555556,
              "#d8576b"
             ],
             [
              0.6666666666666666,
              "#ed7953"
             ],
             [
              0.7777777777777778,
              "#fb9f3a"
             ],
             [
              0.8888888888888888,
              "#fdca26"
             ],
             [
              1,
              "#f0f921"
             ]
            ],
            "type": "histogram2d"
           }
          ],
          "histogram2dcontour": [
           {
            "colorbar": {
             "outlinewidth": 0,
             "ticks": ""
            },
            "colorscale": [
             [
              0,
              "#0d0887"
             ],
             [
              0.1111111111111111,
              "#46039f"
             ],
             [
              0.2222222222222222,
              "#7201a8"
             ],
             [
              0.3333333333333333,
              "#9c179e"
             ],
             [
              0.4444444444444444,
              "#bd3786"
             ],
             [
              0.5555555555555556,
              "#d8576b"
             ],
             [
              0.6666666666666666,
              "#ed7953"
             ],
             [
              0.7777777777777778,
              "#fb9f3a"
             ],
             [
              0.8888888888888888,
              "#fdca26"
             ],
             [
              1,
              "#f0f921"
             ]
            ],
            "type": "histogram2dcontour"
           }
          ],
          "mesh3d": [
           {
            "colorbar": {
             "outlinewidth": 0,
             "ticks": ""
            },
            "type": "mesh3d"
           }
          ],
          "parcoords": [
           {
            "line": {
             "colorbar": {
              "outlinewidth": 0,
              "ticks": ""
             }
            },
            "type": "parcoords"
           }
          ],
          "pie": [
           {
            "automargin": true,
            "type": "pie"
           }
          ],
          "scatter": [
           {
            "fillpattern": {
             "fillmode": "overlay",
             "size": 10,
             "solidity": 0.2
            },
            "type": "scatter"
           }
          ],
          "scatter3d": [
           {
            "line": {
             "colorbar": {
              "outlinewidth": 0,
              "ticks": ""
             }
            },
            "marker": {
             "colorbar": {
              "outlinewidth": 0,
              "ticks": ""
             }
            },
            "type": "scatter3d"
           }
          ],
          "scattercarpet": [
           {
            "marker": {
             "colorbar": {
              "outlinewidth": 0,
              "ticks": ""
             }
            },
            "type": "scattercarpet"
           }
          ],
          "scattergeo": [
           {
            "marker": {
             "colorbar": {
              "outlinewidth": 0,
              "ticks": ""
             }
            },
            "type": "scattergeo"
           }
          ],
          "scattergl": [
           {
            "marker": {
             "colorbar": {
              "outlinewidth": 0,
              "ticks": ""
             }
            },
            "type": "scattergl"
           }
          ],
          "scattermapbox": [
           {
            "marker": {
             "colorbar": {
              "outlinewidth": 0,
              "ticks": ""
             }
            },
            "type": "scattermapbox"
           }
          ],
          "scatterpolar": [
           {
            "marker": {
             "colorbar": {
              "outlinewidth": 0,
              "ticks": ""
             }
            },
            "type": "scatterpolar"
           }
          ],
          "scatterpolargl": [
           {
            "marker": {
             "colorbar": {
              "outlinewidth": 0,
              "ticks": ""
             }
            },
            "type": "scatterpolargl"
           }
          ],
          "scatterternary": [
           {
            "marker": {
             "colorbar": {
              "outlinewidth": 0,
              "ticks": ""
             }
            },
            "type": "scatterternary"
           }
          ],
          "surface": [
           {
            "colorbar": {
             "outlinewidth": 0,
             "ticks": ""
            },
            "colorscale": [
             [
              0,
              "#0d0887"
             ],
             [
              0.1111111111111111,
              "#46039f"
             ],
             [
              0.2222222222222222,
              "#7201a8"
             ],
             [
              0.3333333333333333,
              "#9c179e"
             ],
             [
              0.4444444444444444,
              "#bd3786"
             ],
             [
              0.5555555555555556,
              "#d8576b"
             ],
             [
              0.6666666666666666,
              "#ed7953"
             ],
             [
              0.7777777777777778,
              "#fb9f3a"
             ],
             [
              0.8888888888888888,
              "#fdca26"
             ],
             [
              1,
              "#f0f921"
             ]
            ],
            "type": "surface"
           }
          ],
          "table": [
           {
            "cells": {
             "fill": {
              "color": "#EBF0F8"
             },
             "line": {
              "color": "white"
             }
            },
            "header": {
             "fill": {
              "color": "#C8D4E3"
             },
             "line": {
              "color": "white"
             }
            },
            "type": "table"
           }
          ]
         },
         "layout": {
          "annotationdefaults": {
           "arrowcolor": "#2a3f5f",
           "arrowhead": 0,
           "arrowwidth": 1
          },
          "autotypenumbers": "strict",
          "coloraxis": {
           "colorbar": {
            "outlinewidth": 0,
            "ticks": ""
           }
          },
          "colorscale": {
           "diverging": [
            [
             0,
             "#8e0152"
            ],
            [
             0.1,
             "#c51b7d"
            ],
            [
             0.2,
             "#de77ae"
            ],
            [
             0.3,
             "#f1b6da"
            ],
            [
             0.4,
             "#fde0ef"
            ],
            [
             0.5,
             "#f7f7f7"
            ],
            [
             0.6,
             "#e6f5d0"
            ],
            [
             0.7,
             "#b8e186"
            ],
            [
             0.8,
             "#7fbc41"
            ],
            [
             0.9,
             "#4d9221"
            ],
            [
             1,
             "#276419"
            ]
           ],
           "sequential": [
            [
             0,
             "#0d0887"
            ],
            [
             0.1111111111111111,
             "#46039f"
            ],
            [
             0.2222222222222222,
             "#7201a8"
            ],
            [
             0.3333333333333333,
             "#9c179e"
            ],
            [
             0.4444444444444444,
             "#bd3786"
            ],
            [
             0.5555555555555556,
             "#d8576b"
            ],
            [
             0.6666666666666666,
             "#ed7953"
            ],
            [
             0.7777777777777778,
             "#fb9f3a"
            ],
            [
             0.8888888888888888,
             "#fdca26"
            ],
            [
             1,
             "#f0f921"
            ]
           ],
           "sequentialminus": [
            [
             0,
             "#0d0887"
            ],
            [
             0.1111111111111111,
             "#46039f"
            ],
            [
             0.2222222222222222,
             "#7201a8"
            ],
            [
             0.3333333333333333,
             "#9c179e"
            ],
            [
             0.4444444444444444,
             "#bd3786"
            ],
            [
             0.5555555555555556,
             "#d8576b"
            ],
            [
             0.6666666666666666,
             "#ed7953"
            ],
            [
             0.7777777777777778,
             "#fb9f3a"
            ],
            [
             0.8888888888888888,
             "#fdca26"
            ],
            [
             1,
             "#f0f921"
            ]
           ]
          },
          "colorway": [
           "#636efa",
           "#EF553B",
           "#00cc96",
           "#ab63fa",
           "#FFA15A",
           "#19d3f3",
           "#FF6692",
           "#B6E880",
           "#FF97FF",
           "#FECB52"
          ],
          "font": {
           "color": "#2a3f5f"
          },
          "geo": {
           "bgcolor": "white",
           "lakecolor": "white",
           "landcolor": "#E5ECF6",
           "showlakes": true,
           "showland": true,
           "subunitcolor": "white"
          },
          "hoverlabel": {
           "align": "left"
          },
          "hovermode": "closest",
          "mapbox": {
           "style": "light"
          },
          "paper_bgcolor": "white",
          "plot_bgcolor": "#E5ECF6",
          "polar": {
           "angularaxis": {
            "gridcolor": "white",
            "linecolor": "white",
            "ticks": ""
           },
           "bgcolor": "#E5ECF6",
           "radialaxis": {
            "gridcolor": "white",
            "linecolor": "white",
            "ticks": ""
           }
          },
          "scene": {
           "xaxis": {
            "backgroundcolor": "#E5ECF6",
            "gridcolor": "white",
            "gridwidth": 2,
            "linecolor": "white",
            "showbackground": true,
            "ticks": "",
            "zerolinecolor": "white"
           },
           "yaxis": {
            "backgroundcolor": "#E5ECF6",
            "gridcolor": "white",
            "gridwidth": 2,
            "linecolor": "white",
            "showbackground": true,
            "ticks": "",
            "zerolinecolor": "white"
           },
           "zaxis": {
            "backgroundcolor": "#E5ECF6",
            "gridcolor": "white",
            "gridwidth": 2,
            "linecolor": "white",
            "showbackground": true,
            "ticks": "",
            "zerolinecolor": "white"
           }
          },
          "shapedefaults": {
           "line": {
            "color": "#2a3f5f"
           }
          },
          "ternary": {
           "aaxis": {
            "gridcolor": "white",
            "linecolor": "white",
            "ticks": ""
           },
           "baxis": {
            "gridcolor": "white",
            "linecolor": "white",
            "ticks": ""
           },
           "bgcolor": "#E5ECF6",
           "caxis": {
            "gridcolor": "white",
            "linecolor": "white",
            "ticks": ""
           }
          },
          "title": {
           "x": 0.05
          },
          "xaxis": {
           "automargin": true,
           "gridcolor": "white",
           "linecolor": "white",
           "ticks": "",
           "title": {
            "standoff": 15
           },
           "zerolinecolor": "white",
           "zerolinewidth": 2
          },
          "yaxis": {
           "automargin": true,
           "gridcolor": "white",
           "linecolor": "white",
           "ticks": "",
           "title": {
            "standoff": 15
           },
           "zerolinecolor": "white",
           "zerolinewidth": 2
          }
         }
        },
        "xaxis": {
         "anchor": "y",
         "domain": [
          0,
          1
         ],
         "dtick": 1,
         "range": [
          2009,
          2020
         ],
         "title": {
          "text": "year"
         }
        },
        "yaxis": {
         "anchor": "x",
         "domain": [
          0,
          1
         ],
         "range": [
          -50,
          560
         ],
         "title": {
          "text": "y"
         }
        }
       }
      },
      "text/html": [
       "<div>                            <div id=\"156f5788-d88c-414f-8a29-978a9fe270e6\" class=\"plotly-graph-div\" style=\"height:525px; width:100%;\"></div>            <script type=\"text/javascript\">                require([\"plotly\"], function(Plotly) {                    window.PLOTLYENV=window.PLOTLYENV || {};                                    if (document.getElementById(\"156f5788-d88c-414f-8a29-978a9fe270e6\")) {                    Plotly.newPlot(                        \"156f5788-d88c-414f-8a29-978a9fe270e6\",                        [{\"hovertemplate\":\"year=%{x}<br>y=%{y}<extra></extra>\",\"legendgroup\":\"\",\"line\":{\"color\":\"#636efa\",\"dash\":\"solid\"},\"marker\":{\"symbol\":\"circle\"},\"mode\":\"lines\",\"name\":\"\",\"orientation\":\"v\",\"showlegend\":false,\"x\":[1916,1920,1925,1927,1929,1930,1931,1933,1934,1935,1936,1937,1938,1939,1940,1941,1942,1943,1944,1945,1946,1947,1948,1949,1950,1951,1952,1953,1954,1955,1956,1957,1958,1959,1960,1961,1962,1963,1964,1965,1966,1967,1968,1969,1970,1971,1972,1973,1974,1975,1976,1977,1978,1979,1980,1981,1982,1983,1984,1985,1986,1987,1988,1989,1990,1991,1992,1993,1994,1995,1996,1997,1998,1999,2000,2001,2002,2003,2004,2005,2006,2007,2008,2009,2010,2011,2012,2013,2014,2015,2016,2017,2018,2019,2020],\"xaxis\":\"x\",\"y\":[-100.0,2900.0,4505.180533751963,-100.0,1049.8680738786281,-100.0,61.29032258064516,659.7949886104784,669.2307692307693,425.7799671592775,-86.68353333333333,12327.78803763441,121.65450121654501,1135.3430320489738,366.0225155279503,-100.0,31135.431235431235,507.2168138634371,-6.6480956569901934,366.66666666666663,239.3224528301887,290.0,90.14594594594595,458.75,112.27000213596689,361.3526570048309,800.0,1184.3254542424243,463.99999999999994,191.66666666666666,108.73379999999999,120.34806,485.67746666666665,265.7142857142857,421.875,233.33333333333334,150.0,249.6570125,412.81544444444444,467.8767032915361,186.6359780952381,616.6666666666667,274.02877,54.196945,38.39816666666667,794.4444444444445,635.7013676470589,1514.332510714286,897.8571428571428,653.7291700000001,431.70890789473685,1040.285669642857,265.586,214.9396975,142.2634530263158,205.92890000000003,238.68289893292683,150.81451499999997,45.97438888888889,135.7626888888889,26.89346375,152.51929824561404,225.19554655172414,219.5242066666667,135.80058846153847,156.05344000000002,212.0296285714286,101.3029,138.361876,189.7949,64.66085083333334,67.69940666666668,64.68724,4.270875714285714,64.32545454545455,47.333892,67.06653857142857,52.267508571428564,74.83354235294118,43.89935,59.041861818181815,35.399671255411256,55.253947499999995,50.82721111111111,64.70693150684932,94.02664444444444,103.51338866666666,102.95524,85.06981764705883,13.60286,110.71017861538462,145.89819278350515,147.34172987012988,76.0452594117647,-100.0],\"yaxis\":\"y\",\"type\":\"scatter\"}],                        {\"template\":{\"data\":{\"histogram2dcontour\":[{\"type\":\"histogram2dcontour\",\"colorbar\":{\"outlinewidth\":0,\"ticks\":\"\"},\"colorscale\":[[0.0,\"#0d0887\"],[0.1111111111111111,\"#46039f\"],[0.2222222222222222,\"#7201a8\"],[0.3333333333333333,\"#9c179e\"],[0.4444444444444444,\"#bd3786\"],[0.5555555555555556,\"#d8576b\"],[0.6666666666666666,\"#ed7953\"],[0.7777777777777778,\"#fb9f3a\"],[0.8888888888888888,\"#fdca26\"],[1.0,\"#f0f921\"]]}],\"choropleth\":[{\"type\":\"choropleth\",\"colorbar\":{\"outlinewidth\":0,\"ticks\":\"\"}}],\"histogram2d\":[{\"type\":\"histogram2d\",\"colorbar\":{\"outlinewidth\":0,\"ticks\":\"\"},\"colorscale\":[[0.0,\"#0d0887\"],[0.1111111111111111,\"#46039f\"],[0.2222222222222222,\"#7201a8\"],[0.3333333333333333,\"#9c179e\"],[0.4444444444444444,\"#bd3786\"],[0.5555555555555556,\"#d8576b\"],[0.6666666666666666,\"#ed7953\"],[0.7777777777777778,\"#fb9f3a\"],[0.8888888888888888,\"#fdca26\"],[1.0,\"#f0f921\"]]}],\"heatmap\":[{\"type\":\"heatmap\",\"colorbar\":{\"outlinewidth\":0,\"ticks\":\"\"},\"colorscale\":[[0.0,\"#0d0887\"],[0.1111111111111111,\"#46039f\"],[0.2222222222222222,\"#7201a8\"],[0.3333333333333333,\"#9c179e\"],[0.4444444444444444,\"#bd3786\"],[0.5555555555555556,\"#d8576b\"],[0.6666666666666666,\"#ed7953\"],[0.7777777777777778,\"#fb9f3a\"],[0.8888888888888888,\"#fdca26\"],[1.0,\"#f0f921\"]]}],\"heatmapgl\":[{\"type\":\"heatmapgl\",\"colorbar\":{\"outlinewidth\":0,\"ticks\":\"\"},\"colorscale\":[[0.0,\"#0d0887\"],[0.1111111111111111,\"#46039f\"],[0.2222222222222222,\"#7201a8\"],[0.3333333333333333,\"#9c179e\"],[0.4444444444444444,\"#bd3786\"],[0.5555555555555556,\"#d8576b\"],[0.6666666666666666,\"#ed7953\"],[0.7777777777777778,\"#fb9f3a\"],[0.8888888888888888,\"#fdca26\"],[1.0,\"#f0f921\"]]}],\"contourcarpet\":[{\"type\":\"contourcarpet\",\"colorbar\":{\"outlinewidth\":0,\"ticks\":\"\"}}],\"contour\":[{\"type\":\"contour\",\"colorbar\":{\"outlinewidth\":0,\"ticks\":\"\"},\"colorscale\":[[0.0,\"#0d0887\"],[0.1111111111111111,\"#46039f\"],[0.2222222222222222,\"#7201a8\"],[0.3333333333333333,\"#9c179e\"],[0.4444444444444444,\"#bd3786\"],[0.5555555555555556,\"#d8576b\"],[0.6666666666666666,\"#ed7953\"],[0.7777777777777778,\"#fb9f3a\"],[0.8888888888888888,\"#fdca26\"],[1.0,\"#f0f921\"]]}],\"surface\":[{\"type\":\"surface\",\"colorbar\":{\"outlinewidth\":0,\"ticks\":\"\"},\"colorscale\":[[0.0,\"#0d0887\"],[0.1111111111111111,\"#46039f\"],[0.2222222222222222,\"#7201a8\"],[0.3333333333333333,\"#9c179e\"],[0.4444444444444444,\"#bd3786\"],[0.5555555555555556,\"#d8576b\"],[0.6666666666666666,\"#ed7953\"],[0.7777777777777778,\"#fb9f3a\"],[0.8888888888888888,\"#fdca26\"],[1.0,\"#f0f921\"]]}],\"mesh3d\":[{\"type\":\"mesh3d\",\"colorbar\":{\"outlinewidth\":0,\"ticks\":\"\"}}],\"scatter\":[{\"fillpattern\":{\"fillmode\":\"overlay\",\"size\":10,\"solidity\":0.2},\"type\":\"scatter\"}],\"parcoords\":[{\"type\":\"parcoords\",\"line\":{\"colorbar\":{\"outlinewidth\":0,\"ticks\":\"\"}}}],\"scatterpolargl\":[{\"type\":\"scatterpolargl\",\"marker\":{\"colorbar\":{\"outlinewidth\":0,\"ticks\":\"\"}}}],\"bar\":[{\"error_x\":{\"color\":\"#2a3f5f\"},\"error_y\":{\"color\":\"#2a3f5f\"},\"marker\":{\"line\":{\"color\":\"#E5ECF6\",\"width\":0.5},\"pattern\":{\"fillmode\":\"overlay\",\"size\":10,\"solidity\":0.2}},\"type\":\"bar\"}],\"scattergeo\":[{\"type\":\"scattergeo\",\"marker\":{\"colorbar\":{\"outlinewidth\":0,\"ticks\":\"\"}}}],\"scatterpolar\":[{\"type\":\"scatterpolar\",\"marker\":{\"colorbar\":{\"outlinewidth\":0,\"ticks\":\"\"}}}],\"histogram\":[{\"marker\":{\"pattern\":{\"fillmode\":\"overlay\",\"size\":10,\"solidity\":0.2}},\"type\":\"histogram\"}],\"scattergl\":[{\"type\":\"scattergl\",\"marker\":{\"colorbar\":{\"outlinewidth\":0,\"ticks\":\"\"}}}],\"scatter3d\":[{\"type\":\"scatter3d\",\"line\":{\"colorbar\":{\"outlinewidth\":0,\"ticks\":\"\"}},\"marker\":{\"colorbar\":{\"outlinewidth\":0,\"ticks\":\"\"}}}],\"scattermapbox\":[{\"type\":\"scattermapbox\",\"marker\":{\"colorbar\":{\"outlinewidth\":0,\"ticks\":\"\"}}}],\"scatterternary\":[{\"type\":\"scatterternary\",\"marker\":{\"colorbar\":{\"outlinewidth\":0,\"ticks\":\"\"}}}],\"scattercarpet\":[{\"type\":\"scattercarpet\",\"marker\":{\"colorbar\":{\"outlinewidth\":0,\"ticks\":\"\"}}}],\"carpet\":[{\"aaxis\":{\"endlinecolor\":\"#2a3f5f\",\"gridcolor\":\"white\",\"linecolor\":\"white\",\"minorgridcolor\":\"white\",\"startlinecolor\":\"#2a3f5f\"},\"baxis\":{\"endlinecolor\":\"#2a3f5f\",\"gridcolor\":\"white\",\"linecolor\":\"white\",\"minorgridcolor\":\"white\",\"startlinecolor\":\"#2a3f5f\"},\"type\":\"carpet\"}],\"table\":[{\"cells\":{\"fill\":{\"color\":\"#EBF0F8\"},\"line\":{\"color\":\"white\"}},\"header\":{\"fill\":{\"color\":\"#C8D4E3\"},\"line\":{\"color\":\"white\"}},\"type\":\"table\"}],\"barpolar\":[{\"marker\":{\"line\":{\"color\":\"#E5ECF6\",\"width\":0.5},\"pattern\":{\"fillmode\":\"overlay\",\"size\":10,\"solidity\":0.2}},\"type\":\"barpolar\"}],\"pie\":[{\"automargin\":true,\"type\":\"pie\"}]},\"layout\":{\"autotypenumbers\":\"strict\",\"colorway\":[\"#636efa\",\"#EF553B\",\"#00cc96\",\"#ab63fa\",\"#FFA15A\",\"#19d3f3\",\"#FF6692\",\"#B6E880\",\"#FF97FF\",\"#FECB52\"],\"font\":{\"color\":\"#2a3f5f\"},\"hovermode\":\"closest\",\"hoverlabel\":{\"align\":\"left\"},\"paper_bgcolor\":\"white\",\"plot_bgcolor\":\"#E5ECF6\",\"polar\":{\"bgcolor\":\"#E5ECF6\",\"angularaxis\":{\"gridcolor\":\"white\",\"linecolor\":\"white\",\"ticks\":\"\"},\"radialaxis\":{\"gridcolor\":\"white\",\"linecolor\":\"white\",\"ticks\":\"\"}},\"ternary\":{\"bgcolor\":\"#E5ECF6\",\"aaxis\":{\"gridcolor\":\"white\",\"linecolor\":\"white\",\"ticks\":\"\"},\"baxis\":{\"gridcolor\":\"white\",\"linecolor\":\"white\",\"ticks\":\"\"},\"caxis\":{\"gridcolor\":\"white\",\"linecolor\":\"white\",\"ticks\":\"\"}},\"coloraxis\":{\"colorbar\":{\"outlinewidth\":0,\"ticks\":\"\"}},\"colorscale\":{\"sequential\":[[0.0,\"#0d0887\"],[0.1111111111111111,\"#46039f\"],[0.2222222222222222,\"#7201a8\"],[0.3333333333333333,\"#9c179e\"],[0.4444444444444444,\"#bd3786\"],[0.5555555555555556,\"#d8576b\"],[0.6666666666666666,\"#ed7953\"],[0.7777777777777778,\"#fb9f3a\"],[0.8888888888888888,\"#fdca26\"],[1.0,\"#f0f921\"]],\"sequentialminus\":[[0.0,\"#0d0887\"],[0.1111111111111111,\"#46039f\"],[0.2222222222222222,\"#7201a8\"],[0.3333333333333333,\"#9c179e\"],[0.4444444444444444,\"#bd3786\"],[0.5555555555555556,\"#d8576b\"],[0.6666666666666666,\"#ed7953\"],[0.7777777777777778,\"#fb9f3a\"],[0.8888888888888888,\"#fdca26\"],[1.0,\"#f0f921\"]],\"diverging\":[[0,\"#8e0152\"],[0.1,\"#c51b7d\"],[0.2,\"#de77ae\"],[0.3,\"#f1b6da\"],[0.4,\"#fde0ef\"],[0.5,\"#f7f7f7\"],[0.6,\"#e6f5d0\"],[0.7,\"#b8e186\"],[0.8,\"#7fbc41\"],[0.9,\"#4d9221\"],[1,\"#276419\"]]},\"xaxis\":{\"gridcolor\":\"white\",\"linecolor\":\"white\",\"ticks\":\"\",\"title\":{\"standoff\":15},\"zerolinecolor\":\"white\",\"automargin\":true,\"zerolinewidth\":2},\"yaxis\":{\"gridcolor\":\"white\",\"linecolor\":\"white\",\"ticks\":\"\",\"title\":{\"standoff\":15},\"zerolinecolor\":\"white\",\"automargin\":true,\"zerolinewidth\":2},\"scene\":{\"xaxis\":{\"backgroundcolor\":\"#E5ECF6\",\"gridcolor\":\"white\",\"linecolor\":\"white\",\"showbackground\":true,\"ticks\":\"\",\"zerolinecolor\":\"white\",\"gridwidth\":2},\"yaxis\":{\"backgroundcolor\":\"#E5ECF6\",\"gridcolor\":\"white\",\"linecolor\":\"white\",\"showbackground\":true,\"ticks\":\"\",\"zerolinecolor\":\"white\",\"gridwidth\":2},\"zaxis\":{\"backgroundcolor\":\"#E5ECF6\",\"gridcolor\":\"white\",\"linecolor\":\"white\",\"showbackground\":true,\"ticks\":\"\",\"zerolinecolor\":\"white\",\"gridwidth\":2}},\"shapedefaults\":{\"line\":{\"color\":\"#2a3f5f\"}},\"annotationdefaults\":{\"arrowcolor\":\"#2a3f5f\",\"arrowhead\":0,\"arrowwidth\":1},\"geo\":{\"bgcolor\":\"white\",\"landcolor\":\"#E5ECF6\",\"subunitcolor\":\"white\",\"showland\":true,\"showlakes\":true,\"lakecolor\":\"white\"},\"title\":{\"x\":0.05},\"mapbox\":{\"style\":\"light\"}}},\"xaxis\":{\"anchor\":\"y\",\"domain\":[0.0,1.0],\"title\":{\"text\":\"year\"},\"dtick\":1,\"range\":[2009,2020]},\"yaxis\":{\"anchor\":\"x\",\"domain\":[0.0,1.0],\"title\":{\"text\":\"y\"},\"range\":[-50,560]},\"legend\":{\"tracegroupgap\":0},\"margin\":{\"t\":60}},                        {\"responsive\": true}                    ).then(function(){\n",
       "                            \n",
       "var gd = document.getElementById('156f5788-d88c-414f-8a29-978a9fe270e6');\n",
       "var x = new MutationObserver(function (mutations, observer) {{\n",
       "        var display = window.getComputedStyle(gd).display;\n",
       "        if (!display || display === 'none') {{\n",
       "            console.log([gd, 'removed!']);\n",
       "            Plotly.purge(gd);\n",
       "            observer.disconnect();\n",
       "        }}\n",
       "}});\n",
       "\n",
       "// Listen for the removal of the full notebook cells\n",
       "var notebookContainer = gd.closest('#notebook-container');\n",
       "if (notebookContainer) {{\n",
       "    x.observe(notebookContainer, {childList: true});\n",
       "}}\n",
       "\n",
       "// Listen for the clearing of the current output cell\n",
       "var outputEl = gd.closest('.output');\n",
       "if (outputEl) {{\n",
       "    x.observe(outputEl, {childList: true});\n",
       "}}\n",
       "\n",
       "                        })                };                });            </script>        </div>"
      ]
     },
     "metadata": {},
     "output_type": "display_data"
    }
   ],
   "source": [
    "fig = pe.line(ROI_by_year, x = ROI_by_year.index, y = ROI_by_year.values)\n",
    "fig.update_xaxes(dtick=1, range=[2009, 2020])\n",
    "fig.update_yaxes(range=[-50, 560])\n",
    "fig.show()"
   ]
  },
  {
   "cell_type": "code",
   "execution_count": 83,
   "id": "94e6bbba",
   "metadata": {},
   "outputs": [
    {
     "ename": "TypeError",
     "evalue": "'module' object is not callable",
     "output_type": "error",
     "traceback": [
      "\u001b[1;31m---------------------------------------------------------------------------\u001b[0m",
      "\u001b[1;31mTypeError\u001b[0m                                 Traceback (most recent call last)",
      "\u001b[1;32m~\\AppData\\Local\\Temp\\ipykernel_16628\\4111295942.py\u001b[0m in \u001b[0;36m<module>\u001b[1;34m\u001b[0m\n\u001b[0;32m      1\u001b[0m \u001b[0mfig\u001b[0m \u001b[1;33m=\u001b[0m \u001b[0mgo\u001b[0m\u001b[1;33m.\u001b[0m\u001b[0mFigure\u001b[0m\u001b[1;33m(\u001b[0m\u001b[1;33m)\u001b[0m\u001b[1;33m\u001b[0m\u001b[1;33m\u001b[0m\u001b[0m\n\u001b[1;32m----> 2\u001b[1;33m \u001b[0mfig\u001b[0m\u001b[1;33m.\u001b[0m\u001b[0madd_trace\u001b[0m\u001b[1;33m(\u001b[0m\u001b[0mgo\u001b[0m\u001b[1;33m.\u001b[0m\u001b[0mscatter\u001b[0m\u001b[1;33m(\u001b[0m\u001b[0mx\u001b[0m \u001b[1;33m=\u001b[0m \u001b[0mgraph_new_genre\u001b[0m\u001b[1;33m[\u001b[0m\u001b[1;34m'year'\u001b[0m\u001b[1;33m]\u001b[0m\u001b[1;33m,\u001b[0m \u001b[0my\u001b[0m \u001b[1;33m=\u001b[0m \u001b[0mgraph_new_genre\u001b[0m\u001b[1;33m[\u001b[0m\u001b[1;34m'ROI'\u001b[0m\u001b[1;33m]\u001b[0m\u001b[1;33m)\u001b[0m\u001b[1;33m)\u001b[0m\u001b[1;33m\u001b[0m\u001b[1;33m\u001b[0m\u001b[0m\n\u001b[0m\u001b[0;32m      3\u001b[0m \u001b[0mfig\u001b[0m\u001b[1;33m.\u001b[0m\u001b[0mshow\u001b[0m\u001b[1;33m(\u001b[0m\u001b[1;33m)\u001b[0m\u001b[1;33m\u001b[0m\u001b[1;33m\u001b[0m\u001b[0m\n",
      "\u001b[1;31mTypeError\u001b[0m: 'module' object is not callable"
     ]
    }
   ],
   "source": [
    "fig = go.Figure()\n",
    "fig.add_trace(go.scatter(x = graph_new_genre['year'], y = graph_new_genre['ROI']))\n",
    "fig.show()"
   ]
  },
  {
   "cell_type": "code",
   "execution_count": 98,
   "id": "3ced8ed5",
   "metadata": {},
   "outputs": [
    {
     "ename": "ValueError",
     "evalue": "\n    Invalid element(s) received for the 'data' property of \n        Invalid elements include: [['data', 'layout', 'frames']]\n\n    The 'data' property is a tuple of trace instances\n    that may be specified as:\n      - A list or tuple of trace instances\n        (e.g. [Scatter(...), Bar(...)])\n      - A single trace instance\n        (e.g. Scatter(...), Bar(...), etc.)\n      - A list or tuple of dicts of string/value properties where:\n        - The 'type' property specifies the trace type\n            One of: ['bar', 'barpolar', 'box', 'candlestick',\n                     'carpet', 'choropleth', 'choroplethmapbox',\n                     'cone', 'contour', 'contourcarpet',\n                     'densitymapbox', 'funnel', 'funnelarea',\n                     'heatmap', 'heatmapgl', 'histogram',\n                     'histogram2d', 'histogram2dcontour', 'icicle',\n                     'image', 'indicator', 'isosurface', 'mesh3d',\n                     'ohlc', 'parcats', 'parcoords', 'pie',\n                     'pointcloud', 'sankey', 'scatter',\n                     'scatter3d', 'scattercarpet', 'scattergeo',\n                     'scattergl', 'scattermapbox', 'scatterpolar',\n                     'scatterpolargl', 'scattersmith',\n                     'scatterternary', 'splom', 'streamtube',\n                     'sunburst', 'surface', 'table', 'treemap',\n                     'violin', 'volume', 'waterfall']\n\n        - All remaining properties are passed to the constructor of\n          the specified trace type\n\n        (e.g. [{'type': 'scatter', ...}, {'type': 'bar, ...}])",
     "output_type": "error",
     "traceback": [
      "\u001b[1;31m---------------------------------------------------------------------------\u001b[0m",
      "\u001b[1;31mValueError\u001b[0m                                Traceback (most recent call last)",
      "\u001b[1;32m~\\AppData\\Local\\Temp\\ipykernel_16628\\2149258793.py\u001b[0m in \u001b[0;36m<module>\u001b[1;34m\u001b[0m\n\u001b[0;32m      1\u001b[0m \u001b[1;32mimport\u001b[0m \u001b[0mplotly\u001b[0m\u001b[1;33m.\u001b[0m\u001b[0mgraph_objects\u001b[0m \u001b[1;32mas\u001b[0m \u001b[0mgo\u001b[0m\u001b[1;33m\u001b[0m\u001b[1;33m\u001b[0m\u001b[0m\n\u001b[0;32m      2\u001b[0m \u001b[0mfig\u001b[0m \u001b[1;33m=\u001b[0m \u001b[0mgo\u001b[0m\u001b[1;33m.\u001b[0m\u001b[0mFigure\u001b[0m\u001b[1;33m(\u001b[0m\u001b[1;33m)\u001b[0m\u001b[1;33m\u001b[0m\u001b[1;33m\u001b[0m\u001b[0m\n\u001b[1;32m----> 3\u001b[1;33m \u001b[0mfig\u001b[0m\u001b[1;33m.\u001b[0m\u001b[0madd_trace\u001b[0m\u001b[1;33m(\u001b[0m\u001b[0mlist\u001b[0m\u001b[1;33m(\u001b[0m\u001b[0mpe\u001b[0m\u001b[1;33m.\u001b[0m\u001b[0mline\u001b[0m\u001b[1;33m(\u001b[0m\u001b[0mx\u001b[0m \u001b[1;33m=\u001b[0m \u001b[0mgraph_new_genre\u001b[0m\u001b[1;33m[\u001b[0m\u001b[1;34m'year'\u001b[0m\u001b[1;33m]\u001b[0m\u001b[1;33m,\u001b[0m \u001b[0my\u001b[0m \u001b[1;33m=\u001b[0m \u001b[0mgraph_new_genre\u001b[0m\u001b[1;33m[\u001b[0m\u001b[1;34m'ROI'\u001b[0m\u001b[1;33m]\u001b[0m\u001b[1;33m,\u001b[0m \u001b[0mcolor\u001b[0m \u001b[1;33m=\u001b[0m \u001b[0mgraph_new_genre\u001b[0m\u001b[1;33m[\u001b[0m\u001b[1;34m'genres'\u001b[0m\u001b[1;33m]\u001b[0m\u001b[1;33m)\u001b[0m\u001b[1;33m)\u001b[0m\u001b[1;33m)\u001b[0m\u001b[1;33m\u001b[0m\u001b[1;33m\u001b[0m\u001b[0m\n\u001b[0m\u001b[0;32m      4\u001b[0m \u001b[0mfig\u001b[0m\u001b[1;33m.\u001b[0m\u001b[0madd_trace\u001b[0m\u001b[1;33m(\u001b[0m\u001b[0mlist\u001b[0m\u001b[1;33m(\u001b[0m\u001b[0mpe\u001b[0m\u001b[1;33m.\u001b[0m\u001b[0mline\u001b[0m\u001b[1;33m(\u001b[0m\u001b[0mROI_by_year\u001b[0m\u001b[1;33m)\u001b[0m\u001b[1;33m.\u001b[0m\u001b[0mselect_traces\u001b[0m\u001b[1;33m(\u001b[0m\u001b[1;33m)\u001b[0m\u001b[1;33m)\u001b[0m\u001b[1;33m)\u001b[0m\u001b[1;33m\u001b[0m\u001b[1;33m\u001b[0m\u001b[0m\n\u001b[0;32m      5\u001b[0m \u001b[0mfig\u001b[0m\u001b[1;33m.\u001b[0m\u001b[0mshow\u001b[0m\u001b[1;33m(\u001b[0m\u001b[1;33m)\u001b[0m\u001b[1;33m\u001b[0m\u001b[1;33m\u001b[0m\u001b[0m\n",
      "\u001b[1;32m~\\anaconda3\\lib\\site-packages\\plotly\\graph_objs\\_figure.py\u001b[0m in \u001b[0;36madd_trace\u001b[1;34m(self, trace, row, col, secondary_y, exclude_empty_subplots)\u001b[0m\n\u001b[0;32m    863\u001b[0m \u001b[1;33m\u001b[0m\u001b[0m\n\u001b[0;32m    864\u001b[0m         \"\"\"\n\u001b[1;32m--> 865\u001b[1;33m         return super(Figure, self).add_trace(\n\u001b[0m\u001b[0;32m    866\u001b[0m             \u001b[0mtrace\u001b[0m\u001b[1;33m,\u001b[0m \u001b[0mrow\u001b[0m\u001b[1;33m,\u001b[0m \u001b[0mcol\u001b[0m\u001b[1;33m,\u001b[0m \u001b[0msecondary_y\u001b[0m\u001b[1;33m,\u001b[0m \u001b[0mexclude_empty_subplots\u001b[0m\u001b[1;33m\u001b[0m\u001b[1;33m\u001b[0m\u001b[0m\n\u001b[0;32m    867\u001b[0m         )\n",
      "\u001b[1;32m~\\anaconda3\\lib\\site-packages\\plotly\\basedatatypes.py\u001b[0m in \u001b[0;36madd_trace\u001b[1;34m(self, trace, row, col, secondary_y, exclude_empty_subplots)\u001b[0m\n\u001b[0;32m   2095\u001b[0m             \u001b[1;32mreturn\u001b[0m \u001b[0mself\u001b[0m\u001b[1;33m\u001b[0m\u001b[1;33m\u001b[0m\u001b[0m\n\u001b[0;32m   2096\u001b[0m \u001b[1;33m\u001b[0m\u001b[0m\n\u001b[1;32m-> 2097\u001b[1;33m         return self.add_traces(\n\u001b[0m\u001b[0;32m   2098\u001b[0m             \u001b[0mdata\u001b[0m\u001b[1;33m=\u001b[0m\u001b[1;33m[\u001b[0m\u001b[0mtrace\u001b[0m\u001b[1;33m]\u001b[0m\u001b[1;33m,\u001b[0m\u001b[1;33m\u001b[0m\u001b[1;33m\u001b[0m\u001b[0m\n\u001b[0;32m   2099\u001b[0m             \u001b[0mrows\u001b[0m\u001b[1;33m=\u001b[0m\u001b[1;33m[\u001b[0m\u001b[0mrow\u001b[0m\u001b[1;33m]\u001b[0m \u001b[1;32mif\u001b[0m \u001b[0mrow\u001b[0m \u001b[1;32mis\u001b[0m \u001b[1;32mnot\u001b[0m \u001b[1;32mNone\u001b[0m \u001b[1;32melse\u001b[0m \u001b[1;32mNone\u001b[0m\u001b[1;33m,\u001b[0m\u001b[1;33m\u001b[0m\u001b[1;33m\u001b[0m\u001b[0m\n",
      "\u001b[1;32m~\\anaconda3\\lib\\site-packages\\plotly\\graph_objs\\_figure.py\u001b[0m in \u001b[0;36madd_traces\u001b[1;34m(self, data, rows, cols, secondary_ys, exclude_empty_subplots)\u001b[0m\n\u001b[0;32m    943\u001b[0m \u001b[1;33m\u001b[0m\u001b[0m\n\u001b[0;32m    944\u001b[0m         \"\"\"\n\u001b[1;32m--> 945\u001b[1;33m         return super(Figure, self).add_traces(\n\u001b[0m\u001b[0;32m    946\u001b[0m             \u001b[0mdata\u001b[0m\u001b[1;33m,\u001b[0m \u001b[0mrows\u001b[0m\u001b[1;33m,\u001b[0m \u001b[0mcols\u001b[0m\u001b[1;33m,\u001b[0m \u001b[0msecondary_ys\u001b[0m\u001b[1;33m,\u001b[0m \u001b[0mexclude_empty_subplots\u001b[0m\u001b[1;33m\u001b[0m\u001b[1;33m\u001b[0m\u001b[0m\n\u001b[0;32m    947\u001b[0m         )\n",
      "\u001b[1;32m~\\anaconda3\\lib\\site-packages\\plotly\\basedatatypes.py\u001b[0m in \u001b[0;36madd_traces\u001b[1;34m(self, data, rows, cols, secondary_ys, exclude_empty_subplots)\u001b[0m\n\u001b[0;32m   2179\u001b[0m \u001b[1;33m\u001b[0m\u001b[0m\n\u001b[0;32m   2180\u001b[0m         \u001b[1;31m# Validate traces\u001b[0m\u001b[1;33m\u001b[0m\u001b[1;33m\u001b[0m\u001b[0m\n\u001b[1;32m-> 2181\u001b[1;33m         \u001b[0mdata\u001b[0m \u001b[1;33m=\u001b[0m \u001b[0mself\u001b[0m\u001b[1;33m.\u001b[0m\u001b[0m_data_validator\u001b[0m\u001b[1;33m.\u001b[0m\u001b[0mvalidate_coerce\u001b[0m\u001b[1;33m(\u001b[0m\u001b[0mdata\u001b[0m\u001b[1;33m)\u001b[0m\u001b[1;33m\u001b[0m\u001b[1;33m\u001b[0m\u001b[0m\n\u001b[0m\u001b[0;32m   2182\u001b[0m \u001b[1;33m\u001b[0m\u001b[0m\n\u001b[0;32m   2183\u001b[0m         \u001b[1;31m# Set trace indexes\u001b[0m\u001b[1;33m\u001b[0m\u001b[1;33m\u001b[0m\u001b[0m\n",
      "\u001b[1;32m~\\anaconda3\\lib\\site-packages\\_plotly_utils\\basevalidators.py\u001b[0m in \u001b[0;36mvalidate_coerce\u001b[1;34m(self, v, skip_invalid, _validate)\u001b[0m\n\u001b[0;32m   2680\u001b[0m \u001b[1;33m\u001b[0m\u001b[0m\n\u001b[0;32m   2681\u001b[0m             \u001b[1;32mif\u001b[0m \u001b[0minvalid_els\u001b[0m\u001b[1;33m:\u001b[0m\u001b[1;33m\u001b[0m\u001b[1;33m\u001b[0m\u001b[0m\n\u001b[1;32m-> 2682\u001b[1;33m                 \u001b[0mself\u001b[0m\u001b[1;33m.\u001b[0m\u001b[0mraise_invalid_elements\u001b[0m\u001b[1;33m(\u001b[0m\u001b[0minvalid_els\u001b[0m\u001b[1;33m)\u001b[0m\u001b[1;33m\u001b[0m\u001b[1;33m\u001b[0m\u001b[0m\n\u001b[0m\u001b[0;32m   2683\u001b[0m \u001b[1;33m\u001b[0m\u001b[0m\n\u001b[0;32m   2684\u001b[0m             \u001b[0mv\u001b[0m \u001b[1;33m=\u001b[0m \u001b[0mto_scalar_or_list\u001b[0m\u001b[1;33m(\u001b[0m\u001b[0mres\u001b[0m\u001b[1;33m)\u001b[0m\u001b[1;33m\u001b[0m\u001b[1;33m\u001b[0m\u001b[0m\n",
      "\u001b[1;32m~\\anaconda3\\lib\\site-packages\\_plotly_utils\\basevalidators.py\u001b[0m in \u001b[0;36mraise_invalid_elements\u001b[1;34m(self, invalid_els)\u001b[0m\n\u001b[0;32m    302\u001b[0m     \u001b[1;32mdef\u001b[0m \u001b[0mraise_invalid_elements\u001b[0m\u001b[1;33m(\u001b[0m\u001b[0mself\u001b[0m\u001b[1;33m,\u001b[0m \u001b[0minvalid_els\u001b[0m\u001b[1;33m)\u001b[0m\u001b[1;33m:\u001b[0m\u001b[1;33m\u001b[0m\u001b[1;33m\u001b[0m\u001b[0m\n\u001b[0;32m    303\u001b[0m         \u001b[1;32mif\u001b[0m \u001b[0minvalid_els\u001b[0m\u001b[1;33m:\u001b[0m\u001b[1;33m\u001b[0m\u001b[1;33m\u001b[0m\u001b[0m\n\u001b[1;32m--> 304\u001b[1;33m             raise ValueError(\n\u001b[0m\u001b[0;32m    305\u001b[0m                 \"\"\"\n\u001b[0;32m    306\u001b[0m     \u001b[0mInvalid\u001b[0m \u001b[0melement\u001b[0m\u001b[1;33m(\u001b[0m\u001b[0ms\u001b[0m\u001b[1;33m)\u001b[0m \u001b[0mreceived\u001b[0m \u001b[1;32mfor\u001b[0m \u001b[0mthe\u001b[0m \u001b[1;34m'{name}'\u001b[0m \u001b[0mproperty\u001b[0m \u001b[0mof\u001b[0m \u001b[1;33m{\u001b[0m\u001b[0mpname\u001b[0m\u001b[1;33m}\u001b[0m\u001b[1;33m\u001b[0m\u001b[1;33m\u001b[0m\u001b[0m\n",
      "\u001b[1;31mValueError\u001b[0m: \n    Invalid element(s) received for the 'data' property of \n        Invalid elements include: [['data', 'layout', 'frames']]\n\n    The 'data' property is a tuple of trace instances\n    that may be specified as:\n      - A list or tuple of trace instances\n        (e.g. [Scatter(...), Bar(...)])\n      - A single trace instance\n        (e.g. Scatter(...), Bar(...), etc.)\n      - A list or tuple of dicts of string/value properties where:\n        - The 'type' property specifies the trace type\n            One of: ['bar', 'barpolar', 'box', 'candlestick',\n                     'carpet', 'choropleth', 'choroplethmapbox',\n                     'cone', 'contour', 'contourcarpet',\n                     'densitymapbox', 'funnel', 'funnelarea',\n                     'heatmap', 'heatmapgl', 'histogram',\n                     'histogram2d', 'histogram2dcontour', 'icicle',\n                     'image', 'indicator', 'isosurface', 'mesh3d',\n                     'ohlc', 'parcats', 'parcoords', 'pie',\n                     'pointcloud', 'sankey', 'scatter',\n                     'scatter3d', 'scattercarpet', 'scattergeo',\n                     'scattergl', 'scattermapbox', 'scatterpolar',\n                     'scatterpolargl', 'scattersmith',\n                     'scatterternary', 'splom', 'streamtube',\n                     'sunburst', 'surface', 'table', 'treemap',\n                     'violin', 'volume', 'waterfall']\n\n        - All remaining properties are passed to the constructor of\n          the specified trace type\n\n        (e.g. [{'type': 'scatter', ...}, {'type': 'bar, ...}])"
     ]
    }
   ],
   "source": [
    "import plotly.graph_objects as go\n",
    "fig = go.Figure()\n",
    "fig.add_trace(list(pe.line(x = graph_new_genre['year'], y = graph_new_genre['ROI'], color = graph_new_genre['genres'])))\n",
    "fig.add_trace(list(pe.line(ROI_by_year).select_traces()))\n",
    "fig.show()\n"
   ]
  },
  {
   "cell_type": "code",
   "execution_count": 81,
   "id": "e645fe8e",
   "metadata": {},
   "outputs": [
    {
     "data": {
      "application/vnd.plotly.v1+json": {
       "config": {
        "plotlyServerURL": "https://plot.ly"
       },
       "data": [
        {
         "hovertemplate": "genres=Sci-Fi<br>year=%{x}<br>ROI=%{y}<extra></extra>",
         "legendgroup": "Sci-Fi",
         "line": {
          "color": "#636efa",
          "dash": "solid"
         },
         "marker": {
          "symbol": "circle"
         },
         "mode": "lines",
         "name": "Sci-Fi",
         "orientation": "v",
         "showlegend": true,
         "type": "scatter",
         "x": [
          1977,
          1982,
          1990,
          1998,
          1999,
          2000,
          2001,
          2004,
          2005,
          2009,
          2010,
          2011,
          2012,
          2013,
          2014,
          2015,
          2016,
          2017,
          2018,
          2019
         ],
         "xaxis": "x",
         "y": [
          1604.0023949999998,
          58.34456470588235,
          135.80058846153847,
          296.1428571428571,
          -1.9712173333333332,
          119.61184193548387,
          -77.18194054054054,
          102.0817923076923,
          3.383179487179487,
          553.2577127058823,
          241.73604183823528,
          164.69269714285716,
          137.00029343023255,
          138.0179670833333,
          230.67254312499998,
          63.52364,
          153.79664606060607,
          119.722206,
          286.193424,
          299.84997142857145
         ],
         "yaxis": "y"
        },
        {
         "hovertemplate": "genres=Adventure<br>year=%{x}<br>ROI=%{y}<extra></extra>",
         "legendgroup": "Adventure",
         "line": {
          "color": "#EF553B",
          "dash": "solid"
         },
         "marker": {
          "symbol": "circle"
         },
         "mode": "lines",
         "name": "Adventure",
         "orientation": "v",
         "showlegend": true,
         "type": "scatter",
         "x": [
          1982,
          1986,
          1988,
          1995,
          1996,
          1997,
          1998,
          2004,
          2008,
          2009,
          2010,
          2011,
          2012,
          2013,
          2014,
          2015,
          2016,
          2017,
          2018,
          2019
         ],
         "xaxis": "x",
         "y": [
          58.34456470588235,
          1811.8051217272728,
          189.3857142857143,
          66.612536,
          121.96216727272726,
          54.95652173913044,
          296.1428571428571,
          89.32046850678734,
          72.6068175,
          553.2577127058823,
          128.6396875,
          117.81231333333334,
          199.7873145945946,
          116.31731894736843,
          230.67254312499998,
          134.80800857142856,
          174.3471,
          217.94511282894737,
          119.31765771764705,
          97.5959787225193
         ],
         "yaxis": "y"
        },
        {
         "hovertemplate": "genres=Thriller<br>year=%{x}<br>ROI=%{y}<extra></extra>",
         "legendgroup": "Thriller",
         "line": {
          "color": "#00cc96",
          "dash": "solid"
         },
         "marker": {
          "symbol": "circle"
         },
         "mode": "lines",
         "name": "Thriller",
         "orientation": "v",
         "showlegend": true,
         "type": "scatter",
         "x": [
          1985,
          1986,
          1995,
          1996,
          1997,
          1998,
          1999,
          2000,
          2001,
          2002,
          2004,
          2005,
          2007,
          2008,
          2010,
          2011,
          2012,
          2013,
          2014,
          2015,
          2016,
          2017,
          2018,
          2019
         ],
         "xaxis": "x",
         "y": [
          82.05846666666666,
          -5.975052,
          264.7484,
          28.66493,
          66.71808461956522,
          296.1428571428571,
          -1.9712173333333332,
          232.64395096774194,
          -17.409094285714286,
          257.262285,
          183.98273380090498,
          90.79557424242424,
          329.1672582051282,
          -14.319299270072994,
          63.46734075342466,
          80.738155,
          167.20904333333334,
          44.70353035714285,
          39.142500000000005,
          36.30337090909091,
          43.99413777777777,
          134.22178499999998,
          133.13918,
          325.63128095238096
         ],
         "yaxis": "y"
        },
        {
         "hovertemplate": "genres=Fantasy<br>year=%{x}<br>ROI=%{y}<extra></extra>",
         "legendgroup": "Fantasy",
         "line": {
          "color": "#ab63fa",
          "dash": "solid"
         },
         "marker": {
          "symbol": "circle"
         },
         "mode": "lines",
         "name": "Fantasy",
         "orientation": "v",
         "showlegend": true,
         "type": "scatter",
         "x": [
          1986,
          1988,
          2001,
          2004,
          2008,
          2009,
          2010,
          2011,
          2012,
          2013,
          2014,
          2015,
          2016,
          2017,
          2018,
          2019
         ],
         "xaxis": "x",
         "y": [
          -5.975052,
          742.6043,
          -77.18194054054054,
          84.22752782051282,
          94.40977333333333,
          553.2577127058823,
          70.69168825,
          123.6954705882353,
          111.65579448275862,
          134.1784038611111,
          214.63103285714286,
          129.94845333333333,
          170.6357664125,
          228.25179391304349,
          166.54708,
          176.25164632352943
         ],
         "yaxis": "y"
        },
        {
         "hovertemplate": "genres=Family<br>year=%{x}<br>ROI=%{y}<extra></extra>",
         "legendgroup": "Family",
         "line": {
          "color": "#FFA15A",
          "dash": "solid"
         },
         "marker": {
          "symbol": "circle"
         },
         "mode": "lines",
         "name": "Family",
         "orientation": "v",
         "showlegend": true,
         "type": "scatter",
         "x": [
          1988,
          1995,
          2004,
          2008,
          2010,
          2011,
          2012,
          2013,
          2014,
          2015,
          2016,
          2017,
          2018,
          2019
         ],
         "xaxis": "x",
         "y": [
          742.6043,
          1115.15172,
          112.956024,
          50.80386166666667,
          83.13080666666667,
          149.76820954545454,
          111.65579448275862,
          111.94052474747474,
          108.02429000000001,
          154.2859316091954,
          222.51689002857142,
          222.97609666666665,
          164.94337866666666,
          102.94377764705882
         ],
         "yaxis": "y"
        },
        {
         "hovertemplate": "genres=Romance<br>year=%{x}<br>ROI=%{y}<extra></extra>",
         "legendgroup": "Romance",
         "line": {
          "color": "#19d3f3",
          "dash": "solid"
         },
         "marker": {
          "symbol": "circle"
         },
         "mode": "lines",
         "name": "Romance",
         "orientation": "v",
         "showlegend": true,
         "type": "scatter",
         "x": [
          1988,
          1992,
          1999,
          2006,
          2010,
          2011,
          2012,
          2013,
          2014,
          2015,
          2016,
          2017,
          2018,
          2019
         ],
         "xaxis": "x",
         "y": [
          742.6043,
          228.9742875,
          1856.0262333333335,
          295.6294365384615,
          115.08908285714286,
          104.83045,
          135.92804266666667,
          46.55405538461538,
          141.4209975,
          87.6556705882353,
          114.55072,
          447.42225199999996,
          335.50065987261144,
          129.41854625000002
         ],
         "yaxis": "y"
        },
        {
         "hovertemplate": "genres=Horror<br>year=%{x}<br>ROI=%{y}<extra></extra>",
         "legendgroup": "Horror",
         "line": {
          "color": "#FF6692",
          "dash": "solid"
         },
         "marker": {
          "symbol": "circle"
         },
         "mode": "lines",
         "name": "Horror",
         "orientation": "v",
         "showlegend": true,
         "type": "scatter",
         "x": [
          1990,
          1996,
          1998,
          1999,
          2004,
          2007,
          2010,
          2011,
          2012,
          2013,
          2014,
          2015,
          2016,
          2017,
          2018,
          2019
         ],
         "xaxis": "x",
         "y": [
          135.80058846153847,
          28.66493,
          191.63930666666667,
          -1.9712173333333332,
          102.0817923076923,
          416.7626733333333,
          43.75565714285714,
          35.06883,
          40.42820296969697,
          149.8664325,
          233.65403833333335,
          -21.53360625,
          165.2797325,
          188.78366239175256,
          458.21873000000005,
          350.07338749999997
         ],
         "yaxis": "y"
        },
        {
         "hovertemplate": "genres=Mystery<br>year=%{x}<br>ROI=%{y}<extra></extra>",
         "legendgroup": "Mystery",
         "line": {
          "color": "#B6E880",
          "dash": "solid"
         },
         "marker": {
          "symbol": "circle"
         },
         "mode": "lines",
         "name": "Mystery",
         "orientation": "v",
         "showlegend": true,
         "type": "scatter",
         "x": [
          1990,
          1997,
          2000,
          2002,
          2004,
          2005,
          2007,
          2010,
          2011,
          2012,
          2013,
          2014,
          2015,
          2016,
          2017,
          2018,
          2019
         ],
         "xaxis": "x",
         "y": [
          135.80058846153847,
          78.4796475,
          345.67606,
          257.262285,
          8556.668916666666,
          3.383179487179487,
          241.5718430769231,
          45.62775777777778,
          263.91781000000003,
          28.110935294117645,
          85.33401452380951,
          208.95610745098037,
          36.30337090909091,
          253.26142,
          278.91364,
          302.6908249324324,
          385.7537080357143
         ],
         "yaxis": "y"
        },
        {
         "hovertemplate": "color=Sci-Fi<br>x=%{x}<br>y=%{y}<extra></extra>",
         "legendgroup": "Sci-Fi",
         "line": {
          "color": "#636efa",
          "dash": "solid"
         },
         "marker": {
          "symbol": "circle"
         },
         "mode": "lines",
         "name": "Sci-Fi",
         "orientation": "v",
         "showlegend": true,
         "type": "scatter",
         "x": [
          1977,
          1982,
          1990,
          1998,
          1999,
          2000,
          2001,
          2004,
          2005,
          2009,
          2010,
          2011,
          2012,
          2013,
          2014,
          2015,
          2016,
          2017,
          2018,
          2019
         ],
         "xaxis": "x",
         "y": [
          1604.0023949999998,
          58.34456470588235,
          135.80058846153847,
          296.1428571428571,
          -1.9712173333333332,
          119.61184193548387,
          -77.18194054054054,
          102.0817923076923,
          3.383179487179487,
          553.2577127058823,
          241.73604183823528,
          164.69269714285716,
          137.00029343023255,
          138.0179670833333,
          230.67254312499998,
          63.52364,
          153.79664606060607,
          119.722206,
          286.193424,
          299.84997142857145
         ],
         "yaxis": "y"
        }
       ],
       "layout": {
        "legend": {
         "title": {
          "text": "genres"
         },
         "tracegroupgap": 0
        },
        "margin": {
         "t": 60
        },
        "template": {
         "data": {
          "bar": [
           {
            "error_x": {
             "color": "#2a3f5f"
            },
            "error_y": {
             "color": "#2a3f5f"
            },
            "marker": {
             "line": {
              "color": "#E5ECF6",
              "width": 0.5
             },
             "pattern": {
              "fillmode": "overlay",
              "size": 10,
              "solidity": 0.2
             }
            },
            "type": "bar"
           }
          ],
          "barpolar": [
           {
            "marker": {
             "line": {
              "color": "#E5ECF6",
              "width": 0.5
             },
             "pattern": {
              "fillmode": "overlay",
              "size": 10,
              "solidity": 0.2
             }
            },
            "type": "barpolar"
           }
          ],
          "carpet": [
           {
            "aaxis": {
             "endlinecolor": "#2a3f5f",
             "gridcolor": "white",
             "linecolor": "white",
             "minorgridcolor": "white",
             "startlinecolor": "#2a3f5f"
            },
            "baxis": {
             "endlinecolor": "#2a3f5f",
             "gridcolor": "white",
             "linecolor": "white",
             "minorgridcolor": "white",
             "startlinecolor": "#2a3f5f"
            },
            "type": "carpet"
           }
          ],
          "choropleth": [
           {
            "colorbar": {
             "outlinewidth": 0,
             "ticks": ""
            },
            "type": "choropleth"
           }
          ],
          "contour": [
           {
            "colorbar": {
             "outlinewidth": 0,
             "ticks": ""
            },
            "colorscale": [
             [
              0,
              "#0d0887"
             ],
             [
              0.1111111111111111,
              "#46039f"
             ],
             [
              0.2222222222222222,
              "#7201a8"
             ],
             [
              0.3333333333333333,
              "#9c179e"
             ],
             [
              0.4444444444444444,
              "#bd3786"
             ],
             [
              0.5555555555555556,
              "#d8576b"
             ],
             [
              0.6666666666666666,
              "#ed7953"
             ],
             [
              0.7777777777777778,
              "#fb9f3a"
             ],
             [
              0.8888888888888888,
              "#fdca26"
             ],
             [
              1,
              "#f0f921"
             ]
            ],
            "type": "contour"
           }
          ],
          "contourcarpet": [
           {
            "colorbar": {
             "outlinewidth": 0,
             "ticks": ""
            },
            "type": "contourcarpet"
           }
          ],
          "heatmap": [
           {
            "colorbar": {
             "outlinewidth": 0,
             "ticks": ""
            },
            "colorscale": [
             [
              0,
              "#0d0887"
             ],
             [
              0.1111111111111111,
              "#46039f"
             ],
             [
              0.2222222222222222,
              "#7201a8"
             ],
             [
              0.3333333333333333,
              "#9c179e"
             ],
             [
              0.4444444444444444,
              "#bd3786"
             ],
             [
              0.5555555555555556,
              "#d8576b"
             ],
             [
              0.6666666666666666,
              "#ed7953"
             ],
             [
              0.7777777777777778,
              "#fb9f3a"
             ],
             [
              0.8888888888888888,
              "#fdca26"
             ],
             [
              1,
              "#f0f921"
             ]
            ],
            "type": "heatmap"
           }
          ],
          "heatmapgl": [
           {
            "colorbar": {
             "outlinewidth": 0,
             "ticks": ""
            },
            "colorscale": [
             [
              0,
              "#0d0887"
             ],
             [
              0.1111111111111111,
              "#46039f"
             ],
             [
              0.2222222222222222,
              "#7201a8"
             ],
             [
              0.3333333333333333,
              "#9c179e"
             ],
             [
              0.4444444444444444,
              "#bd3786"
             ],
             [
              0.5555555555555556,
              "#d8576b"
             ],
             [
              0.6666666666666666,
              "#ed7953"
             ],
             [
              0.7777777777777778,
              "#fb9f3a"
             ],
             [
              0.8888888888888888,
              "#fdca26"
             ],
             [
              1,
              "#f0f921"
             ]
            ],
            "type": "heatmapgl"
           }
          ],
          "histogram": [
           {
            "marker": {
             "pattern": {
              "fillmode": "overlay",
              "size": 10,
              "solidity": 0.2
             }
            },
            "type": "histogram"
           }
          ],
          "histogram2d": [
           {
            "colorbar": {
             "outlinewidth": 0,
             "ticks": ""
            },
            "colorscale": [
             [
              0,
              "#0d0887"
             ],
             [
              0.1111111111111111,
              "#46039f"
             ],
             [
              0.2222222222222222,
              "#7201a8"
             ],
             [
              0.3333333333333333,
              "#9c179e"
             ],
             [
              0.4444444444444444,
              "#bd3786"
             ],
             [
              0.5555555555555556,
              "#d8576b"
             ],
             [
              0.6666666666666666,
              "#ed7953"
             ],
             [
              0.7777777777777778,
              "#fb9f3a"
             ],
             [
              0.8888888888888888,
              "#fdca26"
             ],
             [
              1,
              "#f0f921"
             ]
            ],
            "type": "histogram2d"
           }
          ],
          "histogram2dcontour": [
           {
            "colorbar": {
             "outlinewidth": 0,
             "ticks": ""
            },
            "colorscale": [
             [
              0,
              "#0d0887"
             ],
             [
              0.1111111111111111,
              "#46039f"
             ],
             [
              0.2222222222222222,
              "#7201a8"
             ],
             [
              0.3333333333333333,
              "#9c179e"
             ],
             [
              0.4444444444444444,
              "#bd3786"
             ],
             [
              0.5555555555555556,
              "#d8576b"
             ],
             [
              0.6666666666666666,
              "#ed7953"
             ],
             [
              0.7777777777777778,
              "#fb9f3a"
             ],
             [
              0.8888888888888888,
              "#fdca26"
             ],
             [
              1,
              "#f0f921"
             ]
            ],
            "type": "histogram2dcontour"
           }
          ],
          "mesh3d": [
           {
            "colorbar": {
             "outlinewidth": 0,
             "ticks": ""
            },
            "type": "mesh3d"
           }
          ],
          "parcoords": [
           {
            "line": {
             "colorbar": {
              "outlinewidth": 0,
              "ticks": ""
             }
            },
            "type": "parcoords"
           }
          ],
          "pie": [
           {
            "automargin": true,
            "type": "pie"
           }
          ],
          "scatter": [
           {
            "fillpattern": {
             "fillmode": "overlay",
             "size": 10,
             "solidity": 0.2
            },
            "type": "scatter"
           }
          ],
          "scatter3d": [
           {
            "line": {
             "colorbar": {
              "outlinewidth": 0,
              "ticks": ""
             }
            },
            "marker": {
             "colorbar": {
              "outlinewidth": 0,
              "ticks": ""
             }
            },
            "type": "scatter3d"
           }
          ],
          "scattercarpet": [
           {
            "marker": {
             "colorbar": {
              "outlinewidth": 0,
              "ticks": ""
             }
            },
            "type": "scattercarpet"
           }
          ],
          "scattergeo": [
           {
            "marker": {
             "colorbar": {
              "outlinewidth": 0,
              "ticks": ""
             }
            },
            "type": "scattergeo"
           }
          ],
          "scattergl": [
           {
            "marker": {
             "colorbar": {
              "outlinewidth": 0,
              "ticks": ""
             }
            },
            "type": "scattergl"
           }
          ],
          "scattermapbox": [
           {
            "marker": {
             "colorbar": {
              "outlinewidth": 0,
              "ticks": ""
             }
            },
            "type": "scattermapbox"
           }
          ],
          "scatterpolar": [
           {
            "marker": {
             "colorbar": {
              "outlinewidth": 0,
              "ticks": ""
             }
            },
            "type": "scatterpolar"
           }
          ],
          "scatterpolargl": [
           {
            "marker": {
             "colorbar": {
              "outlinewidth": 0,
              "ticks": ""
             }
            },
            "type": "scatterpolargl"
           }
          ],
          "scatterternary": [
           {
            "marker": {
             "colorbar": {
              "outlinewidth": 0,
              "ticks": ""
             }
            },
            "type": "scatterternary"
           }
          ],
          "surface": [
           {
            "colorbar": {
             "outlinewidth": 0,
             "ticks": ""
            },
            "colorscale": [
             [
              0,
              "#0d0887"
             ],
             [
              0.1111111111111111,
              "#46039f"
             ],
             [
              0.2222222222222222,
              "#7201a8"
             ],
             [
              0.3333333333333333,
              "#9c179e"
             ],
             [
              0.4444444444444444,
              "#bd3786"
             ],
             [
              0.5555555555555556,
              "#d8576b"
             ],
             [
              0.6666666666666666,
              "#ed7953"
             ],
             [
              0.7777777777777778,
              "#fb9f3a"
             ],
             [
              0.8888888888888888,
              "#fdca26"
             ],
             [
              1,
              "#f0f921"
             ]
            ],
            "type": "surface"
           }
          ],
          "table": [
           {
            "cells": {
             "fill": {
              "color": "#EBF0F8"
             },
             "line": {
              "color": "white"
             }
            },
            "header": {
             "fill": {
              "color": "#C8D4E3"
             },
             "line": {
              "color": "white"
             }
            },
            "type": "table"
           }
          ]
         },
         "layout": {
          "annotationdefaults": {
           "arrowcolor": "#2a3f5f",
           "arrowhead": 0,
           "arrowwidth": 1
          },
          "autotypenumbers": "strict",
          "coloraxis": {
           "colorbar": {
            "outlinewidth": 0,
            "ticks": ""
           }
          },
          "colorscale": {
           "diverging": [
            [
             0,
             "#8e0152"
            ],
            [
             0.1,
             "#c51b7d"
            ],
            [
             0.2,
             "#de77ae"
            ],
            [
             0.3,
             "#f1b6da"
            ],
            [
             0.4,
             "#fde0ef"
            ],
            [
             0.5,
             "#f7f7f7"
            ],
            [
             0.6,
             "#e6f5d0"
            ],
            [
             0.7,
             "#b8e186"
            ],
            [
             0.8,
             "#7fbc41"
            ],
            [
             0.9,
             "#4d9221"
            ],
            [
             1,
             "#276419"
            ]
           ],
           "sequential": [
            [
             0,
             "#0d0887"
            ],
            [
             0.1111111111111111,
             "#46039f"
            ],
            [
             0.2222222222222222,
             "#7201a8"
            ],
            [
             0.3333333333333333,
             "#9c179e"
            ],
            [
             0.4444444444444444,
             "#bd3786"
            ],
            [
             0.5555555555555556,
             "#d8576b"
            ],
            [
             0.6666666666666666,
             "#ed7953"
            ],
            [
             0.7777777777777778,
             "#fb9f3a"
            ],
            [
             0.8888888888888888,
             "#fdca26"
            ],
            [
             1,
             "#f0f921"
            ]
           ],
           "sequentialminus": [
            [
             0,
             "#0d0887"
            ],
            [
             0.1111111111111111,
             "#46039f"
            ],
            [
             0.2222222222222222,
             "#7201a8"
            ],
            [
             0.3333333333333333,
             "#9c179e"
            ],
            [
             0.4444444444444444,
             "#bd3786"
            ],
            [
             0.5555555555555556,
             "#d8576b"
            ],
            [
             0.6666666666666666,
             "#ed7953"
            ],
            [
             0.7777777777777778,
             "#fb9f3a"
            ],
            [
             0.8888888888888888,
             "#fdca26"
            ],
            [
             1,
             "#f0f921"
            ]
           ]
          },
          "colorway": [
           "#636efa",
           "#EF553B",
           "#00cc96",
           "#ab63fa",
           "#FFA15A",
           "#19d3f3",
           "#FF6692",
           "#B6E880",
           "#FF97FF",
           "#FECB52"
          ],
          "font": {
           "color": "#2a3f5f"
          },
          "geo": {
           "bgcolor": "white",
           "lakecolor": "white",
           "landcolor": "#E5ECF6",
           "showlakes": true,
           "showland": true,
           "subunitcolor": "white"
          },
          "hoverlabel": {
           "align": "left"
          },
          "hovermode": "closest",
          "mapbox": {
           "style": "light"
          },
          "paper_bgcolor": "white",
          "plot_bgcolor": "#E5ECF6",
          "polar": {
           "angularaxis": {
            "gridcolor": "white",
            "linecolor": "white",
            "ticks": ""
           },
           "bgcolor": "#E5ECF6",
           "radialaxis": {
            "gridcolor": "white",
            "linecolor": "white",
            "ticks": ""
           }
          },
          "scene": {
           "xaxis": {
            "backgroundcolor": "#E5ECF6",
            "gridcolor": "white",
            "gridwidth": 2,
            "linecolor": "white",
            "showbackground": true,
            "ticks": "",
            "zerolinecolor": "white"
           },
           "yaxis": {
            "backgroundcolor": "#E5ECF6",
            "gridcolor": "white",
            "gridwidth": 2,
            "linecolor": "white",
            "showbackground": true,
            "ticks": "",
            "zerolinecolor": "white"
           },
           "zaxis": {
            "backgroundcolor": "#E5ECF6",
            "gridcolor": "white",
            "gridwidth": 2,
            "linecolor": "white",
            "showbackground": true,
            "ticks": "",
            "zerolinecolor": "white"
           }
          },
          "shapedefaults": {
           "line": {
            "color": "#2a3f5f"
           }
          },
          "ternary": {
           "aaxis": {
            "gridcolor": "white",
            "linecolor": "white",
            "ticks": ""
           },
           "baxis": {
            "gridcolor": "white",
            "linecolor": "white",
            "ticks": ""
           },
           "bgcolor": "#E5ECF6",
           "caxis": {
            "gridcolor": "white",
            "linecolor": "white",
            "ticks": ""
           }
          },
          "title": {
           "x": 0.05
          },
          "xaxis": {
           "automargin": true,
           "gridcolor": "white",
           "linecolor": "white",
           "ticks": "",
           "title": {
            "standoff": 15
           },
           "zerolinecolor": "white",
           "zerolinewidth": 2
          },
          "yaxis": {
           "automargin": true,
           "gridcolor": "white",
           "linecolor": "white",
           "ticks": "",
           "title": {
            "standoff": 15
           },
           "zerolinecolor": "white",
           "zerolinewidth": 2
          }
         }
        },
        "xaxis": {
         "anchor": "y",
         "domain": [
          0,
          1
         ],
         "dtick": 1,
         "range": [
          2009,
          2020
         ],
         "title": {
          "text": "year"
         }
        },
        "yaxis": {
         "anchor": "x",
         "domain": [
          0,
          1
         ],
         "range": [
          -50,
          560
         ],
         "title": {
          "text": "ROI"
         }
        }
       }
      },
      "text/html": [
       "<div>                            <div id=\"c936b269-8418-466b-b4a9-0eb16c1f0714\" class=\"plotly-graph-div\" style=\"height:525px; width:100%;\"></div>            <script type=\"text/javascript\">                require([\"plotly\"], function(Plotly) {                    window.PLOTLYENV=window.PLOTLYENV || {};                                    if (document.getElementById(\"c936b269-8418-466b-b4a9-0eb16c1f0714\")) {                    Plotly.newPlot(                        \"c936b269-8418-466b-b4a9-0eb16c1f0714\",                        [{\"hovertemplate\":\"genres=Sci-Fi<br>year=%{x}<br>ROI=%{y}<extra></extra>\",\"legendgroup\":\"Sci-Fi\",\"line\":{\"color\":\"#636efa\",\"dash\":\"solid\"},\"marker\":{\"symbol\":\"circle\"},\"mode\":\"lines\",\"name\":\"Sci-Fi\",\"orientation\":\"v\",\"showlegend\":true,\"x\":[1977,1982,1990,1998,1999,2000,2001,2004,2005,2009,2010,2011,2012,2013,2014,2015,2016,2017,2018,2019],\"xaxis\":\"x\",\"y\":[1604.0023949999998,58.34456470588235,135.80058846153847,296.1428571428571,-1.9712173333333332,119.61184193548387,-77.18194054054054,102.0817923076923,3.383179487179487,553.2577127058823,241.73604183823528,164.69269714285716,137.00029343023255,138.0179670833333,230.67254312499998,63.52364,153.79664606060607,119.722206,286.193424,299.84997142857145],\"yaxis\":\"y\",\"type\":\"scatter\"},{\"hovertemplate\":\"genres=Adventure<br>year=%{x}<br>ROI=%{y}<extra></extra>\",\"legendgroup\":\"Adventure\",\"line\":{\"color\":\"#EF553B\",\"dash\":\"solid\"},\"marker\":{\"symbol\":\"circle\"},\"mode\":\"lines\",\"name\":\"Adventure\",\"orientation\":\"v\",\"showlegend\":true,\"x\":[1982,1986,1988,1995,1996,1997,1998,2004,2008,2009,2010,2011,2012,2013,2014,2015,2016,2017,2018,2019],\"xaxis\":\"x\",\"y\":[58.34456470588235,1811.8051217272728,189.3857142857143,66.612536,121.96216727272726,54.95652173913044,296.1428571428571,89.32046850678734,72.6068175,553.2577127058823,128.6396875,117.81231333333334,199.7873145945946,116.31731894736843,230.67254312499998,134.80800857142856,174.3471,217.94511282894737,119.31765771764705,97.5959787225193],\"yaxis\":\"y\",\"type\":\"scatter\"},{\"hovertemplate\":\"genres=Thriller<br>year=%{x}<br>ROI=%{y}<extra></extra>\",\"legendgroup\":\"Thriller\",\"line\":{\"color\":\"#00cc96\",\"dash\":\"solid\"},\"marker\":{\"symbol\":\"circle\"},\"mode\":\"lines\",\"name\":\"Thriller\",\"orientation\":\"v\",\"showlegend\":true,\"x\":[1985,1986,1995,1996,1997,1998,1999,2000,2001,2002,2004,2005,2007,2008,2010,2011,2012,2013,2014,2015,2016,2017,2018,2019],\"xaxis\":\"x\",\"y\":[82.05846666666666,-5.975052,264.7484,28.66493,66.71808461956522,296.1428571428571,-1.9712173333333332,232.64395096774194,-17.409094285714286,257.262285,183.98273380090498,90.79557424242424,329.1672582051282,-14.319299270072994,63.46734075342466,80.738155,167.20904333333334,44.70353035714285,39.142500000000005,36.30337090909091,43.99413777777777,134.22178499999998,133.13918,325.63128095238096],\"yaxis\":\"y\",\"type\":\"scatter\"},{\"hovertemplate\":\"genres=Fantasy<br>year=%{x}<br>ROI=%{y}<extra></extra>\",\"legendgroup\":\"Fantasy\",\"line\":{\"color\":\"#ab63fa\",\"dash\":\"solid\"},\"marker\":{\"symbol\":\"circle\"},\"mode\":\"lines\",\"name\":\"Fantasy\",\"orientation\":\"v\",\"showlegend\":true,\"x\":[1986,1988,2001,2004,2008,2009,2010,2011,2012,2013,2014,2015,2016,2017,2018,2019],\"xaxis\":\"x\",\"y\":[-5.975052,742.6043,-77.18194054054054,84.22752782051282,94.40977333333333,553.2577127058823,70.69168825,123.6954705882353,111.65579448275862,134.1784038611111,214.63103285714286,129.94845333333333,170.6357664125,228.25179391304349,166.54708,176.25164632352943],\"yaxis\":\"y\",\"type\":\"scatter\"},{\"hovertemplate\":\"genres=Family<br>year=%{x}<br>ROI=%{y}<extra></extra>\",\"legendgroup\":\"Family\",\"line\":{\"color\":\"#FFA15A\",\"dash\":\"solid\"},\"marker\":{\"symbol\":\"circle\"},\"mode\":\"lines\",\"name\":\"Family\",\"orientation\":\"v\",\"showlegend\":true,\"x\":[1988,1995,2004,2008,2010,2011,2012,2013,2014,2015,2016,2017,2018,2019],\"xaxis\":\"x\",\"y\":[742.6043,1115.15172,112.956024,50.80386166666667,83.13080666666667,149.76820954545454,111.65579448275862,111.94052474747474,108.02429000000001,154.2859316091954,222.51689002857142,222.97609666666665,164.94337866666666,102.94377764705882],\"yaxis\":\"y\",\"type\":\"scatter\"},{\"hovertemplate\":\"genres=Romance<br>year=%{x}<br>ROI=%{y}<extra></extra>\",\"legendgroup\":\"Romance\",\"line\":{\"color\":\"#19d3f3\",\"dash\":\"solid\"},\"marker\":{\"symbol\":\"circle\"},\"mode\":\"lines\",\"name\":\"Romance\",\"orientation\":\"v\",\"showlegend\":true,\"x\":[1988,1992,1999,2006,2010,2011,2012,2013,2014,2015,2016,2017,2018,2019],\"xaxis\":\"x\",\"y\":[742.6043,228.9742875,1856.0262333333335,295.6294365384615,115.08908285714286,104.83045,135.92804266666667,46.55405538461538,141.4209975,87.6556705882353,114.55072,447.42225199999996,335.50065987261144,129.41854625000002],\"yaxis\":\"y\",\"type\":\"scatter\"},{\"hovertemplate\":\"genres=Horror<br>year=%{x}<br>ROI=%{y}<extra></extra>\",\"legendgroup\":\"Horror\",\"line\":{\"color\":\"#FF6692\",\"dash\":\"solid\"},\"marker\":{\"symbol\":\"circle\"},\"mode\":\"lines\",\"name\":\"Horror\",\"orientation\":\"v\",\"showlegend\":true,\"x\":[1990,1996,1998,1999,2004,2007,2010,2011,2012,2013,2014,2015,2016,2017,2018,2019],\"xaxis\":\"x\",\"y\":[135.80058846153847,28.66493,191.63930666666667,-1.9712173333333332,102.0817923076923,416.7626733333333,43.75565714285714,35.06883,40.42820296969697,149.8664325,233.65403833333335,-21.53360625,165.2797325,188.78366239175256,458.21873000000005,350.07338749999997],\"yaxis\":\"y\",\"type\":\"scatter\"},{\"hovertemplate\":\"genres=Mystery<br>year=%{x}<br>ROI=%{y}<extra></extra>\",\"legendgroup\":\"Mystery\",\"line\":{\"color\":\"#B6E880\",\"dash\":\"solid\"},\"marker\":{\"symbol\":\"circle\"},\"mode\":\"lines\",\"name\":\"Mystery\",\"orientation\":\"v\",\"showlegend\":true,\"x\":[1990,1997,2000,2002,2004,2005,2007,2010,2011,2012,2013,2014,2015,2016,2017,2018,2019],\"xaxis\":\"x\",\"y\":[135.80058846153847,78.4796475,345.67606,257.262285,8556.668916666666,3.383179487179487,241.5718430769231,45.62775777777778,263.91781000000003,28.110935294117645,85.33401452380951,208.95610745098037,36.30337090909091,253.26142,278.91364,302.6908249324324,385.7537080357143],\"yaxis\":\"y\",\"type\":\"scatter\"},{\"hovertemplate\":\"color=Sci-Fi<br>x=%{x}<br>y=%{y}<extra></extra>\",\"legendgroup\":\"Sci-Fi\",\"line\":{\"color\":\"#636efa\",\"dash\":\"solid\"},\"marker\":{\"symbol\":\"circle\"},\"mode\":\"lines\",\"name\":\"Sci-Fi\",\"orientation\":\"v\",\"showlegend\":true,\"x\":[1977,1982,1990,1998,1999,2000,2001,2004,2005,2009,2010,2011,2012,2013,2014,2015,2016,2017,2018,2019],\"xaxis\":\"x\",\"y\":[1604.0023949999998,58.34456470588235,135.80058846153847,296.1428571428571,-1.9712173333333332,119.61184193548387,-77.18194054054054,102.0817923076923,3.383179487179487,553.2577127058823,241.73604183823528,164.69269714285716,137.00029343023255,138.0179670833333,230.67254312499998,63.52364,153.79664606060607,119.722206,286.193424,299.84997142857145],\"yaxis\":\"y\",\"type\":\"scatter\"}],                        {\"template\":{\"data\":{\"histogram2dcontour\":[{\"type\":\"histogram2dcontour\",\"colorbar\":{\"outlinewidth\":0,\"ticks\":\"\"},\"colorscale\":[[0.0,\"#0d0887\"],[0.1111111111111111,\"#46039f\"],[0.2222222222222222,\"#7201a8\"],[0.3333333333333333,\"#9c179e\"],[0.4444444444444444,\"#bd3786\"],[0.5555555555555556,\"#d8576b\"],[0.6666666666666666,\"#ed7953\"],[0.7777777777777778,\"#fb9f3a\"],[0.8888888888888888,\"#fdca26\"],[1.0,\"#f0f921\"]]}],\"choropleth\":[{\"type\":\"choropleth\",\"colorbar\":{\"outlinewidth\":0,\"ticks\":\"\"}}],\"histogram2d\":[{\"type\":\"histogram2d\",\"colorbar\":{\"outlinewidth\":0,\"ticks\":\"\"},\"colorscale\":[[0.0,\"#0d0887\"],[0.1111111111111111,\"#46039f\"],[0.2222222222222222,\"#7201a8\"],[0.3333333333333333,\"#9c179e\"],[0.4444444444444444,\"#bd3786\"],[0.5555555555555556,\"#d8576b\"],[0.6666666666666666,\"#ed7953\"],[0.7777777777777778,\"#fb9f3a\"],[0.8888888888888888,\"#fdca26\"],[1.0,\"#f0f921\"]]}],\"heatmap\":[{\"type\":\"heatmap\",\"colorbar\":{\"outlinewidth\":0,\"ticks\":\"\"},\"colorscale\":[[0.0,\"#0d0887\"],[0.1111111111111111,\"#46039f\"],[0.2222222222222222,\"#7201a8\"],[0.3333333333333333,\"#9c179e\"],[0.4444444444444444,\"#bd3786\"],[0.5555555555555556,\"#d8576b\"],[0.6666666666666666,\"#ed7953\"],[0.7777777777777778,\"#fb9f3a\"],[0.8888888888888888,\"#fdca26\"],[1.0,\"#f0f921\"]]}],\"heatmapgl\":[{\"type\":\"heatmapgl\",\"colorbar\":{\"outlinewidth\":0,\"ticks\":\"\"},\"colorscale\":[[0.0,\"#0d0887\"],[0.1111111111111111,\"#46039f\"],[0.2222222222222222,\"#7201a8\"],[0.3333333333333333,\"#9c179e\"],[0.4444444444444444,\"#bd3786\"],[0.5555555555555556,\"#d8576b\"],[0.6666666666666666,\"#ed7953\"],[0.7777777777777778,\"#fb9f3a\"],[0.8888888888888888,\"#fdca26\"],[1.0,\"#f0f921\"]]}],\"contourcarpet\":[{\"type\":\"contourcarpet\",\"colorbar\":{\"outlinewidth\":0,\"ticks\":\"\"}}],\"contour\":[{\"type\":\"contour\",\"colorbar\":{\"outlinewidth\":0,\"ticks\":\"\"},\"colorscale\":[[0.0,\"#0d0887\"],[0.1111111111111111,\"#46039f\"],[0.2222222222222222,\"#7201a8\"],[0.3333333333333333,\"#9c179e\"],[0.4444444444444444,\"#bd3786\"],[0.5555555555555556,\"#d8576b\"],[0.6666666666666666,\"#ed7953\"],[0.7777777777777778,\"#fb9f3a\"],[0.8888888888888888,\"#fdca26\"],[1.0,\"#f0f921\"]]}],\"surface\":[{\"type\":\"surface\",\"colorbar\":{\"outlinewidth\":0,\"ticks\":\"\"},\"colorscale\":[[0.0,\"#0d0887\"],[0.1111111111111111,\"#46039f\"],[0.2222222222222222,\"#7201a8\"],[0.3333333333333333,\"#9c179e\"],[0.4444444444444444,\"#bd3786\"],[0.5555555555555556,\"#d8576b\"],[0.6666666666666666,\"#ed7953\"],[0.7777777777777778,\"#fb9f3a\"],[0.8888888888888888,\"#fdca26\"],[1.0,\"#f0f921\"]]}],\"mesh3d\":[{\"type\":\"mesh3d\",\"colorbar\":{\"outlinewidth\":0,\"ticks\":\"\"}}],\"scatter\":[{\"fillpattern\":{\"fillmode\":\"overlay\",\"size\":10,\"solidity\":0.2},\"type\":\"scatter\"}],\"parcoords\":[{\"type\":\"parcoords\",\"line\":{\"colorbar\":{\"outlinewidth\":0,\"ticks\":\"\"}}}],\"scatterpolargl\":[{\"type\":\"scatterpolargl\",\"marker\":{\"colorbar\":{\"outlinewidth\":0,\"ticks\":\"\"}}}],\"bar\":[{\"error_x\":{\"color\":\"#2a3f5f\"},\"error_y\":{\"color\":\"#2a3f5f\"},\"marker\":{\"line\":{\"color\":\"#E5ECF6\",\"width\":0.5},\"pattern\":{\"fillmode\":\"overlay\",\"size\":10,\"solidity\":0.2}},\"type\":\"bar\"}],\"scattergeo\":[{\"type\":\"scattergeo\",\"marker\":{\"colorbar\":{\"outlinewidth\":0,\"ticks\":\"\"}}}],\"scatterpolar\":[{\"type\":\"scatterpolar\",\"marker\":{\"colorbar\":{\"outlinewidth\":0,\"ticks\":\"\"}}}],\"histogram\":[{\"marker\":{\"pattern\":{\"fillmode\":\"overlay\",\"size\":10,\"solidity\":0.2}},\"type\":\"histogram\"}],\"scattergl\":[{\"type\":\"scattergl\",\"marker\":{\"colorbar\":{\"outlinewidth\":0,\"ticks\":\"\"}}}],\"scatter3d\":[{\"type\":\"scatter3d\",\"line\":{\"colorbar\":{\"outlinewidth\":0,\"ticks\":\"\"}},\"marker\":{\"colorbar\":{\"outlinewidth\":0,\"ticks\":\"\"}}}],\"scattermapbox\":[{\"type\":\"scattermapbox\",\"marker\":{\"colorbar\":{\"outlinewidth\":0,\"ticks\":\"\"}}}],\"scatterternary\":[{\"type\":\"scatterternary\",\"marker\":{\"colorbar\":{\"outlinewidth\":0,\"ticks\":\"\"}}}],\"scattercarpet\":[{\"type\":\"scattercarpet\",\"marker\":{\"colorbar\":{\"outlinewidth\":0,\"ticks\":\"\"}}}],\"carpet\":[{\"aaxis\":{\"endlinecolor\":\"#2a3f5f\",\"gridcolor\":\"white\",\"linecolor\":\"white\",\"minorgridcolor\":\"white\",\"startlinecolor\":\"#2a3f5f\"},\"baxis\":{\"endlinecolor\":\"#2a3f5f\",\"gridcolor\":\"white\",\"linecolor\":\"white\",\"minorgridcolor\":\"white\",\"startlinecolor\":\"#2a3f5f\"},\"type\":\"carpet\"}],\"table\":[{\"cells\":{\"fill\":{\"color\":\"#EBF0F8\"},\"line\":{\"color\":\"white\"}},\"header\":{\"fill\":{\"color\":\"#C8D4E3\"},\"line\":{\"color\":\"white\"}},\"type\":\"table\"}],\"barpolar\":[{\"marker\":{\"line\":{\"color\":\"#E5ECF6\",\"width\":0.5},\"pattern\":{\"fillmode\":\"overlay\",\"size\":10,\"solidity\":0.2}},\"type\":\"barpolar\"}],\"pie\":[{\"automargin\":true,\"type\":\"pie\"}]},\"layout\":{\"autotypenumbers\":\"strict\",\"colorway\":[\"#636efa\",\"#EF553B\",\"#00cc96\",\"#ab63fa\",\"#FFA15A\",\"#19d3f3\",\"#FF6692\",\"#B6E880\",\"#FF97FF\",\"#FECB52\"],\"font\":{\"color\":\"#2a3f5f\"},\"hovermode\":\"closest\",\"hoverlabel\":{\"align\":\"left\"},\"paper_bgcolor\":\"white\",\"plot_bgcolor\":\"#E5ECF6\",\"polar\":{\"bgcolor\":\"#E5ECF6\",\"angularaxis\":{\"gridcolor\":\"white\",\"linecolor\":\"white\",\"ticks\":\"\"},\"radialaxis\":{\"gridcolor\":\"white\",\"linecolor\":\"white\",\"ticks\":\"\"}},\"ternary\":{\"bgcolor\":\"#E5ECF6\",\"aaxis\":{\"gridcolor\":\"white\",\"linecolor\":\"white\",\"ticks\":\"\"},\"baxis\":{\"gridcolor\":\"white\",\"linecolor\":\"white\",\"ticks\":\"\"},\"caxis\":{\"gridcolor\":\"white\",\"linecolor\":\"white\",\"ticks\":\"\"}},\"coloraxis\":{\"colorbar\":{\"outlinewidth\":0,\"ticks\":\"\"}},\"colorscale\":{\"sequential\":[[0.0,\"#0d0887\"],[0.1111111111111111,\"#46039f\"],[0.2222222222222222,\"#7201a8\"],[0.3333333333333333,\"#9c179e\"],[0.4444444444444444,\"#bd3786\"],[0.5555555555555556,\"#d8576b\"],[0.6666666666666666,\"#ed7953\"],[0.7777777777777778,\"#fb9f3a\"],[0.8888888888888888,\"#fdca26\"],[1.0,\"#f0f921\"]],\"sequentialminus\":[[0.0,\"#0d0887\"],[0.1111111111111111,\"#46039f\"],[0.2222222222222222,\"#7201a8\"],[0.3333333333333333,\"#9c179e\"],[0.4444444444444444,\"#bd3786\"],[0.5555555555555556,\"#d8576b\"],[0.6666666666666666,\"#ed7953\"],[0.7777777777777778,\"#fb9f3a\"],[0.8888888888888888,\"#fdca26\"],[1.0,\"#f0f921\"]],\"diverging\":[[0,\"#8e0152\"],[0.1,\"#c51b7d\"],[0.2,\"#de77ae\"],[0.3,\"#f1b6da\"],[0.4,\"#fde0ef\"],[0.5,\"#f7f7f7\"],[0.6,\"#e6f5d0\"],[0.7,\"#b8e186\"],[0.8,\"#7fbc41\"],[0.9,\"#4d9221\"],[1,\"#276419\"]]},\"xaxis\":{\"gridcolor\":\"white\",\"linecolor\":\"white\",\"ticks\":\"\",\"title\":{\"standoff\":15},\"zerolinecolor\":\"white\",\"automargin\":true,\"zerolinewidth\":2},\"yaxis\":{\"gridcolor\":\"white\",\"linecolor\":\"white\",\"ticks\":\"\",\"title\":{\"standoff\":15},\"zerolinecolor\":\"white\",\"automargin\":true,\"zerolinewidth\":2},\"scene\":{\"xaxis\":{\"backgroundcolor\":\"#E5ECF6\",\"gridcolor\":\"white\",\"linecolor\":\"white\",\"showbackground\":true,\"ticks\":\"\",\"zerolinecolor\":\"white\",\"gridwidth\":2},\"yaxis\":{\"backgroundcolor\":\"#E5ECF6\",\"gridcolor\":\"white\",\"linecolor\":\"white\",\"showbackground\":true,\"ticks\":\"\",\"zerolinecolor\":\"white\",\"gridwidth\":2},\"zaxis\":{\"backgroundcolor\":\"#E5ECF6\",\"gridcolor\":\"white\",\"linecolor\":\"white\",\"showbackground\":true,\"ticks\":\"\",\"zerolinecolor\":\"white\",\"gridwidth\":2}},\"shapedefaults\":{\"line\":{\"color\":\"#2a3f5f\"}},\"annotationdefaults\":{\"arrowcolor\":\"#2a3f5f\",\"arrowhead\":0,\"arrowwidth\":1},\"geo\":{\"bgcolor\":\"white\",\"landcolor\":\"#E5ECF6\",\"subunitcolor\":\"white\",\"showland\":true,\"showlakes\":true,\"lakecolor\":\"white\"},\"title\":{\"x\":0.05},\"mapbox\":{\"style\":\"light\"}}},\"xaxis\":{\"anchor\":\"y\",\"domain\":[0.0,1.0],\"title\":{\"text\":\"year\"},\"dtick\":1,\"range\":[2009,2020]},\"yaxis\":{\"anchor\":\"x\",\"domain\":[0.0,1.0],\"title\":{\"text\":\"ROI\"},\"range\":[-50,560]},\"legend\":{\"title\":{\"text\":\"genres\"},\"tracegroupgap\":0},\"margin\":{\"t\":60}},                        {\"responsive\": true}                    ).then(function(){\n",
       "                            \n",
       "var gd = document.getElementById('c936b269-8418-466b-b4a9-0eb16c1f0714');\n",
       "var x = new MutationObserver(function (mutations, observer) {{\n",
       "        var display = window.getComputedStyle(gd).display;\n",
       "        if (!display || display === 'none') {{\n",
       "            console.log([gd, 'removed!']);\n",
       "            Plotly.purge(gd);\n",
       "            observer.disconnect();\n",
       "        }}\n",
       "}});\n",
       "\n",
       "// Listen for the removal of the full notebook cells\n",
       "var notebookContainer = gd.closest('#notebook-container');\n",
       "if (notebookContainer) {{\n",
       "    x.observe(notebookContainer, {childList: true});\n",
       "}}\n",
       "\n",
       "// Listen for the clearing of the current output cell\n",
       "var outputEl = gd.closest('.output');\n",
       "if (outputEl) {{\n",
       "    x.observe(outputEl, {childList: true});\n",
       "}}\n",
       "\n",
       "                        })                };                });            </script>        </div>"
      ]
     },
     "metadata": {},
     "output_type": "display_data"
    }
   ],
   "source": [
    "fig = go.Figure()\n",
    "fig = pe.line(graph_new_genre, x = 'year', y = 'ROI', color = 'genres')\n",
    "fig.update_xaxes(dtick=1, range=[2009, 2020])\n",
    "fig.update_yaxes(range=[-50, 560])\n",
    "fig.add_trace(pe.line(x = graph_new_genre['year'], y = graph_new_genre['ROI'], color = graph_new_genre['genres']).data[0])\n",
    "fig.show()"
   ]
  },
  {
   "cell_type": "code",
   "execution_count": 16,
   "id": "6a68a2f8",
   "metadata": {},
   "outputs": [
    {
     "data": {
      "text/html": [
       "<div>\n",
       "<style scoped>\n",
       "    .dataframe tbody tr th:only-of-type {\n",
       "        vertical-align: middle;\n",
       "    }\n",
       "\n",
       "    .dataframe tbody tr th {\n",
       "        vertical-align: top;\n",
       "    }\n",
       "\n",
       "    .dataframe thead th {\n",
       "        text-align: right;\n",
       "    }\n",
       "</style>\n",
       "<table border=\"1\" class=\"dataframe\">\n",
       "  <thead>\n",
       "    <tr style=\"text-align: right;\">\n",
       "      <th></th>\n",
       "      <th>title</th>\n",
       "      <th>ROI</th>\n",
       "      <th>profit</th>\n",
       "      <th>prod_budget</th>\n",
       "      <th>dom_gross</th>\n",
       "      <th>world_gross</th>\n",
       "      <th>genres</th>\n",
       "      <th>director</th>\n",
       "      <th>writer</th>\n",
       "      <th>runtime_min</th>\n",
       "      <th>release_date</th>\n",
       "      <th>year</th>\n",
       "    </tr>\n",
       "  </thead>\n",
       "  <tbody>\n",
       "    <tr>\n",
       "      <th>1</th>\n",
       "      <td>10 cloverfield lane</td>\n",
       "      <td>2065.728440</td>\n",
       "      <td>103286422</td>\n",
       "      <td>5000000</td>\n",
       "      <td>72082999</td>\n",
       "      <td>108286422</td>\n",
       "      <td>Drama</td>\n",
       "      <td>Dan Trachtenberg</td>\n",
       "      <td>[Matthew Stuecken, Josh Campbell, Damien Chaze...</td>\n",
       "      <td>103.0</td>\n",
       "      <td>2016-03-11</td>\n",
       "      <td>2016</td>\n",
       "    </tr>\n",
       "    <tr>\n",
       "      <th>1</th>\n",
       "      <td>10 cloverfield lane</td>\n",
       "      <td>2065.728440</td>\n",
       "      <td>103286422</td>\n",
       "      <td>5000000</td>\n",
       "      <td>72082999</td>\n",
       "      <td>108286422</td>\n",
       "      <td>Thriller</td>\n",
       "      <td>Dan Trachtenberg</td>\n",
       "      <td>[Matthew Stuecken, Josh Campbell, Damien Chaze...</td>\n",
       "      <td>103.0</td>\n",
       "      <td>2016-03-11</td>\n",
       "      <td>2016</td>\n",
       "    </tr>\n",
       "    <tr>\n",
       "      <th>1</th>\n",
       "      <td>10 cloverfield lane</td>\n",
       "      <td>2065.728440</td>\n",
       "      <td>103286422</td>\n",
       "      <td>5000000</td>\n",
       "      <td>72082999</td>\n",
       "      <td>108286422</td>\n",
       "      <td>Mystery</td>\n",
       "      <td>Dan Trachtenberg</td>\n",
       "      <td>[Matthew Stuecken, Josh Campbell, Damien Chaze...</td>\n",
       "      <td>103.0</td>\n",
       "      <td>2016-03-11</td>\n",
       "      <td>2016</td>\n",
       "    </tr>\n",
       "    <tr>\n",
       "      <th>1</th>\n",
       "      <td>10 cloverfield lane</td>\n",
       "      <td>2065.728440</td>\n",
       "      <td>103286422</td>\n",
       "      <td>5000000</td>\n",
       "      <td>72082999</td>\n",
       "      <td>108286422</td>\n",
       "      <td>Horror</td>\n",
       "      <td>Dan Trachtenberg</td>\n",
       "      <td>[Matthew Stuecken, Josh Campbell, Damien Chaze...</td>\n",
       "      <td>103.0</td>\n",
       "      <td>2016-03-11</td>\n",
       "      <td>2016</td>\n",
       "    </tr>\n",
       "    <tr>\n",
       "      <th>1</th>\n",
       "      <td>10 cloverfield lane</td>\n",
       "      <td>2065.728440</td>\n",
       "      <td>103286422</td>\n",
       "      <td>5000000</td>\n",
       "      <td>72082999</td>\n",
       "      <td>108286422</td>\n",
       "      <td>Sci-Fi</td>\n",
       "      <td>Dan Trachtenberg</td>\n",
       "      <td>[Matthew Stuecken, Josh Campbell, Damien Chaze...</td>\n",
       "      <td>103.0</td>\n",
       "      <td>2016-03-11</td>\n",
       "      <td>2016</td>\n",
       "    </tr>\n",
       "    <tr>\n",
       "      <th>...</th>\n",
       "      <td>...</td>\n",
       "      <td>...</td>\n",
       "      <td>...</td>\n",
       "      <td>...</td>\n",
       "      <td>...</td>\n",
       "      <td>...</td>\n",
       "      <td>...</td>\n",
       "      <td>...</td>\n",
       "      <td>...</td>\n",
       "      <td>...</td>\n",
       "      <td>...</td>\n",
       "      <td>...</td>\n",
       "    </tr>\n",
       "    <tr>\n",
       "      <th>5693</th>\n",
       "      <td>zootopia</td>\n",
       "      <td>579.619744</td>\n",
       "      <td>869429616</td>\n",
       "      <td>150000000</td>\n",
       "      <td>341268248</td>\n",
       "      <td>1019429616</td>\n",
       "      <td>Comedy</td>\n",
       "      <td>Byron Howard</td>\n",
       "      <td>[Josie Trinidad, Jared Bush, Jennifer Lee, Byr...</td>\n",
       "      <td>108.0</td>\n",
       "      <td>2016-03-04</td>\n",
       "      <td>2016</td>\n",
       "    </tr>\n",
       "    <tr>\n",
       "      <th>5694</th>\n",
       "      <td>zulu</td>\n",
       "      <td>-88.473575</td>\n",
       "      <td>-14155772</td>\n",
       "      <td>16000000</td>\n",
       "      <td>0</td>\n",
       "      <td>1844228</td>\n",
       "      <td>Drama</td>\n",
       "      <td>Jérôme Salle</td>\n",
       "      <td>[Caryl Ferey, Jérôme Salle, Julien Rappeneau]</td>\n",
       "      <td>110.0</td>\n",
       "      <td>2013-12-31</td>\n",
       "      <td>2013</td>\n",
       "    </tr>\n",
       "    <tr>\n",
       "      <th>5694</th>\n",
       "      <td>zulu</td>\n",
       "      <td>-88.473575</td>\n",
       "      <td>-14155772</td>\n",
       "      <td>16000000</td>\n",
       "      <td>0</td>\n",
       "      <td>1844228</td>\n",
       "      <td>Thriller</td>\n",
       "      <td>Jérôme Salle</td>\n",
       "      <td>[Caryl Ferey, Jérôme Salle, Julien Rappeneau]</td>\n",
       "      <td>110.0</td>\n",
       "      <td>2013-12-31</td>\n",
       "      <td>2013</td>\n",
       "    </tr>\n",
       "    <tr>\n",
       "      <th>5694</th>\n",
       "      <td>zulu</td>\n",
       "      <td>-88.473575</td>\n",
       "      <td>-14155772</td>\n",
       "      <td>16000000</td>\n",
       "      <td>0</td>\n",
       "      <td>1844228</td>\n",
       "      <td>None</td>\n",
       "      <td>Jérôme Salle</td>\n",
       "      <td>[Caryl Ferey, Jérôme Salle, Julien Rappeneau]</td>\n",
       "      <td>110.0</td>\n",
       "      <td>2013-12-31</td>\n",
       "      <td>2013</td>\n",
       "    </tr>\n",
       "    <tr>\n",
       "      <th>5694</th>\n",
       "      <td>zulu</td>\n",
       "      <td>-88.473575</td>\n",
       "      <td>-14155772</td>\n",
       "      <td>16000000</td>\n",
       "      <td>0</td>\n",
       "      <td>1844228</td>\n",
       "      <td>Crime</td>\n",
       "      <td>Jérôme Salle</td>\n",
       "      <td>[Caryl Ferey, Jérôme Salle, Julien Rappeneau]</td>\n",
       "      <td>110.0</td>\n",
       "      <td>2013-12-31</td>\n",
       "      <td>2013</td>\n",
       "    </tr>\n",
       "  </tbody>\n",
       "</table>\n",
       "<p>5079 rows × 12 columns</p>\n",
       "</div>"
      ],
      "text/plain": [
       "                    title          ROI     profit  prod_budget  dom_gross  \\\n",
       "1     10 cloverfield lane  2065.728440  103286422      5000000   72082999   \n",
       "1     10 cloverfield lane  2065.728440  103286422      5000000   72082999   \n",
       "1     10 cloverfield lane  2065.728440  103286422      5000000   72082999   \n",
       "1     10 cloverfield lane  2065.728440  103286422      5000000   72082999   \n",
       "1     10 cloverfield lane  2065.728440  103286422      5000000   72082999   \n",
       "...                   ...          ...        ...          ...        ...   \n",
       "5693             zootopia   579.619744  869429616    150000000  341268248   \n",
       "5694                 zulu   -88.473575  -14155772     16000000          0   \n",
       "5694                 zulu   -88.473575  -14155772     16000000          0   \n",
       "5694                 zulu   -88.473575  -14155772     16000000          0   \n",
       "5694                 zulu   -88.473575  -14155772     16000000          0   \n",
       "\n",
       "      world_gross    genres          director  \\\n",
       "1       108286422     Drama  Dan Trachtenberg   \n",
       "1       108286422  Thriller  Dan Trachtenberg   \n",
       "1       108286422   Mystery  Dan Trachtenberg   \n",
       "1       108286422    Horror  Dan Trachtenberg   \n",
       "1       108286422    Sci-Fi  Dan Trachtenberg   \n",
       "...           ...       ...               ...   \n",
       "5693   1019429616    Comedy      Byron Howard   \n",
       "5694      1844228     Drama      Jérôme Salle   \n",
       "5694      1844228  Thriller      Jérôme Salle   \n",
       "5694      1844228      None      Jérôme Salle   \n",
       "5694      1844228     Crime      Jérôme Salle   \n",
       "\n",
       "                                                 writer  runtime_min  \\\n",
       "1     [Matthew Stuecken, Josh Campbell, Damien Chaze...        103.0   \n",
       "1     [Matthew Stuecken, Josh Campbell, Damien Chaze...        103.0   \n",
       "1     [Matthew Stuecken, Josh Campbell, Damien Chaze...        103.0   \n",
       "1     [Matthew Stuecken, Josh Campbell, Damien Chaze...        103.0   \n",
       "1     [Matthew Stuecken, Josh Campbell, Damien Chaze...        103.0   \n",
       "...                                                 ...          ...   \n",
       "5693  [Josie Trinidad, Jared Bush, Jennifer Lee, Byr...        108.0   \n",
       "5694      [Caryl Ferey, Jérôme Salle, Julien Rappeneau]        110.0   \n",
       "5694      [Caryl Ferey, Jérôme Salle, Julien Rappeneau]        110.0   \n",
       "5694      [Caryl Ferey, Jérôme Salle, Julien Rappeneau]        110.0   \n",
       "5694      [Caryl Ferey, Jérôme Salle, Julien Rappeneau]        110.0   \n",
       "\n",
       "     release_date  year  \n",
       "1      2016-03-11  2016  \n",
       "1      2016-03-11  2016  \n",
       "1      2016-03-11  2016  \n",
       "1      2016-03-11  2016  \n",
       "1      2016-03-11  2016  \n",
       "...           ...   ...  \n",
       "5693   2016-03-04  2016  \n",
       "5694   2013-12-31  2013  \n",
       "5694   2013-12-31  2013  \n",
       "5694   2013-12-31  2013  \n",
       "5694   2013-12-31  2013  \n",
       "\n",
       "[5079 rows x 12 columns]"
      ]
     },
     "execution_count": 16,
     "metadata": {},
     "output_type": "execute_result"
    }
   ],
   "source": [
    "director = genre.explode('director')\n",
    "director"
   ]
  },
  {
   "cell_type": "code",
   "execution_count": 17,
   "id": "ec946cf0",
   "metadata": {},
   "outputs": [],
   "source": [
    "genre_dir = genre.explode('director')"
   ]
  },
  {
   "cell_type": "code",
   "execution_count": 18,
   "id": "60a46cc8",
   "metadata": {},
   "outputs": [
    {
     "name": "stderr",
     "output_type": "stream",
     "text": [
      "C:\\Users\\capta\\AppData\\Local\\Temp\\ipykernel_16628\\2204360820.py:2: SettingWithCopyWarning:\n",
      "\n",
      "\n",
      "A value is trying to be set on a copy of a slice from a DataFrame.\n",
      "Try using .loc[row_indexer,col_indexer] = value instead\n",
      "\n",
      "See the caveats in the documentation: https://pandas.pydata.org/pandas-docs/stable/user_guide/indexing.html#returning-a-view-versus-a-copy\n",
      "\n",
      "C:\\Users\\capta\\AppData\\Local\\Temp\\ipykernel_16628\\2204360820.py:4: SettingWithCopyWarning:\n",
      "\n",
      "\n",
      "A value is trying to be set on a copy of a slice from a DataFrame.\n",
      "Try using .loc[row_indexer,col_indexer] = value instead\n",
      "\n",
      "See the caveats in the documentation: https://pandas.pydata.org/pandas-docs/stable/user_guide/indexing.html#returning-a-view-versus-a-copy\n",
      "\n",
      "C:\\Users\\capta\\AppData\\Local\\Temp\\ipykernel_16628\\2204360820.py:6: SettingWithCopyWarning:\n",
      "\n",
      "\n",
      "A value is trying to be set on a copy of a slice from a DataFrame.\n",
      "Try using .loc[row_indexer,col_indexer] = value instead\n",
      "\n",
      "See the caveats in the documentation: https://pandas.pydata.org/pandas-docs/stable/user_guide/indexing.html#returning-a-view-versus-a-copy\n",
      "\n",
      "C:\\Users\\capta\\AppData\\Local\\Temp\\ipykernel_16628\\2204360820.py:8: SettingWithCopyWarning:\n",
      "\n",
      "\n",
      "A value is trying to be set on a copy of a slice from a DataFrame.\n",
      "Try using .loc[row_indexer,col_indexer] = value instead\n",
      "\n",
      "See the caveats in the documentation: https://pandas.pydata.org/pandas-docs/stable/user_guide/indexing.html#returning-a-view-versus-a-copy\n",
      "\n",
      "C:\\Users\\capta\\AppData\\Local\\Temp\\ipykernel_16628\\2204360820.py:10: SettingWithCopyWarning:\n",
      "\n",
      "\n",
      "A value is trying to be set on a copy of a slice from a DataFrame.\n",
      "Try using .loc[row_indexer,col_indexer] = value instead\n",
      "\n",
      "See the caveats in the documentation: https://pandas.pydata.org/pandas-docs/stable/user_guide/indexing.html#returning-a-view-versus-a-copy\n",
      "\n",
      "C:\\Users\\capta\\AppData\\Local\\Temp\\ipykernel_16628\\2204360820.py:12: SettingWithCopyWarning:\n",
      "\n",
      "\n",
      "A value is trying to be set on a copy of a slice from a DataFrame.\n",
      "Try using .loc[row_indexer,col_indexer] = value instead\n",
      "\n",
      "See the caveats in the documentation: https://pandas.pydata.org/pandas-docs/stable/user_guide/indexing.html#returning-a-view-versus-a-copy\n",
      "\n",
      "C:\\Users\\capta\\AppData\\Local\\Temp\\ipykernel_16628\\2204360820.py:14: SettingWithCopyWarning:\n",
      "\n",
      "\n",
      "A value is trying to be set on a copy of a slice from a DataFrame.\n",
      "Try using .loc[row_indexer,col_indexer] = value instead\n",
      "\n",
      "See the caveats in the documentation: https://pandas.pydata.org/pandas-docs/stable/user_guide/indexing.html#returning-a-view-versus-a-copy\n",
      "\n"
     ]
    }
   ],
   "source": [
    "animation = genre_dir.loc[genre_dir['genres']== 'Animation']\n",
    "animation['ROI_diff'] = (animation['ROI'] - animation['ROI'].mean()) / animation['ROI'].mean() \n",
    "scifi = genre_dir.loc[genre_dir['genres']== 'Sci-Fi']\n",
    "scifi['ROI_diff'] = (scifi['ROI'] - scifi['ROI'].mean()) / scifi['ROI'].mean() \n",
    "adventure = genre_dir.loc[genre_dir['genres']== 'Adventure']\n",
    "adventure['ROI_diff'] = (adventure['ROI'] - adventure['ROI'].mean()) / adventure['ROI'].mean()\n",
    "fantasy = genre_dir.loc[genre_dir['genres']== 'Fantasy']\n",
    "fantasy['ROI_diff'] = (fantasy['ROI'] - fantasy['ROI'].mean()) / fantasy['ROI'].mean()\n",
    "family = genre_dir.loc[genre_dir['genres']== 'Family']\n",
    "family['ROI_diff'] = (family['ROI'] - family['ROI'].mean()) / family['ROI'].mean()\n",
    "horror = genre_dir.loc[genre_dir['genres']== 'Horror']\n",
    "horror['ROI_diff'] = (horror['ROI'] - horror['ROI'].mean()) / horror['ROI'].mean()\n",
    "mystery = genre_dir.loc[genre_dir['genres']== 'Mystery']\n",
    "mystery['ROI_diff'] = (mystery['ROI'] - mystery['ROI'].mean()) / mystery['ROI'].mean()"
   ]
  },
  {
   "cell_type": "code",
   "execution_count": 19,
   "id": "58c638cb",
   "metadata": {},
   "outputs": [
    {
     "data": {
      "text/html": [
       "<div>\n",
       "<style scoped>\n",
       "    .dataframe tbody tr th:only-of-type {\n",
       "        vertical-align: middle;\n",
       "    }\n",
       "\n",
       "    .dataframe tbody tr th {\n",
       "        vertical-align: top;\n",
       "    }\n",
       "\n",
       "    .dataframe thead th {\n",
       "        text-align: right;\n",
       "    }\n",
       "</style>\n",
       "<table border=\"1\" class=\"dataframe\">\n",
       "  <thead>\n",
       "    <tr style=\"text-align: right;\">\n",
       "      <th></th>\n",
       "      <th>title</th>\n",
       "      <th>ROI</th>\n",
       "      <th>profit</th>\n",
       "      <th>prod_budget</th>\n",
       "      <th>dom_gross</th>\n",
       "      <th>world_gross</th>\n",
       "      <th>genres</th>\n",
       "      <th>director</th>\n",
       "      <th>writer</th>\n",
       "      <th>runtime_min</th>\n",
       "      <th>release_date</th>\n",
       "      <th>year</th>\n",
       "      <th>ROI_diff</th>\n",
       "    </tr>\n",
       "  </thead>\n",
       "  <tbody>\n",
       "    <tr>\n",
       "      <th>280</th>\n",
       "      <td>alvin and the chipmunks the road chip</td>\n",
       "      <td>177.242173</td>\n",
       "      <td>159517956</td>\n",
       "      <td>90000000</td>\n",
       "      <td>85886987</td>\n",
       "      <td>249517956</td>\n",
       "      <td>Animation</td>\n",
       "      <td>Walt Becker</td>\n",
       "      <td>[Ross Bagdasarian, Adam Sztykiel, Randi Mayem ...</td>\n",
       "      <td>92.0</td>\n",
       "      <td>2015-12-18</td>\n",
       "      <td>2015</td>\n",
       "      <td>-0.447085</td>\n",
       "    </tr>\n",
       "    <tr>\n",
       "      <th>356</th>\n",
       "      <td>anomalisa</td>\n",
       "      <td>-28.672900</td>\n",
       "      <td>-2293832</td>\n",
       "      <td>8000000</td>\n",
       "      <td>3759286</td>\n",
       "      <td>5706168</td>\n",
       "      <td>Animation</td>\n",
       "      <td>Charlie Kaufman</td>\n",
       "      <td>[Charlie Kaufman]</td>\n",
       "      <td>90.0</td>\n",
       "      <td>2015-12-30</td>\n",
       "      <td>2015</td>\n",
       "      <td>-1.089446</td>\n",
       "    </tr>\n",
       "    <tr>\n",
       "      <th>356</th>\n",
       "      <td>anomalisa</td>\n",
       "      <td>-28.672900</td>\n",
       "      <td>-2293832</td>\n",
       "      <td>8000000</td>\n",
       "      <td>3759286</td>\n",
       "      <td>5706168</td>\n",
       "      <td>Animation</td>\n",
       "      <td>Duke Johnson</td>\n",
       "      <td>[Charlie Kaufman]</td>\n",
       "      <td>90.0</td>\n",
       "      <td>2015-12-30</td>\n",
       "      <td>2015</td>\n",
       "      <td>-1.089446</td>\n",
       "    </tr>\n",
       "    <tr>\n",
       "      <th>475</th>\n",
       "      <td>ballerina</td>\n",
       "      <td>222.976097</td>\n",
       "      <td>66892829</td>\n",
       "      <td>30000000</td>\n",
       "      <td>21858070</td>\n",
       "      <td>96892829</td>\n",
       "      <td>Animation</td>\n",
       "      <td>None</td>\n",
       "      <td>[None]</td>\n",
       "      <td>NaN</td>\n",
       "      <td>2017-08-25</td>\n",
       "      <td>2017</td>\n",
       "      <td>-0.304416</td>\n",
       "    </tr>\n",
       "    <tr>\n",
       "      <th>509</th>\n",
       "      <td>batman the dark knight returns part 2</td>\n",
       "      <td>-100.000000</td>\n",
       "      <td>-3500000</td>\n",
       "      <td>3500000</td>\n",
       "      <td>0</td>\n",
       "      <td>0</td>\n",
       "      <td>Animation</td>\n",
       "      <td>None</td>\n",
       "      <td>[None]</td>\n",
       "      <td>NaN</td>\n",
       "      <td>2013-01-29</td>\n",
       "      <td>2013</td>\n",
       "      <td>-1.311955</td>\n",
       "    </tr>\n",
       "    <tr>\n",
       "      <th>...</th>\n",
       "      <td>...</td>\n",
       "      <td>...</td>\n",
       "      <td>...</td>\n",
       "      <td>...</td>\n",
       "      <td>...</td>\n",
       "      <td>...</td>\n",
       "      <td>...</td>\n",
       "      <td>...</td>\n",
       "      <td>...</td>\n",
       "      <td>...</td>\n",
       "      <td>...</td>\n",
       "      <td>...</td>\n",
       "      <td>...</td>\n",
       "    </tr>\n",
       "    <tr>\n",
       "      <th>5625</th>\n",
       "      <td>wreck it ralph</td>\n",
       "      <td>200.916073</td>\n",
       "      <td>331511521</td>\n",
       "      <td>165000000</td>\n",
       "      <td>189412677</td>\n",
       "      <td>496511521</td>\n",
       "      <td>Animation</td>\n",
       "      <td>Rich Moore</td>\n",
       "      <td>[Sam Levine, Jared Stern, Jennifer Lee, John C...</td>\n",
       "      <td>101.0</td>\n",
       "      <td>2012-11-02</td>\n",
       "      <td>2012</td>\n",
       "      <td>-0.373233</td>\n",
       "    </tr>\n",
       "    <tr>\n",
       "      <th>5679</th>\n",
       "      <td>zambezia</td>\n",
       "      <td>72.271680</td>\n",
       "      <td>14454336</td>\n",
       "      <td>20000000</td>\n",
       "      <td>0</td>\n",
       "      <td>34454336</td>\n",
       "      <td>Animation</td>\n",
       "      <td>Wayne Thornley</td>\n",
       "      <td>[Andrew Cook, Wayne Thornley, Brent Palmer, To...</td>\n",
       "      <td>83.0</td>\n",
       "      <td>2012-12-31</td>\n",
       "      <td>2012</td>\n",
       "      <td>-0.774545</td>\n",
       "    </tr>\n",
       "    <tr>\n",
       "      <th>5693</th>\n",
       "      <td>zootopia</td>\n",
       "      <td>579.619744</td>\n",
       "      <td>869429616</td>\n",
       "      <td>150000000</td>\n",
       "      <td>341268248</td>\n",
       "      <td>1019429616</td>\n",
       "      <td>Animation</td>\n",
       "      <td>Rich Moore</td>\n",
       "      <td>[Josie Trinidad, Jared Bush, Jennifer Lee, Byr...</td>\n",
       "      <td>108.0</td>\n",
       "      <td>2016-03-04</td>\n",
       "      <td>2016</td>\n",
       "      <td>0.808150</td>\n",
       "    </tr>\n",
       "    <tr>\n",
       "      <th>5693</th>\n",
       "      <td>zootopia</td>\n",
       "      <td>579.619744</td>\n",
       "      <td>869429616</td>\n",
       "      <td>150000000</td>\n",
       "      <td>341268248</td>\n",
       "      <td>1019429616</td>\n",
       "      <td>Animation</td>\n",
       "      <td>Jared Bush</td>\n",
       "      <td>[Josie Trinidad, Jared Bush, Jennifer Lee, Byr...</td>\n",
       "      <td>108.0</td>\n",
       "      <td>2016-03-04</td>\n",
       "      <td>2016</td>\n",
       "      <td>0.808150</td>\n",
       "    </tr>\n",
       "    <tr>\n",
       "      <th>5693</th>\n",
       "      <td>zootopia</td>\n",
       "      <td>579.619744</td>\n",
       "      <td>869429616</td>\n",
       "      <td>150000000</td>\n",
       "      <td>341268248</td>\n",
       "      <td>1019429616</td>\n",
       "      <td>Animation</td>\n",
       "      <td>Byron Howard</td>\n",
       "      <td>[Josie Trinidad, Jared Bush, Jennifer Lee, Byr...</td>\n",
       "      <td>108.0</td>\n",
       "      <td>2016-03-04</td>\n",
       "      <td>2016</td>\n",
       "      <td>0.808150</td>\n",
       "    </tr>\n",
       "  </tbody>\n",
       "</table>\n",
       "<p>135 rows × 13 columns</p>\n",
       "</div>"
      ],
      "text/plain": [
       "                                      title         ROI     profit  \\\n",
       "280   alvin and the chipmunks the road chip  177.242173  159517956   \n",
       "356                               anomalisa  -28.672900   -2293832   \n",
       "356                               anomalisa  -28.672900   -2293832   \n",
       "475                               ballerina  222.976097   66892829   \n",
       "509   batman the dark knight returns part 2 -100.000000   -3500000   \n",
       "...                                     ...         ...        ...   \n",
       "5625                         wreck it ralph  200.916073  331511521   \n",
       "5679                               zambezia   72.271680   14454336   \n",
       "5693                               zootopia  579.619744  869429616   \n",
       "5693                               zootopia  579.619744  869429616   \n",
       "5693                               zootopia  579.619744  869429616   \n",
       "\n",
       "      prod_budget  dom_gross  world_gross     genres         director  \\\n",
       "280      90000000   85886987    249517956  Animation      Walt Becker   \n",
       "356       8000000    3759286      5706168  Animation  Charlie Kaufman   \n",
       "356       8000000    3759286      5706168  Animation     Duke Johnson   \n",
       "475      30000000   21858070     96892829  Animation             None   \n",
       "509       3500000          0            0  Animation             None   \n",
       "...           ...        ...          ...        ...              ...   \n",
       "5625    165000000  189412677    496511521  Animation       Rich Moore   \n",
       "5679     20000000          0     34454336  Animation   Wayne Thornley   \n",
       "5693    150000000  341268248   1019429616  Animation       Rich Moore   \n",
       "5693    150000000  341268248   1019429616  Animation       Jared Bush   \n",
       "5693    150000000  341268248   1019429616  Animation     Byron Howard   \n",
       "\n",
       "                                                 writer  runtime_min  \\\n",
       "280   [Ross Bagdasarian, Adam Sztykiel, Randi Mayem ...         92.0   \n",
       "356                                   [Charlie Kaufman]         90.0   \n",
       "356                                   [Charlie Kaufman]         90.0   \n",
       "475                                              [None]          NaN   \n",
       "509                                              [None]          NaN   \n",
       "...                                                 ...          ...   \n",
       "5625  [Sam Levine, Jared Stern, Jennifer Lee, John C...        101.0   \n",
       "5679  [Andrew Cook, Wayne Thornley, Brent Palmer, To...         83.0   \n",
       "5693  [Josie Trinidad, Jared Bush, Jennifer Lee, Byr...        108.0   \n",
       "5693  [Josie Trinidad, Jared Bush, Jennifer Lee, Byr...        108.0   \n",
       "5693  [Josie Trinidad, Jared Bush, Jennifer Lee, Byr...        108.0   \n",
       "\n",
       "     release_date  year  ROI_diff  \n",
       "280    2015-12-18  2015 -0.447085  \n",
       "356    2015-12-30  2015 -1.089446  \n",
       "356    2015-12-30  2015 -1.089446  \n",
       "475    2017-08-25  2017 -0.304416  \n",
       "509    2013-01-29  2013 -1.311955  \n",
       "...           ...   ...       ...  \n",
       "5625   2012-11-02  2012 -0.373233  \n",
       "5679   2012-12-31  2012 -0.774545  \n",
       "5693   2016-03-04  2016  0.808150  \n",
       "5693   2016-03-04  2016  0.808150  \n",
       "5693   2016-03-04  2016  0.808150  \n",
       "\n",
       "[135 rows x 13 columns]"
      ]
     },
     "execution_count": 19,
     "metadata": {},
     "output_type": "execute_result"
    }
   ],
   "source": [
    "animation"
   ]
  },
  {
   "cell_type": "code",
   "execution_count": 53,
   "id": "4aef46da",
   "metadata": {},
   "outputs": [
    {
     "data": {
      "text/html": [
       "<div>\n",
       "<style scoped>\n",
       "    .dataframe tbody tr th:only-of-type {\n",
       "        vertical-align: middle;\n",
       "    }\n",
       "\n",
       "    .dataframe tbody tr th {\n",
       "        vertical-align: top;\n",
       "    }\n",
       "\n",
       "    .dataframe thead th {\n",
       "        text-align: right;\n",
       "    }\n",
       "</style>\n",
       "<table border=\"1\" class=\"dataframe\">\n",
       "  <thead>\n",
       "    <tr style=\"text-align: right;\">\n",
       "      <th></th>\n",
       "      <th>title</th>\n",
       "      <th>ROI</th>\n",
       "    </tr>\n",
       "    <tr>\n",
       "      <th>director</th>\n",
       "      <th></th>\n",
       "      <th></th>\n",
       "    </tr>\n",
       "  </thead>\n",
       "  <tbody>\n",
       "    <tr>\n",
       "      <th>Aaron Horvath</th>\n",
       "      <td>1</td>\n",
       "      <td>416.205930</td>\n",
       "    </tr>\n",
       "    <tr>\n",
       "      <th>Adrian Molina</th>\n",
       "      <td>1</td>\n",
       "      <td>356.004629</td>\n",
       "    </tr>\n",
       "    <tr>\n",
       "      <th>Alessandro Carloni</th>\n",
       "      <td>1</td>\n",
       "      <td>269.713673</td>\n",
       "    </tr>\n",
       "    <tr>\n",
       "      <th>Andrew Stanton</th>\n",
       "      <td>1</td>\n",
       "      <td>410.607596</td>\n",
       "    </tr>\n",
       "    <tr>\n",
       "      <th>Angus MacLane</th>\n",
       "      <td>1</td>\n",
       "      <td>410.607596</td>\n",
       "    </tr>\n",
       "    <tr>\n",
       "      <th>...</th>\n",
       "      <td>...</td>\n",
       "      <td>...</td>\n",
       "    </tr>\n",
       "    <tr>\n",
       "      <th>Walt Dohrn</th>\n",
       "      <td>1</td>\n",
       "      <td>175.320107</td>\n",
       "    </tr>\n",
       "    <tr>\n",
       "      <th>Wayne Thornley</th>\n",
       "      <td>1</td>\n",
       "      <td>72.271680</td>\n",
       "    </tr>\n",
       "    <tr>\n",
       "      <th>Will Gluck</th>\n",
       "      <td>1</td>\n",
       "      <td>594.272954</td>\n",
       "    </tr>\n",
       "    <tr>\n",
       "      <th>Yarrow Cheney</th>\n",
       "      <td>1</td>\n",
       "      <td>1082.334045</td>\n",
       "    </tr>\n",
       "    <tr>\n",
       "      <th>Yuefeng Song</th>\n",
       "      <td>1</td>\n",
       "      <td>-98.163943</td>\n",
       "    </tr>\n",
       "  </tbody>\n",
       "</table>\n",
       "<p>87 rows × 2 columns</p>\n",
       "</div>"
      ],
      "text/plain": [
       "                    title          ROI\n",
       "director                              \n",
       "Aaron Horvath           1   416.205930\n",
       "Adrian Molina           1   356.004629\n",
       "Alessandro Carloni      1   269.713673\n",
       "Andrew Stanton          1   410.607596\n",
       "Angus MacLane           1   410.607596\n",
       "...                   ...          ...\n",
       "Walt Dohrn              1   175.320107\n",
       "Wayne Thornley          1    72.271680\n",
       "Will Gluck              1   594.272954\n",
       "Yarrow Cheney           1  1082.334045\n",
       "Yuefeng Song            1   -98.163943\n",
       "\n",
       "[87 rows x 2 columns]"
      ]
     },
     "execution_count": 53,
     "metadata": {},
     "output_type": "execute_result"
    }
   ],
   "source": [
    "#animation_count = animation.groupby('director').agg({'title': 'count', 'ROI': 'median'})\n",
    "#animation_count.loc[animation_count.title == 1]"
   ]
  },
  {
   "cell_type": "code",
   "execution_count": 85,
   "id": "74e3a0c7",
   "metadata": {},
   "outputs": [
    {
     "data": {
      "text/html": [
       "<div>\n",
       "<style scoped>\n",
       "    .dataframe tbody tr th:only-of-type {\n",
       "        vertical-align: middle;\n",
       "    }\n",
       "\n",
       "    .dataframe tbody tr th {\n",
       "        vertical-align: top;\n",
       "    }\n",
       "\n",
       "    .dataframe thead th {\n",
       "        text-align: right;\n",
       "    }\n",
       "</style>\n",
       "<table border=\"1\" class=\"dataframe\">\n",
       "  <thead>\n",
       "    <tr style=\"text-align: right;\">\n",
       "      <th></th>\n",
       "      <th>ROI</th>\n",
       "      <th>profit</th>\n",
       "      <th>prod_budget</th>\n",
       "      <th>dom_gross</th>\n",
       "      <th>world_gross</th>\n",
       "      <th>runtime_min</th>\n",
       "      <th>year</th>\n",
       "    </tr>\n",
       "    <tr>\n",
       "      <th>genres</th>\n",
       "      <th></th>\n",
       "      <th></th>\n",
       "      <th></th>\n",
       "      <th></th>\n",
       "      <th></th>\n",
       "      <th></th>\n",
       "      <th></th>\n",
       "    </tr>\n",
       "  </thead>\n",
       "  <tbody>\n",
       "    <tr>\n",
       "      <th>Animation</th>\n",
       "      <td>198.256071</td>\n",
       "      <td>155707267.0</td>\n",
       "      <td>75000000.0</td>\n",
       "      <td>91879935.5</td>\n",
       "      <td>266300435.5</td>\n",
       "      <td>93.5</td>\n",
       "      <td>2015.0</td>\n",
       "    </tr>\n",
       "    <tr>\n",
       "      <th>Mystery</th>\n",
       "      <td>177.061834</td>\n",
       "      <td>29065832.0</td>\n",
       "      <td>10000000.0</td>\n",
       "      <td>25137335.0</td>\n",
       "      <td>42658231.5</td>\n",
       "      <td>105.0</td>\n",
       "      <td>2015.0</td>\n",
       "    </tr>\n",
       "    <tr>\n",
       "      <th>Horror</th>\n",
       "      <td>166.547080</td>\n",
       "      <td>19966854.0</td>\n",
       "      <td>7000000.0</td>\n",
       "      <td>17530219.0</td>\n",
       "      <td>31187727.0</td>\n",
       "      <td>94.5</td>\n",
       "      <td>2015.0</td>\n",
       "    </tr>\n",
       "    <tr>\n",
       "      <th>Fantasy</th>\n",
       "      <td>164.645551</td>\n",
       "      <td>92459523.5</td>\n",
       "      <td>85000000.0</td>\n",
       "      <td>59062664.0</td>\n",
       "      <td>191825988.5</td>\n",
       "      <td>107.0</td>\n",
       "      <td>2015.0</td>\n",
       "    </tr>\n",
       "    <tr>\n",
       "      <th>Family</th>\n",
       "      <td>162.794441</td>\n",
       "      <td>88577874.0</td>\n",
       "      <td>60000000.0</td>\n",
       "      <td>71017784.0</td>\n",
       "      <td>158905324.0</td>\n",
       "      <td>98.0</td>\n",
       "      <td>2015.0</td>\n",
       "    </tr>\n",
       "    <tr>\n",
       "      <th>Adventure</th>\n",
       "      <td>161.933473</td>\n",
       "      <td>124806430.0</td>\n",
       "      <td>95000000.0</td>\n",
       "      <td>72688614.0</td>\n",
       "      <td>219519367.0</td>\n",
       "      <td>108.0</td>\n",
       "      <td>2015.0</td>\n",
       "    </tr>\n",
       "    <tr>\n",
       "      <th>Comedy</th>\n",
       "      <td>152.617788</td>\n",
       "      <td>31623819.0</td>\n",
       "      <td>25000000.0</td>\n",
       "      <td>34366783.0</td>\n",
       "      <td>61623819.0</td>\n",
       "      <td>102.0</td>\n",
       "      <td>2015.0</td>\n",
       "    </tr>\n",
       "    <tr>\n",
       "      <th>Sci-Fi</th>\n",
       "      <td>145.944250</td>\n",
       "      <td>105900574.5</td>\n",
       "      <td>89000000.0</td>\n",
       "      <td>63156183.0</td>\n",
       "      <td>204877706.0</td>\n",
       "      <td>113.5</td>\n",
       "      <td>2015.0</td>\n",
       "    </tr>\n",
       "    <tr>\n",
       "      <th>Romance</th>\n",
       "      <td>131.566711</td>\n",
       "      <td>15492694.5</td>\n",
       "      <td>15850000.0</td>\n",
       "      <td>20604665.0</td>\n",
       "      <td>39198146.0</td>\n",
       "      <td>105.0</td>\n",
       "      <td>2014.0</td>\n",
       "    </tr>\n",
       "    <tr>\n",
       "      <th>Action</th>\n",
       "      <td>120.174700</td>\n",
       "      <td>56249176.0</td>\n",
       "      <td>58000000.0</td>\n",
       "      <td>45852178.0</td>\n",
       "      <td>124827316.0</td>\n",
       "      <td>113.0</td>\n",
       "      <td>2015.0</td>\n",
       "    </tr>\n",
       "    <tr>\n",
       "      <th>Musical</th>\n",
       "      <td>118.769570</td>\n",
       "      <td>9057044.5</td>\n",
       "      <td>13750000.0</td>\n",
       "      <td>13933468.0</td>\n",
       "      <td>29585388.0</td>\n",
       "      <td>106.5</td>\n",
       "      <td>2014.5</td>\n",
       "    </tr>\n",
       "    <tr>\n",
       "      <th>Thriller</th>\n",
       "      <td>101.708933</td>\n",
       "      <td>22651864.0</td>\n",
       "      <td>18000000.0</td>\n",
       "      <td>21218403.0</td>\n",
       "      <td>43226146.0</td>\n",
       "      <td>105.0</td>\n",
       "      <td>2015.0</td>\n",
       "    </tr>\n",
       "    <tr>\n",
       "      <th>Biography</th>\n",
       "      <td>93.104617</td>\n",
       "      <td>18717667.0</td>\n",
       "      <td>20000000.0</td>\n",
       "      <td>22958583.0</td>\n",
       "      <td>38073377.0</td>\n",
       "      <td>120.0</td>\n",
       "      <td>2016.0</td>\n",
       "    </tr>\n",
       "    <tr>\n",
       "      <th>Drama</th>\n",
       "      <td>68.449583</td>\n",
       "      <td>10531500.0</td>\n",
       "      <td>15000000.0</td>\n",
       "      <td>15323921.0</td>\n",
       "      <td>29204379.0</td>\n",
       "      <td>110.0</td>\n",
       "      <td>2015.0</td>\n",
       "    </tr>\n",
       "    <tr>\n",
       "      <th>Sport</th>\n",
       "      <td>56.871648</td>\n",
       "      <td>15138912.0</td>\n",
       "      <td>20000000.0</td>\n",
       "      <td>28842237.0</td>\n",
       "      <td>39217912.0</td>\n",
       "      <td>118.0</td>\n",
       "      <td>2015.0</td>\n",
       "    </tr>\n",
       "    <tr>\n",
       "      <th>Crime</th>\n",
       "      <td>54.872124</td>\n",
       "      <td>12608019.0</td>\n",
       "      <td>26000000.0</td>\n",
       "      <td>20537137.0</td>\n",
       "      <td>38771262.0</td>\n",
       "      <td>109.0</td>\n",
       "      <td>2015.0</td>\n",
       "    </tr>\n",
       "    <tr>\n",
       "      <th>History</th>\n",
       "      <td>34.210396</td>\n",
       "      <td>10143181.5</td>\n",
       "      <td>25000000.0</td>\n",
       "      <td>17117578.5</td>\n",
       "      <td>37330944.5</td>\n",
       "      <td>122.0</td>\n",
       "      <td>2016.0</td>\n",
       "    </tr>\n",
       "    <tr>\n",
       "      <th>War</th>\n",
       "      <td>12.515718</td>\n",
       "      <td>888305.0</td>\n",
       "      <td>22500000.0</td>\n",
       "      <td>18704596.0</td>\n",
       "      <td>25350747.0</td>\n",
       "      <td>119.5</td>\n",
       "      <td>2016.0</td>\n",
       "    </tr>\n",
       "    <tr>\n",
       "      <th>Documentary</th>\n",
       "      <td>-2.018450</td>\n",
       "      <td>421325.0</td>\n",
       "      <td>956500.0</td>\n",
       "      <td>103193.0</td>\n",
       "      <td>711860.0</td>\n",
       "      <td>86.0</td>\n",
       "      <td>2014.0</td>\n",
       "    </tr>\n",
       "    <tr>\n",
       "      <th>Western</th>\n",
       "      <td>-27.046979</td>\n",
       "      <td>-1262077.0</td>\n",
       "      <td>31500000.0</td>\n",
       "      <td>4526269.5</td>\n",
       "      <td>10795004.0</td>\n",
       "      <td>119.0</td>\n",
       "      <td>2015.0</td>\n",
       "    </tr>\n",
       "    <tr>\n",
       "      <th>None</th>\n",
       "      <td>-54.029667</td>\n",
       "      <td>-250000.0</td>\n",
       "      <td>7500000.0</td>\n",
       "      <td>129479.0</td>\n",
       "      <td>3090593.0</td>\n",
       "      <td>101.0</td>\n",
       "      <td>2015.0</td>\n",
       "    </tr>\n",
       "  </tbody>\n",
       "</table>\n",
       "</div>"
      ],
      "text/plain": [
       "                    ROI       profit  prod_budget   dom_gross  world_gross  \\\n",
       "genres                                                                       \n",
       "Animation    198.256071  155707267.0   75000000.0  91879935.5  266300435.5   \n",
       "Mystery      177.061834   29065832.0   10000000.0  25137335.0   42658231.5   \n",
       "Horror       166.547080   19966854.0    7000000.0  17530219.0   31187727.0   \n",
       "Fantasy      164.645551   92459523.5   85000000.0  59062664.0  191825988.5   \n",
       "Family       162.794441   88577874.0   60000000.0  71017784.0  158905324.0   \n",
       "Adventure    161.933473  124806430.0   95000000.0  72688614.0  219519367.0   \n",
       "Comedy       152.617788   31623819.0   25000000.0  34366783.0   61623819.0   \n",
       "Sci-Fi       145.944250  105900574.5   89000000.0  63156183.0  204877706.0   \n",
       "Romance      131.566711   15492694.5   15850000.0  20604665.0   39198146.0   \n",
       "Action       120.174700   56249176.0   58000000.0  45852178.0  124827316.0   \n",
       "Musical      118.769570    9057044.5   13750000.0  13933468.0   29585388.0   \n",
       "Thriller     101.708933   22651864.0   18000000.0  21218403.0   43226146.0   \n",
       "Biography     93.104617   18717667.0   20000000.0  22958583.0   38073377.0   \n",
       "Drama         68.449583   10531500.0   15000000.0  15323921.0   29204379.0   \n",
       "Sport         56.871648   15138912.0   20000000.0  28842237.0   39217912.0   \n",
       "Crime         54.872124   12608019.0   26000000.0  20537137.0   38771262.0   \n",
       "History       34.210396   10143181.5   25000000.0  17117578.5   37330944.5   \n",
       "War           12.515718     888305.0   22500000.0  18704596.0   25350747.0   \n",
       "Documentary   -2.018450     421325.0     956500.0    103193.0     711860.0   \n",
       "Western      -27.046979   -1262077.0   31500000.0   4526269.5   10795004.0   \n",
       "None         -54.029667    -250000.0    7500000.0    129479.0    3090593.0   \n",
       "\n",
       "             runtime_min    year  \n",
       "genres                            \n",
       "Animation           93.5  2015.0  \n",
       "Mystery            105.0  2015.0  \n",
       "Horror              94.5  2015.0  \n",
       "Fantasy            107.0  2015.0  \n",
       "Family              98.0  2015.0  \n",
       "Adventure          108.0  2015.0  \n",
       "Comedy             102.0  2015.0  \n",
       "Sci-Fi             113.5  2015.0  \n",
       "Romance            105.0  2014.0  \n",
       "Action             113.0  2015.0  \n",
       "Musical            106.5  2014.5  \n",
       "Thriller           105.0  2015.0  \n",
       "Biography          120.0  2016.0  \n",
       "Drama              110.0  2015.0  \n",
       "Sport              118.0  2015.0  \n",
       "Crime              109.0  2015.0  \n",
       "History            122.0  2016.0  \n",
       "War                119.5  2016.0  \n",
       "Documentary         86.0  2014.0  \n",
       "Western            119.0  2015.0  \n",
       "None               101.0  2015.0  "
      ]
     },
     "execution_count": 85,
     "metadata": {},
     "output_type": "execute_result"
    }
   ],
   "source": [
    "genre.groupby('genres').median().sort_values('ROI', ascending = False)"
   ]
  },
  {
   "cell_type": "code",
   "execution_count": 112,
   "id": "e7b8c1ba",
   "metadata": {},
   "outputs": [
    {
     "data": {
      "text/html": [
       "<div>\n",
       "<style scoped>\n",
       "    .dataframe tbody tr th:only-of-type {\n",
       "        vertical-align: middle;\n",
       "    }\n",
       "\n",
       "    .dataframe tbody tr th {\n",
       "        vertical-align: top;\n",
       "    }\n",
       "\n",
       "    .dataframe thead th {\n",
       "        text-align: right;\n",
       "    }\n",
       "</style>\n",
       "<table border=\"1\" class=\"dataframe\">\n",
       "  <thead>\n",
       "    <tr style=\"text-align: right;\">\n",
       "      <th></th>\n",
       "      <th>ROI_diff</th>\n",
       "    </tr>\n",
       "    <tr>\n",
       "      <th>director</th>\n",
       "      <th></th>\n",
       "    </tr>\n",
       "  </thead>\n",
       "  <tbody>\n",
       "    <tr>\n",
       "      <th>Kyle Balda</th>\n",
       "      <td>3.285724</td>\n",
       "    </tr>\n",
       "    <tr>\n",
       "      <th>Pierre Coffin</th>\n",
       "      <td>3.087477</td>\n",
       "    </tr>\n",
       "    <tr>\n",
       "      <th>Eric Guillon</th>\n",
       "      <td>2.991886</td>\n",
       "    </tr>\n",
       "    <tr>\n",
       "      <th>Yarrow Cheney</th>\n",
       "      <td>2.376390</td>\n",
       "    </tr>\n",
       "    <tr>\n",
       "      <th>Chris Renaud</th>\n",
       "      <td>1.399142</td>\n",
       "    </tr>\n",
       "  </tbody>\n",
       "</table>\n",
       "</div>"
      ],
      "text/plain": [
       "               ROI_diff\n",
       "director               \n",
       "Kyle Balda     3.285724\n",
       "Pierre Coffin  3.087477\n",
       "Eric Guillon   2.991886\n",
       "Yarrow Cheney  2.376390\n",
       "Chris Renaud   1.399142"
      ]
     },
     "execution_count": 112,
     "metadata": {},
     "output_type": "execute_result"
    }
   ],
   "source": [
    "a = a.to_frame()\n",
    "a"
   ]
  },
  {
   "cell_type": "code",
   "execution_count": 113,
   "id": "879612fd",
   "metadata": {},
   "outputs": [],
   "source": [
    "a['genre'] = ['Animation','Animation','Animation','Animation','Animation']"
   ]
  },
  {
   "cell_type": "code",
   "execution_count": 114,
   "id": "4ed91e01",
   "metadata": {},
   "outputs": [
    {
     "data": {
      "text/html": [
       "<div>\n",
       "<style scoped>\n",
       "    .dataframe tbody tr th:only-of-type {\n",
       "        vertical-align: middle;\n",
       "    }\n",
       "\n",
       "    .dataframe tbody tr th {\n",
       "        vertical-align: top;\n",
       "    }\n",
       "\n",
       "    .dataframe thead th {\n",
       "        text-align: right;\n",
       "    }\n",
       "</style>\n",
       "<table border=\"1\" class=\"dataframe\">\n",
       "  <thead>\n",
       "    <tr style=\"text-align: right;\">\n",
       "      <th></th>\n",
       "      <th>ROI_diff</th>\n",
       "      <th>genre</th>\n",
       "    </tr>\n",
       "    <tr>\n",
       "      <th>director</th>\n",
       "      <th></th>\n",
       "      <th></th>\n",
       "    </tr>\n",
       "  </thead>\n",
       "  <tbody>\n",
       "    <tr>\n",
       "      <th>Kyle Balda</th>\n",
       "      <td>3.285724</td>\n",
       "      <td>Animation</td>\n",
       "    </tr>\n",
       "    <tr>\n",
       "      <th>Pierre Coffin</th>\n",
       "      <td>3.087477</td>\n",
       "      <td>Animation</td>\n",
       "    </tr>\n",
       "    <tr>\n",
       "      <th>Eric Guillon</th>\n",
       "      <td>2.991886</td>\n",
       "      <td>Animation</td>\n",
       "    </tr>\n",
       "    <tr>\n",
       "      <th>Yarrow Cheney</th>\n",
       "      <td>2.376390</td>\n",
       "      <td>Animation</td>\n",
       "    </tr>\n",
       "    <tr>\n",
       "      <th>Chris Renaud</th>\n",
       "      <td>1.399142</td>\n",
       "      <td>Animation</td>\n",
       "    </tr>\n",
       "  </tbody>\n",
       "</table>\n",
       "</div>"
      ],
      "text/plain": [
       "               ROI_diff      genre\n",
       "director                          \n",
       "Kyle Balda     3.285724  Animation\n",
       "Pierre Coffin  3.087477  Animation\n",
       "Eric Guillon   2.991886  Animation\n",
       "Yarrow Cheney  2.376390  Animation\n",
       "Chris Renaud   1.399142  Animation"
      ]
     },
     "execution_count": 114,
     "metadata": {},
     "output_type": "execute_result"
    }
   ],
   "source": [
    "a"
   ]
  },
  {
   "cell_type": "code",
   "execution_count": 108,
   "id": "69d698e3",
   "metadata": {
    "scrolled": false
   },
   "outputs": [],
   "source": [
    "animation_dir = animation.groupby('director').mean().sort_values('ROI_diff', ascending = False).head(5)\n",
    "a = animation_dir.ROI_diff"
   ]
  },
  {
   "cell_type": "code",
   "execution_count": 59,
   "id": "63e6b3f8",
   "metadata": {},
   "outputs": [
    {
     "data": {
      "text/plain": [
       "director\n",
       "Dan Trachtenberg    7.727398\n",
       "John Krasinski      6.891088\n",
       "James DeMonaco      3.698931\n",
       "Gerard McMurray     3.017422\n",
       "Gary Ross           2.157673\n",
       "Name: ROI_diff, dtype: float64"
      ]
     },
     "execution_count": 59,
     "metadata": {},
     "output_type": "execute_result"
    }
   ],
   "source": [
    "scifi_dir = scifi.groupby('director').mean().sort_values('ROI_diff', ascending = False).head(5)\n",
    "scifi_dir.ROI_diff"
   ]
  },
  {
   "cell_type": "code",
   "execution_count": 86,
   "id": "8fb0310e",
   "metadata": {},
   "outputs": [
    {
     "data": {
      "text/plain": [
       "director\n",
       "Kyle Balda       4.863373\n",
       "Pierre Coffin    4.592148\n",
       "Tim Miller       4.467521\n",
       "Eric Guillon     4.461369\n",
       "Benh Zeitlin     4.089508\n",
       "Name: ROI_diff, dtype: float64"
      ]
     },
     "execution_count": 86,
     "metadata": {},
     "output_type": "execute_result"
    }
   ],
   "source": [
    "adventure_dir = adventure.groupby('director').mean().sort_values('ROI_diff', ascending = False).head(5)\n",
    "adventure_dir.ROI_diff"
   ]
  },
  {
   "cell_type": "code",
   "execution_count": 87,
   "id": "9835d374",
   "metadata": {},
   "outputs": [
    {
     "data": {
      "text/plain": [
       "director\n",
       "David Lowery       9.434061\n",
       "Michael Tiddes     4.328985\n",
       "Benh Zeitlin       3.660566\n",
       "Michael Spierig    3.564567\n",
       "Peter Spierig      3.564567\n",
       "Name: ROI_diff, dtype: float64"
      ]
     },
     "execution_count": 87,
     "metadata": {},
     "output_type": "execute_result"
    }
   ],
   "source": [
    "fantasy_dir = fantasy.groupby('director').mean().sort_values('ROI_diff', ascending = False).head(5)\n",
    "fantasy_dir.ROI_diff"
   ]
  },
  {
   "cell_type": "code",
   "execution_count": 89,
   "id": "420cb5f1",
   "metadata": {},
   "outputs": [
    {
     "data": {
      "text/plain": [
       "director\n",
       "Stephen Chbosky    4.340791\n",
       "Kyle Balda         4.156159\n",
       "Pierre Coffin      3.917649\n",
       "Eric Guillon       3.802643\n",
       "Chris Renaud       3.251384\n",
       "Name: ROI_diff, dtype: float64"
      ]
     },
     "execution_count": 89,
     "metadata": {},
     "output_type": "execute_result"
    }
   ],
   "source": [
    "family_dir = family.groupby('director').mean().sort_values('ROI_diff', ascending = False).head(5)\n",
    "family_dir.ROI_diff"
   ]
  },
  {
   "cell_type": "code",
   "execution_count": 90,
   "id": "b144d0d0",
   "metadata": {},
   "outputs": [
    {
     "data": {
      "text/plain": [
       "director\n",
       "Bradley Parker    6.739373\n",
       "Jordan Peele      4.773369\n",
       "Henry Joost       4.151319\n",
       "Ariel Schulman    4.151319\n",
       "Jeff Wadlow       3.892598\n",
       "Name: ROI_diff, dtype: float64"
      ]
     },
     "execution_count": 90,
     "metadata": {},
     "output_type": "execute_result"
    }
   ],
   "source": [
    "horror_dir = horror.groupby('director').mean().sort_values('ROI_diff', ascending = False).head(5)\n",
    "horror_dir.ROI_diff"
   ]
  },
  {
   "cell_type": "code",
   "execution_count": 91,
   "id": "06b63633",
   "metadata": {},
   "outputs": [
    {
     "data": {
      "text/plain": [
       "director\n",
       "Bradley Parker       7.195894\n",
       "John R. Leonetti     6.623067\n",
       "Jordan Peele         5.113921\n",
       "David F. Sandberg    3.761802\n",
       "James Wan            3.580120\n",
       "Name: ROI_diff, dtype: float64"
      ]
     },
     "execution_count": 91,
     "metadata": {},
     "output_type": "execute_result"
    }
   ],
   "source": [
    "mystery_dir = mystery.groupby('director').mean().sort_values('ROI_diff', ascending = False).head(5)\n",
    "mystery_dir.ROI_diff"
   ]
  },
  {
   "cell_type": "code",
   "execution_count": 34,
   "id": "90e49ad9",
   "metadata": {},
   "outputs": [
    {
     "name": "stderr",
     "output_type": "stream",
     "text": [
      "C:\\Users\\capta\\AppData\\Local\\Temp\\ipykernel_16628\\114114628.py:1: FutureWarning:\n",
      "\n",
      "Dropping invalid columns in DataFrameGroupBy.mean is deprecated. In a future version, a TypeError will be raised. Before calling .mean, select only columns which should be valid for the function.\n",
      "\n"
     ]
    },
    {
     "ename": "TypeError",
     "evalue": "unhashable type: 'numpy.ndarray'",
     "output_type": "error",
     "traceback": [
      "\u001b[1;31m---------------------------------------------------------------------------\u001b[0m",
      "\u001b[1;31mTypeError\u001b[0m                                 Traceback (most recent call last)",
      "\u001b[1;32m~\\AppData\\Local\\Temp\\ipykernel_16628\\114114628.py\u001b[0m in \u001b[0;36m<module>\u001b[1;34m\u001b[0m\n\u001b[1;32m----> 1\u001b[1;33m \u001b[0mgenre\u001b[0m\u001b[1;33m.\u001b[0m\u001b[0mgroupby\u001b[0m\u001b[1;33m(\u001b[0m\u001b[0mgenre\u001b[0m\u001b[1;33m[\u001b[0m\u001b[1;34m'writer'\u001b[0m\u001b[1;33m]\u001b[0m\u001b[1;33m)\u001b[0m\u001b[1;33m.\u001b[0m\u001b[0mmean\u001b[0m\u001b[1;33m(\u001b[0m\u001b[1;33m)\u001b[0m\u001b[1;33m.\u001b[0m\u001b[0msort_values\u001b[0m\u001b[1;33m(\u001b[0m\u001b[1;34m'ROI'\u001b[0m\u001b[1;33m,\u001b[0m \u001b[0mascending\u001b[0m \u001b[1;33m=\u001b[0m \u001b[1;32mFalse\u001b[0m\u001b[1;33m)\u001b[0m\u001b[1;33m.\u001b[0m\u001b[0mhead\u001b[0m\u001b[1;33m(\u001b[0m\u001b[1;36m20\u001b[0m\u001b[1;33m)\u001b[0m\u001b[1;33m\u001b[0m\u001b[1;33m\u001b[0m\u001b[0m\n\u001b[0m",
      "\u001b[1;32m~\\anaconda3\\lib\\site-packages\\pandas\\core\\groupby\\groupby.py\u001b[0m in \u001b[0;36mmean\u001b[1;34m(self, numeric_only, engine, engine_kwargs)\u001b[0m\n\u001b[0;32m   1963\u001b[0m             \u001b[1;32mreturn\u001b[0m \u001b[0mself\u001b[0m\u001b[1;33m.\u001b[0m\u001b[0m_numba_agg_general\u001b[0m\u001b[1;33m(\u001b[0m\u001b[0msliding_mean\u001b[0m\u001b[1;33m,\u001b[0m \u001b[0mengine_kwargs\u001b[0m\u001b[1;33m,\u001b[0m \u001b[1;34m\"groupby_mean\"\u001b[0m\u001b[1;33m)\u001b[0m\u001b[1;33m\u001b[0m\u001b[1;33m\u001b[0m\u001b[0m\n\u001b[0;32m   1964\u001b[0m         \u001b[1;32melse\u001b[0m\u001b[1;33m:\u001b[0m\u001b[1;33m\u001b[0m\u001b[1;33m\u001b[0m\u001b[0m\n\u001b[1;32m-> 1965\u001b[1;33m             result = self._cython_agg_general(\n\u001b[0m\u001b[0;32m   1966\u001b[0m                 \u001b[1;34m\"mean\"\u001b[0m\u001b[1;33m,\u001b[0m\u001b[1;33m\u001b[0m\u001b[1;33m\u001b[0m\u001b[0m\n\u001b[0;32m   1967\u001b[0m                 \u001b[0malt\u001b[0m\u001b[1;33m=\u001b[0m\u001b[1;32mlambda\u001b[0m \u001b[0mx\u001b[0m\u001b[1;33m:\u001b[0m \u001b[0mSeries\u001b[0m\u001b[1;33m(\u001b[0m\u001b[0mx\u001b[0m\u001b[1;33m)\u001b[0m\u001b[1;33m.\u001b[0m\u001b[0mmean\u001b[0m\u001b[1;33m(\u001b[0m\u001b[0mnumeric_only\u001b[0m\u001b[1;33m=\u001b[0m\u001b[0mnumeric_only_bool\u001b[0m\u001b[1;33m)\u001b[0m\u001b[1;33m,\u001b[0m\u001b[1;33m\u001b[0m\u001b[1;33m\u001b[0m\u001b[0m\n",
      "\u001b[1;32m~\\anaconda3\\lib\\site-packages\\pandas\\core\\groupby\\groupby.py\u001b[0m in \u001b[0;36m_cython_agg_general\u001b[1;34m(self, how, alt, numeric_only, min_count)\u001b[0m\n\u001b[0;32m   1604\u001b[0m             \u001b[0mwarn_dropping_nuisance_columns_deprecated\u001b[0m\u001b[1;33m(\u001b[0m\u001b[0mtype\u001b[0m\u001b[1;33m(\u001b[0m\u001b[0mself\u001b[0m\u001b[1;33m)\u001b[0m\u001b[1;33m,\u001b[0m \u001b[0mhow\u001b[0m\u001b[1;33m)\u001b[0m\u001b[1;33m\u001b[0m\u001b[1;33m\u001b[0m\u001b[0m\n\u001b[0;32m   1605\u001b[0m \u001b[1;33m\u001b[0m\u001b[0m\n\u001b[1;32m-> 1606\u001b[1;33m         \u001b[0mres\u001b[0m \u001b[1;33m=\u001b[0m \u001b[0mself\u001b[0m\u001b[1;33m.\u001b[0m\u001b[0m_wrap_agged_manager\u001b[0m\u001b[1;33m(\u001b[0m\u001b[0mnew_mgr\u001b[0m\u001b[1;33m)\u001b[0m\u001b[1;33m\u001b[0m\u001b[1;33m\u001b[0m\u001b[0m\n\u001b[0m\u001b[0;32m   1607\u001b[0m         \u001b[1;32mif\u001b[0m \u001b[0mis_ser\u001b[0m\u001b[1;33m:\u001b[0m\u001b[1;33m\u001b[0m\u001b[1;33m\u001b[0m\u001b[0m\n\u001b[0;32m   1608\u001b[0m             \u001b[0mres\u001b[0m\u001b[1;33m.\u001b[0m\u001b[0mindex\u001b[0m \u001b[1;33m=\u001b[0m \u001b[0mself\u001b[0m\u001b[1;33m.\u001b[0m\u001b[0mgrouper\u001b[0m\u001b[1;33m.\u001b[0m\u001b[0mresult_index\u001b[0m\u001b[1;33m\u001b[0m\u001b[1;33m\u001b[0m\u001b[0m\n",
      "\u001b[1;32m~\\anaconda3\\lib\\site-packages\\pandas\\core\\groupby\\generic.py\u001b[0m in \u001b[0;36m_wrap_agged_manager\u001b[1;34m(self, mgr)\u001b[0m\n\u001b[0;32m   1432\u001b[0m             \u001b[0mresult\u001b[0m \u001b[1;33m=\u001b[0m \u001b[0mresult\u001b[0m\u001b[1;33m.\u001b[0m\u001b[0m_consolidate\u001b[0m\u001b[1;33m(\u001b[0m\u001b[1;33m)\u001b[0m\u001b[1;33m\u001b[0m\u001b[1;33m\u001b[0m\u001b[0m\n\u001b[0;32m   1433\u001b[0m         \u001b[1;32melse\u001b[0m\u001b[1;33m:\u001b[0m\u001b[1;33m\u001b[0m\u001b[1;33m\u001b[0m\u001b[0m\n\u001b[1;32m-> 1434\u001b[1;33m             \u001b[0mindex\u001b[0m \u001b[1;33m=\u001b[0m \u001b[0mself\u001b[0m\u001b[1;33m.\u001b[0m\u001b[0mgrouper\u001b[0m\u001b[1;33m.\u001b[0m\u001b[0mresult_index\u001b[0m\u001b[1;33m\u001b[0m\u001b[1;33m\u001b[0m\u001b[0m\n\u001b[0m\u001b[0;32m   1435\u001b[0m             \u001b[0mmgr\u001b[0m\u001b[1;33m.\u001b[0m\u001b[0mset_axis\u001b[0m\u001b[1;33m(\u001b[0m\u001b[1;36m1\u001b[0m\u001b[1;33m,\u001b[0m \u001b[0mindex\u001b[0m\u001b[1;33m)\u001b[0m\u001b[1;33m\u001b[0m\u001b[1;33m\u001b[0m\u001b[0m\n\u001b[0;32m   1436\u001b[0m             \u001b[0mresult\u001b[0m \u001b[1;33m=\u001b[0m \u001b[0mself\u001b[0m\u001b[1;33m.\u001b[0m\u001b[0mobj\u001b[0m\u001b[1;33m.\u001b[0m\u001b[0m_constructor\u001b[0m\u001b[1;33m(\u001b[0m\u001b[0mmgr\u001b[0m\u001b[1;33m)\u001b[0m\u001b[1;33m\u001b[0m\u001b[1;33m\u001b[0m\u001b[0m\n",
      "\u001b[1;32m~\\anaconda3\\lib\\site-packages\\pandas\\_libs\\properties.pyx\u001b[0m in \u001b[0;36mpandas._libs.properties.CachedProperty.__get__\u001b[1;34m()\u001b[0m\n",
      "\u001b[1;32m~\\anaconda3\\lib\\site-packages\\pandas\\core\\groupby\\ops.py\u001b[0m in \u001b[0;36mresult_index\u001b[1;34m(self)\u001b[0m\n\u001b[0;32m    891\u001b[0m     \u001b[1;32mdef\u001b[0m \u001b[0mresult_index\u001b[0m\u001b[1;33m(\u001b[0m\u001b[0mself\u001b[0m\u001b[1;33m)\u001b[0m \u001b[1;33m->\u001b[0m \u001b[0mIndex\u001b[0m\u001b[1;33m:\u001b[0m\u001b[1;33m\u001b[0m\u001b[1;33m\u001b[0m\u001b[0m\n\u001b[0;32m    892\u001b[0m         \u001b[1;32mif\u001b[0m \u001b[0mlen\u001b[0m\u001b[1;33m(\u001b[0m\u001b[0mself\u001b[0m\u001b[1;33m.\u001b[0m\u001b[0mgroupings\u001b[0m\u001b[1;33m)\u001b[0m \u001b[1;33m==\u001b[0m \u001b[1;36m1\u001b[0m\u001b[1;33m:\u001b[0m\u001b[1;33m\u001b[0m\u001b[1;33m\u001b[0m\u001b[0m\n\u001b[1;32m--> 893\u001b[1;33m             \u001b[1;32mreturn\u001b[0m \u001b[0mself\u001b[0m\u001b[1;33m.\u001b[0m\u001b[0mgroupings\u001b[0m\u001b[1;33m[\u001b[0m\u001b[1;36m0\u001b[0m\u001b[1;33m]\u001b[0m\u001b[1;33m.\u001b[0m\u001b[0mresult_index\u001b[0m\u001b[1;33m.\u001b[0m\u001b[0mrename\u001b[0m\u001b[1;33m(\u001b[0m\u001b[0mself\u001b[0m\u001b[1;33m.\u001b[0m\u001b[0mnames\u001b[0m\u001b[1;33m[\u001b[0m\u001b[1;36m0\u001b[0m\u001b[1;33m]\u001b[0m\u001b[1;33m)\u001b[0m\u001b[1;33m\u001b[0m\u001b[1;33m\u001b[0m\u001b[0m\n\u001b[0m\u001b[0;32m    894\u001b[0m \u001b[1;33m\u001b[0m\u001b[0m\n\u001b[0;32m    895\u001b[0m         \u001b[0mcodes\u001b[0m \u001b[1;33m=\u001b[0m \u001b[0mself\u001b[0m\u001b[1;33m.\u001b[0m\u001b[0mreconstructed_codes\u001b[0m\u001b[1;33m\u001b[0m\u001b[1;33m\u001b[0m\u001b[0m\n",
      "\u001b[1;32m~\\anaconda3\\lib\\site-packages\\pandas\\_libs\\properties.pyx\u001b[0m in \u001b[0;36mpandas._libs.properties.CachedProperty.__get__\u001b[1;34m()\u001b[0m\n",
      "\u001b[1;32m~\\anaconda3\\lib\\site-packages\\pandas\\core\\groupby\\grouper.py\u001b[0m in \u001b[0;36mresult_index\u001b[1;34m(self)\u001b[0m\n\u001b[0;32m    646\u001b[0m             \u001b[1;32massert\u001b[0m \u001b[0misinstance\u001b[0m\u001b[1;33m(\u001b[0m\u001b[0mgroup_idx\u001b[0m\u001b[1;33m,\u001b[0m \u001b[0mCategoricalIndex\u001b[0m\u001b[1;33m)\u001b[0m\u001b[1;33m\u001b[0m\u001b[1;33m\u001b[0m\u001b[0m\n\u001b[0;32m    647\u001b[0m             \u001b[1;32mreturn\u001b[0m \u001b[0mrecode_from_groupby\u001b[0m\u001b[1;33m(\u001b[0m\u001b[0mself\u001b[0m\u001b[1;33m.\u001b[0m\u001b[0m_all_grouper\u001b[0m\u001b[1;33m,\u001b[0m \u001b[0mself\u001b[0m\u001b[1;33m.\u001b[0m\u001b[0m_sort\u001b[0m\u001b[1;33m,\u001b[0m \u001b[0mgroup_idx\u001b[0m\u001b[1;33m)\u001b[0m\u001b[1;33m\u001b[0m\u001b[1;33m\u001b[0m\u001b[0m\n\u001b[1;32m--> 648\u001b[1;33m         \u001b[1;32mreturn\u001b[0m \u001b[0mself\u001b[0m\u001b[1;33m.\u001b[0m\u001b[0mgroup_index\u001b[0m\u001b[1;33m\u001b[0m\u001b[1;33m\u001b[0m\u001b[0m\n\u001b[0m\u001b[0;32m    649\u001b[0m \u001b[1;33m\u001b[0m\u001b[0m\n\u001b[0;32m    650\u001b[0m     \u001b[1;33m@\u001b[0m\u001b[0mcache_readonly\u001b[0m\u001b[1;33m\u001b[0m\u001b[1;33m\u001b[0m\u001b[0m\n",
      "\u001b[1;32m~\\anaconda3\\lib\\site-packages\\pandas\\_libs\\properties.pyx\u001b[0m in \u001b[0;36mpandas._libs.properties.CachedProperty.__get__\u001b[1;34m()\u001b[0m\n",
      "\u001b[1;32m~\\anaconda3\\lib\\site-packages\\pandas\\core\\groupby\\grouper.py\u001b[0m in \u001b[0;36mgroup_index\u001b[1;34m(self)\u001b[0m\n\u001b[0;32m    654\u001b[0m             \u001b[1;32mreturn\u001b[0m \u001b[0mself\u001b[0m\u001b[1;33m.\u001b[0m\u001b[0m_group_index\u001b[0m\u001b[1;33m\u001b[0m\u001b[1;33m\u001b[0m\u001b[0m\n\u001b[0;32m    655\u001b[0m \u001b[1;33m\u001b[0m\u001b[0m\n\u001b[1;32m--> 656\u001b[1;33m         \u001b[0muniques\u001b[0m \u001b[1;33m=\u001b[0m \u001b[0mself\u001b[0m\u001b[1;33m.\u001b[0m\u001b[0m_codes_and_uniques\u001b[0m\u001b[1;33m[\u001b[0m\u001b[1;36m1\u001b[0m\u001b[1;33m]\u001b[0m\u001b[1;33m\u001b[0m\u001b[1;33m\u001b[0m\u001b[0m\n\u001b[0m\u001b[0;32m    657\u001b[0m         \u001b[1;32mreturn\u001b[0m \u001b[0mIndex\u001b[0m\u001b[1;33m.\u001b[0m\u001b[0m_with_infer\u001b[0m\u001b[1;33m(\u001b[0m\u001b[0muniques\u001b[0m\u001b[1;33m,\u001b[0m \u001b[0mname\u001b[0m\u001b[1;33m=\u001b[0m\u001b[0mself\u001b[0m\u001b[1;33m.\u001b[0m\u001b[0mname\u001b[0m\u001b[1;33m)\u001b[0m\u001b[1;33m\u001b[0m\u001b[1;33m\u001b[0m\u001b[0m\n\u001b[0;32m    658\u001b[0m \u001b[1;33m\u001b[0m\u001b[0m\n",
      "\u001b[1;32m~\\anaconda3\\lib\\site-packages\\pandas\\_libs\\properties.pyx\u001b[0m in \u001b[0;36mpandas._libs.properties.CachedProperty.__get__\u001b[1;34m()\u001b[0m\n",
      "\u001b[1;32m~\\anaconda3\\lib\\site-packages\\pandas\\core\\groupby\\grouper.py\u001b[0m in \u001b[0;36m_codes_and_uniques\u001b[1;34m(self)\u001b[0m\n\u001b[0;32m    688\u001b[0m             \u001b[1;32melse\u001b[0m\u001b[1;33m:\u001b[0m\u001b[1;33m\u001b[0m\u001b[1;33m\u001b[0m\u001b[0m\n\u001b[0;32m    689\u001b[0m                 \u001b[0mna_sentinel\u001b[0m \u001b[1;33m=\u001b[0m \u001b[1;33m-\u001b[0m\u001b[1;36m1\u001b[0m\u001b[1;33m\u001b[0m\u001b[1;33m\u001b[0m\u001b[0m\n\u001b[1;32m--> 690\u001b[1;33m             codes, uniques = algorithms.factorize(\n\u001b[0m\u001b[0;32m    691\u001b[0m                 \u001b[0mself\u001b[0m\u001b[1;33m.\u001b[0m\u001b[0mgrouping_vector\u001b[0m\u001b[1;33m,\u001b[0m \u001b[0msort\u001b[0m\u001b[1;33m=\u001b[0m\u001b[0mself\u001b[0m\u001b[1;33m.\u001b[0m\u001b[0m_sort\u001b[0m\u001b[1;33m,\u001b[0m \u001b[0mna_sentinel\u001b[0m\u001b[1;33m=\u001b[0m\u001b[0mna_sentinel\u001b[0m\u001b[1;33m\u001b[0m\u001b[1;33m\u001b[0m\u001b[0m\n\u001b[0;32m    692\u001b[0m             )\n",
      "\u001b[1;32m~\\anaconda3\\lib\\site-packages\\pandas\\core\\algorithms.py\u001b[0m in \u001b[0;36mfactorize\u001b[1;34m(values, sort, na_sentinel, size_hint)\u001b[0m\n\u001b[0;32m    761\u001b[0m             \u001b[0mna_value\u001b[0m \u001b[1;33m=\u001b[0m \u001b[1;32mNone\u001b[0m\u001b[1;33m\u001b[0m\u001b[1;33m\u001b[0m\u001b[0m\n\u001b[0;32m    762\u001b[0m \u001b[1;33m\u001b[0m\u001b[0m\n\u001b[1;32m--> 763\u001b[1;33m         codes, uniques = factorize_array(\n\u001b[0m\u001b[0;32m    764\u001b[0m             \u001b[0mvalues\u001b[0m\u001b[1;33m,\u001b[0m \u001b[0mna_sentinel\u001b[0m\u001b[1;33m=\u001b[0m\u001b[0mna_sentinel\u001b[0m\u001b[1;33m,\u001b[0m \u001b[0msize_hint\u001b[0m\u001b[1;33m=\u001b[0m\u001b[0msize_hint\u001b[0m\u001b[1;33m,\u001b[0m \u001b[0mna_value\u001b[0m\u001b[1;33m=\u001b[0m\u001b[0mna_value\u001b[0m\u001b[1;33m\u001b[0m\u001b[1;33m\u001b[0m\u001b[0m\n\u001b[0;32m    765\u001b[0m         )\n",
      "\u001b[1;32m~\\anaconda3\\lib\\site-packages\\pandas\\core\\algorithms.py\u001b[0m in \u001b[0;36mfactorize_array\u001b[1;34m(values, na_sentinel, size_hint, na_value, mask)\u001b[0m\n\u001b[0;32m    558\u001b[0m \u001b[1;33m\u001b[0m\u001b[0m\n\u001b[0;32m    559\u001b[0m     \u001b[0mtable\u001b[0m \u001b[1;33m=\u001b[0m \u001b[0mhash_klass\u001b[0m\u001b[1;33m(\u001b[0m\u001b[0msize_hint\u001b[0m \u001b[1;32mor\u001b[0m \u001b[0mlen\u001b[0m\u001b[1;33m(\u001b[0m\u001b[0mvalues\u001b[0m\u001b[1;33m)\u001b[0m\u001b[1;33m)\u001b[0m\u001b[1;33m\u001b[0m\u001b[1;33m\u001b[0m\u001b[0m\n\u001b[1;32m--> 560\u001b[1;33m     uniques, codes = table.factorize(\n\u001b[0m\u001b[0;32m    561\u001b[0m         \u001b[0mvalues\u001b[0m\u001b[1;33m,\u001b[0m \u001b[0mna_sentinel\u001b[0m\u001b[1;33m=\u001b[0m\u001b[0mna_sentinel\u001b[0m\u001b[1;33m,\u001b[0m \u001b[0mna_value\u001b[0m\u001b[1;33m=\u001b[0m\u001b[0mna_value\u001b[0m\u001b[1;33m,\u001b[0m \u001b[0mmask\u001b[0m\u001b[1;33m=\u001b[0m\u001b[0mmask\u001b[0m\u001b[1;33m\u001b[0m\u001b[1;33m\u001b[0m\u001b[0m\n\u001b[0;32m    562\u001b[0m     )\n",
      "\u001b[1;32mpandas\\_libs\\hashtable_class_helper.pxi\u001b[0m in \u001b[0;36mpandas._libs.hashtable.PyObjectHashTable.factorize\u001b[1;34m()\u001b[0m\n",
      "\u001b[1;32mpandas\\_libs\\hashtable_class_helper.pxi\u001b[0m in \u001b[0;36mpandas._libs.hashtable.PyObjectHashTable._unique\u001b[1;34m()\u001b[0m\n",
      "\u001b[1;31mTypeError\u001b[0m: unhashable type: 'numpy.ndarray'"
     ]
    }
   ],
   "source": [
    "genre.groupby(genre['writer']).mean().sort_values('ROI', ascending = False).head(20)"
   ]
  },
  {
   "cell_type": "code",
   "execution_count": null,
   "id": "5ab142cc",
   "metadata": {},
   "outputs": [],
   "source": [
    "df.info()"
   ]
  },
  {
   "cell_type": "code",
   "execution_count": null,
   "id": "263587f0",
   "metadata": {},
   "outputs": [],
   "source": [
    "genre_dictionary = [{\"id\":28,\"name\":\"Action\"},\n",
    "                              {\"id\":12,\"name\":\"Adventure\"},\n",
    "                              {\"id\":16,\"name\":\"Animation\"},\n",
    "                              {\"id\":35,\"name\":\"Comedy\"},\n",
    "                              {\"id\":80,\"name\":\"Crime\"},\n",
    "                              {\"id\":99,\"name\":\"Documentary\"},\n",
    "                              {\"id\":18,\"name\":\"Drama\"},\n",
    "                              {\"id\":10751,\"name\":\"Family\"},\n",
    "                              {\"id\":14,\"name\":\"Fantasy\"},\n",
    "                              {\"id\":36,\"name\":\"History\"},\n",
    "                              {\"id\":27,\"name\":\"Horror\"},\n",
    "                              {\"id\":10402,\"name\":\"Music\"},\n",
    "                              {\"id\":9648,\"name\":\"Mystery\"},\n",
    "                              {\"id\":10749,\"name\":\"Romance\"},\n",
    "                              {\"id\":878,\"name\":\"Science Fiction\"},\n",
    "                              {\"id\":10770,\"name\":\"TV Movie\"},\n",
    "                              {\"id\":53,\"name\":\"Thriller\"},\n",
    "                              {\"id\":10752,\"name\":\"War\"},\n",
    "                              {\"id\":37,\"name\":\"Western\"}]"
   ]
  },
  {
   "cell_type": "code",
   "execution_count": null,
   "id": "40605726",
   "metadata": {},
   "outputs": [],
   "source": [
    "# df.genres = df.genres.str.strip('\\[\\]').str.replace(\" \", \"\").str.strip().str.split(',')\n",
    "# df = df.explode('genres')\n",
    "# df.genres = df.genres.replace(r'^\\s*$', np.nan, regex=True)\n",
    "# #df.genres.astype('float')\n",
    "# def find_genre(key):\n",
    "#     if key is np.nan:\n",
    "#         return 'None'\n",
    "#     for dictionary in genre_dictionary:\n",
    "#         if dictionary['id'] == int(key):\n",
    "#             return dictionary['name']\n",
    "#     return 'None'\n",
    "# df.genres = df.genres.apply(lambda x: find_genre(x))"
   ]
  },
  {
   "cell_type": "code",
   "execution_count": null,
   "id": "805d1d40",
   "metadata": {},
   "outputs": [],
   "source": [
    "test.groupby(['genres']).median().sort_values('ROI', ascending = False).head(25)"
   ]
  },
  {
   "cell_type": "code",
   "execution_count": null,
   "id": "06a3296a",
   "metadata": {},
   "outputs": [],
   "source": [
    "new_df = df.groupby(['title', 'profit', 'prod_budget', 'dom_gross', 'world_gross', 'genre_ids', 'genres', 'runtime_min', 'release_date', 'ROI']).agg(tuple).applymap(list).reset_index()\n",
    "new_df"
   ]
  }
 ],
 "metadata": {
  "kernelspec": {
   "display_name": "Python 3 (ipykernel)",
   "language": "python",
   "name": "python3"
  },
  "language_info": {
   "codemirror_mode": {
    "name": "ipython",
    "version": 3
   },
   "file_extension": ".py",
   "mimetype": "text/x-python",
   "name": "python",
   "nbconvert_exporter": "python",
   "pygments_lexer": "ipython3",
   "version": "3.9.13"
  }
 },
 "nbformat": 4,
 "nbformat_minor": 5
}
