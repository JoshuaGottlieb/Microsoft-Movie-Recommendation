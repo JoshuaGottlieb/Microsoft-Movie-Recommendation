{
 "cells": [
  {
   "cell_type": "markdown",
   "metadata": {},
   "source": [
    "# Importing Data and Establishing Connection to SQL Database"
   ]
  },
  {
   "cell_type": "code",
   "execution_count": 1,
   "metadata": {
    "scrolled": false
   },
   "outputs": [],
   "source": [
    "# Importing libraries and establishing connection to SQL database\n",
    "\n",
    "import numpy as np\n",
    "import pandas as pd\n",
    "import sqlite3 as sql\n",
    "data_path = './zippedData'\n",
    "conn = sql.connect(data_path + '/im.db')"
   ]
  },
  {
   "cell_type": "code",
   "execution_count": 2,
   "metadata": {},
   "outputs": [],
   "source": [
    "# Declaration of base dataframes\n",
    "\n",
    "# Studios and gross revenue - 3387 rows\n",
    "# https://www.boxofficemojo.com/\n",
    "gross_df = pd.read_csv(data_path + '/bom.movie_gross.csv')\n",
    "\n",
    "# The movie database - https://www.themoviedb.org/?language=en-US\n",
    "# Reviews - 26517 rows, release date, popularity score, votes?\n",
    "reviews_df = pd.read_csv(data_path + '/tmdb.movies.csv')\n",
    "\n",
    "# Budget and gross revenues - 5782 rows\n",
    "# https://www.the-numbers.com/\n",
    "budget_df = pd.read_csv(data_path + '/tn.movie_budgets.csv')\n",
    "\n",
    "# Ratings and genres by director from imdb database\n",
    "director_and_ratings_df = pd.read_sql(\n",
    "\"\"\"SELECT DISTINCT b.*,\n",
    "            r.averagerating AS avg_rating,\n",
    "            r.numvotes AS num_votes,\n",
    "            p.primary_name AS director,\n",
    "            p.primary_profession\n",
    "FROM movie_basics b\n",
    "JOIN movie_ratings r\n",
    "ON b.movie_id = r.movie_id\n",
    "LEFT JOIN directors d\n",
    "ON b.movie_id = d.movie_id\n",
    "LEFT JOIN persons p\n",
    "ON d.person_id = p.person_id\n",
    "\"\"\", conn)\n",
    "\n",
    "# Ratings and genres by writers from imdb database\n",
    "writers_df = pd.read_sql(\"\"\"\n",
    "SELECT DISTINCT b.*,\n",
    "        r.averagerating AS avg_rating,\n",
    "        r.numvotes AS num_votes,\n",
    "        p.primary_name AS 'writer',\n",
    "        p.primary_profession\n",
    "FROM movie_basics b\n",
    "JOIN movie_ratings r\n",
    "ON b.movie_id = r.movie_id\n",
    "LEFT JOIN writers w\n",
    "ON b.movie_id = w.movie_id\n",
    "LEFT JOIN persons p\n",
    "ON w.person_id = p.person_id\n",
    "\n",
    "\"\"\", conn)"
   ]
  },
  {
   "cell_type": "markdown",
   "metadata": {},
   "source": [
    "## Reformatting and Merging"
   ]
  },
  {
   "cell_type": "code",
   "execution_count": 3,
   "metadata": {},
   "outputs": [],
   "source": [
    "# Reformatting data in budget_df\n",
    "\n",
    "# Turned all the monetary strings into ints by replacing $ and . with empty strings\n",
    "budget_df[budget_df.columns[3:]] = budget_df[budget_df.columns[3:]].replace('[\\$\\.]|,', '', regex=True).astype('int')\n",
    "\n",
    "# Added column of world wide gross - production budget to get the net profit\n",
    "budget_df['profit'] = budget_df.worldwide_gross - budget_df.production_budget"
   ]
  },
  {
   "cell_type": "code",
   "execution_count": 4,
   "metadata": {
    "scrolled": true
   },
   "outputs": [],
   "source": [
    "# Merging budget dataframe and gross dataframe by domestic gross\n",
    "# Merged on movie from budget_df and title from gross_df\n",
    "budg_and_gross_df = pd.merge(budget_df, gross_df, how = \"outer\", left_on = 'movie', right_on = 'title')\n",
    "\n",
    "# Dropping id and year columns, since year is represented in release_date\n",
    "budg_and_gross_df.drop(['id', 'year'], axis = 1, inplace = True)\n",
    "\n",
    "# Merging gross_y and gross_x columns, preferring gross_x which seem to have higher precision\n",
    "budg_and_gross_df.domestic_gross_x = budg_and_gross_df.domestic_gross_x.fillna(budg_and_gross_df.domestic_gross_y)\n",
    "\n",
    "# Merging movie and title, preferring movie\n",
    "budg_and_gross_df.movie = budg_and_gross_df.movie.fillna(budg_and_gross_df.title)\n",
    "\n",
    "# Dropping redundant gross and title columns, dropping unnecessary studio and foreign gross columns\n",
    "budg_and_gross_df.drop(['domestic_gross_y', 'title', 'studio', 'foreign_gross'], axis = 1, inplace = True)\n",
    "\n",
    "# Change dates to formatted strings\n",
    "budg_and_gross_df.release_date = pd.to_datetime(budg_and_gross_df.release_date).dt.strftime('%Y-%m-%d')\n",
    "\n",
    "# New column for year\n",
    "budg_and_gross_df['year'] = budg_and_gross_df.release_date.str.split('-').str[0]\n",
    "\n",
    "# Relabeling columns\n",
    "budg_and_gross_df.columns = ['release_date', 'title', 'prod_budget', 'dom_gross', 'world_gross', 'profit', 'year']\n",
    "\n",
    "# Reformatting money columns to integers\n",
    "money_columns = ['prod_budget', 'dom_gross', 'world_gross', 'profit']\n",
    "budg_and_gross_df[money_columns] = budg_and_gross_df[money_columns].astype('Int64')\n",
    "\n",
    "# Keep only entries in budg_and_gross where prod_budget is not null\n",
    "budg_and_gross_df = budg_and_gross_df.loc[budg_and_gross_df.prod_budget.notna()]"
   ]
  },
  {
   "cell_type": "code",
   "execution_count": 5,
   "metadata": {
    "scrolled": true
   },
   "outputs": [],
   "source": [
    "# Merging writers and directors dataframes on movie_id\n",
    "person_df = pd.merge(writers_df, director_and_ratings_df, how = 'inner', on = 'movie_id')"
   ]
  },
  {
   "cell_type": "code",
   "execution_count": 6,
   "metadata": {},
   "outputs": [],
   "source": [
    "# We want to merge these 3 tables onto each other using titles\n",
    "# Standardizing the title columns of each dataframe to maximize the number of overlapping title keys\n",
    "# First, replace all non alphanumeric characters with spaces, then turn any number of spaces into a single space\n",
    "# Finally, strip any leading or trailing white spaces and convert all characters to lowercase\n",
    "budg_and_gross_df.title = budg_and_gross_df.title.str.replace('\\W', ' ', regex = True).str.replace('\\s+', ' ', regex = True).str.strip().str.lower()\n",
    "person_df.primary_title_x = person_df.primary_title_x.str.replace('\\W', ' ', regex = True).str.replace('\\s+', ' ', regex = True).str.strip().str.lower()\n",
    "reviews_df.title = reviews_df.title.str.replace('\\W', ' ', regex = True).str.replace('\\s+', ' ', regex = True).str.strip().str.lower()"
   ]
  },
  {
   "cell_type": "code",
   "execution_count": 7,
   "metadata": {},
   "outputs": [],
   "source": [
    "# Convert start year from person_df into string to match budg_and_gross_df\n",
    "person_df.start_year_x = person_df.start_year_x.astype(str)"
   ]
  },
  {
   "cell_type": "code",
   "execution_count": 8,
   "metadata": {},
   "outputs": [],
   "source": [
    "# Merge budg_and_gross_df and reviews_df, on titles then on release date\n",
    "# to prevent movies with the same name but different dates from overwriting\n",
    "# Merge left to preserve data from budg_and_gross which may not appear in reviews_df\n",
    "merge_reviews = pd.merge(budg_and_gross_df,\n",
    "                         reviews_df,\n",
    "                         how = 'left',\n",
    "                         left_on = ['title', 'release_date'],\n",
    "                         right_on = ['title', 'release_date'])\n",
    "\n",
    "# Merge merge_reviews and person_df, on titles then on release date\n",
    "# to prevent movies with the same name but different dates from overwriting\n",
    "# Merge left to preserve data from merge_reviews which may not appear in person_df\n",
    "merge_reviews_person = pd.merge(merge_reviews,\n",
    "                                   person_df,\n",
    "                                   how = 'left',\n",
    "                                   left_on = ['title', 'year'],\n",
    "                                   right_on = ['primary_title_x','start_year_x'])"
   ]
  },
  {
   "cell_type": "markdown",
   "metadata": {},
   "source": [
    "## Cleaning Up Unified Dataframe"
   ]
  },
  {
   "cell_type": "code",
   "execution_count": 9,
   "metadata": {},
   "outputs": [],
   "source": [
    "# Selecting columns to drop in order to clean up data frame\n",
    "columns_to_keep = ['release_date',\n",
    "                   'prod_budget',\n",
    "                   'title',\n",
    "                   'dom_gross',\n",
    "                   'world_gross',\n",
    "                   'profit',\n",
    "                   'genre_ids',\n",
    "                   'runtime_minutes_x',\n",
    "                   'genres_x',\n",
    "                   'writer',\n",
    "                   'director']\n",
    "\n",
    "columns_to_drop = [x for x in list(merge_reviews_person.columns) if x not in columns_to_keep]\n",
    "\n",
    "# Dropping columns based on above selection\n",
    "merge_reviews_person.drop(columns_to_drop, axis = 1, inplace = True)"
   ]
  },
  {
   "cell_type": "code",
   "execution_count": 10,
   "metadata": {},
   "outputs": [],
   "source": [
    "# Renaming columns\n",
    "column_names = ['release_date',\n",
    "                'title',\n",
    "                'prod_budget',\n",
    "                'dom_gross',\n",
    "                'world_gross',\n",
    "                'profit',\n",
    "                'genre_ids',\n",
    "                'runtime_min',\n",
    "                'genres',\n",
    "                'writer',\n",
    "                'director']\n",
    "\n",
    "merge_reviews_person.columns = column_names\n",
    "\n",
    "# Reorganizing columns\n",
    "merge_reviews_person = merge_reviews_person.reindex(columns = ['title',\n",
    "                                                                     'profit',\n",
    "                                                                     'prod_budget',\n",
    "                                                                     'dom_gross',\n",
    "                                                                     'world_gross',\n",
    "                                                                     'genre_ids',\n",
    "                                                                     'genres',\n",
    "                                                                     'director',\n",
    "                                                                     'writer',\n",
    "                                                                     'runtime_min',\n",
    "                                                                     'release_date'])\n",
    "\n",
    "# Dropping duplicate rows\n",
    "merge_reviews_person.drop_duplicates(inplace = True)"
   ]
  },
  {
   "cell_type": "code",
   "execution_count": 11,
   "metadata": {},
   "outputs": [],
   "source": [
    "# From https://www.themoviedb.org/talk/5daf6eb0ae36680011d7e6ee\n",
    "# Construct list of dictionaries to decipher genre_ids column\n",
    "genre_dictionary = [{\"id\": 28, \"name\": \"Action\"},\n",
    "                    {\"id\": 12, \"name\": \"Adventure\"},\n",
    "                    {\"id\": 16, \"name\": \"Animation\"},\n",
    "                    {\"id\": 35, \"name\": \"Comedy\"},\n",
    "                    {\"id\": 80, \"name\": \"Crime\"},\n",
    "                    {\"id\": 99, \"name\": \"Documentary\"},\n",
    "                    {\"id\": 18, \"name\": \"Drama\"},\n",
    "                    {\"id\": 10751, \"name\": \"Family\"},\n",
    "                    {\"id\": 14, \"name\": \"Fantasy\"},\n",
    "                    {\"id\": 36, \"name\": \"History\"},\n",
    "                    {\"id\": 27, \"name\": \"Horror\"},\n",
    "                    {\"id\": 10402, \"name\": \"Music\"},\n",
    "                    {\"id\": 9648, \"name\": \"Mystery\"},\n",
    "                    {\"id\": 10749, \"name\": \"Romance\"},\n",
    "                    {\"id\": 878, \"name\": \"Science Fiction\"},\n",
    "                    {\"id\": 10770, \"name\": \"TV Movie\"},\n",
    "                    {\"id\": 53, \"name\": \"Thriller\"},\n",
    "                    {\"id\": 10752, \"name\": \"War\"},\n",
    "                    {\"id\": 37, \"name\": \"Western\"}]"
   ]
  },
  {
   "cell_type": "code",
   "execution_count": 12,
   "metadata": {},
   "outputs": [],
   "source": [
    "# Decipher genre_ids column\n",
    "\n",
    "# Currently, each item in column is a string, convert to list as follows:\n",
    "# Strip the brackets from either end, then replace spaces with empty strings\n",
    "# Then strip leading and trailing white spaces and split into list along commas\n",
    "merge_reviews_person.genre_ids = merge_reviews_person.genre_ids.str.strip('\\[\\]').str.replace(\" \", \"\")\n",
    "merge_reviews_person.genre_ids = merge_reviews_person.genre_ids.str.strip().str.split(',')\n",
    "\n",
    "# Explode dataframe along column ids, creating duplicated rows that differ only by genre_ids value\n",
    "merge_reviews_person = merge_reviews_person.explode('genre_ids')\n",
    "\n",
    "# Replace empty strings or spaces with np.nan\n",
    "merge_reviews_person.genre_ids = merge_reviews_person.genre_ids.replace(r'^\\s*$', np.nan, regex = True)\n",
    "\n",
    "# Convert entries to floats\n",
    "merge_reviews_person.genre_ids.astype('float')\n",
    "\n",
    "# Define a function that returns 'None' if key is np.nan, otherwise, find id in dictionary and return value\n",
    "def find_genre(key):\n",
    "    if key is np.nan:\n",
    "        return 'None'\n",
    "    for dictionary in genre_dictionary:\n",
    "        if dictionary['id'] == int(key):\n",
    "            return dictionary['name']\n",
    "    return 'None'\n",
    "\n",
    "# Apply find_genre function to genre_ids\n",
    "merge_reviews_person.genre_ids = merge_reviews_person.genre_ids.apply(lambda x: find_genre(x))"
   ]
  },
  {
   "cell_type": "code",
   "execution_count": 13,
   "metadata": {},
   "outputs": [],
   "source": [
    "# Data was exploded due to previous conversion, now we need to collapse it back into singular titles.\n",
    "# Group by movie title, then aggregate as follows:\n",
    "# All numerical values by first, date by first\n",
    "# Condense genre_ids, directors, and writers into lists that can be exploded later (removing duplicates)\n",
    "# Reset index to return from grouby object into dataframe\n",
    "merge_reviews_person = merge_reviews_person.groupby('title').agg(\n",
    "                                                            {'profit': 'first',\n",
    "                                                             'prod_budget': 'first',\n",
    "                                                             'dom_gross': 'first',\n",
    "                                                             'world_gross': 'first',\n",
    "                                                             'genre_ids': lambda x: list(set(x.to_list())),\n",
    "                                                             'genres': 'first',\n",
    "                                                             'director': lambda x: list(set(x.to_list())),\n",
    "                                                             'writer': lambda x: list(set(x.to_list())),\n",
    "                                                             'runtime_min': 'first',\n",
    "                                                             'release_date': 'first'}).reset_index()\n",
    "\n",
    "# Remap NaNs in genres to 'None', as consistent with genre_id row\n",
    "merge_reviews_person.genres = merge_reviews_person.genres.fillna('None')\n",
    "\n",
    "# Convert genres into a list rather than string\n",
    "merge_reviews_person.genres = merge_reviews_person.genres.str.split(',')\n",
    "\n",
    "# Have duplicate genres between two lists: Sci-Fi/Science Fiction and Music/Musical\n",
    "# Remove duplicates from both lists, keeping only Sci-Fi and Musical\n",
    "# Define helper function\n",
    "def replace_keys(id_list):\n",
    "    for index, item in enumerate(id_list):\n",
    "        if 'Music' == item:\n",
    "            id_list[index] = 'Musical'\n",
    "        elif 'Science Fiction' == item:\n",
    "            id_list[index] = 'Sci-Fi'\n",
    "    return id_list\n",
    "\n",
    "merge_reviews_person.genre_ids = merge_reviews_person.genre_ids.apply(lambda x: replace_keys(x))\n",
    "merge_reviews_person.genres = merge_reviews_person.genres.apply(lambda x: replace_keys(x))\n",
    "\n",
    "# Overwrite genres by merging genre_ids and genres columns\n",
    "merge_reviews_person.genres = merge_reviews_person.genre_ids + merge_reviews_person.genres\n",
    "\n",
    "# Convert to set and back to list to remove duplicates\n",
    "merge_reviews_person.genres = merge_reviews_person.genres.apply(lambda x: list(set(x)))\n",
    "\n",
    "# Drop the now redundant genre_ids column\n",
    "merge_reviews_person.drop('genre_ids', axis = 1, inplace = True)\n",
    "\n",
    "# Insert ROI column as second column, as profit divided by production budget * 100 (as percent, not decimal)\n",
    "merge_reviews_person.insert(loc = 1,\n",
    "                               column = 'ROI',\n",
    "                               value = ((merge_reviews_person.profit / merge_reviews_person.prod_budget) * 100))\n",
    "\n",
    "# Converting release_date column to datetime objects\n",
    "merge_reviews_person.release_date = pd.to_datetime(merge_reviews_person.release_date)\n",
    "\n",
    "# Adding a column for year from the year attribute of release_date\n",
    "merge_reviews_person['year'] = merge_reviews_person.release_date.dt.year"
   ]
  },
  {
   "cell_type": "markdown",
   "metadata": {},
   "source": [
    "## Removing Data Deemed Unnecessary During EDA"
   ]
  },
  {
   "cell_type": "code",
   "execution_count": 14,
   "metadata": {},
   "outputs": [],
   "source": [
    "# Locating the top 2 rows by ROI with titles released in the last 10 years (EDA showed that these were outliers)\n",
    "merge_reviews_person.loc[merge_reviews_person.release_date.dt.year >= 2012].nlargest(2, 'ROI')\n",
    "\n",
    "# Dropping 'the gallows' and 'the devil inside' as outliers for 2012 data onwards\n",
    "# Preserving all information from years before 2012 in case they remain useful\n",
    "merge_reviews_person.drop([4467, 4366], axis = 0, inplace = True)\n",
    "\n",
    "# Want to remove extra 'None' values that appear in genres when genres already has other values\n",
    "# Define helper function\n",
    "def remove_nones_nonempty(genre_list):\n",
    "    if genre_list == ['None']:\n",
    "        return genre_list\n",
    "    elif 'None' in genre_list:\n",
    "        genre_list.remove('None')\n",
    "    return genre_list\n",
    "\n",
    "merge_reviews_person.genres = merge_reviews_person.genres.apply(lambda x: remove_nones_nonempty(x))\n",
    "\n",
    "# Removing movies from 2020, as our data list does not include any revenue information for being too recent\n",
    "merge_reviews_person = merge_reviews_person.loc[merge_reviews_person.year != 2020]\n",
    "\n",
    "# Removing movies from before 2010, want to focus on recent movies and data only goes up to 2019.\n",
    "merge_reviews_person = merge_reviews_person.loc[merge_reviews_person.year >= 2010]"
   ]
  },
  {
   "cell_type": "markdown",
   "metadata": {},
   "source": [
    "## Writing Data to Clean File for Further Use"
   ]
  },
  {
   "cell_type": "code",
   "execution_count": 15,
   "metadata": {},
   "outputs": [],
   "source": [
    "# Write to merged_data.parquet for further use in other notebooks (preserves object types in columns)\n",
    "# merge_reviews_person.to_parquet('./zippedData/merged_data.parquet')"
   ]
  },
  {
   "cell_type": "code",
   "execution_count": null,
   "metadata": {},
   "outputs": [],
   "source": []
  }
 ],
 "metadata": {
  "kernelspec": {
   "display_name": "Python 3 (ipykernel)",
   "language": "python",
   "name": "python3"
  },
  "language_info": {
   "codemirror_mode": {
    "name": "ipython",
    "version": 3
   },
   "file_extension": ".py",
   "mimetype": "text/x-python",
   "name": "python",
   "nbconvert_exporter": "python",
   "pygments_lexer": "ipython3",
   "version": "3.9.13"
  }
 },
 "nbformat": 4,
 "nbformat_minor": 2
}
