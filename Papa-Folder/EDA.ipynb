{
 "cells": [
  {
   "cell_type": "code",
   "execution_count": 1,
   "metadata": {},
   "outputs": [],
   "source": [
    "import pandas as pd\n",
    "import seaborn as sns\n",
    "import matplotlib.pyplot as plt\n",
    "\n",
    "df = pd.read_parquet('../zippedData/merged_data.parquet')\n",
    "df.release_date = pd.to_datetime(df.release_date)"
   ]
  },
  {
   "cell_type": "code",
   "execution_count": 22,
   "metadata": {},
   "outputs": [],
   "source": [
    "test = df.loc[df.release_date.dt.year >= 2012]"
   ]
  },
  {
   "cell_type": "code",
   "execution_count": 23,
   "metadata": {},
   "outputs": [],
   "source": [
    "test2 = test.explode('genres')"
   ]
  },
  {
   "cell_type": "code",
   "execution_count": 24,
   "metadata": {},
   "outputs": [
    {
     "data": {
      "text/html": [
       "<div>\n",
       "<style scoped>\n",
       "    .dataframe tbody tr th:only-of-type {\n",
       "        vertical-align: middle;\n",
       "    }\n",
       "\n",
       "    .dataframe tbody tr th {\n",
       "        vertical-align: top;\n",
       "    }\n",
       "\n",
       "    .dataframe thead th {\n",
       "        text-align: right;\n",
       "    }\n",
       "</style>\n",
       "<table border=\"1\" class=\"dataframe\">\n",
       "  <thead>\n",
       "    <tr style=\"text-align: right;\">\n",
       "      <th></th>\n",
       "      <th>title</th>\n",
       "      <th>ROI</th>\n",
       "      <th>profit</th>\n",
       "      <th>prod_budget</th>\n",
       "      <th>dom_gross</th>\n",
       "      <th>world_gross</th>\n",
       "      <th>genres</th>\n",
       "      <th>director</th>\n",
       "      <th>writer</th>\n",
       "      <th>runtime_min</th>\n",
       "      <th>release_date</th>\n",
       "    </tr>\n",
       "  </thead>\n",
       "  <tbody>\n",
       "    <tr>\n",
       "      <th>1</th>\n",
       "      <td>10 cloverfield lane</td>\n",
       "      <td>2065.728440</td>\n",
       "      <td>103286422</td>\n",
       "      <td>5000000</td>\n",
       "      <td>72082999</td>\n",
       "      <td>108286422</td>\n",
       "      <td>Sci-Fi</td>\n",
       "      <td>[Dan Trachtenberg]</td>\n",
       "      <td>[Matthew Stuecken, Josh Campbell, Damien Chaze...</td>\n",
       "      <td>103.0</td>\n",
       "      <td>2016-03-11</td>\n",
       "    </tr>\n",
       "    <tr>\n",
       "      <th>1</th>\n",
       "      <td>10 cloverfield lane</td>\n",
       "      <td>2065.728440</td>\n",
       "      <td>103286422</td>\n",
       "      <td>5000000</td>\n",
       "      <td>72082999</td>\n",
       "      <td>108286422</td>\n",
       "      <td>Mystery</td>\n",
       "      <td>[Dan Trachtenberg]</td>\n",
       "      <td>[Matthew Stuecken, Josh Campbell, Damien Chaze...</td>\n",
       "      <td>103.0</td>\n",
       "      <td>2016-03-11</td>\n",
       "    </tr>\n",
       "    <tr>\n",
       "      <th>1</th>\n",
       "      <td>10 cloverfield lane</td>\n",
       "      <td>2065.728440</td>\n",
       "      <td>103286422</td>\n",
       "      <td>5000000</td>\n",
       "      <td>72082999</td>\n",
       "      <td>108286422</td>\n",
       "      <td>Drama</td>\n",
       "      <td>[Dan Trachtenberg]</td>\n",
       "      <td>[Matthew Stuecken, Josh Campbell, Damien Chaze...</td>\n",
       "      <td>103.0</td>\n",
       "      <td>2016-03-11</td>\n",
       "    </tr>\n",
       "    <tr>\n",
       "      <th>1</th>\n",
       "      <td>10 cloverfield lane</td>\n",
       "      <td>2065.728440</td>\n",
       "      <td>103286422</td>\n",
       "      <td>5000000</td>\n",
       "      <td>72082999</td>\n",
       "      <td>108286422</td>\n",
       "      <td>Horror</td>\n",
       "      <td>[Dan Trachtenberg]</td>\n",
       "      <td>[Matthew Stuecken, Josh Campbell, Damien Chaze...</td>\n",
       "      <td>103.0</td>\n",
       "      <td>2016-03-11</td>\n",
       "    </tr>\n",
       "    <tr>\n",
       "      <th>1</th>\n",
       "      <td>10 cloverfield lane</td>\n",
       "      <td>2065.728440</td>\n",
       "      <td>103286422</td>\n",
       "      <td>5000000</td>\n",
       "      <td>72082999</td>\n",
       "      <td>108286422</td>\n",
       "      <td>Thriller</td>\n",
       "      <td>[Dan Trachtenberg]</td>\n",
       "      <td>[Matthew Stuecken, Josh Campbell, Damien Chaze...</td>\n",
       "      <td>103.0</td>\n",
       "      <td>2016-03-11</td>\n",
       "    </tr>\n",
       "    <tr>\n",
       "      <th>...</th>\n",
       "      <td>...</td>\n",
       "      <td>...</td>\n",
       "      <td>...</td>\n",
       "      <td>...</td>\n",
       "      <td>...</td>\n",
       "      <td>...</td>\n",
       "      <td>...</td>\n",
       "      <td>...</td>\n",
       "      <td>...</td>\n",
       "      <td>...</td>\n",
       "      <td>...</td>\n",
       "    </tr>\n",
       "    <tr>\n",
       "      <th>5693</th>\n",
       "      <td>zootopia</td>\n",
       "      <td>579.619744</td>\n",
       "      <td>869429616</td>\n",
       "      <td>150000000</td>\n",
       "      <td>341268248</td>\n",
       "      <td>1019429616</td>\n",
       "      <td>Animation</td>\n",
       "      <td>[Rich Moore, Jared Bush, Byron Howard]</td>\n",
       "      <td>[Jared Bush, Jennifer Lee, Jim Reardon, Kellie...</td>\n",
       "      <td>108.0</td>\n",
       "      <td>2016-03-04</td>\n",
       "    </tr>\n",
       "    <tr>\n",
       "      <th>5694</th>\n",
       "      <td>zulu</td>\n",
       "      <td>-88.473575</td>\n",
       "      <td>-14155772</td>\n",
       "      <td>16000000</td>\n",
       "      <td>0</td>\n",
       "      <td>1844228</td>\n",
       "      <td>Thriller</td>\n",
       "      <td>[Jérôme Salle]</td>\n",
       "      <td>[Jérôme Salle, Julien Rappeneau, Caryl Ferey]</td>\n",
       "      <td>110.0</td>\n",
       "      <td>2013-12-31</td>\n",
       "    </tr>\n",
       "    <tr>\n",
       "      <th>5694</th>\n",
       "      <td>zulu</td>\n",
       "      <td>-88.473575</td>\n",
       "      <td>-14155772</td>\n",
       "      <td>16000000</td>\n",
       "      <td>0</td>\n",
       "      <td>1844228</td>\n",
       "      <td>Drama</td>\n",
       "      <td>[Jérôme Salle]</td>\n",
       "      <td>[Jérôme Salle, Julien Rappeneau, Caryl Ferey]</td>\n",
       "      <td>110.0</td>\n",
       "      <td>2013-12-31</td>\n",
       "    </tr>\n",
       "    <tr>\n",
       "      <th>5694</th>\n",
       "      <td>zulu</td>\n",
       "      <td>-88.473575</td>\n",
       "      <td>-14155772</td>\n",
       "      <td>16000000</td>\n",
       "      <td>0</td>\n",
       "      <td>1844228</td>\n",
       "      <td>Crime</td>\n",
       "      <td>[Jérôme Salle]</td>\n",
       "      <td>[Jérôme Salle, Julien Rappeneau, Caryl Ferey]</td>\n",
       "      <td>110.0</td>\n",
       "      <td>2013-12-31</td>\n",
       "    </tr>\n",
       "    <tr>\n",
       "      <th>5694</th>\n",
       "      <td>zulu</td>\n",
       "      <td>-88.473575</td>\n",
       "      <td>-14155772</td>\n",
       "      <td>16000000</td>\n",
       "      <td>0</td>\n",
       "      <td>1844228</td>\n",
       "      <td>None</td>\n",
       "      <td>[Jérôme Salle]</td>\n",
       "      <td>[Jérôme Salle, Julien Rappeneau, Caryl Ferey]</td>\n",
       "      <td>110.0</td>\n",
       "      <td>2013-12-31</td>\n",
       "    </tr>\n",
       "  </tbody>\n",
       "</table>\n",
       "<p>4482 rows × 11 columns</p>\n",
       "</div>"
      ],
      "text/plain": [
       "                    title          ROI     profit  prod_budget  dom_gross  \\\n",
       "1     10 cloverfield lane  2065.728440  103286422      5000000   72082999   \n",
       "1     10 cloverfield lane  2065.728440  103286422      5000000   72082999   \n",
       "1     10 cloverfield lane  2065.728440  103286422      5000000   72082999   \n",
       "1     10 cloverfield lane  2065.728440  103286422      5000000   72082999   \n",
       "1     10 cloverfield lane  2065.728440  103286422      5000000   72082999   \n",
       "...                   ...          ...        ...          ...        ...   \n",
       "5693             zootopia   579.619744  869429616    150000000  341268248   \n",
       "5694                 zulu   -88.473575  -14155772     16000000          0   \n",
       "5694                 zulu   -88.473575  -14155772     16000000          0   \n",
       "5694                 zulu   -88.473575  -14155772     16000000          0   \n",
       "5694                 zulu   -88.473575  -14155772     16000000          0   \n",
       "\n",
       "      world_gross     genres                                director  \\\n",
       "1       108286422     Sci-Fi                      [Dan Trachtenberg]   \n",
       "1       108286422    Mystery                      [Dan Trachtenberg]   \n",
       "1       108286422      Drama                      [Dan Trachtenberg]   \n",
       "1       108286422     Horror                      [Dan Trachtenberg]   \n",
       "1       108286422   Thriller                      [Dan Trachtenberg]   \n",
       "...           ...        ...                                     ...   \n",
       "5693   1019429616  Animation  [Rich Moore, Jared Bush, Byron Howard]   \n",
       "5694      1844228   Thriller                          [Jérôme Salle]   \n",
       "5694      1844228      Drama                          [Jérôme Salle]   \n",
       "5694      1844228      Crime                          [Jérôme Salle]   \n",
       "5694      1844228       None                          [Jérôme Salle]   \n",
       "\n",
       "                                                 writer  runtime_min  \\\n",
       "1     [Matthew Stuecken, Josh Campbell, Damien Chaze...        103.0   \n",
       "1     [Matthew Stuecken, Josh Campbell, Damien Chaze...        103.0   \n",
       "1     [Matthew Stuecken, Josh Campbell, Damien Chaze...        103.0   \n",
       "1     [Matthew Stuecken, Josh Campbell, Damien Chaze...        103.0   \n",
       "1     [Matthew Stuecken, Josh Campbell, Damien Chaze...        103.0   \n",
       "...                                                 ...          ...   \n",
       "5693  [Jared Bush, Jennifer Lee, Jim Reardon, Kellie...        108.0   \n",
       "5694      [Jérôme Salle, Julien Rappeneau, Caryl Ferey]        110.0   \n",
       "5694      [Jérôme Salle, Julien Rappeneau, Caryl Ferey]        110.0   \n",
       "5694      [Jérôme Salle, Julien Rappeneau, Caryl Ferey]        110.0   \n",
       "5694      [Jérôme Salle, Julien Rappeneau, Caryl Ferey]        110.0   \n",
       "\n",
       "     release_date  \n",
       "1      2016-03-11  \n",
       "1      2016-03-11  \n",
       "1      2016-03-11  \n",
       "1      2016-03-11  \n",
       "1      2016-03-11  \n",
       "...           ...  \n",
       "5693   2016-03-04  \n",
       "5694   2013-12-31  \n",
       "5694   2013-12-31  \n",
       "5694   2013-12-31  \n",
       "5694   2013-12-31  \n",
       "\n",
       "[4482 rows x 11 columns]"
      ]
     },
     "execution_count": 24,
     "metadata": {},
     "output_type": "execute_result"
    }
   ],
   "source": [
    "test2"
   ]
  },
  {
   "cell_type": "code",
   "execution_count": 26,
   "metadata": {},
   "outputs": [],
   "source": [
    "test3 = test2.groupby('genres').agg({'ROI': 'mean', 'prod_budget': 'mean', 'title': 'count'}).sort_values('ROI', ascending=False)"
   ]
  },
  {
   "cell_type": "code",
   "execution_count": 28,
   "metadata": {},
   "outputs": [
    {
     "data": {
      "text/html": [
       "<div>\n",
       "<style scoped>\n",
       "    .dataframe tbody tr th:only-of-type {\n",
       "        vertical-align: middle;\n",
       "    }\n",
       "\n",
       "    .dataframe tbody tr th {\n",
       "        vertical-align: top;\n",
       "    }\n",
       "\n",
       "    .dataframe thead th {\n",
       "        text-align: right;\n",
       "    }\n",
       "</style>\n",
       "<table border=\"1\" class=\"dataframe\">\n",
       "  <thead>\n",
       "    <tr style=\"text-align: right;\">\n",
       "      <th></th>\n",
       "      <th>ROI</th>\n",
       "      <th>prod_budget</th>\n",
       "      <th>title</th>\n",
       "    </tr>\n",
       "    <tr>\n",
       "      <th>genres</th>\n",
       "      <th></th>\n",
       "      <th></th>\n",
       "      <th></th>\n",
       "    </tr>\n",
       "  </thead>\n",
       "  <tbody>\n",
       "    <tr>\n",
       "      <th>Horror</th>\n",
       "      <td>540.942486</td>\n",
       "      <td>1.774858e+07</td>\n",
       "      <td>173</td>\n",
       "    </tr>\n",
       "    <tr>\n",
       "      <th>Mystery</th>\n",
       "      <td>522.585894</td>\n",
       "      <td>2.355288e+07</td>\n",
       "      <td>130</td>\n",
       "    </tr>\n",
       "    <tr>\n",
       "      <th>Thriller</th>\n",
       "      <td>333.978345</td>\n",
       "      <td>3.422070e+07</td>\n",
       "      <td>343</td>\n",
       "    </tr>\n",
       "    <tr>\n",
       "      <th>Musical</th>\n",
       "      <td>276.630223</td>\n",
       "      <td>2.293750e+07</td>\n",
       "      <td>56</td>\n",
       "    </tr>\n",
       "    <tr>\n",
       "      <th>Romance</th>\n",
       "      <td>273.981197</td>\n",
       "      <td>2.570247e+07</td>\n",
       "      <td>162</td>\n",
       "    </tr>\n",
       "    <tr>\n",
       "      <th>Animation</th>\n",
       "      <td>271.386932</td>\n",
       "      <td>8.625556e+07</td>\n",
       "      <td>90</td>\n",
       "    </tr>\n",
       "    <tr>\n",
       "      <th>Biography</th>\n",
       "      <td>266.256036</td>\n",
       "      <td>2.638104e+07</td>\n",
       "      <td>115</td>\n",
       "    </tr>\n",
       "    <tr>\n",
       "      <th>Fantasy</th>\n",
       "      <td>248.268568</td>\n",
       "      <td>9.519167e+07</td>\n",
       "      <td>150</td>\n",
       "    </tr>\n",
       "    <tr>\n",
       "      <th>Sci-Fi</th>\n",
       "      <td>240.039603</td>\n",
       "      <td>9.537199e+07</td>\n",
       "      <td>168</td>\n",
       "    </tr>\n",
       "    <tr>\n",
       "      <th>Comedy</th>\n",
       "      <td>221.566295</td>\n",
       "      <td>4.049307e+07</td>\n",
       "      <td>435</td>\n",
       "    </tr>\n",
       "    <tr>\n",
       "      <th>Family</th>\n",
       "      <td>216.461752</td>\n",
       "      <td>7.937518e+07</td>\n",
       "      <td>137</td>\n",
       "    </tr>\n",
       "    <tr>\n",
       "      <th>Adventure</th>\n",
       "      <td>208.415465</td>\n",
       "      <td>1.028100e+08</td>\n",
       "      <td>309</td>\n",
       "    </tr>\n",
       "    <tr>\n",
       "      <th>Drama</th>\n",
       "      <td>204.994884</td>\n",
       "      <td>2.722482e+07</td>\n",
       "      <td>649</td>\n",
       "    </tr>\n",
       "    <tr>\n",
       "      <th>Action</th>\n",
       "      <td>178.223775</td>\n",
       "      <td>8.055418e+07</td>\n",
       "      <td>395</td>\n",
       "    </tr>\n",
       "    <tr>\n",
       "      <th>Documentary</th>\n",
       "      <td>162.425211</td>\n",
       "      <td>8.074538e+06</td>\n",
       "      <td>26</td>\n",
       "    </tr>\n",
       "    <tr>\n",
       "      <th>None</th>\n",
       "      <td>127.637654</td>\n",
       "      <td>2.394994e+07</td>\n",
       "      <td>791</td>\n",
       "    </tr>\n",
       "    <tr>\n",
       "      <th>Crime</th>\n",
       "      <td>116.332740</td>\n",
       "      <td>3.473958e+07</td>\n",
       "      <td>213</td>\n",
       "    </tr>\n",
       "    <tr>\n",
       "      <th>History</th>\n",
       "      <td>108.344628</td>\n",
       "      <td>3.603710e+07</td>\n",
       "      <td>62</td>\n",
       "    </tr>\n",
       "    <tr>\n",
       "      <th>Sport</th>\n",
       "      <td>95.131221</td>\n",
       "      <td>2.599537e+07</td>\n",
       "      <td>27</td>\n",
       "    </tr>\n",
       "    <tr>\n",
       "      <th>War</th>\n",
       "      <td>84.282917</td>\n",
       "      <td>4.131818e+07</td>\n",
       "      <td>33</td>\n",
       "    </tr>\n",
       "    <tr>\n",
       "      <th>Western</th>\n",
       "      <td>31.516282</td>\n",
       "      <td>5.262778e+07</td>\n",
       "      <td>18</td>\n",
       "    </tr>\n",
       "  </tbody>\n",
       "</table>\n",
       "</div>"
      ],
      "text/plain": [
       "                    ROI   prod_budget  title\n",
       "genres                                      \n",
       "Horror       540.942486  1.774858e+07    173\n",
       "Mystery      522.585894  2.355288e+07    130\n",
       "Thriller     333.978345  3.422070e+07    343\n",
       "Musical      276.630223  2.293750e+07     56\n",
       "Romance      273.981197  2.570247e+07    162\n",
       "Animation    271.386932  8.625556e+07     90\n",
       "Biography    266.256036  2.638104e+07    115\n",
       "Fantasy      248.268568  9.519167e+07    150\n",
       "Sci-Fi       240.039603  9.537199e+07    168\n",
       "Comedy       221.566295  4.049307e+07    435\n",
       "Family       216.461752  7.937518e+07    137\n",
       "Adventure    208.415465  1.028100e+08    309\n",
       "Drama        204.994884  2.722482e+07    649\n",
       "Action       178.223775  8.055418e+07    395\n",
       "Documentary  162.425211  8.074538e+06     26\n",
       "None         127.637654  2.394994e+07    791\n",
       "Crime        116.332740  3.473958e+07    213\n",
       "History      108.344628  3.603710e+07     62\n",
       "Sport         95.131221  2.599537e+07     27\n",
       "War           84.282917  4.131818e+07     33\n",
       "Western       31.516282  5.262778e+07     18"
      ]
     },
     "execution_count": 28,
     "metadata": {},
     "output_type": "execute_result"
    }
   ],
   "source": [
    "test3"
   ]
  },
  {
   "cell_type": "code",
   "execution_count": 29,
   "metadata": {},
   "outputs": [],
   "source": [
    "test3.title = test3.title.astype(int)"
   ]
  },
  {
   "cell_type": "code",
   "execution_count": 30,
   "metadata": {},
   "outputs": [],
   "source": [
    "test4 = test3.loc[test3.title >= 100]"
   ]
  },
  {
   "cell_type": "code",
   "execution_count": 31,
   "metadata": {},
   "outputs": [],
   "source": [
    "test5 = test4.nlargest(5, 'ROI')"
   ]
  },
  {
   "cell_type": "code",
   "execution_count": 32,
   "metadata": {},
   "outputs": [
    {
     "data": {
      "text/plain": [
       "''"
      ]
     },
     "execution_count": 32,
     "metadata": {},
     "output_type": "execute_result"
    },
    {
     "data": {
      "image/png": "[encoded data removed]",
      "text/plain": [
       "<Figure size 1008x576 with 1 Axes>"
      ]
     },
     "metadata": {
      "needs_background": "light"
     },
     "output_type": "display_data"
    }
   ],
   "source": [
    "fig, ax = plt.subplots(figsize=(14,8))\n",
    "\n",
    "sns.barplot(data=test5, x=test5.index, y='ROI', ax=ax)\n",
    "ax.set_xlabel('Genre')\n",
    "ax.set_ylabel('Mean Return On Investment')\n",
    "ax.set_title('Top 5 Genres by Mean Return on Investment Within Last 10 Years')\n",
    "ax.axhline(y=test.ROI.mean(), c='k')\n",
    "ax.annotate('Mean ROI of All Movies',(3.5, float(test.ROI.mean()) + 100))\n",
    ";"
   ]
  },
  {
   "cell_type": "code",
   "execution_count": 33,
   "metadata": {},
   "outputs": [
    {
     "data": {
      "text/plain": [
       "''"
      ]
     },
     "execution_count": 33,
     "metadata": {},
     "output_type": "execute_result"
    },
    {
     "data": {
      "image/png": "[encoded data removed]",
      "text/plain": [
       "<Figure size 1008x576 with 1 Axes>"
      ]
     },
     "metadata": {
      "needs_background": "light"
     },
     "output_type": "display_data"
    }
   ],
   "source": [
    "test6 = test2.groupby('genres').agg({'ROI': 'median', 'prod_budget': 'median', 'title': 'count'}).sort_values('ROI', ascending=False)\n",
    "test6.title = test6.title.astype(int)\n",
    "test6 = test6.loc[test6.title >= 100]\n",
    "test6 = test6.nlargest(5, 'ROI')\n",
    "fig, ax = plt.subplots(figsize=(14,8))\n",
    "\n",
    "sns.barplot(data=test6, x=test6.index, y='ROI', ax=ax)\n",
    "ax.set_xlabel('Genre')\n",
    "ax.set_ylabel('Median Return On Investment')\n",
    "ax.set_title('Top 5 Genres by Median Return on Investment Within Last 10 Years')\n",
    "ax.axhline(y=test.ROI.median(), c='k')\n",
    "ax.annotate('Median ROI of All Movies',(4.5, test.ROI.median()))\n",
    ";\n",
    "\n"
   ]
  },
  {
   "cell_type": "code",
   "execution_count": 34,
   "metadata": {},
   "outputs": [],
   "source": [
    "test7 = test2.groupby(['genres', 'ROI']).first()"
   ]
  },
  {
   "cell_type": "code",
   "execution_count": 35,
   "metadata": {},
   "outputs": [],
   "source": [
    "test8 = test7.reset_index(1)['ROI']"
   ]
  },
  {
   "cell_type": "code",
   "execution_count": 36,
   "metadata": {},
   "outputs": [],
   "source": [
    "test8 = test8.reset_index()"
   ]
  },
  {
   "cell_type": "code",
   "execution_count": 37,
   "metadata": {},
   "outputs": [],
   "source": [
    "genres_to_evaluate = ['Mystery', 'Horror', 'Fantasy', 'Family', 'Adventure', 'Thriller', 'Romance', 'Biography']\n"
   ]
  },
  {
   "cell_type": "code",
   "execution_count": 38,
   "metadata": {
    "scrolled": true
   },
   "outputs": [],
   "source": [
    "test8 = test8.loc[test8.genres.isin(genres_to_evaluate)]"
   ]
  },
  {
   "cell_type": "code",
   "execution_count": 39,
   "metadata": {},
   "outputs": [
    {
     "data": {
      "text/html": [
       "<div>\n",
       "<style scoped>\n",
       "    .dataframe tbody tr th:only-of-type {\n",
       "        vertical-align: middle;\n",
       "    }\n",
       "\n",
       "    .dataframe tbody tr th {\n",
       "        vertical-align: top;\n",
       "    }\n",
       "\n",
       "    .dataframe thead th {\n",
       "        text-align: right;\n",
       "    }\n",
       "</style>\n",
       "<table border=\"1\" class=\"dataframe\">\n",
       "  <thead>\n",
       "    <tr style=\"text-align: right;\">\n",
       "      <th></th>\n",
       "      <th>genres</th>\n",
       "      <th>ROI</th>\n",
       "    </tr>\n",
       "  </thead>\n",
       "  <tbody>\n",
       "    <tr>\n",
       "      <th>369</th>\n",
       "      <td>Adventure</td>\n",
       "      <td>-100.000000</td>\n",
       "    </tr>\n",
       "    <tr>\n",
       "      <th>370</th>\n",
       "      <td>Adventure</td>\n",
       "      <td>-99.940000</td>\n",
       "    </tr>\n",
       "    <tr>\n",
       "      <th>371</th>\n",
       "      <td>Adventure</td>\n",
       "      <td>-99.738356</td>\n",
       "    </tr>\n",
       "    <tr>\n",
       "      <th>372</th>\n",
       "      <td>Adventure</td>\n",
       "      <td>-99.205725</td>\n",
       "    </tr>\n",
       "    <tr>\n",
       "      <th>373</th>\n",
       "      <td>Adventure</td>\n",
       "      <td>-98.498090</td>\n",
       "    </tr>\n",
       "    <tr>\n",
       "      <th>...</th>\n",
       "      <td>...</td>\n",
       "      <td>...</td>\n",
       "    </tr>\n",
       "    <tr>\n",
       "      <th>3999</th>\n",
       "      <td>Thriller</td>\n",
       "      <td>3138.430300</td>\n",
       "    </tr>\n",
       "    <tr>\n",
       "      <th>4000</th>\n",
       "      <td>Thriller</td>\n",
       "      <td>3851.737231</td>\n",
       "    </tr>\n",
       "    <tr>\n",
       "      <th>4001</th>\n",
       "      <td>Thriller</td>\n",
       "      <td>4141.172100</td>\n",
       "    </tr>\n",
       "    <tr>\n",
       "      <th>4002</th>\n",
       "      <td>Thriller</td>\n",
       "      <td>5007.359020</td>\n",
       "    </tr>\n",
       "    <tr>\n",
       "      <th>4003</th>\n",
       "      <td>Thriller</td>\n",
       "      <td>6336.419800</td>\n",
       "    </tr>\n",
       "  </tbody>\n",
       "</table>\n",
       "<p>1427 rows × 2 columns</p>\n",
       "</div>"
      ],
      "text/plain": [
       "         genres          ROI\n",
       "369   Adventure  -100.000000\n",
       "370   Adventure   -99.940000\n",
       "371   Adventure   -99.738356\n",
       "372   Adventure   -99.205725\n",
       "373   Adventure   -98.498090\n",
       "...         ...          ...\n",
       "3999   Thriller  3138.430300\n",
       "4000   Thriller  3851.737231\n",
       "4001   Thriller  4141.172100\n",
       "4002   Thriller  5007.359020\n",
       "4003   Thriller  6336.419800\n",
       "\n",
       "[1427 rows x 2 columns]"
      ]
     },
     "execution_count": 39,
     "metadata": {},
     "output_type": "execute_result"
    }
   ],
   "source": [
    "test8"
   ]
  },
  {
   "cell_type": "code",
   "execution_count": 40,
   "metadata": {},
   "outputs": [
    {
     "data": {
      "image/png": "[encoded data removed]",
      "text/plain": [
       "<Figure size 1008x576 with 1 Axes>"
      ]
     },
     "metadata": {
      "needs_background": "light"
     },
     "output_type": "display_data"
    }
   ],
   "source": [
    "fig, ax = plt.subplots(figsize=(14,8))\n",
    "\n",
    "sns.boxplot(data=test8, x=test8.genres, y=test8.ROI, ax=ax)\n",
    "#ax.set_ylim([-1000, 6000])\n",
    "ax.axhline(y=0, c='k');"
   ]
  },
  {
   "cell_type": "code",
   "execution_count": 61,
   "metadata": {},
   "outputs": [
    {
     "ename": "SyntaxError",
     "evalue": "invalid syntax (<ipython-input-61-c302e24d2791>, line 3)",
     "output_type": "error",
     "traceback": [
      "\u001b[0;36m  File \u001b[0;32m\"<ipython-input-61-c302e24d2791>\"\u001b[0;36m, line \u001b[0;32m3\u001b[0m\n\u001b[0;31m    sns.violinplot(data=test8, orient='h', y=test8.genres, x=test8.ROI, cut=0, gridsize=15, inner='box', split=true ax=ax);\u001b[0m\n\u001b[0m                                                                                                                    ^\u001b[0m\n\u001b[0;31mSyntaxError\u001b[0m\u001b[0;31m:\u001b[0m invalid syntax\n"
     ]
    }
   ],
   "source": [
    "# fig, ax = plt.subplots(figsize=(14,8))\n",
    "\n",
    "# sns.violinplot(data=test8, orient='h', y=test8.genres, x=test8.ROI, cut=0, gridsize=15, inner='box', split=true ax=ax);"
   ]
  },
  {
   "cell_type": "code",
   "execution_count": 42,
   "metadata": {},
   "outputs": [
    {
     "data": {
      "text/plain": [
       "array(['Adventure', 'Biography', 'Family', 'Fantasy', 'Horror', 'Mystery',\n",
       "       'Romance', 'Thriller'], dtype=object)"
      ]
     },
     "execution_count": 42,
     "metadata": {},
     "output_type": "execute_result"
    }
   ],
   "source": [
    "test8.genres.unique()"
   ]
  },
  {
   "cell_type": "code",
   "execution_count": 49,
   "metadata": {},
   "outputs": [
    {
     "data": {
      "image/png": "[encoded data removed]",
      "text/plain": [
       "<Figure size 1440x864 with 8 Axes>"
      ]
     },
     "metadata": {
      "needs_background": "light"
     },
     "output_type": "display_data"
    }
   ],
   "source": [
    "fig, ax = plt.subplots(4,2, figsize=(20,12))\n",
    "\n",
    "plt.tight_layout(pad = 4.0)\n",
    "\n",
    "for index, genre in enumerate(list(test8.genres.unique())):\n",
    "    axis = ax[index % 4][index // 4]\n",
    "    sns.histplot(data = test8,\n",
    "                 x = test8.loc[test8.genres == genre].ROI,\n",
    "                 common_norm = False,\n",
    "                 bins = 10,\n",
    "                 ax = axis);\n",
    "    axis.set_xlim([-200, 2300])\n",
    "    axis.set_title('{} Histogram'.format(genre));\n",
    "\n",
    "plt.show()"
   ]
  },
  {
   "cell_type": "code",
   "execution_count": null,
   "metadata": {},
   "outputs": [],
   "source": []
  }
 ],
 "metadata": {
  "kernelspec": {
   "display_name": "Python 3 (ipykernel)",
   "language": "python",
   "name": "python3"
  },
  "language_info": {
   "codemirror_mode": {
    "name": "ipython",
    "version": 3
   },
   "file_extension": ".py",
   "mimetype": "text/x-python",
   "name": "python",
   "nbconvert_exporter": "python",
   "pygments_lexer": "ipython3",
   "version": "3.9.13"
  }
 },
 "nbformat": 4,
 "nbformat_minor": 4
}
